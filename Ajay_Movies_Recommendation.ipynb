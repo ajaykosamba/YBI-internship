{
  "nbformat": 4,
  "nbformat_minor": 0,
  "metadata": {
    "colab": {
      "name": "Ajay_Movies_Recommendation.ipynb",
      "provenance": [],
      "collapsed_sections": []
    },
    "kernelspec": {
      "name": "python3",
      "display_name": "Python 3"
    },
    "language_info": {
      "name": "python"
    }
  },
  "cells": [
    {
      "cell_type": "markdown",
      "source": [
        "Importing Lib"
      ],
      "metadata": {
        "id": "7JlJeZvZ-weL"
      }
    },
    {
      "cell_type": "code",
      "execution_count": 1,
      "metadata": {
        "id": "e2RiKy3T-uPx"
      },
      "outputs": [],
      "source": [
        "import pandas as pd"
      ]
    },
    {
      "cell_type": "code",
      "source": [
        "import numpy as np"
      ],
      "metadata": {
        "id": "r5cgx7YBCPiJ"
      },
      "execution_count": 2,
      "outputs": []
    },
    {
      "cell_type": "markdown",
      "source": [
        "Import DataSet"
      ],
      "metadata": {
        "id": "HA6jvoCHCQtK"
      }
    },
    {
      "cell_type": "code",
      "source": [
        "df=pd.read_csv(r\"https://github.com/ybifoundation/Dataset/raw/main/Movies%20Recommendation.csv\")\n"
      ],
      "metadata": {
        "id": "Tf400JuECSAO"
      },
      "execution_count": 3,
      "outputs": []
    },
    {
      "cell_type": "code",
      "source": [
        "df.head()\n"
      ],
      "metadata": {
        "colab": {
          "base_uri": "https://localhost:8080/",
          "height": 716
        },
        "id": "MqyEDeXUCS3i",
        "outputId": "0881cb51-ce63-48fd-e47e-7bb0603d0969"
      },
      "execution_count": 4,
      "outputs": [
        {
          "output_type": "execute_result",
          "data": {
            "text/plain": [
              "   Movie_ID      Movie_Title                       Movie_Genre Movie_Language  \\\n",
              "0         1       Four Rooms                      Crime Comedy             en   \n",
              "1         2        Star Wars  Adventure Action Science Fiction             en   \n",
              "2         3     Finding Nemo                  Animation Family             en   \n",
              "3         4     Forrest Gump              Comedy Drama Romance             en   \n",
              "4         5  American Beauty                             Drama             en   \n",
              "\n",
              "   Movie_Budget  Movie_Popularity Movie_Release_Date  Movie_Revenue  \\\n",
              "0       4000000         22.876230         09-12-1995        4300000   \n",
              "1      11000000        126.393695         25-05-1977      775398007   \n",
              "2      94000000         85.688789         30-05-2003      940335536   \n",
              "3      55000000        138.133331         06-07-1994      677945399   \n",
              "4      15000000         80.878605         15-09-1999      356296601   \n",
              "\n",
              "   Movie_Runtime  Movie_Vote  ...  \\\n",
              "0           98.0         6.5  ...   \n",
              "1          121.0         8.1  ...   \n",
              "2          100.0         7.6  ...   \n",
              "3          142.0         8.2  ...   \n",
              "4          122.0         7.9  ...   \n",
              "\n",
              "                                      Movie_Homepage  \\\n",
              "0                                                NaN   \n",
              "1  http://www.starwars.com/films/star-wars-episod...   \n",
              "2              http://movies.disney.com/finding-nemo   \n",
              "3                                                NaN   \n",
              "4                      http://www.dreamworks.com/ab/   \n",
              "\n",
              "                                      Movie_Keywords  \\\n",
              "0          hotel new year's eve witch bet hotel room   \n",
              "1        android galaxy hermit death star lightsaber   \n",
              "2  father son relationship harbor underwater fish...   \n",
              "3  vietnam veteran hippie mentally disabled runni...   \n",
              "4  male nudity female nudity adultery midlife cri...   \n",
              "\n",
              "                                      Movie_Overview  \\\n",
              "0  It's Ted the Bellhop's first night on the job....   \n",
              "1  Princess Leia is captured and held hostage by ...   \n",
              "2  Nemo, an adventurous young clownfish, is unexp...   \n",
              "3  A man with a low IQ has accomplished great thi...   \n",
              "4  Lester Burnham, a depressed suburban father in...   \n",
              "\n",
              "                              Movie_Production_House  \\\n",
              "0  [{\"name\": \"Miramax Films\", \"id\": 14}, {\"name\":...   \n",
              "1  [{\"name\": \"Lucasfilm\", \"id\": 1}, {\"name\": \"Twe...   \n",
              "2     [{\"name\": \"Pixar Animation Studios\", \"id\": 3}]   \n",
              "3          [{\"name\": \"Paramount Pictures\", \"id\": 4}]   \n",
              "4  [{\"name\": \"DreamWorks SKG\", \"id\": 27}, {\"name\"...   \n",
              "\n",
              "                            Movie_Production_Country  \\\n",
              "0  [{\"iso_3166_1\": \"US\", \"name\": \"United States o...   \n",
              "1  [{\"iso_3166_1\": \"US\", \"name\": \"United States o...   \n",
              "2  [{\"iso_3166_1\": \"US\", \"name\": \"United States o...   \n",
              "3  [{\"iso_3166_1\": \"US\", \"name\": \"United States o...   \n",
              "4  [{\"iso_3166_1\": \"US\", \"name\": \"United States o...   \n",
              "\n",
              "                      Movie_Spoken_Language  \\\n",
              "0  [{\"iso_639_1\": \"en\", \"name\": \"English\"}]   \n",
              "1  [{\"iso_639_1\": \"en\", \"name\": \"English\"}]   \n",
              "2  [{\"iso_639_1\": \"en\", \"name\": \"English\"}]   \n",
              "3  [{\"iso_639_1\": \"en\", \"name\": \"English\"}]   \n",
              "4  [{\"iso_639_1\": \"en\", \"name\": \"English\"}]   \n",
              "\n",
              "                                       Movie_Tagline  \\\n",
              "0  Twelve outrageous guests. Four scandalous requ...   \n",
              "1       A long time ago in a galaxy far, far away...   \n",
              "2  There are 3.7 trillion fish in the ocean, they...   \n",
              "3  The world will never be the same, once you've ...   \n",
              "4                                       Look closer.   \n",
              "\n",
              "                                          Movie_Cast  \\\n",
              "0  Tim Roth Antonio Banderas Jennifer Beals Madon...   \n",
              "1  Mark Hamill Harrison Ford Carrie Fisher Peter ...   \n",
              "2  Albert Brooks Ellen DeGeneres Alexander Gould ...   \n",
              "3  Tom Hanks Robin Wright Gary Sinise Mykelti Wil...   \n",
              "4  Kevin Spacey Annette Bening Thora Birch Wes Be...   \n",
              "\n",
              "                                          Movie_Crew   Movie_Director  \n",
              "0  [{'name': 'Allison Anders', 'gender': 1, 'depa...   Allison Anders  \n",
              "1  [{'name': 'George Lucas', 'gender': 2, 'depart...     George Lucas  \n",
              "2  [{'name': 'Andrew Stanton', 'gender': 2, 'depa...   Andrew Stanton  \n",
              "3  [{'name': 'Alan Silvestri', 'gender': 2, 'depa...  Robert Zemeckis  \n",
              "4  [{'name': 'Thomas Newman', 'gender': 2, 'depar...       Sam Mendes  \n",
              "\n",
              "[5 rows x 21 columns]"
            ],
            "text/html": [
              "\n",
              "  <div id=\"df-b2c5b870-7ad5-4b3d-9691-190726f26c13\">\n",
              "    <div class=\"colab-df-container\">\n",
              "      <div>\n",
              "<style scoped>\n",
              "    .dataframe tbody tr th:only-of-type {\n",
              "        vertical-align: middle;\n",
              "    }\n",
              "\n",
              "    .dataframe tbody tr th {\n",
              "        vertical-align: top;\n",
              "    }\n",
              "\n",
              "    .dataframe thead th {\n",
              "        text-align: right;\n",
              "    }\n",
              "</style>\n",
              "<table border=\"1\" class=\"dataframe\">\n",
              "  <thead>\n",
              "    <tr style=\"text-align: right;\">\n",
              "      <th></th>\n",
              "      <th>Movie_ID</th>\n",
              "      <th>Movie_Title</th>\n",
              "      <th>Movie_Genre</th>\n",
              "      <th>Movie_Language</th>\n",
              "      <th>Movie_Budget</th>\n",
              "      <th>Movie_Popularity</th>\n",
              "      <th>Movie_Release_Date</th>\n",
              "      <th>Movie_Revenue</th>\n",
              "      <th>Movie_Runtime</th>\n",
              "      <th>Movie_Vote</th>\n",
              "      <th>...</th>\n",
              "      <th>Movie_Homepage</th>\n",
              "      <th>Movie_Keywords</th>\n",
              "      <th>Movie_Overview</th>\n",
              "      <th>Movie_Production_House</th>\n",
              "      <th>Movie_Production_Country</th>\n",
              "      <th>Movie_Spoken_Language</th>\n",
              "      <th>Movie_Tagline</th>\n",
              "      <th>Movie_Cast</th>\n",
              "      <th>Movie_Crew</th>\n",
              "      <th>Movie_Director</th>\n",
              "    </tr>\n",
              "  </thead>\n",
              "  <tbody>\n",
              "    <tr>\n",
              "      <th>0</th>\n",
              "      <td>1</td>\n",
              "      <td>Four Rooms</td>\n",
              "      <td>Crime Comedy</td>\n",
              "      <td>en</td>\n",
              "      <td>4000000</td>\n",
              "      <td>22.876230</td>\n",
              "      <td>09-12-1995</td>\n",
              "      <td>4300000</td>\n",
              "      <td>98.0</td>\n",
              "      <td>6.5</td>\n",
              "      <td>...</td>\n",
              "      <td>NaN</td>\n",
              "      <td>hotel new year's eve witch bet hotel room</td>\n",
              "      <td>It's Ted the Bellhop's first night on the job....</td>\n",
              "      <td>[{\"name\": \"Miramax Films\", \"id\": 14}, {\"name\":...</td>\n",
              "      <td>[{\"iso_3166_1\": \"US\", \"name\": \"United States o...</td>\n",
              "      <td>[{\"iso_639_1\": \"en\", \"name\": \"English\"}]</td>\n",
              "      <td>Twelve outrageous guests. Four scandalous requ...</td>\n",
              "      <td>Tim Roth Antonio Banderas Jennifer Beals Madon...</td>\n",
              "      <td>[{'name': 'Allison Anders', 'gender': 1, 'depa...</td>\n",
              "      <td>Allison Anders</td>\n",
              "    </tr>\n",
              "    <tr>\n",
              "      <th>1</th>\n",
              "      <td>2</td>\n",
              "      <td>Star Wars</td>\n",
              "      <td>Adventure Action Science Fiction</td>\n",
              "      <td>en</td>\n",
              "      <td>11000000</td>\n",
              "      <td>126.393695</td>\n",
              "      <td>25-05-1977</td>\n",
              "      <td>775398007</td>\n",
              "      <td>121.0</td>\n",
              "      <td>8.1</td>\n",
              "      <td>...</td>\n",
              "      <td>http://www.starwars.com/films/star-wars-episod...</td>\n",
              "      <td>android galaxy hermit death star lightsaber</td>\n",
              "      <td>Princess Leia is captured and held hostage by ...</td>\n",
              "      <td>[{\"name\": \"Lucasfilm\", \"id\": 1}, {\"name\": \"Twe...</td>\n",
              "      <td>[{\"iso_3166_1\": \"US\", \"name\": \"United States o...</td>\n",
              "      <td>[{\"iso_639_1\": \"en\", \"name\": \"English\"}]</td>\n",
              "      <td>A long time ago in a galaxy far, far away...</td>\n",
              "      <td>Mark Hamill Harrison Ford Carrie Fisher Peter ...</td>\n",
              "      <td>[{'name': 'George Lucas', 'gender': 2, 'depart...</td>\n",
              "      <td>George Lucas</td>\n",
              "    </tr>\n",
              "    <tr>\n",
              "      <th>2</th>\n",
              "      <td>3</td>\n",
              "      <td>Finding Nemo</td>\n",
              "      <td>Animation Family</td>\n",
              "      <td>en</td>\n",
              "      <td>94000000</td>\n",
              "      <td>85.688789</td>\n",
              "      <td>30-05-2003</td>\n",
              "      <td>940335536</td>\n",
              "      <td>100.0</td>\n",
              "      <td>7.6</td>\n",
              "      <td>...</td>\n",
              "      <td>http://movies.disney.com/finding-nemo</td>\n",
              "      <td>father son relationship harbor underwater fish...</td>\n",
              "      <td>Nemo, an adventurous young clownfish, is unexp...</td>\n",
              "      <td>[{\"name\": \"Pixar Animation Studios\", \"id\": 3}]</td>\n",
              "      <td>[{\"iso_3166_1\": \"US\", \"name\": \"United States o...</td>\n",
              "      <td>[{\"iso_639_1\": \"en\", \"name\": \"English\"}]</td>\n",
              "      <td>There are 3.7 trillion fish in the ocean, they...</td>\n",
              "      <td>Albert Brooks Ellen DeGeneres Alexander Gould ...</td>\n",
              "      <td>[{'name': 'Andrew Stanton', 'gender': 2, 'depa...</td>\n",
              "      <td>Andrew Stanton</td>\n",
              "    </tr>\n",
              "    <tr>\n",
              "      <th>3</th>\n",
              "      <td>4</td>\n",
              "      <td>Forrest Gump</td>\n",
              "      <td>Comedy Drama Romance</td>\n",
              "      <td>en</td>\n",
              "      <td>55000000</td>\n",
              "      <td>138.133331</td>\n",
              "      <td>06-07-1994</td>\n",
              "      <td>677945399</td>\n",
              "      <td>142.0</td>\n",
              "      <td>8.2</td>\n",
              "      <td>...</td>\n",
              "      <td>NaN</td>\n",
              "      <td>vietnam veteran hippie mentally disabled runni...</td>\n",
              "      <td>A man with a low IQ has accomplished great thi...</td>\n",
              "      <td>[{\"name\": \"Paramount Pictures\", \"id\": 4}]</td>\n",
              "      <td>[{\"iso_3166_1\": \"US\", \"name\": \"United States o...</td>\n",
              "      <td>[{\"iso_639_1\": \"en\", \"name\": \"English\"}]</td>\n",
              "      <td>The world will never be the same, once you've ...</td>\n",
              "      <td>Tom Hanks Robin Wright Gary Sinise Mykelti Wil...</td>\n",
              "      <td>[{'name': 'Alan Silvestri', 'gender': 2, 'depa...</td>\n",
              "      <td>Robert Zemeckis</td>\n",
              "    </tr>\n",
              "    <tr>\n",
              "      <th>4</th>\n",
              "      <td>5</td>\n",
              "      <td>American Beauty</td>\n",
              "      <td>Drama</td>\n",
              "      <td>en</td>\n",
              "      <td>15000000</td>\n",
              "      <td>80.878605</td>\n",
              "      <td>15-09-1999</td>\n",
              "      <td>356296601</td>\n",
              "      <td>122.0</td>\n",
              "      <td>7.9</td>\n",
              "      <td>...</td>\n",
              "      <td>http://www.dreamworks.com/ab/</td>\n",
              "      <td>male nudity female nudity adultery midlife cri...</td>\n",
              "      <td>Lester Burnham, a depressed suburban father in...</td>\n",
              "      <td>[{\"name\": \"DreamWorks SKG\", \"id\": 27}, {\"name\"...</td>\n",
              "      <td>[{\"iso_3166_1\": \"US\", \"name\": \"United States o...</td>\n",
              "      <td>[{\"iso_639_1\": \"en\", \"name\": \"English\"}]</td>\n",
              "      <td>Look closer.</td>\n",
              "      <td>Kevin Spacey Annette Bening Thora Birch Wes Be...</td>\n",
              "      <td>[{'name': 'Thomas Newman', 'gender': 2, 'depar...</td>\n",
              "      <td>Sam Mendes</td>\n",
              "    </tr>\n",
              "  </tbody>\n",
              "</table>\n",
              "<p>5 rows × 21 columns</p>\n",
              "</div>\n",
              "      <button class=\"colab-df-convert\" onclick=\"convertToInteractive('df-b2c5b870-7ad5-4b3d-9691-190726f26c13')\"\n",
              "              title=\"Convert this dataframe to an interactive table.\"\n",
              "              style=\"display:none;\">\n",
              "        \n",
              "  <svg xmlns=\"http://www.w3.org/2000/svg\" height=\"24px\"viewBox=\"0 0 24 24\"\n",
              "       width=\"24px\">\n",
              "    <path d=\"M0 0h24v24H0V0z\" fill=\"none\"/>\n",
              "    <path d=\"M18.56 5.44l.94 2.06.94-2.06 2.06-.94-2.06-.94-.94-2.06-.94 2.06-2.06.94zm-11 1L8.5 8.5l.94-2.06 2.06-.94-2.06-.94L8.5 2.5l-.94 2.06-2.06.94zm10 10l.94 2.06.94-2.06 2.06-.94-2.06-.94-.94-2.06-.94 2.06-2.06.94z\"/><path d=\"M17.41 7.96l-1.37-1.37c-.4-.4-.92-.59-1.43-.59-.52 0-1.04.2-1.43.59L10.3 9.45l-7.72 7.72c-.78.78-.78 2.05 0 2.83L4 21.41c.39.39.9.59 1.41.59.51 0 1.02-.2 1.41-.59l7.78-7.78 2.81-2.81c.8-.78.8-2.07 0-2.86zM5.41 20L4 18.59l7.72-7.72 1.47 1.35L5.41 20z\"/>\n",
              "  </svg>\n",
              "      </button>\n",
              "      \n",
              "  <style>\n",
              "    .colab-df-container {\n",
              "      display:flex;\n",
              "      flex-wrap:wrap;\n",
              "      gap: 12px;\n",
              "    }\n",
              "\n",
              "    .colab-df-convert {\n",
              "      background-color: #E8F0FE;\n",
              "      border: none;\n",
              "      border-radius: 50%;\n",
              "      cursor: pointer;\n",
              "      display: none;\n",
              "      fill: #1967D2;\n",
              "      height: 32px;\n",
              "      padding: 0 0 0 0;\n",
              "      width: 32px;\n",
              "    }\n",
              "\n",
              "    .colab-df-convert:hover {\n",
              "      background-color: #E2EBFA;\n",
              "      box-shadow: 0px 1px 2px rgba(60, 64, 67, 0.3), 0px 1px 3px 1px rgba(60, 64, 67, 0.15);\n",
              "      fill: #174EA6;\n",
              "    }\n",
              "\n",
              "    [theme=dark] .colab-df-convert {\n",
              "      background-color: #3B4455;\n",
              "      fill: #D2E3FC;\n",
              "    }\n",
              "\n",
              "    [theme=dark] .colab-df-convert:hover {\n",
              "      background-color: #434B5C;\n",
              "      box-shadow: 0px 1px 3px 1px rgba(0, 0, 0, 0.15);\n",
              "      filter: drop-shadow(0px 1px 2px rgba(0, 0, 0, 0.3));\n",
              "      fill: #FFFFFF;\n",
              "    }\n",
              "  </style>\n",
              "\n",
              "      <script>\n",
              "        const buttonEl =\n",
              "          document.querySelector('#df-b2c5b870-7ad5-4b3d-9691-190726f26c13 button.colab-df-convert');\n",
              "        buttonEl.style.display =\n",
              "          google.colab.kernel.accessAllowed ? 'block' : 'none';\n",
              "\n",
              "        async function convertToInteractive(key) {\n",
              "          const element = document.querySelector('#df-b2c5b870-7ad5-4b3d-9691-190726f26c13');\n",
              "          const dataTable =\n",
              "            await google.colab.kernel.invokeFunction('convertToInteractive',\n",
              "                                                     [key], {});\n",
              "          if (!dataTable) return;\n",
              "\n",
              "          const docLinkHtml = 'Like what you see? Visit the ' +\n",
              "            '<a target=\"_blank\" href=https://colab.research.google.com/notebooks/data_table.ipynb>data table notebook</a>'\n",
              "            + ' to learn more about interactive tables.';\n",
              "          element.innerHTML = '';\n",
              "          dataTable['output_type'] = 'display_data';\n",
              "          await google.colab.output.renderOutput(dataTable, element);\n",
              "          const docLink = document.createElement('div');\n",
              "          docLink.innerHTML = docLinkHtml;\n",
              "          element.appendChild(docLink);\n",
              "        }\n",
              "      </script>\n",
              "    </div>\n",
              "  </div>\n",
              "  "
            ]
          },
          "metadata": {},
          "execution_count": 4
        }
      ]
    },
    {
      "cell_type": "code",
      "source": [
        "df.info()\n"
      ],
      "metadata": {
        "colab": {
          "base_uri": "https://localhost:8080/"
        },
        "id": "01x0ErmQCVBf",
        "outputId": "c5c4d5c2-4677-45d2-c6fe-478c8fdcf6b8"
      },
      "execution_count": 5,
      "outputs": [
        {
          "output_type": "stream",
          "name": "stdout",
          "text": [
            "<class 'pandas.core.frame.DataFrame'>\n",
            "RangeIndex: 4760 entries, 0 to 4759\n",
            "Data columns (total 21 columns):\n",
            " #   Column                    Non-Null Count  Dtype  \n",
            "---  ------                    --------------  -----  \n",
            " 0   Movie_ID                  4760 non-null   int64  \n",
            " 1   Movie_Title               4760 non-null   object \n",
            " 2   Movie_Genre               4760 non-null   object \n",
            " 3   Movie_Language            4760 non-null   object \n",
            " 4   Movie_Budget              4760 non-null   int64  \n",
            " 5   Movie_Popularity          4760 non-null   float64\n",
            " 6   Movie_Release_Date        4760 non-null   object \n",
            " 7   Movie_Revenue             4760 non-null   int64  \n",
            " 8   Movie_Runtime             4758 non-null   float64\n",
            " 9   Movie_Vote                4760 non-null   float64\n",
            " 10  Movie_Vote_Count          4760 non-null   int64  \n",
            " 11  Movie_Homepage            1699 non-null   object \n",
            " 12  Movie_Keywords            4373 non-null   object \n",
            " 13  Movie_Overview            4757 non-null   object \n",
            " 14  Movie_Production_House    4760 non-null   object \n",
            " 15  Movie_Production_Country  4760 non-null   object \n",
            " 16  Movie_Spoken_Language     4760 non-null   object \n",
            " 17  Movie_Tagline             3942 non-null   object \n",
            " 18  Movie_Cast                4733 non-null   object \n",
            " 19  Movie_Crew                4760 non-null   object \n",
            " 20  Movie_Director            4738 non-null   object \n",
            "dtypes: float64(3), int64(4), object(14)\n",
            "memory usage: 781.1+ KB\n"
          ]
        }
      ]
    },
    {
      "cell_type": "code",
      "source": [
        "df.shape"
      ],
      "metadata": {
        "colab": {
          "base_uri": "https://localhost:8080/"
        },
        "id": "H5Vgw4GLCXbl",
        "outputId": "5dc28177-714f-4977-f760-23d38c178026"
      },
      "execution_count": 6,
      "outputs": [
        {
          "output_type": "execute_result",
          "data": {
            "text/plain": [
              "(4760, 21)"
            ]
          },
          "metadata": {},
          "execution_count": 6
        }
      ]
    },
    {
      "cell_type": "code",
      "source": [
        "df.columns"
      ],
      "metadata": {
        "colab": {
          "base_uri": "https://localhost:8080/"
        },
        "id": "DFRA1lqrCYnK",
        "outputId": "ef4f1cd2-3316-4902-d919-1c5251fba62a"
      },
      "execution_count": 7,
      "outputs": [
        {
          "output_type": "execute_result",
          "data": {
            "text/plain": [
              "Index(['Movie_ID', 'Movie_Title', 'Movie_Genre', 'Movie_Language',\n",
              "       'Movie_Budget', 'Movie_Popularity', 'Movie_Release_Date',\n",
              "       'Movie_Revenue', 'Movie_Runtime', 'Movie_Vote', 'Movie_Vote_Count',\n",
              "       'Movie_Homepage', 'Movie_Keywords', 'Movie_Overview',\n",
              "       'Movie_Production_House', 'Movie_Production_Country',\n",
              "       'Movie_Spoken_Language', 'Movie_Tagline', 'Movie_Cast', 'Movie_Crew',\n",
              "       'Movie_Director'],\n",
              "      dtype='object')"
            ]
          },
          "metadata": {},
          "execution_count": 7
        }
      ]
    },
    {
      "cell_type": "markdown",
      "source": [
        "Get Feature Slection"
      ],
      "metadata": {
        "id": "6F03-V6FCZyR"
      }
    },
    {
      "cell_type": "code",
      "source": [
        "df_features = df[['Movie_Genre', 'Movie_Keywords', 'Movie_Tagline', 'Movie_Cast', 'Movie_Director']].fillna('')\n"
      ],
      "metadata": {
        "id": "_OOpNyD-Ca0J"
      },
      "execution_count": 8,
      "outputs": []
    },
    {
      "cell_type": "code",
      "source": [
        "df_features.shape\n"
      ],
      "metadata": {
        "colab": {
          "base_uri": "https://localhost:8080/"
        },
        "id": "cCU_IswDCcIu",
        "outputId": "8f053b23-9b38-4a79-ccbb-c36f43bb8f82"
      },
      "execution_count": 9,
      "outputs": [
        {
          "output_type": "execute_result",
          "data": {
            "text/plain": [
              "(4760, 5)"
            ]
          },
          "metadata": {},
          "execution_count": 9
        }
      ]
    },
    {
      "cell_type": "code",
      "source": [
        "df_features"
      ],
      "metadata": {
        "colab": {
          "base_uri": "https://localhost:8080/",
          "height": 1000
        },
        "id": "DGP8n6jXCdIh",
        "outputId": "e061bcd7-daa5-46b9-851c-0cd9816214b3"
      },
      "execution_count": 10,
      "outputs": [
        {
          "output_type": "execute_result",
          "data": {
            "text/plain": [
              "                           Movie_Genre  \\\n",
              "0                         Crime Comedy   \n",
              "1     Adventure Action Science Fiction   \n",
              "2                     Animation Family   \n",
              "3                 Comedy Drama Romance   \n",
              "4                                Drama   \n",
              "...                                ...   \n",
              "4755                            Horror   \n",
              "4756               Comedy Family Drama   \n",
              "4757                    Thriller Drama   \n",
              "4758                            Family   \n",
              "4759                       Documentary   \n",
              "\n",
              "                                         Movie_Keywords  \\\n",
              "0             hotel new year's eve witch bet hotel room   \n",
              "1           android galaxy hermit death star lightsaber   \n",
              "2     father son relationship harbor underwater fish...   \n",
              "3     vietnam veteran hippie mentally disabled runni...   \n",
              "4     male nudity female nudity adultery midlife cri...   \n",
              "...                                                 ...   \n",
              "4755                                                      \n",
              "4756                                                      \n",
              "4757                     christian film sex trafficking   \n",
              "4758                                                      \n",
              "4759  music actors legendary perfomer classic hollyw...   \n",
              "\n",
              "                                          Movie_Tagline  \\\n",
              "0     Twelve outrageous guests. Four scandalous requ...   \n",
              "1          A long time ago in a galaxy far, far away...   \n",
              "2     There are 3.7 trillion fish in the ocean, they...   \n",
              "3     The world will never be the same, once you've ...   \n",
              "4                                          Look closer.   \n",
              "...                                                 ...   \n",
              "4755                The hot spot where Satan's waitin'.   \n",
              "4756           It’s better to stand out than to fit in.   \n",
              "4757           She never knew it could happen to her...   \n",
              "4758                                                      \n",
              "4759                                                      \n",
              "\n",
              "                                             Movie_Cast     Movie_Director  \n",
              "0     Tim Roth Antonio Banderas Jennifer Beals Madon...     Allison Anders  \n",
              "1     Mark Hamill Harrison Ford Carrie Fisher Peter ...       George Lucas  \n",
              "2     Albert Brooks Ellen DeGeneres Alexander Gould ...     Andrew Stanton  \n",
              "3     Tom Hanks Robin Wright Gary Sinise Mykelti Wil...    Robert Zemeckis  \n",
              "4     Kevin Spacey Annette Bening Thora Birch Wes Be...         Sam Mendes  \n",
              "...                                                 ...                ...  \n",
              "4755  Lisa Hart Carroll Michael Des Barres Paul Drak...         Pece Dingo  \n",
              "4756  Roni Akurati Brighton Sharbino Jason Lee Anjul...       Frank Lotito  \n",
              "4757  Nicole Smolen Kim Baldwin Ariana Stephens Brys...       Jaco Booyens  \n",
              "4758                                                                        \n",
              "4759                                    Tony Oppedisano  Simon Napier-Bell  \n",
              "\n",
              "[4760 rows x 5 columns]"
            ],
            "text/html": [
              "\n",
              "  <div id=\"df-0ec93220-776e-49e5-a197-4e5873d4b743\">\n",
              "    <div class=\"colab-df-container\">\n",
              "      <div>\n",
              "<style scoped>\n",
              "    .dataframe tbody tr th:only-of-type {\n",
              "        vertical-align: middle;\n",
              "    }\n",
              "\n",
              "    .dataframe tbody tr th {\n",
              "        vertical-align: top;\n",
              "    }\n",
              "\n",
              "    .dataframe thead th {\n",
              "        text-align: right;\n",
              "    }\n",
              "</style>\n",
              "<table border=\"1\" class=\"dataframe\">\n",
              "  <thead>\n",
              "    <tr style=\"text-align: right;\">\n",
              "      <th></th>\n",
              "      <th>Movie_Genre</th>\n",
              "      <th>Movie_Keywords</th>\n",
              "      <th>Movie_Tagline</th>\n",
              "      <th>Movie_Cast</th>\n",
              "      <th>Movie_Director</th>\n",
              "    </tr>\n",
              "  </thead>\n",
              "  <tbody>\n",
              "    <tr>\n",
              "      <th>0</th>\n",
              "      <td>Crime Comedy</td>\n",
              "      <td>hotel new year's eve witch bet hotel room</td>\n",
              "      <td>Twelve outrageous guests. Four scandalous requ...</td>\n",
              "      <td>Tim Roth Antonio Banderas Jennifer Beals Madon...</td>\n",
              "      <td>Allison Anders</td>\n",
              "    </tr>\n",
              "    <tr>\n",
              "      <th>1</th>\n",
              "      <td>Adventure Action Science Fiction</td>\n",
              "      <td>android galaxy hermit death star lightsaber</td>\n",
              "      <td>A long time ago in a galaxy far, far away...</td>\n",
              "      <td>Mark Hamill Harrison Ford Carrie Fisher Peter ...</td>\n",
              "      <td>George Lucas</td>\n",
              "    </tr>\n",
              "    <tr>\n",
              "      <th>2</th>\n",
              "      <td>Animation Family</td>\n",
              "      <td>father son relationship harbor underwater fish...</td>\n",
              "      <td>There are 3.7 trillion fish in the ocean, they...</td>\n",
              "      <td>Albert Brooks Ellen DeGeneres Alexander Gould ...</td>\n",
              "      <td>Andrew Stanton</td>\n",
              "    </tr>\n",
              "    <tr>\n",
              "      <th>3</th>\n",
              "      <td>Comedy Drama Romance</td>\n",
              "      <td>vietnam veteran hippie mentally disabled runni...</td>\n",
              "      <td>The world will never be the same, once you've ...</td>\n",
              "      <td>Tom Hanks Robin Wright Gary Sinise Mykelti Wil...</td>\n",
              "      <td>Robert Zemeckis</td>\n",
              "    </tr>\n",
              "    <tr>\n",
              "      <th>4</th>\n",
              "      <td>Drama</td>\n",
              "      <td>male nudity female nudity adultery midlife cri...</td>\n",
              "      <td>Look closer.</td>\n",
              "      <td>Kevin Spacey Annette Bening Thora Birch Wes Be...</td>\n",
              "      <td>Sam Mendes</td>\n",
              "    </tr>\n",
              "    <tr>\n",
              "      <th>...</th>\n",
              "      <td>...</td>\n",
              "      <td>...</td>\n",
              "      <td>...</td>\n",
              "      <td>...</td>\n",
              "      <td>...</td>\n",
              "    </tr>\n",
              "    <tr>\n",
              "      <th>4755</th>\n",
              "      <td>Horror</td>\n",
              "      <td></td>\n",
              "      <td>The hot spot where Satan's waitin'.</td>\n",
              "      <td>Lisa Hart Carroll Michael Des Barres Paul Drak...</td>\n",
              "      <td>Pece Dingo</td>\n",
              "    </tr>\n",
              "    <tr>\n",
              "      <th>4756</th>\n",
              "      <td>Comedy Family Drama</td>\n",
              "      <td></td>\n",
              "      <td>It’s better to stand out than to fit in.</td>\n",
              "      <td>Roni Akurati Brighton Sharbino Jason Lee Anjul...</td>\n",
              "      <td>Frank Lotito</td>\n",
              "    </tr>\n",
              "    <tr>\n",
              "      <th>4757</th>\n",
              "      <td>Thriller Drama</td>\n",
              "      <td>christian film sex trafficking</td>\n",
              "      <td>She never knew it could happen to her...</td>\n",
              "      <td>Nicole Smolen Kim Baldwin Ariana Stephens Brys...</td>\n",
              "      <td>Jaco Booyens</td>\n",
              "    </tr>\n",
              "    <tr>\n",
              "      <th>4758</th>\n",
              "      <td>Family</td>\n",
              "      <td></td>\n",
              "      <td></td>\n",
              "      <td></td>\n",
              "      <td></td>\n",
              "    </tr>\n",
              "    <tr>\n",
              "      <th>4759</th>\n",
              "      <td>Documentary</td>\n",
              "      <td>music actors legendary perfomer classic hollyw...</td>\n",
              "      <td></td>\n",
              "      <td>Tony Oppedisano</td>\n",
              "      <td>Simon Napier-Bell</td>\n",
              "    </tr>\n",
              "  </tbody>\n",
              "</table>\n",
              "<p>4760 rows × 5 columns</p>\n",
              "</div>\n",
              "      <button class=\"colab-df-convert\" onclick=\"convertToInteractive('df-0ec93220-776e-49e5-a197-4e5873d4b743')\"\n",
              "              title=\"Convert this dataframe to an interactive table.\"\n",
              "              style=\"display:none;\">\n",
              "        \n",
              "  <svg xmlns=\"http://www.w3.org/2000/svg\" height=\"24px\"viewBox=\"0 0 24 24\"\n",
              "       width=\"24px\">\n",
              "    <path d=\"M0 0h24v24H0V0z\" fill=\"none\"/>\n",
              "    <path d=\"M18.56 5.44l.94 2.06.94-2.06 2.06-.94-2.06-.94-.94-2.06-.94 2.06-2.06.94zm-11 1L8.5 8.5l.94-2.06 2.06-.94-2.06-.94L8.5 2.5l-.94 2.06-2.06.94zm10 10l.94 2.06.94-2.06 2.06-.94-2.06-.94-.94-2.06-.94 2.06-2.06.94z\"/><path d=\"M17.41 7.96l-1.37-1.37c-.4-.4-.92-.59-1.43-.59-.52 0-1.04.2-1.43.59L10.3 9.45l-7.72 7.72c-.78.78-.78 2.05 0 2.83L4 21.41c.39.39.9.59 1.41.59.51 0 1.02-.2 1.41-.59l7.78-7.78 2.81-2.81c.8-.78.8-2.07 0-2.86zM5.41 20L4 18.59l7.72-7.72 1.47 1.35L5.41 20z\"/>\n",
              "  </svg>\n",
              "      </button>\n",
              "      \n",
              "  <style>\n",
              "    .colab-df-container {\n",
              "      display:flex;\n",
              "      flex-wrap:wrap;\n",
              "      gap: 12px;\n",
              "    }\n",
              "\n",
              "    .colab-df-convert {\n",
              "      background-color: #E8F0FE;\n",
              "      border: none;\n",
              "      border-radius: 50%;\n",
              "      cursor: pointer;\n",
              "      display: none;\n",
              "      fill: #1967D2;\n",
              "      height: 32px;\n",
              "      padding: 0 0 0 0;\n",
              "      width: 32px;\n",
              "    }\n",
              "\n",
              "    .colab-df-convert:hover {\n",
              "      background-color: #E2EBFA;\n",
              "      box-shadow: 0px 1px 2px rgba(60, 64, 67, 0.3), 0px 1px 3px 1px rgba(60, 64, 67, 0.15);\n",
              "      fill: #174EA6;\n",
              "    }\n",
              "\n",
              "    [theme=dark] .colab-df-convert {\n",
              "      background-color: #3B4455;\n",
              "      fill: #D2E3FC;\n",
              "    }\n",
              "\n",
              "    [theme=dark] .colab-df-convert:hover {\n",
              "      background-color: #434B5C;\n",
              "      box-shadow: 0px 1px 3px 1px rgba(0, 0, 0, 0.15);\n",
              "      filter: drop-shadow(0px 1px 2px rgba(0, 0, 0, 0.3));\n",
              "      fill: #FFFFFF;\n",
              "    }\n",
              "  </style>\n",
              "\n",
              "      <script>\n",
              "        const buttonEl =\n",
              "          document.querySelector('#df-0ec93220-776e-49e5-a197-4e5873d4b743 button.colab-df-convert');\n",
              "        buttonEl.style.display =\n",
              "          google.colab.kernel.accessAllowed ? 'block' : 'none';\n",
              "\n",
              "        async function convertToInteractive(key) {\n",
              "          const element = document.querySelector('#df-0ec93220-776e-49e5-a197-4e5873d4b743');\n",
              "          const dataTable =\n",
              "            await google.colab.kernel.invokeFunction('convertToInteractive',\n",
              "                                                     [key], {});\n",
              "          if (!dataTable) return;\n",
              "\n",
              "          const docLinkHtml = 'Like what you see? Visit the ' +\n",
              "            '<a target=\"_blank\" href=https://colab.research.google.com/notebooks/data_table.ipynb>data table notebook</a>'\n",
              "            + ' to learn more about interactive tables.';\n",
              "          element.innerHTML = '';\n",
              "          dataTable['output_type'] = 'display_data';\n",
              "          await google.colab.output.renderOutput(dataTable, element);\n",
              "          const docLink = document.createElement('div');\n",
              "          docLink.innerHTML = docLinkHtml;\n",
              "          element.appendChild(docLink);\n",
              "        }\n",
              "      </script>\n",
              "    </div>\n",
              "  </div>\n",
              "  "
            ]
          },
          "metadata": {},
          "execution_count": 10
        }
      ]
    },
    {
      "cell_type": "code",
      "source": [
        "X= df_features['Movie_Genre'] +'  ' + df_features['Movie_Keywords']+'  ' + df_features['Movie_Tagline'] +'  '+ df_features['Movie_Cast']+'  '+df_features['Movie_Director']\n"
      ],
      "metadata": {
        "id": "mUIA4G5ICflo"
      },
      "execution_count": 11,
      "outputs": []
    },
    {
      "cell_type": "code",
      "source": [
        "X"
      ],
      "metadata": {
        "colab": {
          "base_uri": "https://localhost:8080/"
        },
        "id": "jVEdIgMsCgcq",
        "outputId": "d5cdf40b-0ee5-4010-e945-882845c0b1b6"
      },
      "execution_count": 12,
      "outputs": [
        {
          "output_type": "execute_result",
          "data": {
            "text/plain": [
              "0       Crime Comedy  hotel new year's eve witch bet h...\n",
              "1       Adventure Action Science Fiction  android gala...\n",
              "2       Animation Family  father son relationship harb...\n",
              "3       Comedy Drama Romance  vietnam veteran hippie m...\n",
              "4       Drama  male nudity female nudity adultery midl...\n",
              "                              ...                        \n",
              "4755    Horror    The hot spot where Satan's waitin'. ...\n",
              "4756    Comedy Family Drama    It’s better to stand ou...\n",
              "4757    Thriller Drama  christian film sex trafficking...\n",
              "4758                                       Family        \n",
              "4759    Documentary  music actors legendary perfomer c...\n",
              "Length: 4760, dtype: object"
            ]
          },
          "metadata": {},
          "execution_count": 12
        }
      ]
    },
    {
      "cell_type": "code",
      "source": [
        "X.shape"
      ],
      "metadata": {
        "colab": {
          "base_uri": "https://localhost:8080/"
        },
        "id": "zIgKclnpChmt",
        "outputId": "d1dc70de-17ed-40dd-9256-9024e8e76703"
      },
      "execution_count": 13,
      "outputs": [
        {
          "output_type": "execute_result",
          "data": {
            "text/plain": [
              "(4760,)"
            ]
          },
          "metadata": {},
          "execution_count": 13
        }
      ]
    },
    {
      "cell_type": "markdown",
      "source": [
        "Get Feature Text Conversion to Tokens"
      ],
      "metadata": {
        "id": "LgyNXnkbCjlY"
      }
    },
    {
      "cell_type": "code",
      "source": [
        "from sklearn.feature_extraction.text import TfidfVectorizer"
      ],
      "metadata": {
        "id": "m4Yoz1CSClYh"
      },
      "execution_count": 14,
      "outputs": []
    },
    {
      "cell_type": "code",
      "source": [
        "tfidf=TfidfVectorizer()"
      ],
      "metadata": {
        "id": "fPdBeK-9CmQd"
      },
      "execution_count": 15,
      "outputs": []
    },
    {
      "cell_type": "code",
      "source": [
        "X = tfidf.fit_transform(X)"
      ],
      "metadata": {
        "id": "MZ0_-mHWCnMu"
      },
      "execution_count": 16,
      "outputs": []
    },
    {
      "cell_type": "code",
      "source": [
        "X.shape"
      ],
      "metadata": {
        "colab": {
          "base_uri": "https://localhost:8080/"
        },
        "id": "i1EXJleMCn6F",
        "outputId": "311d0308-4955-4626-a575-4b07bcd406ee"
      },
      "execution_count": 17,
      "outputs": [
        {
          "output_type": "execute_result",
          "data": {
            "text/plain": [
              "(4760, 17258)"
            ]
          },
          "metadata": {},
          "execution_count": 17
        }
      ]
    },
    {
      "cell_type": "code",
      "source": [
        "\n",
        "print(X)"
      ],
      "metadata": {
        "colab": {
          "base_uri": "https://localhost:8080/"
        },
        "id": "KHylQAaoCoyZ",
        "outputId": "863d04aa-1198-4605-a90c-c6674a3edb8b"
      },
      "execution_count": 18,
      "outputs": [
        {
          "output_type": "stream",
          "name": "stdout",
          "text": [
            "  (0, 617)\t0.1633382144407513\n",
            "  (0, 492)\t0.1432591540388685\n",
            "  (0, 15413)\t0.1465525095337543\n",
            "  (0, 9675)\t0.14226057295252661\n",
            "  (0, 9465)\t0.1659841367820977\n",
            "  (0, 1390)\t0.16898383612799558\n",
            "  (0, 7825)\t0.09799561597509843\n",
            "  (0, 1214)\t0.13865857545144072\n",
            "  (0, 729)\t0.13415063359531618\n",
            "  (0, 13093)\t0.1432591540388685\n",
            "  (0, 15355)\t0.10477815972666779\n",
            "  (0, 9048)\t0.0866842116160778\n",
            "  (0, 11161)\t0.06250380151644369\n",
            "  (0, 16773)\t0.17654247479915475\n",
            "  (0, 5612)\t0.08603537588547631\n",
            "  (0, 16735)\t0.10690083751525419\n",
            "  (0, 7904)\t0.13348000542112332\n",
            "  (0, 15219)\t0.09800472886453934\n",
            "  (0, 11242)\t0.07277788238484746\n",
            "  (0, 3878)\t0.11998399582562203\n",
            "  (0, 5499)\t0.11454057510303811\n",
            "  (0, 7071)\t0.19822417598406614\n",
            "  (0, 7454)\t0.14745635785412262\n",
            "  (0, 1495)\t0.19712637387361423\n",
            "  (0, 9206)\t0.15186283580984414\n",
            "  :\t:\n",
            "  (4757, 5455)\t0.12491480594769522\n",
            "  (4757, 2967)\t0.16273475835631626\n",
            "  (4757, 8464)\t0.23522565554066333\n",
            "  (4757, 6938)\t0.17088173678136628\n",
            "  (4757, 8379)\t0.17480603856721913\n",
            "  (4757, 15303)\t0.07654356007668191\n",
            "  (4757, 15384)\t0.09754322497537371\n",
            "  (4757, 7649)\t0.11479421494340192\n",
            "  (4757, 10896)\t0.14546473055066447\n",
            "  (4757, 4494)\t0.05675298448720501\n",
            "  (4758, 5238)\t1.0\n",
            "  (4759, 11264)\t0.33947721804318337\n",
            "  (4759, 11708)\t0.33947721804318337\n",
            "  (4759, 205)\t0.3237911628497312\n",
            "  (4759, 8902)\t0.3040290704566037\n",
            "  (4759, 14062)\t0.3237911628497312\n",
            "  (4759, 3058)\t0.2812896191863103\n",
            "  (4759, 7130)\t0.26419662449963793\n",
            "  (4759, 10761)\t0.3126617295732147\n",
            "  (4759, 4358)\t0.18306542312175342\n",
            "  (4759, 14051)\t0.20084315377640435\n",
            "  (4759, 5690)\t0.19534291014627303\n",
            "  (4759, 15431)\t0.19628653185946862\n",
            "  (4759, 1490)\t0.21197258705292082\n",
            "  (4759, 10666)\t0.15888268987343043\n"
          ]
        }
      ]
    },
    {
      "cell_type": "markdown",
      "source": [
        "Get Similarity Score using Cosine Similarity"
      ],
      "metadata": {
        "id": "S2BCL8kzCqv3"
      }
    },
    {
      "cell_type": "code",
      "source": [
        "from sklearn.metrics.pairwise import cosine_similarity"
      ],
      "metadata": {
        "id": "3jzNWeZhCr6y"
      },
      "execution_count": 19,
      "outputs": []
    },
    {
      "cell_type": "code",
      "source": [
        "Similarity_Score = cosine_similarity(X)"
      ],
      "metadata": {
        "id": "7UFN8b--CszE"
      },
      "execution_count": 20,
      "outputs": []
    },
    {
      "cell_type": "code",
      "source": [
        "Similarity_Score"
      ],
      "metadata": {
        "colab": {
          "base_uri": "https://localhost:8080/"
        },
        "id": "rmsX7qk0CuvH",
        "outputId": "b2aca4c0-b5bb-4dd8-e675-affca59a6b71"
      },
      "execution_count": 21,
      "outputs": [
        {
          "output_type": "execute_result",
          "data": {
            "text/plain": [
              "array([[1.        , 0.01351235, 0.03570468, ..., 0.        , 0.        ,\n",
              "        0.        ],\n",
              "       [0.01351235, 1.        , 0.00806674, ..., 0.        , 0.        ,\n",
              "        0.        ],\n",
              "       [0.03570468, 0.00806674, 1.        , ..., 0.        , 0.08014876,\n",
              "        0.        ],\n",
              "       ...,\n",
              "       [0.        , 0.        , 0.        , ..., 1.        , 0.        ,\n",
              "        0.        ],\n",
              "       [0.        , 0.        , 0.08014876, ..., 0.        , 1.        ,\n",
              "        0.        ],\n",
              "       [0.        , 0.        , 0.        , ..., 0.        , 0.        ,\n",
              "        1.        ]])"
            ]
          },
          "metadata": {},
          "execution_count": 21
        }
      ]
    },
    {
      "cell_type": "code",
      "source": [
        "Similarity_Score.shape"
      ],
      "metadata": {
        "colab": {
          "base_uri": "https://localhost:8080/"
        },
        "id": "tpPsH58TCwlF",
        "outputId": "082c525f-c02d-4952-a1a7-00e94323ddbc"
      },
      "execution_count": 22,
      "outputs": [
        {
          "output_type": "execute_result",
          "data": {
            "text/plain": [
              "(4760, 4760)"
            ]
          },
          "metadata": {},
          "execution_count": 22
        }
      ]
    },
    {
      "cell_type": "markdown",
      "source": [
        "Get Movie Name as Input from User and Validate for Closest Spelling"
      ],
      "metadata": {
        "id": "kWFXl-VMCx6v"
      }
    },
    {
      "cell_type": "code",
      "source": [
        "Favourite_Movie_Name=input(' Enter your favourite movie name : ')"
      ],
      "metadata": {
        "colab": {
          "base_uri": "https://localhost:8080/"
        },
        "id": "2cvkQQpJCzAH",
        "outputId": "74bc3abc-c0eb-42b3-acc7-a52e2db46693"
      },
      "execution_count": 23,
      "outputs": [
        {
          "name": "stdout",
          "output_type": "stream",
          "text": [
            " Enter your favourite movie name : infinity war\n"
          ]
        }
      ]
    },
    {
      "cell_type": "code",
      "source": [
        "All_Movies_Title_List = df[ 'Movie_Title'].tolist()"
      ],
      "metadata": {
        "id": "Yxl-cVyHC0Lk"
      },
      "execution_count": 24,
      "outputs": []
    },
    {
      "cell_type": "code",
      "source": [
        "\n",
        "import difflib"
      ],
      "metadata": {
        "id": "exzLKf4TC1CW"
      },
      "execution_count": 25,
      "outputs": []
    },
    {
      "cell_type": "code",
      "source": [
        "Movie_Recommendation = difflib.get_close_matches (Favourite_Movie_Name, All_Movies_Title_List) \n",
        "print (Movie_Recommendation)"
      ],
      "metadata": {
        "colab": {
          "base_uri": "https://localhost:8080/"
        },
        "id": "Ju6BQsSdC2Tt",
        "outputId": "ec8fe96f-a142-449d-a940-26a2e8b7a97f"
      },
      "execution_count": 26,
      "outputs": [
        {
          "output_type": "stream",
          "name": "stdout",
          "text": [
            "['Vanity Fair']\n"
          ]
        }
      ]
    },
    {
      "cell_type": "code",
      "source": [
        "Close_Match = Movie_Recommendation[0]\n",
        "print (Close_Match)"
      ],
      "metadata": {
        "colab": {
          "base_uri": "https://localhost:8080/"
        },
        "id": "UQ_vkmUnC3q5",
        "outputId": "33e8a924-42ad-455d-8fd6-d2fefb43a16f"
      },
      "execution_count": 27,
      "outputs": [
        {
          "output_type": "stream",
          "name": "stdout",
          "text": [
            "Vanity Fair\n"
          ]
        }
      ]
    },
    {
      "cell_type": "code",
      "source": [
        "Index_of_Close_Match_Movie =  df[df.Movie_Title==Close_Match]['Movie_ID'].values[0] \n",
        "print(Index_of_Close_Match_Movie)"
      ],
      "metadata": {
        "colab": {
          "base_uri": "https://localhost:8080/"
        },
        "id": "7BflyGZOC55F",
        "outputId": "b526fdc3-d992-4c00-825f-2df0661af1a4"
      },
      "execution_count": 28,
      "outputs": [
        {
          "output_type": "stream",
          "name": "stdout",
          "text": [
            "2005\n"
          ]
        }
      ]
    },
    {
      "cell_type": "code",
      "source": [
        "#getting a list of similar movies\n",
        "Recommendation_Score = list (enumerate (Similarity_Score[Index_of_Close_Match_Movie])) \n",
        "print(Recommendation_Score)"
      ],
      "metadata": {
        "colab": {
          "base_uri": "https://localhost:8080/"
        },
        "id": "Cnukg9IZC7ql",
        "outputId": "54260a37-d22a-4c3d-dbfe-189bef5009ce"
      },
      "execution_count": 29,
      "outputs": [
        {
          "output_type": "stream",
          "name": "stdout",
          "text": [
            "[(0, 0.024358736265803257), (1, 0.0), (2, 0.03303991044319317), (3, 0.04925409839205928), (4, 0.0), (5, 0.007781007439127512), (6, 0.0), (7, 0.018019897960876892), (8, 0.0), (9, 0.027506241560757393), (10, 0.008910726177592799), (11, 0.01669237535941731), (12, 0.008929158248612084), (13, 0.011576640298438067), (14, 0.01091650807388993), (15, 0.012547862637036852), (16, 0.0), (17, 0.0), (18, 0.008017803674579107), (19, 0.013125469973682736), (20, 0.0), (21, 0.0), (22, 0.017050718455621464), (23, 0.0), (24, 0.0), (25, 0.02753893075694212), (26, 0.0), (27, 0.0), (28, 0.012112493803541173), (29, 0.02091751155716106), (30, 0.0), (31, 0.0), (32, 0.024005651438369285), (33, 0.007389490938351402), (34, 0.01816690388767786), (35, 0.035699081391166336), (36, 0.0), (37, 0.022899421560974187), (38, 0.013633542401740233), (39, 0.04444549924951041), (40, 0.01926306658661004), (41, 0.0153225442379002), (42, 0.011585196854637296), (43, 0.012486772924974866), (44, 0.011324346231727069), (45, 0.037153283431116554), (46, 0.0), (47, 0.0), (48, 0.009213192132085664), (49, 0.049159451812781536), (50, 0.0035238877523859524), (51, 0.0), (52, 0.007417698858152891), (53, 0.003381289105100394), (54, 0.02560857741340103), (55, 0.0), (56, 0.030877295254280866), (57, 0.04312729648043354), (58, 0.01351599258357188), (59, 0.003676395259585072), (60, 0.0218423585207952), (61, 0.0), (62, 0.03003911401055003), (63, 0.010826963821428774), (64, 0.013500718166373861), (65, 0.008291819216237716), (66, 0.007742791810512761), (67, 0.047418599064652636), (68, 0.0), (69, 0.0), (70, 0.0), (71, 0.0), (72, 0.008109302775664158), (73, 0.003089270614141211), (74, 0.017785658289883263), (75, 0.0346079304469019), (76, 0.006330047156069956), (77, 0.0), (78, 0.030039065052204144), (79, 0.039301251601613185), (80, 0.007661448776135218), (81, 0.0), (82, 0.036045091104912184), (83, 0.022258879360662693), (84, 0.00818698429059224), (85, 0.013087201111038688), (86, 0.02195931768345847), (87, 0.0), (88, 0.00689655289358116), (89, 0.0), (90, 0.0), (91, 0.02778856993798502), (92, 0.0), (93, 0.0), (94, 0.0076786238771008), (95, 0.0), (96, 0.007738834899197381), (97, 0.007337843567242328), (98, 0.0), (99, 0.0), (100, 0.01506053876597261), (101, 0.018542180053846162), (102, 0.009135119371339978), (103, 0.0030906625245486863), (104, 0.0221042270291023), (105, 0.034071179586252685), (106, 0.03335283575983557), (107, 0.0), (108, 0.06251137930633067), (109, 0.01356277446427623), (110, 0.012192603951009573), (111, 0.007206681720320161), (112, 0.024857982193255346), (113, 0.04140059813601131), (114, 0.00357169689568241), (115, 0.019513958450594428), (116, 0.01299650347279816), (117, 0.0), (118, 0.0), (119, 0.02975365572489931), (120, 0.0), (121, 0.0), (122, 0.015405018240366492), (123, 0.009148194203305576), (124, 0.0471979279004905), (125, 0.01557400466846613), (126, 0.0), (127, 0.0), (128, 0.0), (129, 0.0024917449205635145), (130, 0.04747329542091315), (131, 0.030114044683635533), (132, 0.0), (133, 0.0), (134, 0.003645169487220626), (135, 0.030467246649423442), (136, 0.0), (137, 0.03060193579277594), (138, 0.024791870077382958), (139, 0.0040035549652622055), (140, 0.0), (141, 0.003919369921104198), (142, 0.011255386171834207), (143, 0.039541411272310006), (144, 0.012928078535519113), (145, 0.0), (146, 0.052365156527097195), (147, 0.011769656733030412), (148, 0.038727176621580414), (149, 0.0), (150, 0.008185119926408982), (151, 0.0718462914373661), (152, 0.008120095335996029), (153, 0.014021372557560379), (154, 0.0), (155, 0.02751873003327981), (156, 0.020742608706376554), (157, 0.003398424341473047), (158, 0.0), (159, 0.023735526001764828), (160, 0.0), (161, 0.03463658405491375), (162, 0.02755145774850325), (163, 0.014171209975507732), (164, 0.012944745571622963), (165, 0.014456500574052155), (166, 0.007384558799686627), (167, 0.0), (168, 0.017263355774364927), (169, 0.01172102789767292), (170, 0.015152137161930809), (171, 0.007937089727009565), (172, 0.0), (173, 0.01425768515495279), (174, 0.016961928524434886), (175, 0.02156090304157028), (176, 0.0), (177, 0.02585332922772173), (178, 0.0), (179, 0.0080371501094606), (180, 0.0), (181, 0.0), (182, 0.05377999763787323), (183, 0.0124764273526757), (184, 0.007363056803786063), (185, 0.01623468672470258), (186, 0.006992485986819234), (187, 0.0), (188, 0.0035450096958181557), (189, 0.022918502596255177), (190, 0.0), (191, 0.02184258641971508), (192, 0.009043612511167878), (193, 0.02258575676741545), (194, 0.0), (195, 0.02306901191810473), (196, 0.013032392727879429), (197, 0.01621425520094001), (198, 0.0), (199, 0.012404328271857628), (200, 0.012167560475906595), (201, 0.008723882069810174), (202, 0.01840521676420883), (203, 0.0), (204, 0.011832810403732894), (205, 0.011993262971493196), (206, 0.0), (207, 0.0), (208, 0.014442854470368173), (209, 0.022164536193950597), (210, 0.0), (211, 0.016199464345108487), (212, 0.034639943552838434), (213, 0.0), (214, 0.025837392873429375), (215, 0.019341800033803768), (216, 0.008668737706877809), (217, 0.0034779726000170666), (218, 0.01257168607365181), (219, 0.00363058874776032), (220, 0.017680081332239347), (221, 0.01590009047566198), (222, 0.046025939999833364), (223, 0.008051766982647007), (224, 0.0), (225, 0.01782399955416722), (226, 0.0), (227, 0.00829100784784318), (228, 0.026475339659948444), (229, 0.0), (230, 0.01324823519654138), (231, 0.04683854928789159), (232, 0.023649771475303782), (233, 0.0), (234, 0.007196372342485116), (235, 0.0), (236, 0.0), (237, 0.013077395371554834), (238, 0.02144598230645162), (239, 0.008869090160124786), (240, 0.014920231623123788), (241, 0.0), (242, 0.01849522944399288), (243, 0.026813034006050267), (244, 0.0), (245, 0.003660149764256022), (246, 0.007589597140210055), (247, 0.0), (248, 0.012585208872645729), (249, 0.042410132736433084), (250, 0.009356522381680629), (251, 0.025993434507459192), (252, 0.0241003918040327), (253, 0.0039013030340057783), (254, 0.0), (255, 0.0), (256, 0.0), (257, 0.0), (258, 0.013864299203481617), (259, 0.02434087988867251), (260, 0.007930869638785872), (261, 0.00806730882626922), (262, 0.0), (263, 0.05302010841992046), (264, 0.0257355830026404), (265, 0.0), (266, 0.029768325626692477), (267, 0.0), (268, 0.0), (269, 0.06821694497759775), (270, 0.008113538621816619), (271, 0.010425819135157291), (272, 0.008359065454826765), (273, 0.01320143572084314), (274, 0.02093695959218578), (275, 0.0), (276, 0.0), (277, 0.033477432882879674), (278, 0.01877801289576271), (279, 0.011168250406442821), (280, 0.021908125451623683), (281, 0.03402994242250873), (282, 0.013402061603843198), (283, 0.009955431758856489), (284, 0.024624188652961086), (285, 0.0), (286, 0.0), (287, 0.03630231288227509), (288, 0.04716986119433398), (289, 0.0), (290, 0.0), (291, 0.007621633858394103), (292, 0.0213113226522365), (293, 0.005945298052546692), (294, 0.012834692655218086), (295, 0.0), (296, 0.020391803066571533), (297, 0.017692242022746173), (298, 0.008734570089849578), (299, 0.00836021578049926), (300, 0.012960557554735115), (301, 0.023235403510593552), (302, 0.014102162820808156), (303, 0.0), (304, 0.0), (305, 0.008353450097725005), (306, 0.022555781400338884), (307, 0.01276047432280325), (308, 0.0), (309, 0.030291793422160436), (310, 0.016067276351939025), (311, 0.003349245279316591), (312, 0.0035929934035032135), (313, 0.014098499196224206), (314, 0.00650325558900323), (315, 0.007781784763013679), (316, 0.016180572485527636), (317, 0.030616959574493806), (318, 0.003899557692322706), (319, 0.01662615166409958), (320, 0.0), (321, 0.020734038094850547), (322, 0.0210353532788636), (323, 0.0), (324, 0.014857067724427117), (325, 0.010702909295810633), (326, 0.0), (327, 0.019704364246756003), (328, 0.04266652326258734), (329, 0.026393857506079275), (330, 0.05451464957361914), (331, 0.007088032860180078), (332, 0.02037243227540562), (333, 0.006900523340521389), (334, 0.034931633460973555), (335, 0.0077301227402115456), (336, 0.024309361637808845), (337, 0.03494873172245501), (338, 0.02559083035472572), (339, 0.0034530913764625718), (340, 0.01461662548499863), (341, 0.047481246545976755), (342, 0.023928408803270934), (343, 0.05343031156780004), (344, 0.01630013087282676), (345, 0.011562309056146062), (346, 0.025372104339128215), (347, 0.008389877661119378), (348, 0.008277242070938018), (349, 0.0), (350, 0.07960228723700512), (351, 0.0027223950644015473), (352, 0.007599663264434381), (353, 0.02230879509010627), (354, 0.048679889361947205), (355, 0.0), (356, 0.03834512994377601), (357, 0.030899449190801963), (358, 0.02646168287488903), (359, 0.0), (360, 0.007361289065985758), (361, 0.01266375143495438), (362, 0.003939711240874569), (363, 0.01876458467372333), (364, 0.0), (365, 0.00396256317044733), (366, 0.009236606126414056), (367, 0.003418351657048075), (368, 0.014319890764290456), (369, 0.009130224510546323), (370, 0.0), (371, 0.009200980725737348), (372, 0.02841212119624572), (373, 0.0), (374, 0.026844111136723244), (375, 0.0), (376, 0.0), (377, 0.003676572750505509), (378, 0.0), (379, 0.0), (380, 0.00960580381904182), (381, 0.006829349122735803), (382, 0.0), (383, 0.0031802022695857387), (384, 0.008232426529552774), (385, 0.012538208267291982), (386, 0.014165580771671519), (387, 0.00788594137810426), (388, 0.007893479937405367), (389, 0.0), (390, 0.0), (391, 0.004570064884718557), (392, 0.012672365621348233), (393, 0.0031599596660712615), (394, 0.006629939102763714), (395, 0.014774180422946447), (396, 0.0), (397, 0.0), (398, 0.0035931162742060766), (399, 0.0), (400, 0.017298330138459835), (401, 0.003616526948560359), (402, 0.016584088068484812), (403, 0.025704983680391993), (404, 0.003462862052085083), (405, 0.012142253096457776), (406, 0.013879694600717772), (407, 0.04195789457235937), (408, 0.00790547031860598), (409, 0.028898657532582715), (410, 0.014996630083417006), (411, 0.020314167422957566), (412, 0.024776470100316618), (413, 0.022147342888188273), (414, 0.01289549531311365), (415, 0.003768958066256945), (416, 0.01420210736418768), (417, 0.02915630520162272), (418, 0.021463332103368735), (419, 0.0), (420, 0.008991212596223711), (421, 0.009226417331187727), (422, 0.0033714619401756696), (423, 0.0), (424, 0.009494002501862326), (425, 0.009485765398760627), (426, 0.007820897247992118), (427, 0.01144292203361348), (428, 0.027380374082809793), (429, 0.019110314218617423), (430, 0.0), (431, 0.004208187513828013), (432, 0.0), (433, 0.03986595653832463), (434, 0.017250816245786917), (435, 0.0), (436, 0.0), (437, 0.025816638608730003), (438, 0.0), (439, 0.016024624557260593), (440, 0.0), (441, 0.025061264415661366), (442, 0.02910791998780211), (443, 0.0), (444, 0.015343163109637441), (445, 0.018287286988136593), (446, 0.013270798258376331), (447, 0.008055602074179264), (448, 0.00965130964508774), (449, 0.012303604738197556), (450, 0.0), (451, 0.00779143516804926), (452, 0.03938519577980045), (453, 0.0), (454, 0.01107200760233814), (455, 0.012939283406088548), (456, 0.06463558871605662), (457, 0.0), (458, 0.0), (459, 0.003495824931557259), (460, 0.016645398093093507), (461, 0.004225640199903735), (462, 0.0), (463, 0.01979760567079426), (464, 0.021115208623347696), (465, 0.024839616471501545), (466, 0.007669839662619113), (467, 0.0), (468, 0.0127301207995937), (469, 0.020231474851596945), (470, 0.028871273396212208), (471, 0.003332279956437254), (472, 0.06163414673338328), (473, 0.019725231880559038), (474, 0.0037493930249288274), (475, 0.0337775842391635), (476, 0.015115795934511405), (477, 0.024191162944870413), (478, 0.02063686660410807), (479, 0.003564089643857114), (480, 0.0), (481, 0.014975350492004491), (482, 0.014199449593568718), (483, 0.008828423400463734), (484, 0.011146753018357262), (485, 0.008313785327550746), (486, 0.015479891555497389), (487, 0.0), (488, 0.0), (489, 0.05869292510841517), (490, 0.0), (491, 0.009775202247945265), (492, 0.015049791076969242), (493, 0.0), (494, 0.003584683118203756), (495, 0.007395487758000251), (496, 0.04464486108751997), (497, 0.010616262658499524), (498, 0.02992457894306677), (499, 0.0), (500, 0.01630604282883496), (501, 0.006966416963339141), (502, 0.0), (503, 0.003471122062709729), (504, 0.012001964982167272), (505, 0.0033898189816911374), (506, 0.06939620381897563), (507, 0.01120181237805701), (508, 0.06543405697314887), (509, 0.0), (510, 0.01573721169286514), (511, 0.039459974811168766), (512, 0.00993818440152526), (513, 0.0), (514, 0.0), (515, 0.0032164233517148347), (516, 0.0), (517, 0.02620514480251658), (518, 0.0), (519, 0.012011604638787341), (520, 0.009896288284544141), (521, 0.024584014653028372), (522, 0.0), (523, 0.031879881321854035), (524, 0.015341376111823027), (525, 0.011865997234916615), (526, 0.0), (527, 0.021539604402500405), (528, 0.011532624772867223), (529, 0.031582997240335996), (530, 0.016461880598844857), (531, 0.030461651995696355), (532, 0.0033134651100360985), (533, 0.0), (534, 0.0), (535, 0.011175642830920391), (536, 0.003797493120899617), (537, 0.031159853812961692), (538, 0.03918199037739986), (539, 0.0), (540, 0.01543434533563767), (541, 0.0), (542, 0.0054402151484859666), (543, 0.0), (544, 0.0), (545, 0.01729501904912701), (546, 0.00344284939604527), (547, 0.018519366609999532), (548, 0.007841010377036916), (549, 0.007757893410029183), (550, 0.0), (551, 0.036940518139862606), (552, 0.0), (553, 0.056107842967708946), (554, 0.0), (555, 0.06424869648079409), (556, 0.025125696747989704), (557, 0.03343881196646174), (558, 0.0), (559, 0.0), (560, 0.008386852632121387), (561, 0.04658161364601901), (562, 0.01679037099922137), (563, 0.03882498194535139), (564, 0.0), (565, 0.0), (566, 0.04387151664666605), (567, 0.0), (568, 0.028127507500082208), (569, 0.0224312117806671), (570, 0.03652743019871864), (571, 0.0), (572, 0.0), (573, 0.0), (574, 0.0), (575, 0.018566655581161544), (576, 0.0), (577, 0.046296959584626034), (578, 0.03526290757871408), (579, 0.021315001490147367), (580, 0.0), (581, 0.0), (582, 0.04315478948417764), (583, 0.03341569026919136), (584, 0.014248476761367465), (585, 0.011476395376480873), (586, 0.0037170073198167014), (587, 0.04145483414476221), (588, 0.02299785725708619), (589, 0.003307000320037314), (590, 0.007706550329296863), (591, 0.0), (592, 0.0), (593, 0.0), (594, 0.04508039655966456), (595, 0.0), (596, 0.0), (597, 0.034778108457677176), (598, 0.0), (599, 0.008796711066147803), (600, 0.023113051783730458), (601, 0.0), (602, 0.0), (603, 0.00889354515549517), (604, 0.0), (605, 0.00313981414715085), (606, 0.0), (607, 0.0), (608, 0.0), (609, 0.07821411389695515), (610, 0.00831351955808322), (611, 0.0), (612, 0.00823679308063471), (613, 0.00824178670136633), (614, 0.00959367569515679), (615, 0.02275375702045953), (616, 0.03428766822692667), (617, 0.011626166332846272), (618, 0.021443858299133325), (619, 0.0), (620, 0.026132312522251303), (621, 0.018214785201200803), (622, 0.016486908914476062), (623, 0.0), (624, 0.0), (625, 0.0), (626, 0.0), (627, 0.0), (628, 0.0), (629, 0.014828521800077852), (630, 0.003605457941310673), (631, 0.04053550479931627), (632, 0.003224993395809262), (633, 0.0), (634, 0.013527456218894757), (635, 0.033110480034070196), (636, 0.0), (637, 0.008033671212734465), (638, 0.007150180252701326), (639, 0.007060656265759272), (640, 0.020494423952376405), (641, 0.009741793278931673), (642, 0.03227270826280758), (643, 0.02128521325510701), (644, 0.007943128941608948), (645, 0.006336220660658909), (646, 0.0), (647, 0.0), (648, 0.028762190397213592), (649, 0.0033817911797404737), (650, 0.0), (651, 0.013133991800369808), (652, 0.0), (653, 0.03380595876183706), (654, 0.008812820257848792), (655, 0.00724456956191282), (656, 0.0226172916391971), (657, 0.04985996941698524), (658, 0.015755667691495768), (659, 0.010550285830219256), (660, 0.019047460165855835), (661, 0.007843903047968863), (662, 0.01098152944493603), (663, 0.0), (664, 0.022888316171701204), (665, 0.03320304589980859), (666, 0.00940911640230896), (667, 0.0037515538904367737), (668, 0.017509402480000737), (669, 0.036988637297233784), (670, 0.0), (671, 0.017731844959326944), (672, 0.0031818596246598065), (673, 0.0), (674, 0.0), (675, 0.009118588049716481), (676, 0.0), (677, 0.009163601579756165), (678, 0.0038900485327524755), (679, 0.013053216842511442), (680, 0.008892381397093174), (681, 0.029232349621649237), (682, 0.0), (683, 0.009439592736752355), (684, 0.02838922221295273), (685, 0.0171789617841869), (686, 0.015219116724998356), (687, 0.013235757110874673), (688, 0.008593997958311287), (689, 0.029560455466386422), (690, 0.018317648615401912), (691, 0.027394995775046706), (692, 0.026211576775618056), (693, 0.0), (694, 0.0), (695, 0.0), (696, 0.00780878435448727), (697, 0.017244080535936276), (698, 0.0), (699, 0.027422330310213947), (700, 0.046821914001827294), (701, 0.009333819756096783), (702, 0.010596741482999012), (703, 0.00316964024644245), (704, 0.009041178681534787), (705, 0.012043622979513396), (706, 0.0631446489542733), (707, 0.017685782072054013), (708, 0.0036815328578646183), (709, 0.03124961612246926), (710, 0.02316022694014581), (711, 0.004191396319844833), (712, 0.010006647329343536), (713, 0.007385972076127018), (714, 0.0), (715, 0.015011894687869192), (716, 0.0), (717, 0.008719716217846276), (718, 0.0), (719, 0.0373142168408887), (720, 0.0034318931335565682), (721, 0.0), (722, 0.0075132066973136995), (723, 0.021235373294003927), (724, 0.0), (725, 0.018827154309427784), (726, 0.02994043485529168), (727, 0.016430156970439414), (728, 0.0), (729, 0.0), (730, 0.0036741842110349214), (731, 0.023995335602856587), (732, 0.012144281674152943), (733, 0.021181672764249385), (734, 0.01274053599138737), (735, 0.03144398745169793), (736, 0.012009859464913003), (737, 0.03282414364991301), (738, 0.026558432717960177), (739, 0.015713206362054834), (740, 0.007598095534305016), (741, 0.010164699786696277), (742, 0.020647569670050644), (743, 0.0589441164006369), (744, 0.007732655717650519), (745, 0.0032991773700062807), (746, 0.0), (747, 0.009322308198707111), (748, 0.04183392254017506), (749, 0.016733183057170448), (750, 0.0), (751, 0.0043059140023584165), (752, 0.02170416680389991), (753, 0.008993006425544597), (754, 0.023358472362858873), (755, 0.003467776522680991), (756, 0.0333389457749907), (757, 0.04462092077672404), (758, 0.05327556958647228), (759, 0.0032488342378352237), (760, 0.0040934867410881304), (761, 0.0), (762, 0.03807856567916756), (763, 0.04511289546404813), (764, 0.005207733591441364), (765, 0.008837016395537267), (766, 0.012587430750279417), (767, 0.015291007182825814), (768, 0.024340469900385565), (769, 0.008252103658886801), (770, 0.003295818681638704), (771, 0.024808610880193586), (772, 0.0034232163412349008), (773, 0.024861820614879827), (774, 0.0), (775, 0.03360882861718369), (776, 0.014145319438091325), (777, 0.0), (778, 0.047916691721255934), (779, 0.02207131882601822), (780, 0.01930577013526973), (781, 0.02890394686882606), (782, 0.02107774741351666), (783, 0.0), (784, 0.003699865208401874), (785, 0.028065978750767082), (786, 0.009486326318750404), (787, 0.02547814200877896), (788, 0.035934956349092974), (789, 0.013495740276814041), (790, 0.025777823404007243), (791, 0.0), (792, 0.008894427736207595), (793, 0.003705810427575774), (794, 0.04428520869974231), (795, 0.004217514601667035), (796, 0.0), (797, 0.011820530524584186), (798, 0.015958891976858316), (799, 0.0), (800, 0.012227712520136706), (801, 0.007106423279624441), (802, 0.008488614995730117), (803, 0.022419997790109638), (804, 0.0), (805, 0.007732156779213536), (806, 0.008005993015470888), (807, 0.018464686349526062), (808, 0.02398607271610351), (809, 0.02193082510360818), (810, 0.03324074414853161), (811, 0.03176672300724588), (812, 0.012863064886129549), (813, 0.018782453867213562), (814, 0.039583923251917785), (815, 0.0), (816, 0.0), (817, 0.013164819423663364), (818, 0.04446127531750838), (819, 0.0), (820, 0.017390987870575324), (821, 0.02338485368455416), (822, 0.01137415058885194), (823, 0.0), (824, 0.007887214503527015), (825, 0.0), (826, 0.0), (827, 0.007359727350770907), (828, 0.0), (829, 0.014807826590503548), (830, 0.0), (831, 0.022594102993039936), (832, 0.008501901608104798), (833, 0.012731643751324373), (834, 0.013493232029100015), (835, 0.01286255882145917), (836, 0.003145731383450001), (837, 0.016760006927084396), (838, 0.012649805238702225), (839, 0.004031521350536284), (840, 0.02774080487410242), (841, 0.00391811344237406), (842, 0.0043631425010485165), (843, 0.01118750307582554), (844, 0.0146631133292713), (845, 0.008121829757789285), (846, 0.011597562127802248), (847, 0.029280507762556824), (848, 0.0), (849, 0.0035659494016534368), (850, 0.022361726843481783), (851, 0.060647768225916596), (852, 0.023995407434498222), (853, 0.028979761889399026), (854, 0.01538368858852966), (855, 0.0), (856, 0.0), (857, 0.0), (858, 0.0), (859, 0.01070624161291578), (860, 0.0), (861, 0.015034062290726785), (862, 0.0782690692678832), (863, 0.0), (864, 0.022195474028644788), (865, 0.007965825888989872), (866, 0.020574762268618405), (867, 0.030331421467555315), (868, 0.0), (869, 0.0036585613439766855), (870, 0.07453990769786535), (871, 0.017938413180678056), (872, 0.018562017464585814), (873, 0.024658721083583045), (874, 0.041209269542884314), (875, 0.0), (876, 0.03916725540428232), (877, 0.0), (878, 0.007897605891379706), (879, 0.003722753892620772), (880, 0.0), (881, 0.02638377782642042), (882, 0.007411982875800353), (883, 0.011396015613813355), (884, 0.0037124857409453886), (885, 0.010700533968397475), (886, 0.003345306475299653), (887, 0.014972954953607684), (888, 0.0), (889, 0.0), (890, 0.012442071198574147), (891, 0.01697977765501343), (892, 0.009812140785628597), (893, 0.0), (894, 0.015968064675891756), (895, 0.0729350811159847), (896, 0.028394895510098654), (897, 0.022132608827561087), (898, 0.03767285439636308), (899, 0.032788539659570154), (900, 0.012719525074159008), (901, 0.035490266790254056), (902, 0.014125659111053577), (903, 0.0033448132585716032), (904, 0.014043254085549666), (905, 0.004127759116941334), (906, 0.027094312389737578), (907, 0.010970839830747207), (908, 0.038741101364640096), (909, 0.0), (910, 0.0), (911, 0.015843219792538853), (912, 0.009959546326263037), (913, 0.008869375921548435), (914, 0.0), (915, 0.008045961993472607), (916, 0.03983671413161627), (917, 0.0), (918, 0.016681611553328916), (919, 0.02249115278113123), (920, 0.010397661416877957), (921, 0.012661013835166969), (922, 0.0), (923, 0.0034363554188025463), (924, 0.01913302817673643), (925, 0.004102950483682921), (926, 0.008833935362753042), (927, 0.0), (928, 0.008725729036813677), (929, 0.017659768451570364), (930, 0.032366143151842074), (931, 0.011921631918212647), (932, 0.0), (933, 0.003644224207475169), (934, 0.04003790410395683), (935, 0.023331935994079435), (936, 0.012240447962317944), (937, 0.0), (938, 0.019734465163765938), (939, 0.010683047880013001), (940, 0.012018144724487763), (941, 0.0033420704958491026), (942, 0.0), (943, 0.0035768570972784072), (944, 0.01282955299541446), (945, 0.03178330351122397), (946, 0.011271035370675184), (947, 0.0), (948, 0.015021159306152837), (949, 0.016181412849694387), (950, 0.0), (951, 0.003012318676304948), (952, 0.04411726953339788), (953, 0.00624633789224847), (954, 0.0), (955, 0.004207289908802815), (956, 0.012409268058851775), (957, 0.051679298799220154), (958, 0.01569579070185803), (959, 0.017711304232160222), (960, 0.014614458888068543), (961, 0.0036918966967600863), (962, 0.02875666669871619), (963, 0.04122037941906121), (964, 0.002974701130792712), (965, 0.0035604999671402858), (966, 0.020739369261867473), (967, 0.0), (968, 0.02464639796338326), (969, 0.02146181813070375), (970, 0.021573261725676158), (971, 0.02026480790450857), (972, 0.0027331914704337335), (973, 0.019991417393473838), (974, 0.007827490374419838), (975, 0.017070347536228755), (976, 0.0), (977, 0.0), (978, 0.021510751168118177), (979, 0.024205988416909976), (980, 0.0), (981, 0.022039730160995728), (982, 0.02232141499154382), (983, 0.0035046289082352323), (984, 0.010773574163640845), (985, 0.004081874311494299), (986, 0.0), (987, 0.00804662948690199), (988, 0.008305186914601278), (989, 0.0), (990, 0.003919847418764592), (991, 0.0), (992, 0.0), (993, 0.051586572872302214), (994, 0.013993991884442798), (995, 0.02806952638003557), (996, 0.0050352124048159705), (997, 0.012384579992596505), (998, 0.00404514307276032), (999, 0.004041832405086173), (1000, 0.007520722890229138), (1001, 0.015938428213789674), (1002, 0.051454891239490784), (1003, 0.0), (1004, 0.024685220033427557), (1005, 0.02318045619366231), (1006, 0.057605989857282866), (1007, 0.003756535569993513), (1008, 0.0030576346967576733), (1009, 0.018950717014773473), (1010, 0.010090169616135585), (1011, 0.009443102530225914), (1012, 0.013476577458140574), (1013, 0.003770392052788557), (1014, 0.015761103898623348), (1015, 0.01470553639419185), (1016, 0.03136412798534148), (1017, 0.013222810868596559), (1018, 0.03116265703800389), (1019, 0.01290930276595788), (1020, 0.01305151935230833), (1021, 0.017105036591691224), (1022, 0.057866309755106794), (1023, 0.015291821191877346), (1024, 0.0037165023119999675), (1025, 0.010631082914243173), (1026, 0.02670738847449929), (1027, 0.01743647978807467), (1028, 0.003521725548299032), (1029, 0.019201877630886946), (1030, 0.0), (1031, 0.008890203796060188), (1032, 0.0), (1033, 0.08352599202821107), (1034, 0.007429421013476242), (1035, 0.015659684880828237), (1036, 0.007316874194948705), (1037, 0.011066351402981692), (1038, 0.0032589228072415826), (1039, 0.015203292254961018), (1040, 0.0027869979184493277), (1041, 0.022979749031118324), (1042, 0.006479293936725334), (1043, 0.024003816341549897), (1044, 0.039705354864075774), (1045, 0.0), (1046, 0.007101999467662188), (1047, 0.012429550380903653), (1048, 0.022825824319448337), (1049, 0.004231188067931576), (1050, 0.0), (1051, 0.0), (1052, 0.020489239019552973), (1053, 0.021447392299559175), (1054, 0.007895538579735087), (1055, 0.0), (1056, 0.009097485550765469), (1057, 0.0), (1058, 0.0), (1059, 0.008276903222907516), (1060, 0.01613498614398526), (1061, 0.05179109986279855), (1062, 0.015957071371930424), (1063, 0.0), (1064, 0.0), (1065, 0.0), (1066, 0.015402054264488827), (1067, 0.0), (1068, 0.03304854618660981), (1069, 0.015220695624589282), (1070, 0.003049825260735529), (1071, 0.035692310126452916), (1072, 0.0), (1073, 0.003392445696752554), (1074, 0.03473729414247697), (1075, 0.0484005236405947), (1076, 0.00747818820738673), (1077, 0.022440302136682393), (1078, 0.0029716214474836927), (1079, 0.017549663550159713), (1080, 0.012396511248634497), (1081, 0.0), (1082, 0.0), (1083, 0.0), (1084, 0.011098226544740014), (1085, 0.0036377245019686847), (1086, 0.007245990675256412), (1087, 0.030832131849160706), (1088, 0.0030503270801730677), (1089, 0.003923103743273963), (1090, 0.06799944072645289), (1091, 0.021303377161664395), (1092, 0.011477625515240519), (1093, 0.019004683013597583), (1094, 0.016805423052150312), (1095, 0.027102506016425783), (1096, 0.013234817622020714), (1097, 0.0), (1098, 0.014869216310669675), (1099, 0.03884303110632437), (1100, 0.0035092476229070316), (1101, 0.0), (1102, 0.0), (1103, 0.024813907723824982), (1104, 0.00880093799381414), (1105, 0.020592724366013445), (1106, 0.07726678057049324), (1107, 0.0), (1108, 0.017691282326286074), (1109, 0.04172624671637591), (1110, 0.013535363557857437), (1111, 0.03099083478092709), (1112, 0.0035540354564070962), (1113, 0.03837367436061222), (1114, 0.03276179336819448), (1115, 0.0028672025574008895), (1116, 0.02263068470116112), (1117, 0.04459041102014754), (1118, 0.04462721501377313), (1119, 0.008282875949082377), (1120, 0.0071287916649520255), (1121, 0.0), (1122, 0.007898265309200481), (1123, 0.0), (1124, 0.017803329810191053), (1125, 0.020951429131435162), (1126, 0.0035235494693037737), (1127, 0.0), (1128, 0.013330082382009481), (1129, 0.0634141693692492), (1130, 0.06447675822776237), (1131, 0.0), (1132, 0.024538601713682027), (1133, 0.003560629905943661), (1134, 0.015737079284687417), (1135, 0.0), (1136, 0.026587326144197905), (1137, 0.006369502625859898), (1138, 0.0), (1139, 0.04681334660018224), (1140, 0.017259531999973498), (1141, 0.01453820690465163), (1142, 0.003738230042967795), (1143, 0.01586363771861104), (1144, 0.028491047662304165), (1145, 0.0), (1146, 0.08848765579910595), (1147, 0.0), (1148, 0.0), (1149, 0.0032895306660207222), (1150, 0.00901868287821509), (1151, 0.0), (1152, 0.0033081755209771586), (1153, 0.0025018768900479786), (1154, 0.0), (1155, 0.012373167625113276), (1156, 0.002929280490135526), (1157, 0.043028381612101006), (1158, 0.0), (1159, 0.0), (1160, 0.0), (1161, 0.0), (1162, 0.02968356859598163), (1163, 0.0), (1164, 0.0), (1165, 0.0036962316328166666), (1166, 0.003637341179327583), (1167, 0.0), (1168, 0.04311246477161354), (1169, 0.004176203927802124), (1170, 0.011943271885806956), (1171, 0.020047864727115478), (1172, 0.027407602421641218), (1173, 0.03556888843706414), (1174, 0.0), (1175, 0.0), (1176, 0.0), (1177, 0.0), (1178, 0.010134377776793088), (1179, 0.00836040545632326), (1180, 0.01387355347971885), (1181, 0.0), (1182, 0.013879759200685758), (1183, 0.0), (1184, 0.02080253253297652), (1185, 0.008809307219468498), (1186, 0.014153891675510975), (1187, 0.004192415214217145), (1188, 0.0), (1189, 0.0), (1190, 0.003392513679488519), (1191, 0.024577604476965588), (1192, 0.046202068264053604), (1193, 0.00373912598602943), (1194, 0.022308985359750618), (1195, 0.02276891746998707), (1196, 0.04267864757321342), (1197, 0.0071329577856180755), (1198, 0.0035321440822369834), (1199, 0.0031477604116281854), (1200, 0.019817442097818896), (1201, 0.008082393581020034), (1202, 0.0), (1203, 0.0033503355882702128), (1204, 0.0036203961811192486), (1205, 0.0037967356436948), (1206, 0.020533712167498268), (1207, 0.007411495847529361), (1208, 0.015209506599560293), (1209, 0.0), (1210, 0.024320746375903656), (1211, 0.003381161104735905), (1212, 0.00307833653601747), (1213, 0.0031345346461503355), (1214, 0.03943941604222733), (1215, 0.02544221199148162), (1216, 0.02598251142102137), (1217, 0.0030978678216554527), (1218, 0.007976765190832843), (1219, 0.02331797333923272), (1220, 0.019825361889272815), (1221, 0.0198511133925522), (1222, 0.017626971072392163), (1223, 0.01618183743322557), (1224, 0.02275933248180419), (1225, 0.008184166552375841), (1226, 0.013467026279422737), (1227, 0.003564682330412519), (1228, 0.0), (1229, 0.022475400019362997), (1230, 0.0), (1231, 0.003419333876865976), (1232, 0.0035958290921915223), (1233, 0.008128512255582655), (1234, 0.022266091844128783), (1235, 0.022364249648250047), (1236, 0.0), (1237, 0.0), (1238, 0.15541350120533642), (1239, 0.04889168342912452), (1240, 0.0), (1241, 0.013747709041476971), (1242, 0.021065700172934), (1243, 0.0038920335064213164), (1244, 0.00368063842341892), (1245, 0.0), (1246, 0.012887857499225858), (1247, 0.0), (1248, 0.0), (1249, 0.04013354285533211), (1250, 0.022387918156318888), (1251, 0.0031575744654239878), (1252, 0.0), (1253, 0.019187561209178656), (1254, 0.06291740179256519), (1255, 0.020297086266835837), (1256, 0.01069404128898772), (1257, 0.05093482945833494), (1258, 0.0), (1259, 0.02292745290985577), (1260, 0.025686927176772248), (1261, 0.003454828987291855), (1262, 0.02190700835905922), (1263, 0.019189316911506694), (1264, 0.0), (1265, 0.0), (1266, 0.022409655084028784), (1267, 0.04231091516024033), (1268, 0.0028566696310986504), (1269, 0.0), (1270, 0.02244331553285499), (1271, 0.03106155634799099), (1272, 0.01917304493552719), (1273, 0.007957852833818538), (1274, 0.007940844042060257), (1275, 0.0), (1276, 0.0), (1277, 0.008921215740242364), (1278, 0.05178237890169114), (1279, 0.039724402479944375), (1280, 0.02072096741330365), (1281, 0.0), (1282, 0.17624821810940766), (1283, 0.0), (1284, 0.011025532318382918), (1285, 0.0), (1286, 0.003498184688825879), (1287, 0.0), (1288, 0.010854538448605884), (1289, 0.05680295952089971), (1290, 0.0), (1291, 0.01879592932270697), (1292, 0.022644565923934174), (1293, 0.029581332278558043), (1294, 0.0), (1295, 0.03169117661127371), (1296, 0.006376248903667224), (1297, 0.015511150294520822), (1298, 0.049494889679544185), (1299, 0.05215166048861535), (1300, 0.009577159128263058), (1301, 0.007305074207291622), (1302, 0.01741682319320609), (1303, 0.0), (1304, 0.028058677980218227), (1305, 0.013825208601921008), (1306, 0.054768049737150416), (1307, 0.028539671906624292), (1308, 0.03054390059435155), (1309, 0.042115825193427936), (1310, 0.06332931946999239), (1311, 0.004003114598110236), (1312, 0.028094860366295233), (1313, 0.0035162299766235004), (1314, 0.008225416490854962), (1315, 0.0), (1316, 0.01224118151841545), (1317, 0.02019911356050829), (1318, 0.02238214487817903), (1319, 0.024610580898773462), (1320, 0.002801123846533607), (1321, 0.013730024332735753), (1322, 0.08294536429581788), (1323, 0.003065853298093907), (1324, 0.014688898482948782), (1325, 0.0), (1326, 0.002912923030737374), (1327, 0.0163295821041462), (1328, 0.0), (1329, 0.036969737126316474), (1330, 0.011118402926994928), (1331, 0.0032706295429341583), (1332, 0.0), (1333, 0.0038052069036082735), (1334, 0.017922215304668615), (1335, 0.007835171425459234), (1336, 0.012526351315855711), (1337, 0.003641474955840198), (1338, 0.008223982266719426), (1339, 0.03647372797957384), (1340, 0.0030303577388630567), (1341, 0.027819490480261045), (1342, 0.024721642276919264), (1343, 0.00993993060200603), (1344, 0.00915862557917346), (1345, 0.034554150485365524), (1346, 0.008409333985128517), (1347, 0.0080764311912405), (1348, 0.0031081653085775996), (1349, 0.009421346754064077), (1350, 0.0), (1351, 0.034118314041549344), (1352, 0.007102630551349758), (1353, 0.010531118617599908), (1354, 0.02974015239268632), (1355, 0.0), (1356, 0.04029062420807807), (1357, 0.007149293495910417), (1358, 0.0), (1359, 0.022286833781986537), (1360, 0.007610025062112689), (1361, 0.0036246650818732846), (1362, 0.0026516878368873756), (1363, 0.003386469633270308), (1364, 0.04368810863034064), (1365, 0.02773370683075302), (1366, 0.0), (1367, 0.002979859003596886), (1368, 0.011510408609113626), (1369, 0.029112618670175), (1370, 0.0030767569950671298), (1371, 0.003963769585346627), (1372, 0.020452415529196258), (1373, 0.011557637904779608), (1374, 0.03945268023827204), (1375, 0.007947210034142187), (1376, 0.029223784350997376), (1377, 0.017718942499394312), (1378, 0.0), (1379, 0.028332600592646143), (1380, 0.008818382360250057), (1381, 0.009595383553433196), (1382, 0.025732583817477825), (1383, 0.0), (1384, 0.014346524853283839), (1385, 0.013621101121783354), (1386, 0.0), (1387, 0.007003407836183739), (1388, 0.0035838404920308367), (1389, 0.0037575319335406737), (1390, 0.012834911472136083), (1391, 0.0), (1392, 0.026022616935915736), (1393, 0.0), (1394, 0.01056960699046753), (1395, 0.006730590800007904), (1396, 0.03171545674405951), (1397, 0.0030857428595228403), (1398, 0.0), (1399, 0.0), (1400, 0.0), (1401, 0.050933695738278426), (1402, 0.016903068763880157), (1403, 0.034098002101532264), (1404, 0.007903904939402913), (1405, 0.009957442560701146), (1406, 0.01345828295674715), (1407, 0.014457016487160218), (1408, 0.00347527541251076), (1409, 0.003817451449350222), (1410, 0.0036064374297121895), (1411, 0.019454844204292308), (1412, 0.04919848416621975), (1413, 0.030778371649423243), (1414, 0.0), (1415, 0.0), (1416, 0.024097267363958702), (1417, 0.010619206107823659), (1418, 0.03376820690964462), (1419, 0.0), (1420, 0.04208498213709376), (1421, 0.015539738587750884), (1422, 0.01508985810793663), (1423, 0.0), (1424, 0.0040738448063021475), (1425, 0.08077676312660509), (1426, 0.008858786852515853), (1427, 0.0029250764717382283), (1428, 0.01470806613210873), (1429, 0.02192115549900898), (1430, 0.007774921157440394), (1431, 0.01650610100145513), (1432, 0.01806081767119069), (1433, 0.0), (1434, 0.0), (1435, 0.007931431962868989), (1436, 0.008847115477907072), (1437, 0.004043371879389606), (1438, 0.0), (1439, 0.0), (1440, 0.0), (1441, 0.07882408970479148), (1442, 0.03554371616850044), (1443, 0.04532482353528081), (1444, 0.0035507103506345174), (1445, 0.0037282809063130307), (1446, 0.024469067831045885), (1447, 0.011766933775923997), (1448, 0.0), (1449, 0.0), (1450, 0.0), (1451, 0.01570825954817608), (1452, 0.0), (1453, 0.027272270913242656), (1454, 0.015124925091319083), (1455, 0.0), (1456, 0.014961924076433274), (1457, 0.010547838243132908), (1458, 0.0), (1459, 0.024097249056377643), (1460, 0.0), (1461, 0.04758871312234689), (1462, 0.0), (1463, 0.015541742820912984), (1464, 0.013698625030393765), (1465, 0.0563173102182219), (1466, 0.0), (1467, 0.023988982755740376), (1468, 0.010574490669758328), (1469, 0.0036940585236642154), (1470, 0.0), (1471, 0.03257759472958472), (1472, 0.05290981224602256), (1473, 0.003614277384710982), (1474, 0.009324915261328734), (1475, 0.014181915941938152), (1476, 0.07623419473899103), (1477, 0.03126375272089256), (1478, 0.0), (1479, 0.003913670146981247), (1480, 0.036334689274205606), (1481, 0.0), (1482, 0.0172087816545909), (1483, 0.0), (1484, 0.0), (1485, 0.0032193625940072287), (1486, 0.028120110970711192), (1487, 0.019238615968749272), (1488, 0.007154549447190978), (1489, 0.012726879501398999), (1490, 0.003409362480030336), (1491, 0.05413956040624964), (1492, 0.021574373906435646), (1493, 0.03429226170678628), (1494, 0.03491875568734516), (1495, 0.020644108726370278), (1496, 0.019067723298165994), (1497, 0.0), (1498, 0.0), (1499, 0.0), (1500, 0.06465005528203069), (1501, 0.02550153685834257), (1502, 0.008829928210824024), (1503, 0.027647443904482098), (1504, 0.0), (1505, 0.01722200248916599), (1506, 0.03425086550859581), (1507, 0.004086247161954766), (1508, 0.007028217180046052), (1509, 0.015005747009098425), (1510, 0.035908754790617656), (1511, 0.02888029002690905), (1512, 0.013860039781099481), (1513, 0.003717111175391489), (1514, 0.012590056075836955), (1515, 0.05364635139528394), (1516, 0.06534542546632408), (1517, 0.02020222224929119), (1518, 0.0318370139052092), (1519, 0.012580021552213161), (1520, 0.01280648560670508), (1521, 0.05012878471355871), (1522, 0.016887179825304435), (1523, 0.04907102778840098), (1524, 0.025136271269913545), (1525, 0.01223170422134791), (1526, 0.02440034198877345), (1527, 0.0), (1528, 0.003241025800210283), (1529, 0.0), (1530, 0.006847649061596101), (1531, 0.0), (1532, 0.003387127411300619), (1533, 0.0036196237332103472), (1534, 0.00807386143141045), (1535, 0.007031083669982826), (1536, 0.018961733750879065), (1537, 0.021078359367957305), (1538, 0.012348208776577317), (1539, 0.0259500512537515), (1540, 0.0), (1541, 0.0), (1542, 0.0036944420098798825), (1543, 0.027234787831812452), (1544, 0.0034253696607912084), (1545, 0.003421771745645901), (1546, 0.020541205503203395), (1547, 0.0), (1548, 0.010584131272117879), (1549, 0.0035198361449821714), (1550, 0.0), (1551, 0.021588619134784187), (1552, 0.016418433215170745), (1553, 0.026765487473028877), (1554, 0.008541494900346638), (1555, 0.007784005270862038), (1556, 0.0), (1557, 0.011638380419817337), (1558, 0.0), (1559, 0.007236598191740596), (1560, 0.004021042550187337), (1561, 0.07854382502659044), (1562, 0.0), (1563, 0.007753427341609244), (1564, 0.012218183175723091), (1565, 0.007147151379523255), (1566, 0.0), (1567, 0.044547173543573765), (1568, 0.007630421165997283), (1569, 0.003203863705518729), (1570, 0.0), (1571, 0.027524421580907704), (1572, 0.038977456376088127), (1573, 0.0), (1574, 0.03885761317647555), (1575, 0.0), (1576, 0.0), (1577, 0.012034011690540674), (1578, 0.012564829008481358), (1579, 0.02357883320004073), (1580, 0.0), (1581, 0.017599842594862858), (1582, 0.003425719579079925), (1583, 0.027974103337151304), (1584, 0.022908458223233234), (1585, 0.00730291790650667), (1586, 0.029571525424351593), (1587, 0.020040490596114895), (1588, 0.0), (1589, 0.011094751243972367), (1590, 0.0), (1591, 0.0), (1592, 0.021969516389834295), (1593, 0.0), (1594, 0.022718764789165544), (1595, 0.007566966762244186), (1596, 0.024460701661682783), (1597, 0.01896504838848343), (1598, 0.0035224316367125407), (1599, 0.0036128307336587935), (1600, 0.014858949099980296), (1601, 0.0031673264145342774), (1602, 0.03621180803922505), (1603, 0.0), (1604, 0.0), (1605, 0.0), (1606, 0.0), (1607, 0.0), (1608, 0.014761225681373245), (1609, 0.0038078370622027374), (1610, 0.010486467634586088), (1611, 0.003606103258822192), (1612, 0.01354673568291308), (1613, 0.012408924939278566), (1614, 0.003817303475491468), (1615, 0.004225639312975675), (1616, 0.003135791461161721), (1617, 0.008163072531463915), (1618, 0.07080066629713583), (1619, 0.023408393179343408), (1620, 0.00781854109867988), (1621, 0.0), (1622, 0.0), (1623, 0.01275136065773516), (1624, 0.0), (1625, 0.0), (1626, 0.027332086706837937), (1627, 0.0), (1628, 0.0), (1629, 0.014042680980913077), (1630, 0.015867735915136558), (1631, 0.0), (1632, 0.008016959584530818), (1633, 0.0), (1634, 0.014762281767658685), (1635, 0.0), (1636, 0.008615164395706367), (1637, 0.003827580846284795), (1638, 0.0035544634098776543), (1639, 0.009588377606215196), (1640, 0.012885039177093893), (1641, 0.0), (1642, 0.011041258853445503), (1643, 0.008778446106776494), (1644, 0.01715288253069094), (1645, 0.008077768064272345), (1646, 0.009113174906043926), (1647, 0.01285957500459683), (1648, 0.01248863775326692), (1649, 0.007230096090264242), (1650, 0.028121777112898087), (1651, 0.0), (1652, 0.0031650965561985534), (1653, 0.008153940955239245), (1654, 0.036782278806129935), (1655, 0.016548157732244766), (1656, 0.004091025959986677), (1657, 0.007006615902698389), (1658, 0.01901204653106906), (1659, 0.0), (1660, 0.012464702528506795), (1661, 0.0), (1662, 0.05245415826257876), (1663, 0.0033616012570047544), (1664, 0.012884248666125928), (1665, 0.0), (1666, 0.01649136254383137), (1667, 0.0), (1668, 0.019537080771916855), (1669, 0.010288234703950794), (1670, 0.0), (1671, 0.0), (1672, 0.0), (1673, 0.010544244464573475), (1674, 0.0), (1675, 0.022852082377273902), (1676, 0.002849122785633333), (1677, 0.015014240868085033), (1678, 0.03726726303060728), (1679, 0.021985905406221803), (1680, 0.035774548182926344), (1681, 0.009179941530050913), (1682, 0.04065917295828608), (1683, 0.0038184084725063202), (1684, 0.01504216906784445), (1685, 0.014393233170954771), (1686, 0.0), (1687, 0.008865495337940461), (1688, 0.034563531354919456), (1689, 0.021289205679424113), (1690, 0.018686558791297304), (1691, 0.03776847244518332), (1692, 0.021733280419632718), (1693, 0.003350332761531724), (1694, 0.003168164010004273), (1695, 0.03322562697633521), (1696, 0.013340056631933923), (1697, 0.003672971835306703), (1698, 0.0647109032818273), (1699, 0.04160285550425739), (1700, 0.01933837542927226), (1701, 0.04802671583594331), (1702, 0.0123994313542474), (1703, 0.031189132735139603), (1704, 0.008523466518728278), (1705, 0.0), (1706, 0.007828582112207728), (1707, 0.04530639215829853), (1708, 0.014611363128755725), (1709, 0.05959475098614705), (1710, 0.05535277662808255), (1711, 0.0), (1712, 0.014541292527726669), (1713, 0.015447713286983597), (1714, 0.05546561769598021), (1715, 0.01857563886535921), (1716, 0.009377428123557408), (1717, 0.0), (1718, 0.045064115132324875), (1719, 0.01076664404919045), (1720, 0.0), (1721, 0.028798830646037967), (1722, 0.02201704440872078), (1723, 0.03700973273670873), (1724, 0.0), (1725, 0.009243940837709512), (1726, 0.01224201112433687), (1727, 0.018027448220919146), (1728, 0.0), (1729, 0.043508872341904), (1730, 0.012402598117979722), (1731, 0.003825634178652235), (1732, 0.003813769903133748), (1733, 0.013080615462396535), (1734, 0.03969430418584082), (1735, 0.0036798706795360407), (1736, 0.0), (1737, 0.026593187515698086), (1738, 0.011325338802965802), (1739, 0.006975532499217428), (1740, 0.0), (1741, 0.003597173943070444), (1742, 0.02092639295795299), (1743, 0.018696856143521987), (1744, 0.04069653785091957), (1745, 0.00664017951216716), (1746, 0.03163415048001655), (1747, 0.010586983873828334), (1748, 0.0), (1749, 0.0), (1750, 0.01549540525978208), (1751, 0.01207007471296777), (1752, 0.002950217607155642), (1753, 0.0), (1754, 0.0), (1755, 0.015913503423693284), (1756, 0.020870517520981444), (1757, 0.011157522871478311), (1758, 0.01379517295690267), (1759, 0.03471561575756463), (1760, 0.03172614925203031), (1761, 0.013902157964864941), (1762, 0.019595525032420628), (1763, 0.0), (1764, 0.033012568176217325), (1765, 0.003690566203660296), (1766, 0.003937642804558434), (1767, 0.018332699296761946), (1768, 0.047011160201817725), (1769, 0.0036059050265474617), (1770, 0.014627915638449533), (1771, 0.04843516307228655), (1772, 0.007255863990310453), (1773, 0.013328655904874257), (1774, 0.010387228280280533), (1775, 0.034673302061724184), (1776, 0.012127288239571168), (1777, 0.019606201410627525), (1778, 0.011111908611631192), (1779, 0.014483699173146162), (1780, 0.015182343653988581), (1781, 0.03278039308552398), (1782, 0.007647580829984467), (1783, 0.0509736789508844), (1784, 0.010832880403056622), (1785, 0.0033764894434945665), (1786, 0.03838610714111691), (1787, 0.05233609405524731), (1788, 0.08597612503055538), (1789, 0.0), (1790, 0.020470968641345413), (1791, 0.003798798612139413), (1792, 0.020375925152955457), (1793, 0.03767818219368829), (1794, 0.038499277529598634), (1795, 0.0), (1796, 0.0), (1797, 0.0031283146804262888), (1798, 0.04232328271033682), (1799, 0.03321558110922377), (1800, 0.0), (1801, 0.0), (1802, 0.007121822948813966), (1803, 0.007793833316233809), (1804, 0.03148426212003976), (1805, 0.019866893308170055), (1806, 0.0038956279437243964), (1807, 0.021545525034501647), (1808, 0.007498918260593809), (1809, 0.01985133464623203), (1810, 0.0), (1811, 0.03907398939561786), (1812, 0.03239667443989164), (1813, 0.0), (1814, 0.0), (1815, 0.0), (1816, 0.013970522646905377), (1817, 0.015007724749612752), (1818, 0.039471715091117576), (1819, 0.0), (1820, 0.0), (1821, 0.02206497209580903), (1822, 0.031997464939972256), (1823, 0.015472648940889138), (1824, 0.01850620259939246), (1825, 0.029169193600473826), (1826, 0.0), (1827, 0.026029618541699835), (1828, 0.007214879840406851), (1829, 0.0), (1830, 0.0031617439578417663), (1831, 0.0172622179607987), (1832, 0.0), (1833, 0.014704428238881953), (1834, 0.0035375002770914156), (1835, 0.0), (1836, 0.003961913930864361), (1837, 0.0035332805766280693), (1838, 0.0), (1839, 0.01655788436703612), (1840, 0.014117159121376097), (1841, 0.022845852313686556), (1842, 0.003491311622371491), (1843, 0.030859587324061282), (1844, 0.003917598671823949), (1845, 0.05062702539614895), (1846, 0.007557411428396785), (1847, 0.05138651385951743), (1848, 0.03757146470339906), (1849, 0.016905303321316054), (1850, 0.016981280604239254), (1851, 0.012420002399643023), (1852, 0.02166090794014438), (1853, 0.0), (1854, 0.0), (1855, 0.0033375805454793697), (1856, 0.0037947790782655155), (1857, 0.015869011260415265), (1858, 0.045168146332967146), (1859, 0.008816893858358862), (1860, 0.01399054261966994), (1861, 0.03246460187190226), (1862, 0.0), (1863, 0.023641646595149703), (1864, 0.013084580536166719), (1865, 0.0), (1866, 0.01991073960144442), (1867, 0.024620888238251006), (1868, 0.006683747134063623), (1869, 0.0), (1870, 0.05140972485665675), (1871, 0.016735663170683916), (1872, 0.0), (1873, 0.013617456365837733), (1874, 0.0), (1875, 0.03620317839911724), (1876, 0.01368214252666934), (1877, 0.028784165974519015), (1878, 0.010754154802473093), (1879, 0.0036099769332473904), (1880, 0.06010258099027912), (1881, 0.012477909283020094), (1882, 0.0), (1883, 0.002941867469538174), (1884, 0.0), (1885, 0.0), (1886, 0.006645952964123909), (1887, 0.044983946319929795), (1888, 0.015224335737904621), (1889, 0.0036227070891188227), (1890, 0.04046652415253215), (1891, 0.007690611571308918), (1892, 0.0), (1893, 0.016346348304877287), (1894, 0.0), (1895, 0.01854627432045035), (1896, 0.008870408397442242), (1897, 0.014750046317979987), (1898, 0.0033365679800523703), (1899, 0.01055882050457835), (1900, 0.003435437789351673), (1901, 0.0), (1902, 0.01190504033539332), (1903, 0.02388564082524052), (1904, 0.0), (1905, 0.0038902736469785034), (1906, 0.003580408474166165), (1907, 0.07125243742940998), (1908, 0.02208229297649819), (1909, 0.0), (1910, 0.007063850286783626), (1911, 0.017832929712961527), (1912, 0.003416329981830952), (1913, 0.08411578827545581), (1914, 0.011211968110389556), (1915, 0.0340530670274464), (1916, 0.0), (1917, 0.0036628766246238433), (1918, 0.02663572389547642), (1919, 0.07792817185447536), (1920, 0.012578433849888942), (1921, 0.0123065635604482), (1922, 0.0), (1923, 0.01257884573492097), (1924, 0.0), (1925, 0.03544271994862526), (1926, 0.0037916614096687837), (1927, 0.0), (1928, 0.013487170265142135), (1929, 0.05065609918637251), (1930, 0.007842481110870714), (1931, 0.03395111963869929), (1932, 0.008055667985725226), (1933, 0.0), (1934, 0.012147004629639501), (1935, 0.02641611222530123), (1936, 0.01390386373461158), (1937, 0.0), (1938, 0.002975072909271198), (1939, 0.004735546477209905), (1940, 0.009067142443319014), (1941, 0.00427082710236392), (1942, 0.013840628551928745), (1943, 0.003105870308152447), (1944, 0.002963654034296992), (1945, 0.013707260079537119), (1946, 0.0), (1947, 0.053883579444976626), (1948, 0.0477949132306061), (1949, 0.0036993329470008315), (1950, 0.024278631484514257), (1951, 0.030876707410613997), (1952, 0.00900397401307746), (1953, 0.0), (1954, 0.051723269081671), (1955, 0.0037481460204011243), (1956, 0.05374666962326432), (1957, 0.0399049543060782), (1958, 0.10088540114633938), (1959, 0.0), (1960, 0.0), (1961, 0.01228995087052632), (1962, 0.0), (1963, 0.00916377502556593), (1964, 0.022129820554046616), (1965, 0.003727160057470003), (1966, 0.0), (1967, 0.0), (1968, 0.07189871092581793), (1969, 0.008069337333081614), (1970, 0.0), (1971, 0.013662849610554324), (1972, 0.0), (1973, 0.011222602533977239), (1974, 0.003260995657030613), (1975, 0.0), (1976, 0.0), (1977, 0.0), (1978, 0.010094863169681615), (1979, 0.0071382549190137975), (1980, 0.003200514681849817), (1981, 0.022920209757768876), (1982, 0.026244609746553356), (1983, 0.0), (1984, 0.027724395773824496), (1985, 0.02219556712147107), (1986, 0.042518455249396965), (1987, 0.025747394882442952), (1988, 0.033707009074380054), (1989, 0.0), (1990, 0.007617862184526316), (1991, 0.01771084683301637), (1992, 0.010581347785818441), (1993, 0.0), (1994, 0.03482325714536351), (1995, 0.0), (1996, 0.0), (1997, 0.018169108175738146), (1998, 0.019693919552548476), (1999, 0.0040307568525000505), (2000, 0.041671423764335816), (2001, 0.01982879949534044), (2002, 0.0037347142171267837), (2003, 0.01152539687621491), (2004, 0.012942352511422813), (2005, 1.0000000000000004), (2006, 0.003043117780421055), (2007, 0.010338240306114292), (2008, 0.030208219927774303), (2009, 0.00422625290093455), (2010, 0.0), (2011, 0.012370138911607731), (2012, 0.01371960564970528), (2013, 0.030344102789312197), (2014, 0.02018179767609624), (2015, 0.02311000651520736), (2016, 0.00868035408855814), (2017, 0.01706679282780892), (2018, 0.0029105160890786456), (2019, 0.02088270639402754), (2020, 0.018736479106260074), (2021, 0.0038624560427005096), (2022, 0.030204095009077978), (2023, 0.007874043432875759), (2024, 0.0), (2025, 0.009343166076714699), (2026, 0.003565466522463825), (2027, 0.05115142197254483), (2028, 0.0), (2029, 0.00816335025908992), (2030, 0.0), (2031, 0.022635970039369038), (2032, 0.018161288200004358), (2033, 0.0032457613864290222), (2034, 0.006391545301026668), (2035, 0.013144314942674134), (2036, 0.01847144199062546), (2037, 0.07766189090621366), (2038, 0.0), (2039, 0.0), (2040, 0.015029204003791138), (2041, 0.0036188265925999213), (2042, 0.0037234906289795957), (2043, 0.03297198405768941), (2044, 0.0), (2045, 0.03631764321498816), (2046, 0.011914996405345067), (2047, 0.021633046317840313), (2048, 0.0), (2049, 0.018931513025809428), (2050, 0.0034024705117144745), (2051, 0.015456323157304655), (2052, 0.028701883953671042), (2053, 0.008632646755870778), (2054, 0.008146049138227791), (2055, 0.03223760742123466), (2056, 0.02460540064082073), (2057, 0.0), (2058, 0.06209777489333564), (2059, 0.09776542197474276), (2060, 0.003532069838034939), (2061, 0.016938024304672873), (2062, 0.029365372363187814), (2063, 0.0032349921659455224), (2064, 0.012648438396031692), (2065, 0.04585342728999469), (2066, 0.0), (2067, 0.0), (2068, 0.003390722815708125), (2069, 0.0), (2070, 0.02542386401611635), (2071, 0.018877277323135933), (2072, 0.008664334410749836), (2073, 0.0), (2074, 0.03362201912026066), (2075, 0.0), (2076, 0.010061640523429945), (2077, 0.004351759283848791), (2078, 0.012819941574034429), (2079, 0.022474798287794136), (2080, 0.017617865527959572), (2081, 0.0035720775677707105), (2082, 0.003871093642928012), (2083, 0.0), (2084, 0.0), (2085, 0.0), (2086, 0.012705974262454832), (2087, 0.016795713150612644), (2088, 0.0), (2089, 0.0), (2090, 0.00372413124548004), (2091, 0.0), (2092, 0.051035043812962984), (2093, 0.010475104227446675), (2094, 0.02078596600068606), (2095, 0.02643738256872629), (2096, 0.014500088316353098), (2097, 0.05264592355174602), (2098, 0.014688953901097125), (2099, 0.003335217240109533), (2100, 0.007459894509752357), (2101, 0.01879188420380756), (2102, 0.016348700660715733), (2103, 0.021388453570110273), (2104, 0.0), (2105, 0.03152490734228908), (2106, 0.007377570106707207), (2107, 0.0033989186851933442), (2108, 0.12812080823009533), (2109, 0.02214189143642866), (2110, 0.01248183778272206), (2111, 0.09222029551641082), (2112, 0.03280642818617058), (2113, 0.013437898650333877), (2114, 0.0665619147935734), (2115, 0.0), (2116, 0.018533761227958447), (2117, 0.0), (2118, 0.026566286531395245), (2119, 0.012619940307580055), (2120, 0.007229087969821985), (2121, 0.012951210215377621), (2122, 0.050244699160300214), (2123, 0.01887394305616178), (2124, 0.022534354761055423), (2125, 0.0032635229917564322), (2126, 0.008623174500537147), (2127, 0.018579600149134325), (2128, 0.011731348066090875), (2129, 0.007188541270605522), (2130, 0.007842069805396637), (2131, 0.018912877104642088), (2132, 0.006481219465863775), (2133, 0.0), (2134, 0.02991336472557575), (2135, 0.007074614105254505), (2136, 0.0), (2137, 0.0050574443824876495), (2138, 0.004044286117307026), (2139, 0.007847624452832103), (2140, 0.003392909761638061), (2141, 0.0), (2142, 0.0), (2143, 0.0318300638173953), (2144, 0.013722217337437363), (2145, 0.04535438117751156), (2146, 0.00304945108578047), (2147, 0.020897290821412368), (2148, 0.007397049613885526), (2149, 0.0), (2150, 0.003455482321040182), (2151, 0.007608959060957332), (2152, 0.0), (2153, 0.0035878067861567138), (2154, 0.017425293741258528), (2155, 0.0138418008732728), (2156, 0.07853837153213677), (2157, 0.00952379436682061), (2158, 0.04720482126993063), (2159, 0.0), (2160, 0.03189517239907015), (2161, 0.05235425546307086), (2162, 0.0), (2163, 0.023192708420549824), (2164, 0.003993983700872015), (2165, 0.0), (2166, 0.0033605660092071873), (2167, 0.019498563806617623), (2168, 0.0030534986984532427), (2169, 0.008415614603164326), (2170, 0.06089571539309215), (2171, 0.0), (2172, 0.0), (2173, 0.0), (2174, 0.03078975524521558), (2175, 0.035725923223595975), (2176, 0.0), (2177, 0.014376931917375543), (2178, 0.015679081851065), (2179, 0.0033521402003714867), (2180, 0.02529887963076344), (2181, 0.0), (2182, 0.0), (2183, 0.003308947237547689), (2184, 0.0), (2185, 0.015383823201332818), (2186, 0.0040445708661101375), (2187, 0.012999004341030893), (2188, 0.00946792084234356), (2189, 0.0), (2190, 0.0), (2191, 0.0), (2192, 0.003593473913364376), (2193, 0.02576613243992524), (2194, 0.0037008685777744927), (2195, 0.008339517701565534), (2196, 0.008203978080598178), (2197, 0.011506012906871843), (2198, 0.03949929525171625), (2199, 0.004644929025772411), (2200, 0.0036464427024579483), (2201, 0.003319400173383327), (2202, 0.01953937512282365), (2203, 0.022812181038558314), (2204, 0.010113025620975252), (2205, 0.05455230009752329), (2206, 0.0), (2207, 0.019250351587161412), (2208, 0.012004423960045692), (2209, 0.019117803644229513), (2210, 0.008501444494922567), (2211, 0.032933561143166534), (2212, 0.0), (2213, 0.0), (2214, 0.01497218180923211), (2215, 0.0752535073455483), (2216, 0.03427735044825255), (2217, 0.003735581125682098), (2218, 0.013262791376201698), (2219, 0.016090382878250487), (2220, 0.0), (2221, 0.08619366504282522), (2222, 0.012322429741002122), (2223, 0.0040571882304714394), (2224, 0.015868701241452943), (2225, 0.01996991476257875), (2226, 0.0), (2227, 0.032624278929994), (2228, 0.004618313007719696), (2229, 0.0), (2230, 0.02746487178284125), (2231, 0.0), (2232, 0.0), (2233, 0.009176018621108275), (2234, 0.007329756278093637), (2235, 0.0), (2236, 0.030757706679266306), (2237, 0.014674282075317705), (2238, 0.0), (2239, 0.04530636622065134), (2240, 0.009939330084973632), (2241, 0.012405554003312284), (2242, 0.003391661408298938), (2243, 0.0), (2244, 0.014961838034379053), (2245, 0.015569291556701247), (2246, 0.00834585330636687), (2247, 0.0), (2248, 0.0), (2249, 0.02280102553382103), (2250, 0.01608469466643417), (2251, 0.0), (2252, 0.037664991835122064), (2253, 0.0), (2254, 0.0), (2255, 0.0), (2256, 0.0), (2257, 0.0), (2258, 0.023642252645587447), (2259, 0.008692456636067965), (2260, 0.0038171672617956483), (2261, 0.0041361249406757705), (2262, 0.010747736086052272), (2263, 0.008974169442681415), (2264, 0.08568434200656928), (2265, 0.015589359230328908), (2266, 0.0), (2267, 0.015701105598462266), (2268, 0.008075426891718501), (2269, 0.00900395692610251), (2270, 0.0030830776064457092), (2271, 0.01071886685360232), (2272, 0.003314416390065799), (2273, 0.02540973234452322), (2274, 0.010421493798021701), (2275, 0.010505892804861068), (2276, 0.032704144510511006), (2277, 0.02226621162884915), (2278, 0.008482801500597246), (2279, 0.007558906312695151), (2280, 0.0035347625490161406), (2281, 0.07620264507292954), (2282, 0.004584578015510549), (2283, 0.008910711228264277), (2284, 0.0035875557683747823), (2285, 0.02728898689180447), (2286, 0.0), (2287, 0.02689664936695415), (2288, 0.0), (2289, 0.0), (2290, 0.003641313948584513), (2291, 0.018818676438072533), (2292, 0.003634291199856503), (2293, 0.0), (2294, 0.030728539434838997), (2295, 0.0), (2296, 0.010021479962057338), (2297, 0.0034976220965785986), (2298, 0.003521189283629377), (2299, 0.0), (2300, 0.0), (2301, 0.06860021876371704), (2302, 0.0040529650270199995), (2303, 0.041279502804418895), (2304, 0.007973814438780787), (2305, 0.0040811237800750105), (2306, 0.017211679889250528), (2307, 0.035799882433583716), (2308, 0.004465619648984702), (2309, 0.016403911788638464), (2310, 0.0), (2311, 0.011222226349830836), (2312, 0.005137287833108229), (2313, 0.019756284363916778), (2314, 0.0), (2315, 0.010439632300051172), (2316, 0.0), (2317, 0.014914868631002469), (2318, 0.02504024007581122), (2319, 0.028610468087207457), (2320, 0.02358925172330235), (2321, 0.03872669657058668), (2322, 0.019177894761559518), (2323, 0.007000934860280837), (2324, 0.0), (2325, 0.003704356144195928), (2326, 0.012657502809846424), (2327, 0.01835580237916612), (2328, 0.0), (2329, 0.011701478104644902), (2330, 0.017043099035709157), (2331, 0.009293013293578359), (2332, 0.0), (2333, 0.004247768191975281), (2334, 0.016591346791055925), (2335, 0.020923855343227986), (2336, 0.0035482746899801534), (2337, 0.0), (2338, 0.015109050191100806), (2339, 0.02900069352694299), (2340, 0.049803386916884185), (2341, 0.038843595902871855), (2342, 0.03735141081133025), (2343, 0.0), (2344, 0.0), (2345, 0.0), (2346, 0.0), (2347, 0.0), (2348, 0.0033610497652541986), (2349, 0.0), (2350, 0.0), (2351, 0.03746649511700252), (2352, 0.00663013291067592), (2353, 0.003673867986913172), (2354, 0.031364742958638094), (2355, 0.0), (2356, 0.0), (2357, 0.004050931965730688), (2358, 0.0), (2359, 0.0), (2360, 0.01858307814176038), (2361, 0.0), (2362, 0.016003716571211322), (2363, 0.014742855778512889), (2364, 0.002868985861632313), (2365, 0.0), (2366, 0.0031644896962408084), (2367, 0.01942351200238725), (2368, 0.00425295402659852), (2369, 0.0), (2370, 0.0), (2371, 0.0038654287838977663), (2372, 0.0), (2373, 0.002975837815889514), (2374, 0.0), (2375, 0.03247541456473307), (2376, 0.05143501048018386), (2377, 0.009470145325009614), (2378, 0.0), (2379, 0.005149732497545503), (2380, 0.03650696108601468), (2381, 0.003978417991751558), (2382, 0.01179598704512669), (2383, 0.0), (2384, 0.00397415157810163), (2385, 0.05596595137022656), (2386, 0.0), (2387, 0.020981203496508335), (2388, 0.0), (2389, 0.003182919502933395), (2390, 0.0), (2391, 0.012097018160779958), (2392, 0.0), (2393, 0.008279077146984221), (2394, 0.0037599323478735383), (2395, 0.004935892837508628), (2396, 0.029829459497576545), (2397, 0.011519123529656837), (2398, 0.019494184131759858), (2399, 0.019409496886976987), (2400, 0.008774624096339202), (2401, 0.007539666175235301), (2402, 0.01025728334789061), (2403, 0.019792028773590254), (2404, 0.004853396603516605), (2405, 0.008068723298401812), (2406, 0.009112625756941028), (2407, 0.0), (2408, 0.0), (2409, 0.011362271237371586), (2410, 0.012425211223454427), (2411, 0.038174135574829536), (2412, 0.02178113903080829), (2413, 0.01831311882049082), (2414, 0.008428577031885293), (2415, 0.0), (2416, 0.025447754767016665), (2417, 0.015928256907261566), (2418, 0.05163095813013647), (2419, 0.0), (2420, 0.05574928802011485), (2421, 0.022380293177935988), (2422, 0.019696930403461953), (2423, 0.004496945084088894), (2424, 0.0032343198493186218), (2425, 0.0), (2426, 0.050982576277179344), (2427, 0.019425084050694985), (2428, 0.021474808189328537), (2429, 0.0), (2430, 0.03468003558617311), (2431, 0.03230560976188183), (2432, 0.041135506941080646), (2433, 0.003124793908802561), (2434, 0.004265840447734383), (2435, 0.0035235965188469788), (2436, 0.028538346626429064), (2437, 0.02069711510310979), (2438, 0.0), (2439, 0.01409868920398539), (2440, 0.003623848184051352), (2441, 0.002889523268978154), (2442, 0.0), (2443, 0.03229441183985226), (2444, 0.012168911563561114), (2445, 0.010424604320267657), (2446, 0.011080408605549166), (2447, 0.02713280880083036), (2448, 0.0), (2449, 0.011399579437480427), (2450, 0.0033171458328717183), (2451, 0.0), (2452, 0.003914684710304618), (2453, 0.0), (2454, 0.0), (2455, 0.004529115732973104), (2456, 0.03602267619242808), (2457, 0.006978574559663794), (2458, 0.013000830635272704), (2459, 0.0), (2460, 0.009870657191886803), (2461, 0.027909362261994353), (2462, 0.0), (2463, 0.03875229884705979), (2464, 0.033243626187112955), (2465, 0.003439068451360673), (2466, 0.03618735621806783), (2467, 0.003442704931285127), (2468, 0.09449774485711084), (2469, 0.010651096973845893), (2470, 0.042880261014602676), (2471, 0.0), (2472, 0.0035796260056415795), (2473, 0.012956016181647092), (2474, 0.04011983152778498), (2475, 0.0), (2476, 0.0), (2477, 0.03385345155226964), (2478, 0.004096306527556672), (2479, 0.003984623786162978), (2480, 0.0217767666948432), (2481, 0.029621106787306783), (2482, 0.007707290910230797), (2483, 0.004705858737840602), (2484, 0.026018177195666296), (2485, 0.02807348556592959), (2486, 0.013620753230444177), (2487, 0.03373968650395259), (2488, 0.013841895882107685), (2489, 0.0), (2490, 0.005143045568373759), (2491, 0.010999152161355849), (2492, 0.020418430876957595), (2493, 0.012500293631412255), (2494, 0.050739552660956026), (2495, 0.11208892254460572), (2496, 0.01287767895806142), (2497, 0.0473983353889001), (2498, 0.016472542501794824), (2499, 0.007587845803378758), (2500, 0.004978560662525702), (2501, 0.0084017811914155), (2502, 0.006844744377961619), (2503, 0.02178156039463277), (2504, 0.025092502567067736), (2505, 0.015108172428221774), (2506, 0.0), (2507, 0.0038762436190279445), (2508, 0.035558660044008726), (2509, 0.016675028588155533), (2510, 0.10129906477763109), (2511, 0.02040694427638637), (2512, 0.01894721079930707), (2513, 0.06111626256005122), (2514, 0.010718011170502957), (2515, 0.004430102659897297), (2516, 0.04013940692683329), (2517, 0.02952880079005969), (2518, 0.013467661316324653), (2519, 0.003680688222667327), (2520, 0.0), (2521, 0.0), (2522, 0.014676052618536392), (2523, 0.006167379213380243), (2524, 0.021924066867365262), (2525, 0.007873615415291652), (2526, 0.034917372482815894), (2527, 0.01184354399188729), (2528, 0.01278787298521288), (2529, 0.005179785533442123), (2530, 0.0), (2531, 0.034869392521112284), (2532, 0.009439665681879365), (2533, 0.0), (2534, 0.011190029626306504), (2535, 0.003954921391339551), (2536, 0.004661272856884945), (2537, 0.004895015526475951), (2538, 0.0626761862865897), (2539, 0.00983223507859246), (2540, 0.0), (2541, 0.006583395477253503), (2542, 0.003229734853409038), (2543, 0.004477389632105458), (2544, 0.0), (2545, 0.01417325079646295), (2546, 0.012419183733249298), (2547, 0.011010871651966295), (2548, 0.003297131505340115), (2549, 0.0), (2550, 0.03518321732690813), (2551, 0.0036256412398413566), (2552, 0.007817531985783792), (2553, 0.019782296199303037), (2554, 0.021994903298584067), (2555, 0.019853306650395624), (2556, 0.0), (2557, 0.0), (2558, 0.0), (2559, 0.0), (2560, 0.029634232883872822), (2561, 0.003722729049390688), (2562, 0.012591293757322488), (2563, 0.018166546400920903), (2564, 0.004433024004974045), (2565, 0.01443121055207634), (2566, 0.0075449227326349275), (2567, 0.0), (2568, 0.026864611334307738), (2569, 0.003525909858913637), (2570, 0.0041997818199411355), (2571, 0.015573779817102439), (2572, 0.04743289805030674), (2573, 0.0), (2574, 0.013423207198523954), (2575, 0.0039000987964167206), (2576, 0.0), (2577, 0.0), (2578, 0.0), (2579, 0.0), (2580, 0.0375722930134782), (2581, 0.014907805744678097), (2582, 0.08218818780350662), (2583, 0.0), (2584, 0.036863238035796664), (2585, 0.0), (2586, 0.00361540519653698), (2587, 0.025826066665586626), (2588, 0.0936848885013417), (2589, 0.0), (2590, 0.021436261483938995), (2591, 0.0032013164848870117), (2592, 0.055099284769151234), (2593, 0.0), (2594, 0.0033422576640116386), (2595, 0.0), (2596, 0.026901564948191858), (2597, 0.005892364765424138), (2598, 0.02964491454748871), (2599, 0.0), (2600, 0.004501878716229649), (2601, 0.017908946168023257), (2602, 0.0), (2603, 0.027961051147751596), (2604, 0.0038832762455242725), (2605, 0.051860906060739245), (2606, 0.036720997357079226), (2607, 0.012193875346554122), (2608, 0.013574288594393722), (2609, 0.008918626800741614), (2610, 0.016378767180664836), (2611, 0.007173472229291349), (2612, 0.06018968266601243), (2613, 0.0), (2614, 0.01895687816335917), (2615, 0.011082026779507658), (2616, 0.0388662124311362), (2617, 0.006839826612267186), (2618, 0.0), (2619, 0.008594254441999832), (2620, 0.00340497989711923), (2621, 0.01183568051205491), (2622, 0.020257909535199854), (2623, 0.0), (2624, 0.0), (2625, 0.028820028042654794), (2626, 0.019029222831472944), (2627, 0.03669015542382167), (2628, 0.025473631787436977), (2629, 0.0), (2630, 0.0), (2631, 0.011329212389474565), (2632, 0.029614266792581966), (2633, 0.026806382443358198), (2634, 0.0), (2635, 0.004181067933654876), (2636, 0.012101921850847942), (2637, 0.06333800709850426), (2638, 0.024957332534036956), (2639, 0.06621544638589669), (2640, 0.02298279590636926), (2641, 0.013195507352208913), (2642, 0.1160584035836313), (2643, 0.0), (2644, 0.003395306834672377), (2645, 0.010760936540556359), (2646, 0.016895185259801992), (2647, 0.008468830260271742), (2648, 0.0036794313339959164), (2649, 0.027486788029927184), (2650, 0.008060271361705566), (2651, 0.0), (2652, 0.0), (2653, 0.016571033668978198), (2654, 0.007620352043680518), (2655, 0.0), (2656, 0.025619841266996585), (2657, 0.005226821163489883), (2658, 0.0), (2659, 0.005139946101337181), (2660, 0.05024018975627102), (2661, 0.01215873304893498), (2662, 0.007865622238870175), (2663, 0.006977044166328834), (2664, 0.0), (2665, 0.02791012977597536), (2666, 0.010966777067840158), (2667, 0.004862315988842316), (2668, 0.06222069911293139), (2669, 0.0052770453623629445), (2670, 0.0), (2671, 0.02171189846380998), (2672, 0.013371479801348143), (2673, 0.011123155248436711), (2674, 0.0), (2675, 0.020638574385862814), (2676, 0.004091733691078343), (2677, 0.0034766823747144483), (2678, 0.005811367228142477), (2679, 0.018413543621393177), (2680, 0.02907028806144401), (2681, 0.07029682275955881), (2682, 0.007801251068975843), (2683, 0.0), (2684, 0.005167496405875159), (2685, 0.003621344589758969), (2686, 0.0), (2687, 0.021450574850183493), (2688, 0.026403923784015997), (2689, 0.008863716897678972), (2690, 0.0033884431544703303), (2691, 0.02285259758352866), (2692, 0.011813232567949578), (2693, 0.02032652129084419), (2694, 0.024289449570687942), (2695, 0.0), (2696, 0.026768485948364947), (2697, 0.014292671570922795), (2698, 0.021401116091287135), (2699, 0.010566642298670211), (2700, 0.0), (2701, 0.0057751274584185944), (2702, 0.00407831723781808), (2703, 0.005523811558791201), (2704, 0.014678012352731801), (2705, 0.0), (2706, 0.03165039134408803), (2707, 0.0), (2708, 0.013866543699236403), (2709, 0.0035698547310610753), (2710, 0.0), (2711, 0.04096907968495253), (2712, 0.04181683531920367), (2713, 0.008191373946685402), (2714, 0.01457364428823055), (2715, 0.004697555030415553), (2716, 0.0), (2717, 0.0), (2718, 0.0), (2719, 0.008873536099212834), (2720, 0.023074553807505574), (2721, 0.0031005512202167238), (2722, 0.0050092866829980825), (2723, 0.0), (2724, 0.014860133620387716), (2725, 0.008942407547079945), (2726, 0.021416343723185696), (2727, 0.004291837934922973), (2728, 0.010309436664170238), (2729, 0.025454994361672152), (2730, 0.014657850922802897), (2731, 0.004789765507703685), (2732, 0.03820758438833623), (2733, 0.0), (2734, 0.01564793323374482), (2735, 0.0), (2736, 0.01662378606913651), (2737, 0.0059661231539847965), (2738, 0.014078501297463731), (2739, 0.04429864296556414), (2740, 0.02473179981503128), (2741, 0.003212859667747006), (2742, 0.012630684660540594), (2743, 0.0), (2744, 0.017797254307720518), (2745, 0.0), (2746, 0.003628135261238299), (2747, 0.006183802967791384), (2748, 0.00388023032283449), (2749, 0.014670329363522158), (2750, 0.0), (2751, 0.01290062105491774), (2752, 0.0), (2753, 0.0), (2754, 0.0037410076999344877), (2755, 0.012614793159108826), (2756, 0.013634828906518286), (2757, 0.0), (2758, 0.0030305293136161193), (2759, 0.04210346644242241), (2760, 0.011909034906807997), (2761, 0.007195469205535545), (2762, 0.0), (2763, 0.019816591121421697), (2764, 0.005083728316316552), (2765, 0.015895999539001383), (2766, 0.013269452258474777), (2767, 0.0), (2768, 0.0), (2769, 0.020268936145954576), (2770, 0.00295075277465276), (2771, 0.0), (2772, 0.0), (2773, 0.0), (2774, 0.020403607571673053), (2775, 0.0), (2776, 0.007686289382165566), (2777, 0.027502955444949618), (2778, 0.0), (2779, 0.013145396338635805), (2780, 0.0), (2781, 0.01364959878327664), (2782, 0.003972108014185478), (2783, 0.030336443447540155), (2784, 0.008546478818306029), (2785, 0.009573532300530192), (2786, 0.0038212537927442536), (2787, 0.0033930386295193673), (2788, 0.008512593772610572), (2789, 0.02970425681127703), (2790, 0.03530464873801279), (2791, 0.01533686185116574), (2792, 0.054254171423919806), (2793, 0.016772530184853342), (2794, 0.00369417372270775), (2795, 0.0), (2796, 0.004083588741635749), (2797, 0.004367564281136612), (2798, 0.03867418526024314), (2799, 0.003993797692229411), (2800, 0.0), (2801, 0.022814828211081842), (2802, 0.01346495483303249), (2803, 0.012380191922796392), (2804, 0.0035693944842375134), (2805, 0.0448775863989187), (2806, 0.0), (2807, 0.011703629511693847), (2808, 0.02880150451557569), (2809, 0.008801252547256194), (2810, 0.0039991517814123405), (2811, 0.003907622955857855), (2812, 0.05196398735565027), (2813, 0.011955309781458236), (2814, 0.02648113733923222), (2815, 0.03451718490648769), (2816, 0.02641986048337749), (2817, 0.020993228882847298), (2818, 0.016706123722731964), (2819, 0.01458748535994816), (2820, 0.015020030953059683), (2821, 0.0), (2822, 0.00977482935661), (2823, 0.006756798611506227), (2824, 0.0), (2825, 0.0035250560580551344), (2826, 0.0), (2827, 0.0), (2828, 0.0), (2829, 0.030073160300245552), (2830, 0.019430384368974974), (2831, 0.013619621645412494), (2832, 0.004682863789958342), (2833, 0.003180644414143772), (2834, 0.08532965633183566), (2835, 0.0), (2836, 0.003540563012301375), (2837, 0.0), (2838, 0.0045602099707932895), (2839, 0.0), (2840, 0.009325794944831177), (2841, 0.05312058495237768), (2842, 0.0395327387086376), (2843, 0.019069235099561245), (2844, 0.03885926873095018), (2845, 0.007140484136274808), (2846, 0.004175284014926571), (2847, 0.0), (2848, 0.02225759929763505), (2849, 0.0), (2850, 0.0), (2851, 0.0095448986699595), (2852, 0.007969676074287321), (2853, 0.01814320380988137), (2854, 0.017902244521484645), (2855, 0.010116793891626964), (2856, 0.003665100737323575), (2857, 0.013980948979754989), (2858, 0.005057726715170348), (2859, 0.061448241357295645), (2860, 0.0), (2861, 0.0), (2862, 0.015585075440968276), (2863, 0.0), (2864, 0.0), (2865, 0.018559830733640315), (2866, 0.0033204424295946054), (2867, 0.03669263771641199), (2868, 0.032349939426212726), (2869, 0.0), (2870, 0.0), (2871, 0.0), (2872, 0.004107455271255795), (2873, 0.0290007881754505), (2874, 0.023698262636777944), (2875, 0.004535221040497147), (2876, 0.01820940957728331), (2877, 0.016021977737910195), (2878, 0.0352568050420272), (2879, 0.0), (2880, 0.0038458531145194453), (2881, 0.0), (2882, 0.0038775396369618723), (2883, 0.0), (2884, 0.01307480180488529), (2885, 0.0), (2886, 0.0), (2887, 0.0), (2888, 0.0), (2889, 0.0), (2890, 0.0), (2891, 0.005054455821555486), (2892, 0.015301298137738124), (2893, 0.008093061291773581), (2894, 0.0), (2895, 0.0), (2896, 0.0036235935712854816), (2897, 0.011395039294939362), (2898, 0.0), (2899, 0.007860209069605432), (2900, 0.008334975288999654), (2901, 0.0), (2902, 0.0), (2903, 0.0), (2904, 0.018965935809888618), (2905, 0.0), (2906, 0.007361432955789636), (2907, 0.0), (2908, 0.010932237512867222), (2909, 0.0), (2910, 0.008181106075907715), (2911, 0.008702284232419224), (2912, 0.0034551610042016156), (2913, 0.0029268085088353757), (2914, 0.004035513481609802), (2915, 0.014793953140111702), (2916, 0.0), (2917, 0.021430567762827302), (2918, 0.0), (2919, 0.0), (2920, 0.007650518080304193), (2921, 0.008680732847308808), (2922, 0.004855209620702479), (2923, 0.018553704917535694), (2924, 0.004138308123836087), (2925, 0.05870734589755092), (2926, 0.0037317845487582543), (2927, 0.0), (2928, 0.004607745338742416), (2929, 0.07490763365008896), (2930, 0.003923276681015307), (2931, 0.041468707766073996), (2932, 0.0), (2933, 0.02827250343237101), (2934, 0.0), (2935, 0.012082099362208621), (2936, 0.015399826770758655), (2937, 0.0), (2938, 0.007827718462595537), (2939, 0.004444228253980345), (2940, 0.012751121863973649), (2941, 0.00458565522446013), (2942, 0.019007286025712507), (2943, 0.0), (2944, 0.07667306076623531), (2945, 0.021342238878742457), (2946, 0.0), (2947, 0.019944609325212567), (2948, 0.004646846903750364), (2949, 0.0), (2950, 0.0), (2951, 0.026285836794436888), (2952, 0.008878602714322338), (2953, 0.052466685976256484), (2954, 0.10999056906633436), (2955, 0.0), (2956, 0.0), (2957, 0.0), (2958, 0.0), (2959, 0.0), (2960, 0.0), (2961, 0.0), (2962, 0.06318975108774315), (2963, 0.017211180924689776), (2964, 0.023472330430839822), (2965, 0.007369462483104729), (2966, 0.0), (2967, 0.0), (2968, 0.003894880754547066), (2969, 0.029500977662062607), (2970, 0.003803425180750125), (2971, 0.003104815132888327), (2972, 0.003363475233372301), (2973, 0.006999565861856684), (2974, 0.0), (2975, 0.03345919302411311), (2976, 0.003196504594052698), (2977, 0.03659020196731493), (2978, 0.0038799841304100417), (2979, 0.0038767469428111936), (2980, 0.013342050584669762), (2981, 0.03916114537240817), (2982, 0.012889663666301253), (2983, 0.027516867669403977), (2984, 0.0), (2985, 0.031767179702807784), (2986, 0.00422074701140501), (2987, 0.0), (2988, 0.030033782757671386), (2989, 0.0), (2990, 0.004803560437789525), (2991, 0.0), (2992, 0.02380796683649731), (2993, 0.0), (2994, 0.0035914370653212673), (2995, 0.0), (2996, 0.01840373063351177), (2997, 0.0), (2998, 0.0), (2999, 0.003548069165992162), (3000, 0.01866979502803239), (3001, 0.00859714056606505), (3002, 0.0), (3003, 0.003963929717375357), (3004, 0.0), (3005, 0.0), (3006, 0.0), (3007, 0.0), (3008, 0.015208516594337137), (3009, 0.004996513119706801), (3010, 0.01612611747778227), (3011, 0.04139010988882644), (3012, 0.0), (3013, 0.0), (3014, 0.0), (3015, 0.0), (3016, 0.007326381516759658), (3017, 0.004239574049617063), (3018, 0.020560488011275878), (3019, 0.0), (3020, 0.004331884977938544), (3021, 0.0), (3022, 0.01945512389014909), (3023, 0.038927774610388176), (3024, 0.006417591773781208), (3025, 0.0), (3026, 0.03665102956223301), (3027, 0.015048473611335633), (3028, 0.008080176944285467), (3029, 0.0), (3030, 0.12421708377390356), (3031, 0.0), (3032, 0.020410413626223582), (3033, 0.02551938953850238), (3034, 0.0035915224972884524), (3035, 0.0), (3036, 0.0), (3037, 0.003766543173968546), (3038, 0.003732709563949553), (3039, 0.02889394144237137), (3040, 0.004983201147600773), (3041, 0.0037664492487738377), (3042, 0.004834826236585275), (3043, 0.0), (3044, 0.0038896110047230183), (3045, 0.0), (3046, 0.021543751804467527), (3047, 0.0), (3048, 0.0), (3049, 0.0), (3050, 0.03197660527925534), (3051, 0.0), (3052, 0.0), (3053, 0.008024108975252247), (3054, 0.004287661324717605), (3055, 0.0), (3056, 0.0128537144356888), (3057, 0.00784400543821591), (3058, 0.0), (3059, 0.0), (3060, 0.019398926809960054), (3061, 0.003730805947543767), (3062, 0.003956039026844227), (3063, 0.016876799825951565), (3064, 0.0), (3065, 0.011555163464430791), (3066, 0.024947030721770156), (3067, 0.013439269049584963), (3068, 0.0), (3069, 0.017049222190160758), (3070, 0.003187479555775417), (3071, 0.025707146545350043), (3072, 0.0), (3073, 0.020020222695783654), (3074, 0.004377921648362701), (3075, 0.0), (3076, 0.0), (3077, 0.006739556288652542), (3078, 0.004585274629037457), (3079, 0.0), (3080, 0.003977343888705803), (3081, 0.0), (3082, 0.010073587283423537), (3083, 0.027319557361376798), (3084, 0.0037845792315808163), (3085, 0.026151060039090165), (3086, 0.008380631718118111), (3087, 0.004501787074513346), (3088, 0.04507383740870096), (3089, 0.004335461598373156), (3090, 0.01876646201582974), (3091, 0.0), (3092, 0.0), (3093, 0.0), (3094, 0.015917791669155655), (3095, 0.014605198648105224), (3096, 0.02700180036392464), (3097, 0.01911890896101287), (3098, 0.006483204493914352), (3099, 0.006900481946145699), (3100, 0.0), (3101, 0.0), (3102, 0.0036367767512466473), (3103, 0.008834435090660129), (3104, 0.003559946303532506), (3105, 0.0), (3106, 0.0035570039358581947), (3107, 0.014386466993785763), (3108, 0.022917221238212146), (3109, 0.01206266037750154), (3110, 0.0), (3111, 0.007483757558674087), (3112, 0.0), (3113, 0.003639486004778943), (3114, 0.012576282969884944), (3115, 0.005554963229568601), (3116, 0.0), (3117, 0.008893616962292834), (3118, 0.0), (3119, 0.0), (3120, 0.0), (3121, 0.015053972059281287), (3122, 0.015953360551562164), (3123, 0.0), (3124, 0.0), (3125, 0.008402866106065403), (3126, 0.0), (3127, 0.011555779405580849), (3128, 0.0), (3129, 0.014367779039244483), (3130, 0.015927184425057715), (3131, 0.008945772133207444), (3132, 0.0), (3133, 0.015151292108621955), (3134, 0.0), (3135, 0.0), (3136, 0.0), (3137, 0.006623739470463064), (3138, 0.0), (3139, 0.005052045320791663), (3140, 0.0), (3141, 0.03636960059963744), (3142, 0.027220230359442467), (3143, 0.0), (3144, 0.028357282748141307), (3145, 0.01086317920841667), (3146, 0.003991322336043366), (3147, 0.013866014240074977), (3148, 0.0), (3149, 0.018990171625824205), (3150, 0.01248186228292028), (3151, 0.020923750639330035), (3152, 0.023665786957541488), (3153, 0.007988634369401898), (3154, 0.0), (3155, 0.0035927124866509384), (3156, 0.0), (3157, 0.01514196451034958), (3158, 0.0), (3159, 0.0), (3160, 0.0), (3161, 0.01722322795703056), (3162, 0.0037208800399340636), (3163, 0.0), (3164, 0.03328439321086952), (3165, 0.0), (3166, 0.004949659266475304), (3167, 0.0069476289315174855), (3168, 0.004018028686148648), (3169, 0.003658083155274615), (3170, 0.0), (3171, 0.0), (3172, 0.029925393364645593), (3173, 0.0), (3174, 0.03501104247158138), (3175, 0.0038236825189874486), (3176, 0.0), (3177, 0.003389633821476097), (3178, 0.005641677535332666), (3179, 0.01998128956175794), (3180, 0.0), (3181, 0.07235965252069931), (3182, 0.025845112451652608), (3183, 0.003907459843763586), (3184, 0.0), (3185, 0.0), (3186, 0.0), (3187, 0.0037550294571546163), (3188, 0.011313318475189769), (3189, 0.011899721150858793), (3190, 0.004134803677273888), (3191, 0.0), (3192, 0.00788403324296414), (3193, 0.00785464596376495), (3194, 0.021734902276406527), (3195, 0.0), (3196, 0.0), (3197, 0.015757455052360696), (3198, 0.003686196763535354), (3199, 0.01849049868941767), (3200, 0.007104556736168749), (3201, 0.014906090868735388), (3202, 0.0), (3203, 0.004297437653149296), (3204, 0.030825267048881475), (3205, 0.04743718095038379), (3206, 0.0), (3207, 0.003921267803782458), (3208, 0.008155200650604943), (3209, 0.011583577618415124), (3210, 0.0), (3211, 0.01447920604495513), (3212, 0.0029581072940200355), (3213, 0.0), (3214, 0.0034066255851701193), (3215, 0.02435334679706145), (3216, 0.0), (3217, 0.004598306776430853), (3218, 0.027221695464971725), (3219, 0.01013843077654699), (3220, 0.0034874279913046442), (3221, 0.013343061287271033), (3222, 0.02528573831117848), (3223, 0.0), (3224, 0.0037150434846073546), (3225, 0.0), (3226, 0.03271442543167924), (3227, 0.0), (3228, 0.02665682084365041), (3229, 0.023915656512739747), (3230, 0.009653329949887908), (3231, 0.010683091270067183), (3232, 0.009902742153087837), (3233, 0.0086020369281442), (3234, 0.022179674059090666), (3235, 0.0), (3236, 0.003795157311884022), (3237, 0.029358108902385643), (3238, 0.03248704823485144), (3239, 0.04632259912330398), (3240, 0.034533005698913696), (3241, 0.0), (3242, 0.008145006212742922), (3243, 0.0), (3244, 0.02283747688784393), (3245, 0.0036053018941003168), (3246, 0.0319156408389731), (3247, 0.007016431760905942), (3248, 0.0), (3249, 0.0044629217996034224), (3250, 0.003346609083276404), (3251, 0.0), (3252, 0.01454749195662437), (3253, 0.034998224527233536), (3254, 0.006343225826133259), (3255, 0.0), (3256, 0.02001773156295552), (3257, 0.004299627859530063), (3258, 0.003880149300757159), (3259, 0.020763104922066074), (3260, 0.019316386026473314), (3261, 0.0), (3262, 0.0), (3263, 0.0), (3264, 0.041628207892258004), (3265, 0.038608040478749425), (3266, 0.004936120789086156), (3267, 0.0032377877052154652), (3268, 0.0), (3269, 0.008391826225611639), (3270, 0.02553310238298126), (3271, 0.048733893303639135), (3272, 0.021910924656451888), (3273, 0.0), (3274, 0.0), (3275, 0.0), (3276, 0.0), (3277, 0.012561519152715458), (3278, 0.0), (3279, 0.0), (3280, 0.007784741987626462), (3281, 0.0), (3282, 0.004627574563301354), (3283, 0.012151453405555786), (3284, 0.0325769351349328), (3285, 0.010352196456860422), (3286, 0.0034643936976407564), (3287, 0.003688863038839476), (3288, 0.016801808963854633), (3289, 0.011607421446157382), (3290, 0.06945235785920317), (3291, 0.0), (3292, 0.0), (3293, 0.007914182388759846), (3294, 0.05110809589323376), (3295, 0.010856616932263682), (3296, 0.0), (3297, 0.016467932606948055), (3298, 0.0), (3299, 0.03534477132374718), (3300, 0.007290488570834834), (3301, 0.0), (3302, 0.0), (3303, 0.02792979864976353), (3304, 0.019039613736114104), (3305, 0.0), (3306, 0.007665728206640316), (3307, 0.0), (3308, 0.02726180820869389), (3309, 0.019805252420542978), (3310, 0.0037224959637270454), (3311, 0.04183206341150344), (3312, 0.009711783307838678), (3313, 0.011242448872551498), (3314, 0.0), (3315, 0.010819740470090483), (3316, 0.016896575680918208), (3317, 0.013697141930483346), (3318, 0.006991958480359317), (3319, 0.006672552057485292), (3320, 0.01120477596217925), (3321, 0.01821622614777927), (3322, 0.0), (3323, 0.020765051656047744), (3324, 0.004193583715624035), (3325, 0.0), (3326, 0.0), (3327, 0.021958657192964103), (3328, 0.010991882865542854), (3329, 0.015699016824838784), (3330, 0.016064593746911385), (3331, 0.0), (3332, 0.003611034186132262), (3333, 0.0), (3334, 0.0), (3335, 0.0), (3336, 0.007526065120542226), (3337, 0.004117269763528063), (3338, 0.0), (3339, 0.0), (3340, 0.0), (3341, 0.0), (3342, 0.027755190365880318), (3343, 0.011917801613786715), (3344, 0.04124161893478615), (3345, 0.01952365282720177), (3346, 0.013567828622915949), (3347, 0.0), (3348, 0.01096106512923627), (3349, 0.003702046669902065), (3350, 0.0035202979250879094), (3351, 0.07631349046143607), (3352, 0.025575961164998676), (3353, 0.0), (3354, 0.0), (3355, 0.0), (3356, 0.012157839378739398), (3357, 0.004435435830594732), (3358, 0.0), (3359, 0.0), (3360, 0.03159547139877841), (3361, 0.007915237823533873), (3362, 0.0543470849215274), (3363, 0.0), (3364, 0.013771960692772318), (3365, 0.0058966071036979685), (3366, 0.02030741353138335), (3367, 0.013792002044644583), (3368, 0.021607796913102453), (3369, 0.0), (3370, 0.007530373583884295), (3371, 0.00395280360525476), (3372, 0.0), (3373, 0.0598459794738479), (3374, 0.008298195120572486), (3375, 0.021136198879588747), (3376, 0.0071401743303360675), (3377, 0.0), (3378, 0.07914857048737348), (3379, 0.0), (3380, 0.0), (3381, 0.0), (3382, 0.003723398545588585), (3383, 0.0040404278832055175), (3384, 0.046219688435159265), (3385, 0.0), (3386, 0.025872036725693884), (3387, 0.015022679291792046), (3388, 0.0605175113125007), (3389, 0.03614838163001494), (3390, 0.007391661718148329), (3391, 0.0), (3392, 0.027064650717868354), (3393, 0.010260333219815655), (3394, 0.0), (3395, 0.05341978026478298), (3396, 0.0), (3397, 0.01821033566981855), (3398, 0.0), (3399, 0.038701578374150544), (3400, 0.0034896182028876658), (3401, 0.0), (3402, 0.0034772370831478634), (3403, 0.014651337342425219), (3404, 0.0), (3405, 0.0), (3406, 0.0), (3407, 0.02062115880381283), (3408, 0.004126473110759979), (3409, 0.03762223953128484), (3410, 0.020547312509224994), (3411, 0.010466664507227384), (3412, 0.008154910638122837), (3413, 0.004285958637817428), (3414, 0.018719769241112023), (3415, 0.003734470967048739), (3416, 0.03180876009959421), (3417, 0.0), (3418, 0.006476563684169305), (3419, 0.0), (3420, 0.048416260413876894), (3421, 0.007835866633554884), (3422, 0.0037637528500806283), (3423, 0.015566018365853697), (3424, 0.03139295055815364), (3425, 0.034303114746121674), (3426, 0.01265498312931689), (3427, 0.007787228196042428), (3428, 0.0036865037338281795), (3429, 0.0), (3430, 0.009930041836455943), (3431, 0.0), (3432, 0.0), (3433, 0.0), (3434, 0.0), (3435, 0.008280294206676628), (3436, 0.0), (3437, 0.0), (3438, 0.008926480342997926), (3439, 0.004628262179925103), (3440, 0.0), (3441, 0.02989679595100465), (3442, 0.024425624717257143), (3443, 0.0035195779322294563), (3444, 0.038533380972352135), (3445, 0.027388464709453254), (3446, 0.0285716420673117), (3447, 0.02843745388120337), (3448, 0.010143361423489627), (3449, 0.03275447494632162), (3450, 0.009711105247775381), (3451, 0.0), (3452, 0.0), (3453, 0.0), (3454, 0.01635845481073211), (3455, 0.0), (3456, 0.037432295708129046), (3457, 0.023417452279548508), (3458, 0.031820799316446616), (3459, 0.007597815197387492), (3460, 0.0), (3461, 0.012716461357414742), (3462, 0.0036126109037009297), (3463, 0.02283041350622048), (3464, 0.020865574125722697), (3465, 0.007942148318693049), (3466, 0.0), (3467, 0.0), (3468, 0.0), (3469, 0.06321313100784952), (3470, 0.0), (3471, 0.0), (3472, 0.0), (3473, 0.0), (3474, 0.012512659989389918), (3475, 0.005800376866673626), (3476, 0.0), (3477, 0.019522347384376304), (3478, 0.0), (3479, 0.0047653803480940254), (3480, 0.0), (3481, 0.010040351856208156), (3482, 0.0), (3483, 0.014403739534165223), (3484, 0.013405416968860093), (3485, 0.0031708437936863922), (3486, 0.0), (3487, 0.0), (3488, 0.0), (3489, 0.017872464787359058), (3490, 0.003426662603378965), (3491, 0.008394391559156375), (3492, 0.022104674480762903), (3493, 0.003734793060781994), (3494, 0.003591206177367031), (3495, 0.0), (3496, 0.003830232187520888), (3497, 0.008476348394476033), (3498, 0.0), (3499, 0.0), (3500, 0.0033105277322605315), (3501, 0.0), (3502, 0.010120729093137474), (3503, 0.020162754428902474), (3504, 0.021039103075416343), (3505, 0.0), (3506, 0.043714419867094595), (3507, 0.008667979654714665), (3508, 0.030287601392287436), (3509, 0.014898692304055598), (3510, 0.003846847960002383), (3511, 0.0), (3512, 0.005471682110503304), (3513, 0.0037386042662853674), (3514, 0.0037251874256040325), (3515, 0.03297228702690258), (3516, 0.017531069802216158), (3517, 0.003694648434766066), (3518, 0.0472790125434482), (3519, 0.003928571196723787), (3520, 0.0), (3521, 0.0), (3522, 0.0), (3523, 0.0), (3524, 0.01600584648831554), (3525, 0.006744552671657848), (3526, 0.030869989252433255), (3527, 0.0), (3528, 0.024635186239753828), (3529, 0.003921020853009955), (3530, 0.0), (3531, 0.0034609964766630923), (3532, 0.0158545251743177), (3533, 0.0), (3534, 0.0), (3535, 0.0), (3536, 0.022791285377905243), (3537, 0.004425936210817815), (3538, 0.009512480881826121), (3539, 0.0038016096875602375), (3540, 0.0), (3541, 0.030958316654232577), (3542, 0.0), (3543, 0.03083759262483575), (3544, 0.004343539199265997), (3545, 0.003541778314709979), (3546, 0.0062383685689137176), (3547, 0.0), (3548, 0.0), (3549, 0.012337847485509998), (3550, 0.04421820459754003), (3551, 0.008439188443918635), (3552, 0.0058034792004107464), (3553, 0.013482798199929556), (3554, 0.0043195155349670545), (3555, 0.0), (3556, 0.0), (3557, 0.008199572696864721), (3558, 0.02511876497401173), (3559, 0.014393504751458775), (3560, 0.0), (3561, 0.0), (3562, 0.02830748431637945), (3563, 0.02501428659127288), (3564, 0.030005797735004905), (3565, 0.026321059536380132), (3566, 0.037032453672618176), (3567, 0.008011144789520933), (3568, 0.008019037769388216), (3569, 0.0), (3570, 0.003545978081686707), (3571, 0.010946396813420951), (3572, 0.003950605760241858), (3573, 0.0), (3574, 0.0027405465802155166), (3575, 0.0028827540809513684), (3576, 0.0), (3577, 0.014743343073610055), (3578, 0.01055387928452325), (3579, 0.043319524971162635), (3580, 0.0034960164809524517), (3581, 0.003922600552254305), (3582, 0.0034375246998466827), (3583, 0.0), (3584, 0.003832224408810789), (3585, 0.006955704657084289), (3586, 0.008998691007638393), (3587, 0.009419053384173278), (3588, 0.0), (3589, 0.0032905556329112214), (3590, 0.0), (3591, 0.003724199104831501), (3592, 0.02862965456857538), (3593, 0.0), (3594, 0.029606054900865642), (3595, 0.029001051111706415), (3596, 0.021141196947565177), (3597, 0.0), (3598, 0.022603190878047068), (3599, 0.05937652890779972), (3600, 0.0), (3601, 0.04581515593573807), (3602, 0.0), (3603, 0.003636404352239161), (3604, 0.0), (3605, 0.0), (3606, 0.0036382494604383082), (3607, 0.0), (3608, 0.0), (3609, 0.0), (3610, 0.02325277819082041), (3611, 0.0), (3612, 0.00836476213365289), (3613, 0.0), (3614, 0.0), (3615, 0.0), (3616, 0.05232102298064611), (3617, 0.0), (3618, 0.00886314870358826), (3619, 0.0), (3620, 0.0), (3621, 0.004198851259216113), (3622, 0.02378107389294445), (3623, 0.0), (3624, 0.0), (3625, 0.0), (3626, 0.021056565946219588), (3627, 0.0), (3628, 0.003902061162249275), (3629, 0.0), (3630, 0.006159616072661498), (3631, 0.0), (3632, 0.017552461304559057), (3633, 0.018173138839696894), (3634, 0.011502104144368256), (3635, 0.0), (3636, 0.0), (3637, 0.007312338785599655), (3638, 0.01042497321531955), (3639, 0.0), (3640, 0.0), (3641, 0.011521616557341186), (3642, 0.008412612035003597), (3643, 0.02231474100850319), (3644, 0.011721081589664594), (3645, 0.0), (3646, 0.01861610042732881), (3647, 0.0), (3648, 0.02641937516241534), (3649, 0.03763324894748954), (3650, 0.012088076429948708), (3651, 0.009565298354706694), (3652, 0.003942775308283401), (3653, 0.0), (3654, 0.008793843958953681), (3655, 0.025867543339688402), (3656, 0.012537386399293974), (3657, 0.0), (3658, 0.016543796123978546), (3659, 0.0), (3660, 0.0), (3661, 0.025051620136751114), (3662, 0.0035665164315281054), (3663, 0.0), (3664, 0.0), (3665, 0.011901477447760487), (3666, 0.0), (3667, 0.022724828823821066), (3668, 0.0070774032890511835), (3669, 0.0), (3670, 0.0), (3671, 0.004441738926987553), (3672, 0.0), (3673, 0.03018874108764483), (3674, 0.010070308551471186), (3675, 0.0), (3676, 0.0036059618573994205), (3677, 0.018356684666443437), (3678, 0.016487592663865847), (3679, 0.0), (3680, 0.0), (3681, 0.013243516219762708), (3682, 0.0), (3683, 0.0036525803430689082), (3684, 0.017086227871704912), (3685, 0.011111467104089908), (3686, 0.004242053737898523), (3687, 0.0), (3688, 0.003953838648499894), (3689, 0.022720001866558048), (3690, 0.01709021197386818), (3691, 0.0), (3692, 0.018797801947838016), (3693, 0.006619196889017698), (3694, 0.0), (3695, 0.0), (3696, 0.016127396968215992), (3697, 0.0), (3698, 0.039640199771356646), (3699, 0.0), (3700, 0.0), (3701, 0.008572161151607404), (3702, 0.0), (3703, 0.0), (3704, 0.0), (3705, 0.0), (3706, 0.0), (3707, 0.0), (3708, 0.0), (3709, 0.008149814309243317), (3710, 0.0), (3711, 0.040047770549594346), (3712, 0.011300529580361363), (3713, 0.018313724173136522), (3714, 0.0), (3715, 0.0046044878536628635), (3716, 0.003207081739179212), (3717, 0.0), (3718, 0.0149472459001091), (3719, 0.0), (3720, 0.008069118517171776), (3721, 0.02581416682917283), (3722, 0.012265875637877106), (3723, 0.0), (3724, 0.008866001326196351), (3725, 0.0), (3726, 0.0), (3727, 0.0), (3728, 0.0183629840266447), (3729, 0.0), (3730, 0.013041218673608334), (3731, 0.018732315108867435), (3732, 0.010552204581684098), (3733, 0.023151939021848374), (3734, 0.0), (3735, 0.003948589839448205), (3736, 0.0473838704019414), (3737, 0.0), (3738, 0.0), (3739, 0.019904238281260783), (3740, 0.004515926753922518), (3741, 0.01942550183958181), (3742, 0.0), (3743, 0.017303467799333158), (3744, 0.0), (3745, 0.0), (3746, 0.008231168852545368), (3747, 0.02891238004509379), (3748, 0.022092439372074214), (3749, 0.0), (3750, 0.0052461611834203805), (3751, 0.04899763680523664), (3752, 0.02576437512762534), (3753, 0.003287186296426069), (3754, 0.024385160461453392), (3755, 0.003153643852436019), (3756, 0.0), (3757, 0.0), (3758, 0.004267743083658325), (3759, 0.026364176922085696), (3760, 0.0), (3761, 0.0), (3762, 0.03484083363508284), (3763, 0.004205347019735702), (3764, 0.007051994714080356), (3765, 0.019710760367045013), (3766, 0.0), (3767, 0.01577450890383407), (3768, 0.0), (3769, 0.0), (3770, 0.0), (3771, 0.0), (3772, 0.004060717964510523), (3773, 0.0), (3774, 0.00830732712597284), (3775, 0.0), (3776, 0.007161175497367236), (3777, 0.008834555049660098), (3778, 0.008685324991627035), (3779, 0.0), (3780, 0.017211149396673116), (3781, 0.019537499986016588), (3782, 0.0), (3783, 0.012987687782795075), (3784, 0.02090755256268359), (3785, 0.0), (3786, 0.008022853098848438), (3787, 0.0), (3788, 0.0), (3789, 0.020476681093675793), (3790, 0.029918103089191357), (3791, 0.004071626563311799), (3792, 0.011518216261656819), (3793, 0.0), (3794, 0.0), (3795, 0.0), (3796, 0.0049352320964129595), (3797, 0.01505410999715986), (3798, 0.0), (3799, 0.0), (3800, 0.0047077465529995225), (3801, 0.02437646366270085), (3802, 0.0), (3803, 0.06017684487349501), (3804, 0.0), (3805, 0.003557925641679033), (3806, 0.0), (3807, 0.007717247825785899), (3808, 0.003961873862339002), (3809, 0.0), (3810, 0.008520300134659424), (3811, 0.03628083113236648), (3812, 0.011528097882376513), (3813, 0.008464696129498806), (3814, 0.0), (3815, 0.0), (3816, 0.0), (3817, 0.009301473647219234), (3818, 0.05755991248318133), (3819, 0.015219834523641972), (3820, 0.004034043258435557), (3821, 0.018421304055558984), (3822, 0.02867003322865534), (3823, 0.015723532606017027), (3824, 0.0034057306524405777), (3825, 0.02738164789438695), (3826, 0.02111713307104463), (3827, 0.0), (3828, 0.0), (3829, 0.012645720745252545), (3830, 0.03339240095769935), (3831, 0.009169236603517986), (3832, 0.008712303480979684), (3833, 0.05722393517591862), (3834, 0.0), (3835, 0.008193297595253928), (3836, 0.04845169064455614), (3837, 0.08026112709401056), (3838, 0.0), (3839, 0.01583917766163319), (3840, 0.0), (3841, 0.007498518372839505), (3842, 0.045218060085565545), (3843, 0.0), (3844, 0.00447151015369074), (3845, 0.003721914032509345), (3846, 0.0), (3847, 0.0), (3848, 0.0), (3849, 0.008057724843654395), (3850, 0.0), (3851, 0.03859910350504277), (3852, 0.007285637335563819), (3853, 0.0), (3854, 0.0077323359384489304), (3855, 0.01670533816374602), (3856, 0.030205410293556882), (3857, 0.009287150417402653), (3858, 0.013680297084160672), (3859, 0.0033751119450145532), (3860, 0.024247307706209843), (3861, 0.0031596434891716573), (3862, 0.0), (3863, 0.0), (3864, 0.01620535750174327), (3865, 0.022771353384681822), (3866, 0.01375146137548228), (3867, 0.0), (3868, 0.026260892312047902), (3869, 0.01509517453262729), (3870, 0.012471977012849855), (3871, 0.0), (3872, 0.0), (3873, 0.0), (3874, 0.0), (3875, 0.04966513773601781), (3876, 0.007121266647976318), (3877, 0.009309707667070377), (3878, 0.041181894643559556), (3879, 0.022325089354078044), (3880, 0.011868692266531368), (3881, 0.013131903753061596), (3882, 0.0037554908212557633), (3883, 0.0), (3884, 0.0), (3885, 0.01983412387329686), (3886, 0.011457071680492203), (3887, 0.0), (3888, 0.0035306517331972678), (3889, 0.0038698810128336477), (3890, 0.023083328336817817), (3891, 0.00791833711009245), (3892, 0.004638669019516676), (3893, 0.0), (3894, 0.007333273393379429), (3895, 0.0), (3896, 0.003440795649221951), (3897, 0.00886532267857059), (3898, 0.017303950506919963), (3899, 0.0), (3900, 0.0), (3901, 0.0), (3902, 0.0), (3903, 0.044314696033440286), (3904, 0.0), (3905, 0.023062670901320963), (3906, 0.0), (3907, 0.017350160225691), (3908, 0.0), (3909, 0.04083562323471594), (3910, 0.026464838969520125), (3911, 0.0), (3912, 0.011571388968039928), (3913, 0.0), (3914, 0.02088551677166874), (3915, 0.0), (3916, 0.01477426320866113), (3917, 0.008043405599807351), (3918, 0.0), (3919, 0.02669211455287476), (3920, 0.036361630356691974), (3921, 0.0233818623063876), (3922, 0.004404976745975972), (3923, 0.003278708226988499), (3924, 0.018383059459341163), (3925, 0.0), (3926, 0.033345279867079164), (3927, 0.0182830041556003), (3928, 0.006984525142680181), (3929, 0.0), (3930, 0.012350740472132348), (3931, 0.004174204109190057), (3932, 0.0), (3933, 0.003180670702110492), (3934, 0.007578446598300066), (3935, 0.0), (3936, 0.021934248334363447), (3937, 0.0), (3938, 0.03602910708236763), (3939, 0.0), (3940, 0.01121609736864675), (3941, 0.003343870463628956), (3942, 0.0), (3943, 0.0038355038176524033), (3944, 0.006740178852165154), (3945, 0.0), (3946, 0.010549755035932435), (3947, 0.0), (3948, 0.0), (3949, 0.004905080271933026), (3950, 0.007933147892159695), (3951, 0.02563001371883698), (3952, 0.004092073779668767), (3953, 0.0), (3954, 0.012839169202337153), (3955, 0.008344284838081646), (3956, 0.0), (3957, 0.018105084990163493), (3958, 0.0), (3959, 0.008660375556603836), (3960, 0.009479416549588204), (3961, 0.0), (3962, 0.004007569531462368), (3963, 0.008298974459093895), (3964, 0.003985196853151272), (3965, 0.01655914420316404), (3966, 0.015033639288972469), (3967, 0.007889226043913272), (3968, 0.0), (3969, 0.016281371302883693), (3970, 0.015994409517245286), (3971, 0.002877632186367616), (3972, 0.0), (3973, 0.04149664277150257), (3974, 0.006982587435725984), (3975, 0.0), (3976, 0.0), (3977, 0.0), (3978, 0.0), (3979, 0.0), (3980, 0.00670787761965373), (3981, 0.0), (3982, 0.0), (3983, 0.022267826772510067), (3984, 0.00375268859623099), (3985, 0.0074162730307413115), (3986, 0.007523386301509169), (3987, 0.0), (3988, 0.004491435368818806), (3989, 0.027644061978557063), (3990, 0.0), (3991, 0.0), (3992, 0.024645461913207767), (3993, 0.007167774300902819), (3994, 0.008125687576936595), (3995, 0.0), (3996, 0.004254553913248293), (3997, 0.0), (3998, 0.02459946914735009), (3999, 0.0), (4000, 0.0), (4001, 0.03395248614137797), (4002, 0.009710603494098378), (4003, 0.003941704283599985), (4004, 0.0), (4005, 0.0), (4006, 0.022118870773041935), (4007, 0.03630712036053275), (4008, 0.06567714793286591), (4009, 0.03301942228897871), (4010, 0.020006365119111913), (4011, 0.02021830549738167), (4012, 0.014626974195714532), (4013, 0.028956053914454733), (4014, 0.0), (4015, 0.02069246366265553), (4016, 0.0), (4017, 0.0), (4018, 0.006082703235948071), (4019, 0.0), (4020, 0.0), (4021, 0.0), (4022, 0.0), (4023, 0.004213974472929154), (4024, 0.0), (4025, 0.03516464287847439), (4026, 0.00786288450793127), (4027, 0.05740208462828764), (4028, 0.0), (4029, 0.05667648461019215), (4030, 0.0), (4031, 0.013945817126169269), (4032, 0.045144244462325955), (4033, 0.008184380284416839), (4034, 0.0), (4035, 0.09914097593452674), (4036, 0.003486553350543868), (4037, 0.0033803211214911808), (4038, 0.023660870036135116), (4039, 0.013423474021362557), (4040, 0.004604504451282434), (4041, 0.017658445109475788), (4042, 0.020139759151353496), (4043, 0.0), (4044, 0.0), (4045, 0.016391887999476714), (4046, 0.0), (4047, 0.0), (4048, 0.0), (4049, 0.0036214420974464228), (4050, 0.0), (4051, 0.003980971958729802), (4052, 0.0181490587324921), (4053, 0.016545909151617386), (4054, 0.024417137413561444), (4055, 0.027353840941754744), (4056, 0.0), (4057, 0.01952415189522667), (4058, 0.004438385912466107), (4059, 0.015074408439737744), (4060, 0.0), (4061, 0.037023795558070956), (4062, 0.06246255071963927), (4063, 0.0), (4064, 0.01323426511417273), (4065, 0.0), (4066, 0.020222483055918852), (4067, 0.0), (4068, 0.008494739591203228), (4069, 0.0), (4070, 0.024485560650300213), (4071, 0.00337624403342148), (4072, 0.0), (4073, 0.02881215028421985), (4074, 0.019917162659073454), (4075, 0.0), (4076, 0.009007982428346403), (4077, 0.03937599062413331), (4078, 0.0), (4079, 0.0), (4080, 0.0), (4081, 0.0), (4082, 0.0), (4083, 0.0), (4084, 0.004588339742097546), (4085, 0.0), (4086, 0.012256229278812078), (4087, 0.0), (4088, 0.0), (4089, 0.008077724992530627), (4090, 0.0), (4091, 0.009187517114561235), (4092, 0.0), (4093, 0.003650103738284824), (4094, 0.007648318012296133), (4095, 0.0), (4096, 0.0), (4097, 0.012403389861455493), (4098, 0.0), (4099, 0.0853936537114577), (4100, 0.0), (4101, 0.0), (4102, 0.004530656209606745), (4103, 0.0), (4104, 0.03548873128842962), (4105, 0.019462245796836218), (4106, 0.0445729950903087), (4107, 0.0), (4108, 0.013348986933251067), (4109, 0.030273832362460923), (4110, 0.03380100782818224), (4111, 0.003819937390344531), (4112, 0.011644668825999347), (4113, 0.02557676662223399), (4114, 0.006733005116798398), (4115, 0.0048146998878666756), (4116, 0.0), (4117, 0.0040732950544381166), (4118, 0.02188181628146374), (4119, 0.018586853088196287), (4120, 0.009320361368861696), (4121, 0.013568642383949364), (4122, 0.0), (4123, 0.0), (4124, 0.007911901102095095), (4125, 0.0759435118579044), (4126, 0.0), (4127, 0.004331347684638983), (4128, 0.04191898111261581), (4129, 0.0), (4130, 0.0), (4131, 0.0038185392405533426), (4132, 0.02263313414320499), (4133, 0.0), (4134, 0.018669410179976472), (4135, 0.012099081021072416), (4136, 0.008710524799004877), (4137, 0.016267448707427974), (4138, 0.0), (4139, 0.0), (4140, 0.003898787772490591), (4141, 0.024258822016088595), (4142, 0.0), (4143, 0.0075161509916078905), (4144, 0.0), (4145, 0.0), (4146, 0.0), (4147, 0.060602185779592886), (4148, 0.0), (4149, 0.007215100486520078), (4150, 0.0), (4151, 0.0), (4152, 0.015379298812175896), (4153, 0.0), (4154, 0.012443058520431894), (4155, 0.015399638775995945), (4156, 0.04623234427886737), (4157, 0.03879667843373189), (4158, 0.018860273032898577), (4159, 0.007270684426377286), (4160, 0.021817351048223212), (4161, 0.0), (4162, 0.0), (4163, 0.0), (4164, 0.0), (4165, 0.01610005239430372), (4166, 0.004606723503044316), (4167, 0.0), (4168, 0.0), (4169, 0.016527693307309667), (4170, 0.0), (4171, 0.021124332634951053), (4172, 0.0), (4173, 0.012118187410383922), (4174, 0.034190268534623786), (4175, 0.0), (4176, 0.007688571427241254), (4177, 0.0), (4178, 0.0), (4179, 0.0), (4180, 0.0037708213484946755), (4181, 0.0), (4182, 0.013028333644575663), (4183, 0.0), (4184, 0.003582864464526947), (4185, 0.0), (4186, 0.010367973927381357), (4187, 0.00880262621169199), (4188, 0.0), (4189, 0.04032653137284702), (4190, 0.004255707994309832), (4191, 0.0032322038670425436), (4192, 0.03849276981088206), (4193, 0.012522975149648029), (4194, 0.010241350623854253), (4195, 0.003566134737874393), (4196, 0.01481277855223937), (4197, 0.011546464739878512), (4198, 0.004711682306960808), (4199, 0.014050945849212168), (4200, 0.060688626793433134), (4201, 0.029951428120811828), (4202, 0.0), (4203, 0.029597478931475962), (4204, 0.0042470629519387295), (4205, 0.03455673318308302), (4206, 0.0033894757886691294), (4207, 0.03341028239383595), (4208, 0.0), (4209, 0.0), (4210, 0.02589912488186106), (4211, 0.0), (4212, 0.0), (4213, 0.00339306913335494), (4214, 0.0036143846782102436), (4215, 0.0), (4216, 0.0), (4217, 0.028108375138085652), (4218, 0.05732614757957317), (4219, 0.0), (4220, 0.0), (4221, 0.0), (4222, 0.0047856061754053885), (4223, 0.0054695253990440715), (4224, 0.0), (4225, 0.03164343563503488), (4226, 0.02791461794142317), (4227, 0.0), (4228, 0.0), (4229, 0.0), (4230, 0.0), (4231, 0.0), (4232, 0.0), (4233, 0.007558791536125741), (4234, 0.0034809933738502103), (4235, 0.0), (4236, 0.012581250251987999), (4237, 0.015436236930339586), (4238, 0.0), (4239, 0.0049298209081613765), (4240, 0.017596959032468773), (4241, 0.008269527986910597), (4242, 0.01038779597816181), (4243, 0.0), (4244, 0.0), (4245, 0.0), (4246, 0.003378577584152306), (4247, 0.0068186232773860675), (4248, 0.019343888235098212), (4249, 0.0), (4250, 0.0), (4251, 0.0), (4252, 0.018942263261233497), (4253, 0.0), (4254, 0.0033504700906672315), (4255, 0.01379066714265069), (4256, 0.03216618395032558), (4257, 0.02405362711560091), (4258, 0.0038879170972205305), (4259, 0.01925923560904355), (4260, 0.00377148211533417), (4261, 0.0), (4262, 0.024789383102387888), (4263, 0.003930163497149151), (4264, 0.0), (4265, 0.017698296450918295), (4266, 0.0), (4267, 0.01920267619758346), (4268, 0.0), (4269, 0.008968900348303464), (4270, 0.0), (4271, 0.019945919108977025), (4272, 0.024223668983111287), (4273, 0.0), (4274, 0.007113591283858364), (4275, 0.0), (4276, 0.0), (4277, 0.007105911972909185), (4278, 0.0), (4279, 0.007995993855964391), (4280, 0.0), (4281, 0.009664034035289978), (4282, 0.023090655984732145), (4283, 0.008523311849974638), (4284, 0.008204251691668583), (4285, 0.004187473183509292), (4286, 0.008202228944164587), (4287, 0.01170140527113511), (4288, 0.0), (4289, 0.0), (4290, 0.015093500315078098), (4291, 0.0035633007424771867), (4292, 0.007878094259325235), (4293, 0.019347813566409085), (4294, 0.0), (4295, 0.004074057509054178), (4296, 0.0), (4297, 0.018594518402397762), (4298, 0.0), (4299, 0.0), (4300, 0.0035961949405591766), (4301, 0.0), (4302, 0.0), (4303, 0.01648996490861545), (4304, 0.0032025807088364904), (4305, 0.0033149256353102456), (4306, 0.0), (4307, 0.0), (4308, 0.003913149919956987), (4309, 0.0), (4310, 0.007765784171123324), (4311, 0.002899053664007561), (4312, 0.01796708905329071), (4313, 0.0), (4314, 0.0034406908257779995), (4315, 0.003799973893382648), (4316, 0.0), (4317, 0.004046304090154372), (4318, 0.0), (4319, 0.003667634262956355), (4320, 0.0), (4321, 0.010783065580199404), (4322, 0.0), (4323, 0.0037585686988120077), (4324, 0.003955757451169372), (4325, 0.003309721250292556), (4326, 0.0), (4327, 0.003477518671395194), (4328, 0.015622566339557822), (4329, 0.030352667459929414), (4330, 0.008366228018567087), (4331, 0.0), (4332, 0.022014245985235395), (4333, 0.008729597431545662), (4334, 0.0), (4335, 0.024834117923798894), (4336, 0.013140286057921249), (4337, 0.015105154835896167), (4338, 0.009132889183533647), (4339, 0.0076380006141640285), (4340, 0.0), (4341, 0.0205673697357417), (4342, 0.020241110932310246), (4343, 0.0), (4344, 0.025924078636573228), (4345, 0.0), (4346, 0.0041398221585840665), (4347, 0.007636863025734572), (4348, 0.007689485542372988), (4349, 0.0), (4350, 0.0), (4351, 0.027382431334142303), (4352, 0.0), (4353, 0.017097429998362938), (4354, 0.0), (4355, 0.0), (4356, 0.01053349182885665), (4357, 0.0038036685552723854), (4358, 0.0031482454503669885), (4359, 0.0), (4360, 0.013843805196621905), (4361, 0.0), (4362, 0.0), (4363, 0.008757521514282302), (4364, 0.013783420868142939), (4365, 0.0), (4366, 0.022673407816248978), (4367, 0.016641051410482006), (4368, 0.009410519618056069), (4369, 0.03076748934532855), (4370, 0.07809237020617661), (4371, 0.0184147673755116), (4372, 0.0), (4373, 0.016535416214434003), (4374, 0.023238360714438785), (4375, 0.018514660781975393), (4376, 0.008572687460020881), (4377, 0.0), (4378, 0.0), (4379, 0.008663376822030744), (4380, 0.0), (4381, 0.0), (4382, 0.0034504232437222167), (4383, 0.0), (4384, 0.0), (4385, 0.011840614568651967), (4386, 0.0), (4387, 0.008153146543567472), (4388, 0.034235988620141676), (4389, 0.015602021347661373), (4390, 0.0), (4391, 0.0), (4392, 0.0), (4393, 0.0), (4394, 0.011838161322891859), (4395, 0.011605906460947968), (4396, 0.051691520240543645), (4397, 0.0), (4398, 0.0), (4399, 0.030468160769881895), (4400, 0.0), (4401, 0.0), (4402, 0.014905189979908678), (4403, 0.0), (4404, 0.003645602968437501), (4405, 0.0), (4406, 0.02340983360311237), (4407, 0.045128353518662415), (4408, 0.004284177915343485), (4409, 0.0), (4410, 0.0), (4411, 0.0), (4412, 0.0), (4413, 0.02496838723600053), (4414, 0.12971630788595645), (4415, 0.0257444670878395), (4416, 0.0), (4417, 0.0), (4418, 0.0), (4419, 0.0), (4420, 0.0037626034234598217), (4421, 0.0037248888922997814), (4422, 0.003687475565866019), (4423, 0.0), (4424, 0.0), (4425, 0.0), (4426, 0.0030788851137537963), (4427, 0.007749217455324357), (4428, 0.007939738256704078), (4429, 0.0), (4430, 0.0), (4431, 0.017884376348548097), (4432, 0.0), (4433, 0.024024754633951612), (4434, 0.0034182374177384707), (4435, 0.0), (4436, 0.05252340691806625), (4437, 0.04941204254472552), (4438, 0.015454083115890764), (4439, 0.0), (4440, 0.02196096668103209), (4441, 0.00794292278246391), (4442, 0.024928148747509187), (4443, 0.0), (4444, 0.010953189993907824), (4445, 0.01747184517378885), (4446, 0.003914370979543018), (4447, 0.0032373432814044047), (4448, 0.012458784323839575), (4449, 0.009810999239089511), (4450, 0.031118764757028468), (4451, 0.10917105892262202), (4452, 0.0040360293311336535), (4453, 0.003984154356691742), (4454, 0.013763275718167406), (4455, 0.0), (4456, 0.0), (4457, 0.0035551505990884364), (4458, 0.0), (4459, 0.04789626173676754), (4460, 0.04437416705791019), (4461, 0.0), (4462, 0.009449190255967391), (4463, 0.003960789535040138), (4464, 0.0), (4465, 0.0), (4466, 0.0), (4467, 0.02268934365616193), (4468, 0.006773585268209398), (4469, 0.0), (4470, 0.0), (4471, 0.0), (4472, 0.028893075611152605), (4473, 0.017146781901302283), (4474, 0.0), (4475, 0.0), (4476, 0.0), (4477, 0.009768699157560144), (4478, 0.0), (4479, 0.0), (4480, 0.005024198629130066), (4481, 0.007989026934532538), (4482, 0.00829317294403595), (4483, 0.004256638833715151), (4484, 0.004757558202299707), (4485, 0.0), (4486, 0.026466237107034694), (4487, 0.0), (4488, 0.0), (4489, 0.003784518704992632), (4490, 0.009200307054427464), (4491, 0.0), (4492, 0.027607959162479146), (4493, 0.0), (4494, 0.03539770640852866), (4495, 0.0), (4496, 0.024067530439863743), (4497, 0.016244355876596846), (4498, 0.005848620335796559), (4499, 0.0), (4500, 0.0), (4501, 0.0), (4502, 0.0), (4503, 0.016256972258116856), (4504, 0.008070166353958325), (4505, 0.0), (4506, 0.05931373182574351), (4507, 0.0040985964531314225), (4508, 0.0), (4509, 0.0), (4510, 0.0), (4511, 0.021847187850059565), (4512, 0.0), (4513, 0.0), (4514, 0.0043161129988170234), (4515, 0.03326041723910923), (4516, 0.0), (4517, 0.0), (4518, 0.0), (4519, 0.002862714240180833), (4520, 0.0), (4521, 0.0), (4522, 0.0038886471098977565), (4523, 0.02117154935407009), (4524, 0.06218448495629486), (4525, 0.0), (4526, 0.0), (4527, 0.0), (4528, 0.0), (4529, 0.0), (4530, 0.0034897756395230817), (4531, 0.02861487293830276), (4532, 0.0), (4533, 0.0), (4534, 0.0), (4535, 0.0), (4536, 0.0), (4537, 0.049312701522443284), (4538, 0.0), (4539, 0.0), (4540, 0.0), (4541, 0.013657409599204605), (4542, 0.011197994383760304), (4543, 0.0), (4544, 0.0), (4545, 0.0), (4546, 0.01779960074542301), (4547, 0.0), (4548, 0.00783816724375075), (4549, 0.00927577090388859), (4550, 0.00810603319414893), (4551, 0.01850737358279975), (4552, 0.0036986508994207436), (4553, 0.0), (4554, 0.01617104957954424), (4555, 0.03286008337668517), (4556, 0.011165654837548169), (4557, 0.003785099421355757), (4558, 0.0031265162809728407), (4559, 0.0), (4560, 0.023186467813702365), (4561, 0.0), (4562, 0.004432869735975196), (4563, 0.035187229570134426), (4564, 0.024585557963985018), (4565, 0.01538540093442916), (4566, 0.03177716733024365), (4567, 0.0), (4568, 0.015630944861642605), (4569, 0.00728251870881911), (4570, 0.004265519865481722), (4571, 0.0056701150895227806), (4572, 0.0), (4573, 0.0), (4574, 0.008306575743014551), (4575, 0.0), (4576, 0.029456153003928426), (4577, 0.0032763442186592153), (4578, 0.0), (4579, 0.0), (4580, 0.003981862929013625), (4581, 0.013898604114600135), (4582, 0.0), (4583, 0.0), (4584, 0.022877031226966677), (4585, 0.0), (4586, 0.0), (4587, 0.01478779672968972), (4588, 0.0), (4589, 0.019573730503656635), (4590, 0.014434072626391792), (4591, 0.0), (4592, 0.03129179128610175), (4593, 0.0), (4594, 0.009848814648208875), (4595, 0.0), (4596, 0.057252153032228616), (4597, 0.0), (4598, 0.00608631844722056), (4599, 0.008186196053540786), (4600, 0.018017105589361607), (4601, 0.0), (4602, 0.0), (4603, 0.016018305471958233), (4604, 0.00840673000607585), (4605, 0.07830079868816138), (4606, 0.0), (4607, 0.0), (4608, 0.0), (4609, 0.01745783426785785), (4610, 0.014412148100747268), (4611, 0.0), (4612, 0.034634128762695504), (4613, 0.008851646494803843), (4614, 0.0), (4615, 0.0), (4616, 0.0), (4617, 0.0), (4618, 0.06854170259406545), (4619, 0.015193295010341251), (4620, 0.0), (4621, 0.027792116438443967), (4622, 0.003787689687876169), (4623, 0.0), (4624, 0.017536131368516415), (4625, 0.0), (4626, 0.0), (4627, 0.0030618368386683944), (4628, 0.007366082635875891), (4629, 0.008722706553837396), (4630, 0.0), (4631, 0.004333206328512725), (4632, 0.0), (4633, 0.004193541505249895), (4634, 0.00780226347786315), (4635, 0.011893270673333374), (4636, 0.0030091473290939875), (4637, 0.0), (4638, 0.0), (4639, 0.008117794882803245), (4640, 0.0), (4641, 0.013451969364154968), (4642, 0.0), (4643, 0.02832922100047388), (4644, 0.0), (4645, 0.0), (4646, 0.01066099621256735), (4647, 0.01078770427467746), (4648, 0.003690324110305938), (4649, 0.020172297722543794), (4650, 0.004112249001921745), (4651, 0.0), (4652, 0.025908068355445183), (4653, 0.0), (4654, 0.0), (4655, 0.036942836774077906), (4656, 0.0), (4657, 0.0), (4658, 0.029155962808150956), (4659, 0.017394828704490238), (4660, 0.010310828699048376), (4661, 0.0), (4662, 0.01847252204418191), (4663, 0.0), (4664, 0.0), (4665, 0.0), (4666, 0.0), (4667, 0.06465692397053033), (4668, 0.0), (4669, 0.0), (4670, 0.0), (4671, 0.0), (4672, 0.0), (4673, 0.0), (4674, 0.013431497728495036), (4675, 0.00355488719532278), (4676, 0.0), (4677, 0.0), (4678, 0.0), (4679, 0.021522727076910643), (4680, 0.0), (4681, 0.0), (4682, 0.02942737897899404), (4683, 0.0), (4684, 0.007916858408210733), (4685, 0.021565267974864414), (4686, 0.008412542069207244), (4687, 0.008175913529960192), (4688, 0.0035430962890155857), (4689, 0.032032471599918906), (4690, 0.003346361694815289), (4691, 0.0), (4692, 0.0), (4693, 0.0), (4694, 0.0), (4695, 0.02314918066302077), (4696, 0.0), (4697, 0.0), (4698, 0.0), (4699, 0.008753126711404673), (4700, 0.004831552649653667), (4701, 0.0), (4702, 0.022139670259540736), (4703, 0.0), (4704, 0.0), (4705, 0.0), (4706, 0.0039643475705556696), (4707, 0.0), (4708, 0.007698668887401035), (4709, 0.0), (4710, 0.0), (4711, 0.004211502112048105), (4712, 0.0), (4713, 0.0), (4714, 0.0), (4715, 0.0), (4716, 0.0), (4717, 0.004213392710949212), (4718, 0.0), (4719, 0.006911011425756327), (4720, 0.00433100410635929), (4721, 0.004441088294444894), (4722, 0.0), (4723, 0.023792035126272277), (4724, 0.0), (4725, 0.013826299440661296), (4726, 0.02533432349641495), (4727, 0.0), (4728, 0.0), (4729, 0.0), (4730, 0.0), (4731, 0.0), (4732, 0.00912001565773557), (4733, 0.0), (4734, 0.003856235065628885), (4735, 0.0), (4736, 0.0), (4737, 0.004045944249782636), (4738, 0.017164501926645516), (4739, 0.04356141747589501), (4740, 0.0), (4741, 0.01989457028367951), (4742, 0.0), (4743, 0.0), (4744, 0.01767458655927388), (4745, 0.0), (4746, 0.03437982284986362), (4747, 0.0), (4748, 0.01902364908098484), (4749, 0.0), (4750, 0.0), (4751, 0.0), (4752, 0.024052229262035596), (4753, 0.0), (4754, 0.0), (4755, 0.008412293241138895), (4756, 0.019808634398217277), (4757, 0.027295912639961173), (4758, 0.0), (4759, 0.0)]\n"
          ]
        }
      ]
    },
    {
      "cell_type": "code",
      "source": [
        "len(Recommendation_Score)"
      ],
      "metadata": {
        "colab": {
          "base_uri": "https://localhost:8080/"
        },
        "id": "aIPzrjAEDEA1",
        "outputId": "17d3b25d-fcd1-4bfc-fe5c-f358ff877bb1"
      },
      "execution_count": 30,
      "outputs": [
        {
          "output_type": "execute_result",
          "data": {
            "text/plain": [
              "4760"
            ]
          },
          "metadata": {},
          "execution_count": 30
        }
      ]
    },
    {
      "cell_type": "markdown",
      "source": [
        "Get All Movies Sort Based on Recommendation Score wrt Favourite Movie"
      ],
      "metadata": {
        "id": "MkyuZe6RDFJd"
      }
    },
    {
      "cell_type": "code",
      "source": [
        "#sorting the movies based on their similarity score\n",
        "Sorted_Similar_Movies = sorted (Recommendation_Score, key = lambda x:x[1], reverse  =True)\n",
        "print(Sorted_Similar_Movies)"
      ],
      "metadata": {
        "colab": {
          "base_uri": "https://localhost:8080/"
        },
        "id": "M2c4KYNnDHnb",
        "outputId": "89ef08b1-53c9-4090-a00a-7dd5c168a767"
      },
      "execution_count": 31,
      "outputs": [
        {
          "output_type": "stream",
          "name": "stdout",
          "text": [
            "[(2005, 1.0000000000000004), (1282, 0.17624821810940766), (1238, 0.15541350120533642), (4414, 0.12971630788595645), (2108, 0.12812080823009533), (3030, 0.12421708377390356), (2642, 0.1160584035836313), (2495, 0.11208892254460572), (2954, 0.10999056906633436), (4451, 0.10917105892262202), (2510, 0.10129906477763109), (1958, 0.10088540114633938), (4035, 0.09914097593452674), (2059, 0.09776542197474276), (2468, 0.09449774485711084), (2588, 0.0936848885013417), (2111, 0.09222029551641082), (1146, 0.08848765579910595), (2221, 0.08619366504282522), (1788, 0.08597612503055538), (2264, 0.08568434200656928), (4099, 0.0853936537114577), (2834, 0.08532965633183566), (1913, 0.08411578827545581), (1033, 0.08352599202821107), (1322, 0.08294536429581788), (2582, 0.08218818780350662), (1425, 0.08077676312660509), (3837, 0.08026112709401056), (350, 0.07960228723700512), (3378, 0.07914857048737348), (1441, 0.07882408970479148), (1561, 0.07854382502659044), (2156, 0.07853837153213677), (4605, 0.07830079868816138), (862, 0.0782690692678832), (609, 0.07821411389695515), (4370, 0.07809237020617661), (1919, 0.07792817185447536), (2037, 0.07766189090621366), (1106, 0.07726678057049324), (2944, 0.07667306076623531), (3351, 0.07631349046143607), (1476, 0.07623419473899103), (2281, 0.07620264507292954), (4125, 0.0759435118579044), (2215, 0.0752535073455483), (2929, 0.07490763365008896), (870, 0.07453990769786535), (895, 0.0729350811159847), (3181, 0.07235965252069931), (1968, 0.07189871092581793), (151, 0.0718462914373661), (1907, 0.07125243742940998), (1618, 0.07080066629713583), (2681, 0.07029682275955881), (3290, 0.06945235785920317), (506, 0.06939620381897563), (2301, 0.06860021876371704), (4618, 0.06854170259406545), (269, 0.06821694497759775), (1090, 0.06799944072645289), (2114, 0.0665619147935734), (2639, 0.06621544638589669), (4008, 0.06567714793286591), (508, 0.06543405697314887), (1516, 0.06534542546632408), (1698, 0.0647109032818273), (4667, 0.06465692397053033), (1500, 0.06465005528203069), (456, 0.06463558871605662), (1130, 0.06447675822776237), (555, 0.06424869648079409), (1129, 0.0634141693692492), (2637, 0.06333800709850426), (1310, 0.06332931946999239), (3469, 0.06321313100784952), (2962, 0.06318975108774315), (706, 0.0631446489542733), (1254, 0.06291740179256519), (2538, 0.0626761862865897), (108, 0.06251137930633067), (4062, 0.06246255071963927), (2668, 0.06222069911293139), (4524, 0.06218448495629486), (2058, 0.06209777489333564), (472, 0.06163414673338328), (2859, 0.061448241357295645), (2513, 0.06111626256005122), (2170, 0.06089571539309215), (4200, 0.060688626793433134), (851, 0.060647768225916596), (4147, 0.060602185779592886), (3388, 0.0605175113125007), (2612, 0.06018968266601243), (3803, 0.06017684487349501), (1880, 0.06010258099027912), (3373, 0.0598459794738479), (1709, 0.05959475098614705), (3599, 0.05937652890779972), (4506, 0.05931373182574351), (743, 0.0589441164006369), (2925, 0.05870734589755092), (489, 0.05869292510841517), (1022, 0.057866309755106794), (1006, 0.057605989857282866), (3818, 0.05755991248318133), (4027, 0.05740208462828764), (4218, 0.05732614757957317), (4596, 0.057252153032228616), (3833, 0.05722393517591862), (1289, 0.05680295952089971), (4029, 0.05667648461019215), (1465, 0.0563173102182219), (553, 0.056107842967708946), (2385, 0.05596595137022656), (2420, 0.05574928802011485), (1714, 0.05546561769598021), (1710, 0.05535277662808255), (2592, 0.055099284769151234), (1306, 0.054768049737150416), (2205, 0.05455230009752329), (330, 0.05451464957361914), (3362, 0.0543470849215274), (2792, 0.054254171423919806), (1491, 0.05413956040624964), (1947, 0.053883579444976626), (182, 0.05377999763787323), (1956, 0.05374666962326432), (1515, 0.05364635139528394), (343, 0.05343031156780004), (3395, 0.05341978026478298), (758, 0.05327556958647228), (2841, 0.05312058495237768), (263, 0.05302010841992046), (1472, 0.05290981224602256), (2097, 0.05264592355174602), (4436, 0.05252340691806625), (2953, 0.052466685976256484), (1662, 0.05245415826257876), (146, 0.052365156527097195), (2161, 0.05235425546307086), (1787, 0.05233609405524731), (3616, 0.05232102298064611), (1299, 0.05215166048861535), (2812, 0.05196398735565027), (2605, 0.051860906060739245), (1061, 0.05179109986279855), (1278, 0.05178237890169114), (1954, 0.051723269081671), (4396, 0.051691520240543645), (957, 0.051679298799220154), (2418, 0.05163095813013647), (993, 0.051586572872302214), (1002, 0.051454891239490784), (2376, 0.05143501048018386), (1870, 0.05140972485665675), (1847, 0.05138651385951743), (2027, 0.05115142197254483), (3294, 0.05110809589323376), (2092, 0.051035043812962984), (2426, 0.050982576277179344), (1783, 0.0509736789508844), (1257, 0.05093482945833494), (1401, 0.050933695738278426), (2494, 0.050739552660956026), (1929, 0.05065609918637251), (1845, 0.05062702539614895), (2122, 0.050244699160300214), (2660, 0.05024018975627102), (1521, 0.05012878471355871), (657, 0.04985996941698524), (2340, 0.049803386916884185), (3875, 0.04966513773601781), (1298, 0.049494889679544185), (4437, 0.04941204254472552), (4537, 0.049312701522443284), (3, 0.04925409839205928), (1412, 0.04919848416621975), (49, 0.049159451812781536), (1523, 0.04907102778840098), (3751, 0.04899763680523664), (1239, 0.04889168342912452), (3271, 0.048733893303639135), (354, 0.048679889361947205), (3836, 0.04845169064455614), (1771, 0.04843516307228655), (3420, 0.048416260413876894), (1075, 0.0484005236405947), (1701, 0.04802671583594331), (778, 0.047916691721255934), (4459, 0.04789626173676754), (1948, 0.0477949132306061), (1461, 0.04758871312234689), (341, 0.047481246545976755), (130, 0.04747329542091315), (3205, 0.04743718095038379), (2572, 0.04743289805030674), (67, 0.047418599064652636), (2497, 0.0473983353889001), (3736, 0.0473838704019414), (3518, 0.0472790125434482), (2158, 0.04720482126993063), (124, 0.0471979279004905), (288, 0.04716986119433398), (1768, 0.047011160201817725), (231, 0.04683854928789159), (700, 0.046821914001827294), (1139, 0.04681334660018224), (561, 0.04658161364601901), (3239, 0.04632259912330398), (577, 0.046296959584626034), (4156, 0.04623234427886737), (3384, 0.046219688435159265), (1192, 0.046202068264053604), (222, 0.046025939999833364), (2065, 0.04585342728999469), (3601, 0.04581515593573807), (2145, 0.04535438117751156), (1443, 0.04532482353528081), (1707, 0.04530639215829853), (2239, 0.04530636622065134), (3842, 0.045218060085565545), (1858, 0.045168146332967146), (4032, 0.045144244462325955), (4407, 0.045128353518662415), (763, 0.04511289546404813), (594, 0.04508039655966456), (3088, 0.04507383740870096), (1718, 0.045064115132324875), (1887, 0.044983946319929795), (2805, 0.0448775863989187), (496, 0.04464486108751997), (1118, 0.04462721501377313), (757, 0.04462092077672404), (1117, 0.04459041102014754), (4106, 0.0445729950903087), (1567, 0.044547173543573765), (818, 0.04446127531750838), (39, 0.04444549924951041), (4460, 0.04437416705791019), (3903, 0.044314696033440286), (2739, 0.04429864296556414), (794, 0.04428520869974231), (3550, 0.04421820459754003), (952, 0.04411726953339788), (566, 0.04387151664666605), (3506, 0.043714419867094595), (1364, 0.04368810863034064), (4739, 0.04356141747589501), (1729, 0.043508872341904), (3579, 0.043319524971162635), (582, 0.04315478948417764), (57, 0.04312729648043354), (1168, 0.04311246477161354), (1157, 0.043028381612101006), (2470, 0.042880261014602676), (1196, 0.04267864757321342), (328, 0.04266652326258734), (1986, 0.042518455249396965), (249, 0.042410132736433084), (1798, 0.04232328271033682), (1267, 0.04231091516024033), (1309, 0.042115825193427936), (2759, 0.04210346644242241), (1420, 0.04208498213709376), (407, 0.04195789457235937), (4128, 0.04191898111261581), (748, 0.04183392254017506), (3311, 0.04183206341150344), (2712, 0.04181683531920367), (1109, 0.04172624671637591), (2000, 0.041671423764335816), (3264, 0.041628207892258004), (1699, 0.04160285550425739), (3973, 0.04149664277150257), (2931, 0.041468707766073996), (587, 0.04145483414476221), (113, 0.04140059813601131), (3011, 0.04139010988882644), (2303, 0.041279502804418895), (3344, 0.04124161893478615), (963, 0.04122037941906121), (874, 0.041209269542884314), (3878, 0.041181894643559556), (2432, 0.041135506941080646), (2711, 0.04096907968495253), (3909, 0.04083562323471594), (1744, 0.04069653785091957), (1682, 0.04065917295828608), (631, 0.04053550479931627), (1890, 0.04046652415253215), (4189, 0.04032653137284702), (1356, 0.04029062420807807), (2516, 0.04013940692683329), (1249, 0.04013354285533211), (2474, 0.04011983152778498), (3711, 0.040047770549594346), (934, 0.04003790410395683), (1957, 0.0399049543060782), (433, 0.03986595653832463), (916, 0.03983671413161627), (1279, 0.039724402479944375), (1044, 0.039705354864075774), (1734, 0.03969430418584082), (3698, 0.039640199771356646), (814, 0.039583923251917785), (143, 0.039541411272310006), (2842, 0.0395327387086376), (2198, 0.03949929525171625), (1818, 0.039471715091117576), (511, 0.039459974811168766), (1374, 0.03945268023827204), (1214, 0.03943941604222733), (452, 0.03938519577980045), (4077, 0.03937599062413331), (79, 0.039301251601613185), (538, 0.03918199037739986), (876, 0.03916725540428232), (2981, 0.03916114537240817), (1811, 0.03907398939561786), (1572, 0.038977456376088127), (3023, 0.038927774610388176), (2616, 0.0388662124311362), (2844, 0.03885926873095018), (1574, 0.03885761317647555), (2341, 0.038843595902871855), (1099, 0.03884303110632437), (563, 0.03882498194535139), (4157, 0.03879667843373189), (2463, 0.03875229884705979), (908, 0.038741101364640096), (148, 0.038727176621580414), (2321, 0.03872669657058668), (3399, 0.038701578374150544), (2798, 0.03867418526024314), (3265, 0.038608040478749425), (3851, 0.03859910350504277), (3444, 0.038533380972352135), (1794, 0.038499277529598634), (4192, 0.03849276981088206), (1786, 0.03838610714111691), (1113, 0.03837367436061222), (356, 0.03834512994377601), (2732, 0.03820758438833623), (2411, 0.038174135574829536), (762, 0.03807856567916756), (1691, 0.03776847244518332), (1793, 0.03767818219368829), (898, 0.03767285439636308), (2252, 0.037664991835122064), (3649, 0.03763324894748954), (3409, 0.03762223953128484), (2580, 0.0375722930134782), (1848, 0.03757146470339906), (2351, 0.03746649511700252), (3456, 0.037432295708129046), (2342, 0.03735141081133025), (719, 0.0373142168408887), (1678, 0.03726726303060728), (45, 0.037153283431116554), (3566, 0.037032453672618176), (4061, 0.037023795558070956), (1723, 0.03700973273670873), (669, 0.036988637297233784), (1329, 0.036969737126316474), (4655, 0.036942836774077906), (551, 0.036940518139862606), (2584, 0.036863238035796664), (1654, 0.036782278806129935), (2606, 0.036720997357079226), (2867, 0.03669263771641199), (2627, 0.03669015542382167), (3026, 0.03665102956223301), (2977, 0.03659020196731493), (570, 0.03652743019871864), (2380, 0.03650696108601468), (1339, 0.03647372797957384), (3141, 0.03636960059963744), (3920, 0.036361630356691974), (1480, 0.036334689274205606), (2045, 0.03631764321498816), (4007, 0.03630712036053275), (287, 0.03630231288227509), (3811, 0.03628083113236648), (1602, 0.03621180803922505), (1875, 0.03620317839911724), (2466, 0.03618735621806783), (3389, 0.03614838163001494), (82, 0.036045091104912184), (3938, 0.03602910708236763), (2456, 0.03602267619242808), (788, 0.035934956349092974), (1510, 0.035908754790617656), (2307, 0.035799882433583716), (1680, 0.035774548182926344), (2175, 0.035725923223595975), (35, 0.035699081391166336), (1071, 0.035692310126452916), (1173, 0.03556888843706414), (2508, 0.035558660044008726), (1442, 0.03554371616850044), (901, 0.035490266790254056), (4104, 0.03548873128842962), (1925, 0.03544271994862526), (4494, 0.03539770640852866), (3299, 0.03534477132374718), (2790, 0.03530464873801279), (578, 0.03526290757871408), (2878, 0.0352568050420272), (4563, 0.035187229570134426), (2550, 0.03518321732690813), (4025, 0.03516464287847439), (3174, 0.03501104247158138), (3253, 0.034998224527233536), (337, 0.03494873172245501), (334, 0.034931633460973555), (1494, 0.03491875568734516), (2526, 0.034917372482815894), (2531, 0.034869392521112284), (3762, 0.03484083363508284), (1994, 0.03482325714536351), (597, 0.034778108457677176), (1074, 0.03473729414247697), (1759, 0.03471561575756463), (2430, 0.03468003558617311), (1775, 0.034673302061724184), (212, 0.034639943552838434), (161, 0.03463658405491375), (4612, 0.034634128762695504), (75, 0.0346079304469019), (1688, 0.034563531354919456), (4205, 0.03455673318308302), (1345, 0.034554150485365524), (3240, 0.034533005698913696), (2815, 0.03451718490648769), (4746, 0.03437982284986362), (3425, 0.034303114746121674), (1493, 0.03429226170678628), (616, 0.03428766822692667), (2216, 0.03427735044825255), (1506, 0.03425086550859581), (4388, 0.034235988620141676), (4174, 0.034190268534623786), (1351, 0.034118314041549344), (1403, 0.034098002101532264), (105, 0.034071179586252685), (1915, 0.0340530670274464), (281, 0.03402994242250873), (4001, 0.03395248614137797), (1931, 0.03395111963869929), (2477, 0.03385345155226964), (653, 0.03380595876183706), (4110, 0.03380100782818224), (475, 0.0337775842391635), (1418, 0.03376820690964462), (2487, 0.03373968650395259), (1988, 0.033707009074380054), (2074, 0.03362201912026066), (775, 0.03360882861718369), (277, 0.033477432882879674), (2975, 0.03345919302411311), (557, 0.03343881196646174), (583, 0.03341569026919136), (4207, 0.03341028239383595), (3830, 0.03339240095769935), (106, 0.03335283575983557), (3926, 0.033345279867079164), (756, 0.0333389457749907), (3164, 0.03328439321086952), (4515, 0.03326041723910923), (2464, 0.033243626187112955), (810, 0.03324074414853161), (1695, 0.03322562697633521), (1799, 0.03321558110922377), (665, 0.03320304589980859), (635, 0.033110480034070196), (1068, 0.03304854618660981), (2, 0.03303991044319317), (4009, 0.03301942228897871), (1764, 0.033012568176217325), (3515, 0.03297228702690258), (2043, 0.03297198405768941), (2211, 0.032933561143166534), (4555, 0.03286008337668517), (737, 0.03282414364991301), (2112, 0.03280642818617058), (899, 0.032788539659570154), (1781, 0.03278039308552398), (1114, 0.03276179336819448), (3449, 0.03275447494632162), (3226, 0.03271442543167924), (2276, 0.032704144510511006), (2227, 0.032624278929994), (1471, 0.03257759472958472), (3284, 0.0325769351349328), (3238, 0.03248704823485144), (2375, 0.03247541456473307), (1861, 0.03246460187190226), (1812, 0.03239667443989164), (930, 0.032366143151842074), (2868, 0.032349939426212726), (2431, 0.03230560976188183), (2443, 0.03229441183985226), (642, 0.03227270826280758), (2055, 0.03223760742123466), (4256, 0.03216618395032558), (4689, 0.032032471599918906), (1822, 0.031997464939972256), (3050, 0.03197660527925534), (3246, 0.0319156408389731), (2160, 0.03189517239907015), (523, 0.031879881321854035), (1518, 0.0318370139052092), (2143, 0.0318300638173953), (3458, 0.031820799316446616), (3416, 0.03180876009959421), (945, 0.03178330351122397), (4566, 0.03177716733024365), (2985, 0.031767179702807784), (811, 0.03176672300724588), (1760, 0.03172614925203031), (1396, 0.03171545674405951), (1295, 0.03169117661127371), (2706, 0.03165039134408803), (4225, 0.03164343563503488), (1746, 0.03163415048001655), (3360, 0.03159547139877841), (529, 0.031582997240335996), (2105, 0.03152490734228908), (1804, 0.03148426212003976), (735, 0.03144398745169793), (3424, 0.03139295055815364), (2354, 0.031364742958638094), (1016, 0.03136412798534148), (4592, 0.03129179128610175), (1477, 0.03126375272089256), (709, 0.03124961612246926), (1703, 0.031189132735139603), (1018, 0.03116265703800389), (537, 0.031159853812961692), (4450, 0.031118764757028468), (1271, 0.03106155634799099), (1111, 0.03099083478092709), (3541, 0.030958316654232577), (357, 0.030899449190801963), (56, 0.030877295254280866), (1951, 0.030876707410613997), (3526, 0.030869989252433255), (1843, 0.030859587324061282), (3543, 0.03083759262483575), (1087, 0.030832131849160706), (3204, 0.030825267048881475), (2174, 0.03078975524521558), (1413, 0.030778371649423243), (4369, 0.03076748934532855), (2236, 0.030757706679266306), (2294, 0.030728539434838997), (317, 0.030616959574493806), (137, 0.03060193579277594), (1308, 0.03054390059435155), (4399, 0.030468160769881895), (135, 0.030467246649423442), (531, 0.030461651995696355), (4329, 0.030352667459929414), (2013, 0.030344102789312197), (2783, 0.030336443447540155), (867, 0.030331421467555315), (309, 0.030291793422160436), (3508, 0.030287601392287436), (4109, 0.030273832362460923), (2008, 0.030208219927774303), (3856, 0.030205410293556882), (2022, 0.030204095009077978), (3673, 0.03018874108764483), (131, 0.030114044683635533), (2829, 0.030073160300245552), (62, 0.03003911401055003), (78, 0.030039065052204144), (2988, 0.030033782757671386), (3564, 0.030005797735004905), (4201, 0.029951428120811828), (726, 0.02994043485529168), (3172, 0.029925393364645593), (498, 0.02992457894306677), (3790, 0.029918103089191357), (2134, 0.02991336472557575), (3441, 0.02989679595100465), (2396, 0.029829459497576545), (266, 0.029768325626692477), (119, 0.02975365572489931), (1354, 0.02974015239268632), (2789, 0.02970425681127703), (1162, 0.02968356859598163), (2598, 0.02964491454748871), (2560, 0.029634232883872822), (2481, 0.029621106787306783), (2632, 0.029614266792581966), (3594, 0.029606054900865642), (4203, 0.029597478931475962), (1293, 0.029581332278558043), (1586, 0.029571525424351593), (689, 0.029560455466386422), (2517, 0.02952880079005969), (2969, 0.029500977662062607), (4576, 0.029456153003928426), (4682, 0.02942737897899404), (2062, 0.029365372363187814), (3237, 0.029358108902385643), (847, 0.029280507762556824), (681, 0.029232349621649237), (1376, 0.029223784350997376), (1825, 0.029169193600473826), (417, 0.02915630520162272), (4658, 0.029155962808150956), (1369, 0.029112618670175), (442, 0.02910791998780211), (2680, 0.02907028806144401), (3595, 0.029001051111706415), (2873, 0.0290007881754505), (2339, 0.02900069352694299), (853, 0.028979761889399026), (4013, 0.028956053914454733), (3747, 0.02891238004509379), (781, 0.02890394686882606), (409, 0.028898657532582715), (3039, 0.02889394144237137), (4472, 0.028893075611152605), (1511, 0.02888029002690905), (470, 0.028871273396212208), (2625, 0.028820028042654794), (4073, 0.02881215028421985), (2808, 0.02880150451557569), (1721, 0.028798830646037967), (1877, 0.028784165974519015), (648, 0.028762190397213592), (962, 0.02875666669871619), (2052, 0.028701883953671042), (3822, 0.02867003322865534), (3592, 0.02862965456857538), (4531, 0.02861487293830276), (2319, 0.028610468087207457), (3446, 0.0285716420673117), (1307, 0.028539671906624292), (2436, 0.028538346626429064), (1144, 0.028491047662304165), (3447, 0.02843745388120337), (372, 0.02841212119624572), (896, 0.028394895510098654), (684, 0.02838922221295273), (3144, 0.028357282748141307), (1379, 0.028332600592646143), (4643, 0.02832922100047388), (3562, 0.02830748431637945), (2933, 0.02827250343237101), (568, 0.028127507500082208), (1650, 0.028121777112898087), (1486, 0.028120110970711192), (4217, 0.028108375138085652), (1312, 0.028094860366295233), (2485, 0.02807348556592959), (995, 0.02806952638003557), (785, 0.028065978750767082), (1304, 0.028058677980218227), (1583, 0.027974103337151304), (2603, 0.027961051147751596), (3303, 0.02792979864976353), (4226, 0.02791461794142317), (2665, 0.02791012977597536), (2461, 0.027909362261994353), (1341, 0.027819490480261045), (4621, 0.027792116438443967), (91, 0.02778856993798502), (3342, 0.027755190365880318), (840, 0.02774080487410242), (1365, 0.02773370683075302), (1984, 0.027724395773824496), (1503, 0.027647443904482098), (3989, 0.027644061978557063), (4492, 0.027607959162479146), (162, 0.02755145774850325), (25, 0.02753893075694212), (1571, 0.027524421580907704), (155, 0.02751873003327981), (2983, 0.027516867669403977), (9, 0.027506241560757393), (2777, 0.027502955444949618), (2649, 0.027486788029927184), (2230, 0.02746487178284125), (699, 0.027422330310213947), (1172, 0.027407602421641218), (691, 0.027394995775046706), (3445, 0.027388464709453254), (4351, 0.027382431334142303), (3825, 0.02738164789438695), (428, 0.027380374082809793), (4055, 0.027353840941754744), (1626, 0.027332086706837937), (3083, 0.027319557361376798), (4757, 0.027295912639961173), (2285, 0.02728898689180447), (1453, 0.027272270913242656), (3308, 0.02726180820869389), (1543, 0.027234787831812452), (3218, 0.027221695464971725), (3142, 0.027220230359442467), (2447, 0.02713280880083036), (1095, 0.027102506016425783), (906, 0.027094312389737578), (3392, 0.027064650717868354), (3096, 0.02700180036392464), (2596, 0.026901564948191858), (2287, 0.02689664936695415), (2568, 0.026864611334307738), (374, 0.026844111136723244), (243, 0.026813034006050267), (2633, 0.026806382443358198), (2696, 0.026768485948364947), (1553, 0.026765487473028877), (1026, 0.02670738847449929), (3919, 0.02669211455287476), (3228, 0.02665682084365041), (1918, 0.02663572389547642), (1737, 0.026593187515698086), (1136, 0.026587326144197905), (2118, 0.026566286531395245), (738, 0.026558432717960177), (2814, 0.02648113733923222), (228, 0.026475339659948444), (4486, 0.026466237107034694), (3910, 0.026464838969520125), (358, 0.02646168287488903), (2095, 0.02643738256872629), (2816, 0.02641986048337749), (3648, 0.02641937516241534), (1935, 0.02641611222530123), (2688, 0.026403923784015997), (329, 0.026393857506079275), (881, 0.02638377782642042), (3759, 0.026364176922085696), (3565, 0.026321059536380132), (2951, 0.026285836794436888), (3868, 0.026260892312047902), (1982, 0.026244609746553356), (692, 0.026211576775618056), (517, 0.02620514480251658), (3085, 0.026151060039090165), (620, 0.026132312522251303), (1827, 0.026029618541699835), (1392, 0.026022616935915736), (2484, 0.026018177195666296), (251, 0.025993434507459192), (1216, 0.02598251142102137), (1539, 0.0259500512537515), (4344, 0.025924078636573228), (4652, 0.025908068355445183), (4210, 0.02589912488186106), (3386, 0.025872036725693884), (3655, 0.025867543339688402), (177, 0.02585332922772173), (3182, 0.025845112451652608), (214, 0.025837392873429375), (2587, 0.025826066665586626), (437, 0.025816638608730003), (3721, 0.02581416682917283), (790, 0.025777823404007243), (2193, 0.02576613243992524), (3752, 0.02576437512762534), (1987, 0.025747394882442952), (4415, 0.0257444670878395), (264, 0.0257355830026404), (1382, 0.025732583817477825), (3071, 0.025707146545350043), (403, 0.025704983680391993), (1260, 0.025686927176772248), (3951, 0.02563001371883698), (2656, 0.025619841266996585), (54, 0.02560857741340103), (338, 0.02559083035472572), (4113, 0.02557676662223399), (3352, 0.025575961164998676), (3270, 0.02553310238298126), (3033, 0.02551938953850238), (1501, 0.02550153685834257), (787, 0.02547814200877896), (2628, 0.025473631787436977), (2729, 0.025454994361672152), (2416, 0.025447754767016665), (1215, 0.02544221199148162), (2070, 0.02542386401611635), (2273, 0.02540973234452322), (346, 0.025372104339128215), (4726, 0.02533432349641495), (2180, 0.02529887963076344), (3222, 0.02528573831117848), (1524, 0.025136271269913545), (556, 0.025125696747989704), (3558, 0.02511876497401173), (2504, 0.025092502567067736), (441, 0.025061264415661366), (3661, 0.025051620136751114), (2318, 0.02504024007581122), (3563, 0.02501428659127288), (4413, 0.02496838723600053), (2638, 0.024957332534036956), (3066, 0.024947030721770156), (4442, 0.024928148747509187), (773, 0.024861820614879827), (112, 0.024857982193255346), (465, 0.024839616471501545), (4335, 0.024834117923798894), (1103, 0.024813907723824982), (771, 0.024808610880193586), (138, 0.024791870077382958), (4262, 0.024789383102387888), (412, 0.024776470100316618), (2740, 0.02473179981503128), (1342, 0.024721642276919264), (1004, 0.024685220033427557), (873, 0.024658721083583045), (968, 0.02464639796338326), (3992, 0.024645461913207767), (3528, 0.024635186239753828), (284, 0.024624188652961086), (1867, 0.024620888238251006), (1319, 0.024610580898773462), (2056, 0.02460540064082073), (3998, 0.02459946914735009), (4564, 0.024585557963985018), (521, 0.024584014653028372), (1191, 0.024577604476965588), (1132, 0.024538601713682027), (4070, 0.024485560650300213), (1446, 0.024469067831045885), (1596, 0.024460701661682783), (3442, 0.024425624717257143), (4054, 0.024417137413561444), (1526, 0.02440034198877345), (3754, 0.024385160461453392), (3801, 0.02437646366270085), (0, 0.024358736265803257), (3215, 0.02435334679706145), (259, 0.02434087988867251), (768, 0.024340469900385565), (1210, 0.024320746375903656), (336, 0.024309361637808845), (2694, 0.024289449570687942), (1950, 0.024278631484514257), (4141, 0.024258822016088595), (3860, 0.024247307706209843), (4272, 0.024223668983111287), (979, 0.024205988416909976), (477, 0.024191162944870413), (252, 0.0241003918040327), (1416, 0.024097267363958702), (1459, 0.024097249056377643), (4496, 0.024067530439863743), (4257, 0.02405362711560091), (4752, 0.024052229262035596), (4433, 0.024024754633951612), (32, 0.024005651438369285), (1043, 0.024003816341549897), (852, 0.023995407434498222), (731, 0.023995335602856587), (1467, 0.023988982755740376), (808, 0.02398607271610351), (342, 0.023928408803270934), (3229, 0.023915656512739747), (1903, 0.02388564082524052), (2992, 0.02380796683649731), (4723, 0.023792035126272277), (3622, 0.02378107389294445), (159, 0.023735526001764828), (2874, 0.023698262636777944), (3152, 0.023665786957541488), (4038, 0.023660870036135116), (232, 0.023649771475303782), (2258, 0.023642252645587447), (1863, 0.023641646595149703), (2320, 0.02358925172330235), (1579, 0.02357883320004073), (2964, 0.023472330430839822), (3457, 0.023417452279548508), (4406, 0.02340983360311237), (1619, 0.023408393179343408), (821, 0.02338485368455416), (3921, 0.0233818623063876), (754, 0.023358472362858873), (935, 0.023331935994079435), (1219, 0.02331797333923272), (3610, 0.02325277819082041), (4374, 0.023238360714438785), (301, 0.023235403510593552), (2163, 0.023192708420549824), (4560, 0.023186467813702365), (1005, 0.02318045619366231), (710, 0.02316022694014581), (3733, 0.023151939021848374), (4695, 0.02314918066302077), (600, 0.023113051783730458), (2015, 0.02311000651520736), (4282, 0.023090655984732145), (3890, 0.023083328336817817), (2720, 0.023074553807505574), (195, 0.02306901191810473), (3905, 0.023062670901320963), (588, 0.02299785725708619), (2640, 0.02298279590636926), (1041, 0.022979749031118324), (1259, 0.02292745290985577), (1981, 0.022920209757768876), (189, 0.022918502596255177), (3108, 0.022917221238212146), (1584, 0.022908458223233234), (37, 0.022899421560974187), (664, 0.022888316171701204), (4584, 0.022877031226966677), (2691, 0.02285259758352866), (1675, 0.022852082377273902), (1841, 0.022845852313686556), (3244, 0.02283747688784393), (3463, 0.02283041350622048), (1048, 0.022825824319448337), (2801, 0.022814828211081842), (2203, 0.022812181038558314), (2249, 0.02280102553382103), (3536, 0.022791285377905243), (3865, 0.022771353384681822), (1195, 0.02276891746998707), (1224, 0.02275933248180419), (615, 0.02275375702045953), (3667, 0.022724828823821066), (3689, 0.022720001866558048), (1594, 0.022718764789165544), (4467, 0.02268934365616193), (4366, 0.022673407816248978), (1292, 0.022644565923934174), (2031, 0.022635970039369038), (4132, 0.02263313414320499), (1116, 0.02263068470116112), (656, 0.0226172916391971), (3598, 0.022603190878047068), (831, 0.022594102993039936), (193, 0.02258575676741545), (306, 0.022555781400338884), (2124, 0.022534354761055423), (919, 0.02249115278113123), (1229, 0.022475400019362997), (2079, 0.022474798287794136), (1270, 0.02244331553285499), (1077, 0.022440302136682393), (569, 0.0224312117806671), (803, 0.022419997790109638), (1266, 0.022409655084028784), (1250, 0.022387918156318888), (1318, 0.02238214487817903), (2421, 0.022380293177935988), (1235, 0.022364249648250047), (850, 0.022361726843481783), (3879, 0.022325089354078044), (982, 0.02232141499154382), (3643, 0.02231474100850319), (1194, 0.022308985359750618), (353, 0.02230879509010627), (1359, 0.022286833781986537), (3983, 0.022267826772510067), (2277, 0.02226621162884915), (1234, 0.022266091844128783), (83, 0.022258879360662693), (2848, 0.02225759929763505), (1985, 0.02219556712147107), (864, 0.022195474028644788), (3234, 0.022179674059090666), (209, 0.022164536193950597), (413, 0.022147342888188273), (2109, 0.02214189143642866), (4702, 0.022139670259540736), (897, 0.022132608827561087), (1964, 0.022129820554046616), (4006, 0.022118870773041935), (3492, 0.022104674480762903), (104, 0.0221042270291023), (3748, 0.022092439372074214), (1908, 0.02208229297649819), (779, 0.02207131882601822), (1821, 0.02206497209580903), (981, 0.022039730160995728), (1722, 0.02201704440872078), (4332, 0.022014245985235395), (2554, 0.021994903298584067), (1679, 0.021985905406221803), (1592, 0.021969516389834295), (4440, 0.02196096668103209), (86, 0.02195931768345847), (3327, 0.021958657192964103), (3936, 0.021934248334363447), (809, 0.02193082510360818), (2524, 0.021924066867365262), (1429, 0.02192115549900898), (3272, 0.021910924656451888), (280, 0.021908125451623683), (1262, 0.02190700835905922), (4118, 0.02188181628146374), (4511, 0.021847187850059565), (191, 0.02184258641971508), (60, 0.0218423585207952), (4160, 0.021817351048223212), (2503, 0.02178156039463277), (2412, 0.02178113903080829), (2480, 0.0217767666948432), (3194, 0.021734902276406527), (1692, 0.021733280419632718), (2671, 0.02171189846380998), (752, 0.02170416680389991), (1852, 0.02166090794014438), (2047, 0.021633046317840313), (3368, 0.021607796913102453), (1551, 0.021588619134784187), (1492, 0.021574373906435646), (970, 0.021573261725676158), (4685, 0.021565267974864414), (175, 0.02156090304157028), (1807, 0.021545525034501647), (3046, 0.021543751804467527), (527, 0.021539604402500405), (4679, 0.021522727076910643), (978, 0.021510751168118177), (2428, 0.021474808189328537), (418, 0.021463332103368735), (969, 0.02146181813070375), (2687, 0.021450574850183493), (1053, 0.021447392299559175), (238, 0.02144598230645162), (618, 0.021443858299133325), (2590, 0.021436261483938995), (2917, 0.021430567762827302), (2726, 0.021416343723185696), (2698, 0.021401116091287135), (2103, 0.021388453570110273), (2945, 0.021342238878742457), (579, 0.021315001490147367), (292, 0.0213113226522365), (1091, 0.021303377161664395), (1689, 0.021289205679424113), (643, 0.02128521325510701), (723, 0.021235373294003927), (733, 0.021181672764249385), (4523, 0.02117154935407009), (3596, 0.021141196947565177), (3375, 0.021136198879588747), (4171, 0.021124332634951053), (3826, 0.02111713307104463), (464, 0.021115208623347696), (1537, 0.021078359367957305), (782, 0.02107774741351666), (1242, 0.021065700172934), (3626, 0.021056565946219588), (3504, 0.021039103075416343), (322, 0.0210353532788636), (2817, 0.020993228882847298), (2387, 0.020981203496508335), (1125, 0.020951429131435162), (274, 0.02093695959218578), (1742, 0.02092639295795299), (2335, 0.020923855343227986), (3151, 0.020923750639330035), (29, 0.02091751155716106), (3784, 0.02090755256268359), (2147, 0.020897290821412368), (3914, 0.02088551677166874), (2019, 0.02088270639402754), (1756, 0.020870517520981444), (3464, 0.020865574125722697), (1184, 0.02080253253297652), (2094, 0.02078596600068606), (3323, 0.020765051656047744), (3259, 0.020763104922066074), (156, 0.020742608706376554), (966, 0.020739369261867473), (321, 0.020734038094850547), (1280, 0.02072096741330365), (2437, 0.02069711510310979), (4015, 0.02069246366265553), (742, 0.020647569670050644), (1495, 0.020644108726370278), (2675, 0.020638574385862814), (478, 0.02063686660410807), (3407, 0.02062115880381283), (1105, 0.020592724366013445), (866, 0.020574762268618405), (4341, 0.0205673697357417), (3018, 0.020560488011275878), (3410, 0.020547312509224994), (1546, 0.020541205503203395), (1206, 0.020533712167498268), (640, 0.020494423952376405), (1052, 0.020489239019552973), (3789, 0.020476681093675793), (1790, 0.020470968641345413), (1372, 0.020452415529196258), (2492, 0.020418430876957595), (3032, 0.020410413626223582), (2511, 0.02040694427638637), (2774, 0.020403607571673053), (296, 0.020391803066571533), (1792, 0.020375925152955457), (332, 0.02037243227540562), (2693, 0.02032652129084419), (411, 0.020314167422957566), (3366, 0.02030741353138335), (1255, 0.020297086266835837), (2769, 0.020268936145954576), (971, 0.02026480790450857), (2622, 0.020257909535199854), (4342, 0.020241110932310246), (469, 0.020231474851596945), (4066, 0.020222483055918852), (4011, 0.02021830549738167), (1517, 0.02020222224929119), (1317, 0.02019911356050829), (2014, 0.02018179767609624), (4649, 0.020172297722543794), (3503, 0.020162754428902474), (4042, 0.020139759151353496), (1171, 0.020047864727115478), (1587, 0.020040490596114895), (3073, 0.020020222695783654), (3256, 0.02001773156295552), (4010, 0.020006365119111913), (973, 0.019991417393473838), (3179, 0.01998128956175794), (2225, 0.01996991476257875), (4271, 0.019945919108977025), (2947, 0.019944609325212567), (4074, 0.019917162659073454), (1866, 0.01991073960144442), (3739, 0.019904238281260783), (4741, 0.01989457028367951), (1805, 0.019866893308170055), (2555, 0.019853306650395624), (1809, 0.01985133464623203), (1221, 0.0198511133925522), (3885, 0.01983412387329686), (2001, 0.01982879949534044), (1220, 0.019825361889272815), (1200, 0.019817442097818896), (2763, 0.019816591121421697), (4756, 0.019808634398217277), (3309, 0.019805252420542978), (463, 0.01979760567079426), (2403, 0.019792028773590254), (2553, 0.019782296199303037), (2313, 0.019756284363916778), (938, 0.019734465163765938), (473, 0.019725231880559038), (3765, 0.019710760367045013), (327, 0.019704364246756003), (2422, 0.019696930403461953), (1998, 0.019693919552548476), (1777, 0.019606201410627525), (1762, 0.019595525032420628), (4589, 0.019573730503656635), (2202, 0.01953937512282365), (3781, 0.019537499986016588), (1668, 0.019537080771916855), (4057, 0.01952415189522667), (3345, 0.01952365282720177), (3477, 0.019522347384376304), (115, 0.019513958450594428), (2167, 0.019498563806617623), (2398, 0.019494184131759858), (4105, 0.019462245796836218), (3022, 0.01945512389014909), (1411, 0.019454844204292308), (2830, 0.019430384368974974), (3741, 0.01942550183958181), (2427, 0.019425084050694985), (2367, 0.01942351200238725), (2399, 0.019409496886976987), (3060, 0.019398926809960054), (4293, 0.019347813566409085), (4248, 0.019343888235098212), (215, 0.019341800033803768), (1700, 0.01933837542927226), (3260, 0.019316386026473314), (780, 0.01930577013526973), (40, 0.01926306658661004), (4259, 0.01925923560904355), (2207, 0.019250351587161412), (1487, 0.019238615968749272), (4267, 0.01920267619758346), (1029, 0.019201877630886946), (1263, 0.019189316911506694), (1253, 0.019187561209178656), (2322, 0.019177894761559518), (1272, 0.01917304493552719), (924, 0.01913302817673643), (3097, 0.01911890896101287), (2209, 0.019117803644229513), (429, 0.019110314218617423), (2843, 0.019069235099561245), (1496, 0.019067723298165994), (660, 0.019047460165855835), (3304, 0.019039613736114104), (2626, 0.019029222831472944), (4748, 0.01902364908098484), (1658, 0.01901204653106906), (2942, 0.019007286025712507), (1093, 0.019004683013597583), (3149, 0.018990171625824205), (2904, 0.018965935809888618), (1597, 0.01896504838848343), (1536, 0.018961733750879065), (2614, 0.01895687816335917), (1009, 0.018950717014773473), (2512, 0.01894721079930707), (4252, 0.018942263261233497), (2049, 0.018931513025809428), (2131, 0.018912877104642088), (2071, 0.018877277323135933), (2123, 0.01887394305616178), (4158, 0.018860273032898577), (725, 0.018827154309427784), (2291, 0.018818676438072533), (3692, 0.018797801947838016), (1291, 0.01879592932270697), (2101, 0.01879188420380756), (813, 0.018782453867213562), (278, 0.01877801289576271), (3090, 0.01876646201582974), (363, 0.01876458467372333), (2020, 0.018736479106260074), (3731, 0.018732315108867435), (3414, 0.018719769241112023), (1743, 0.018696856143521987), (1690, 0.018686558791297304), (3000, 0.01866979502803239), (4134, 0.018669410179976472), (3646, 0.01861610042732881), (4297, 0.018594518402397762), (4119, 0.018586853088196287), (2360, 0.01858307814176038), (2127, 0.018579600149134325), (1715, 0.01857563886535921), (575, 0.018566655581161544), (872, 0.018562017464585814), (2865, 0.018559830733640315), (2923, 0.018553704917535694), (1895, 0.01854627432045035), (101, 0.018542180053846162), (2116, 0.018533761227958447), (547, 0.018519366609999532), (4375, 0.018514660781975393), (4551, 0.01850737358279975), (1824, 0.01850620259939246), (242, 0.01849522944399288), (3199, 0.01849049868941767), (4662, 0.01847252204418191), (2036, 0.01847144199062546), (807, 0.018464686349526062), (3821, 0.018421304055558984), (4371, 0.0184147673755116), (2679, 0.018413543621393177), (202, 0.01840521676420883), (2996, 0.01840373063351177), (3924, 0.018383059459341163), (3728, 0.0183629840266447), (3677, 0.018356684666443437), (2327, 0.01835580237916612), (1767, 0.018332699296761946), (690, 0.018317648615401912), (3713, 0.018313724173136522), (2413, 0.01831311882049082), (445, 0.018287286988136593), (3927, 0.0182830041556003), (3321, 0.01821622614777927), (621, 0.018214785201200803), (3397, 0.01821033566981855), (2876, 0.01820940957728331), (3633, 0.018173138839696894), (1997, 0.018169108175738146), (34, 0.01816690388767786), (2563, 0.018166546400920903), (2032, 0.018161288200004358), (4052, 0.0181490587324921), (2853, 0.01814320380988137), (3957, 0.018105084990163493), (1432, 0.01806081767119069), (1727, 0.018027448220919146), (7, 0.018019897960876892), (4600, 0.018017105589361607), (4312, 0.01796708905329071), (871, 0.017938413180678056), (1334, 0.017922215304668615), (2601, 0.017908946168023257), (2854, 0.017902244521484645), (4431, 0.017884376348548097), (3489, 0.017872464787359058), (1911, 0.017832929712961527), (225, 0.01782399955416722), (1124, 0.017803329810191053), (4546, 0.01779960074542301), (2744, 0.017797254307720518), (74, 0.017785658289883263), (671, 0.017731844959326944), (1377, 0.017718942499394312), (959, 0.017711304232160222), (1991, 0.01771084683301637), (4265, 0.017698296450918295), (297, 0.017692242022746173), (1108, 0.017691282326286074), (707, 0.017685782072054013), (220, 0.017680081332239347), (4744, 0.01767458655927388), (929, 0.017659768451570364), (4041, 0.017658445109475788), (1222, 0.017626971072392163), (2080, 0.017617865527959572), (1581, 0.017599842594862858), (4240, 0.017596959032468773), (3632, 0.017552461304559057), (1079, 0.017549663550159713), (4624, 0.017536131368516415), (3516, 0.017531069802216158), (668, 0.017509402480000737), (4445, 0.01747184517378885), (4609, 0.01745783426785785), (1027, 0.01743647978807467), (2154, 0.017425293741258528), (1302, 0.01741682319320609), (4659, 0.017394828704490238), (820, 0.017390987870575324), (3907, 0.017350160225691), (3898, 0.017303950506919963), (3743, 0.017303467799333158), (400, 0.017298330138459835), (545, 0.01729501904912701), (168, 0.017263355774364927), (1831, 0.0172622179607987), (1140, 0.017259531999973498), (434, 0.017250816245786917), (697, 0.017244080535936276), (3161, 0.01722322795703056), (1505, 0.01722200248916599), (2306, 0.017211679889250528), (2963, 0.017211180924689776), (3780, 0.017211149396673116), (1482, 0.0172087816545909), (685, 0.0171789617841869), (4738, 0.017164501926645516), (1644, 0.01715288253069094), (4473, 0.017146781901302283), (1021, 0.017105036591691224), (4353, 0.017097429998362938), (3690, 0.01709021197386818), (3684, 0.017086227871704912), (975, 0.017070347536228755), (2017, 0.01706679282780892), (22, 0.017050718455621464), (3069, 0.017049222190160758), (2330, 0.017043099035709157), (1850, 0.016981280604239254), (891, 0.01697977765501343), (174, 0.016961928524434886), (2061, 0.016938024304672873), (1849, 0.016905303321316054), (1402, 0.016903068763880157), (3316, 0.016896575680918208), (2646, 0.016895185259801992), (1522, 0.016887179825304435), (3063, 0.016876799825951565), (1094, 0.016805423052150312), (3288, 0.016801808963854633), (2087, 0.016795713150612644), (562, 0.01679037099922137), (2793, 0.016772530184853342), (837, 0.016760006927084396), (1871, 0.016735663170683916), (749, 0.016733183057170448), (2818, 0.016706123722731964), (3855, 0.01670533816374602), (11, 0.01669237535941731), (918, 0.016681611553328916), (2509, 0.016675028588155533), (460, 0.016645398093093507), (4367, 0.016641051410482006), (319, 0.01662615166409958), (2736, 0.01662378606913651), (2334, 0.016591346791055925), (402, 0.016584088068484812), (2653, 0.016571033668978198), (3965, 0.01655914420316404), (1839, 0.01655788436703612), (1655, 0.016548157732244766), (4053, 0.016545909151617386), (3658, 0.016543796123978546), (4373, 0.016535416214434003), (4169, 0.016527693307309667), (1431, 0.01650610100145513), (1666, 0.01649136254383137), (4303, 0.01648996490861545), (3678, 0.016487592663865847), (622, 0.016486908914476062), (2498, 0.016472542501794824), (3297, 0.016467932606948055), (530, 0.016461880598844857), (727, 0.016430156970439414), (1552, 0.016418433215170745), (2309, 0.016403911788638464), (4045, 0.016391887999476714), (2610, 0.016378767180664836), (3454, 0.01635845481073211), (2102, 0.016348700660715733), (1893, 0.016346348304877287), (1327, 0.0163295821041462), (500, 0.01630604282883496), (344, 0.01630013087282676), (3969, 0.016281371302883693), (4137, 0.016267448707427974), (4503, 0.016256972258116856), (4497, 0.016244355876596846), (185, 0.01623468672470258), (197, 0.01621425520094001), (3864, 0.01620535750174327), (211, 0.016199464345108487), (1223, 0.01618183743322557), (949, 0.016181412849694387), (316, 0.016180572485527636), (4554, 0.01617104957954424), (1060, 0.01613498614398526), (3696, 0.016127396968215992), (3010, 0.01612611747778227), (4165, 0.01610005239430372), (2219, 0.016090382878250487), (2250, 0.01608469466643417), (310, 0.016067276351939025), (3330, 0.016064593746911385), (439, 0.016024624557260593), (2877, 0.016021977737910195), (4603, 0.016018305471958233), (3524, 0.01600584648831554), (2362, 0.016003716571211322), (3970, 0.015994409517245286), (894, 0.015968064675891756), (798, 0.015958891976858316), (1062, 0.015957071371930424), (3122, 0.015953360551562164), (1001, 0.015938428213789674), (2417, 0.015928256907261566), (3130, 0.015927184425057715), (3094, 0.015917791669155655), (1755, 0.015913503423693284), (221, 0.01590009047566198), (2765, 0.015895999539001383), (1857, 0.015869011260415265), (2224, 0.015868701241452943), (1630, 0.015867735915136558), (1143, 0.01586363771861104), (3532, 0.0158545251743177), (911, 0.015843219792538853), (3839, 0.01583917766163319), (3767, 0.01577450890383407), (1014, 0.015761103898623348), (3197, 0.015757455052360696), (658, 0.015755667691495768), (510, 0.01573721169286514), (1134, 0.015737079284687417), (3823, 0.015723532606017027), (739, 0.015713206362054834), (1451, 0.01570825954817608), (2267, 0.015701105598462266), (3329, 0.015699016824838784), (958, 0.01569579070185803), (2178, 0.015679081851065), (1035, 0.015659684880828237), (2734, 0.01564793323374482), (4568, 0.015630944861642605), (4328, 0.015622566339557822), (4389, 0.015602021347661373), (2265, 0.015589359230328908), (2862, 0.015585075440968276), (125, 0.01557400466846613), (2571, 0.015573779817102439), (2245, 0.015569291556701247), (3423, 0.015566018365853697), (1463, 0.015541742820912984), (1421, 0.015539738587750884), (1297, 0.015511150294520822), (1750, 0.01549540525978208), (486, 0.015479891555497389), (1823, 0.015472648940889138), (2051, 0.015456323157304655), (4438, 0.015454083115890764), (1713, 0.015447713286983597), (4237, 0.015436236930339586), (540, 0.01543434533563767), (122, 0.015405018240366492), (1066, 0.015402054264488827), (2936, 0.015399826770758655), (4155, 0.015399638775995945), (4565, 0.01538540093442916), (2185, 0.015383823201332818), (854, 0.01538368858852966), (4152, 0.015379298812175896), (444, 0.015343163109637441), (524, 0.015341376111823027), (2791, 0.01533686185116574), (41, 0.0153225442379002), (2892, 0.015301298137738124), (1023, 0.015291821191877346), (767, 0.015291007182825814), (1888, 0.015224335737904621), (1069, 0.015220695624589282), (3819, 0.015219834523641972), (686, 0.015219116724998356), (1208, 0.015209506599560293), (3008, 0.015208516594337137), (1039, 0.015203292254961018), (4619, 0.015193295010341251), (1780, 0.015182343653988581), (170, 0.015152137161930809), (3133, 0.015151292108621955), (3157, 0.01514196451034958), (1454, 0.015124925091319083), (476, 0.015115795934511405), (2338, 0.015109050191100806), (2505, 0.015108172428221774), (4337, 0.015105154835896167), (3869, 0.01509517453262729), (4290, 0.015093500315078098), (1422, 0.01508985810793663), (4059, 0.015074408439737744), (100, 0.01506053876597261), (3797, 0.01505410999715986), (3121, 0.015053972059281287), (492, 0.015049791076969242), (3027, 0.015048473611335633), (1684, 0.01504216906784445), (861, 0.015034062290726785), (3966, 0.015033639288972469), (2040, 0.015029204003791138), (3387, 0.015022679291792046), (948, 0.015021159306152837), (2820, 0.015020030953059683), (1677, 0.015014240868085033), (715, 0.015011894687869192), (1817, 0.015007724749612752), (1509, 0.015005747009098425), (410, 0.014996630083417006), (481, 0.014975350492004491), (887, 0.014972954953607684), (2214, 0.01497218180923211), (1456, 0.014961924076433274), (2244, 0.014961838034379053), (3718, 0.0149472459001091), (240, 0.014920231623123788), (2317, 0.014914868631002469), (2581, 0.014907805744678097), (3201, 0.014906090868735388), (4402, 0.014905189979908678), (3509, 0.014898692304055598), (1098, 0.014869216310669675), (2724, 0.014860133620387716), (1600, 0.014858949099980296), (324, 0.014857067724427117), (629, 0.014828521800077852), (4196, 0.01481277855223937), (829, 0.014807826590503548), (2915, 0.014793953140111702), (4587, 0.01478779672968972), (3916, 0.01477426320866113), (395, 0.014774180422946447), (1634, 0.014762281767658685), (1608, 0.014761225681373245), (1897, 0.014750046317979987), (3577, 0.014743343073610055), (2363, 0.014742855778512889), (1428, 0.01470806613210873), (1015, 0.01470553639419185), (1833, 0.014704428238881953), (2098, 0.014688953901097125), (1324, 0.014688898482948782), (2704, 0.014678012352731801), (2522, 0.014676052618536392), (2237, 0.014674282075317705), (2749, 0.014670329363522158), (844, 0.0146631133292713), (2730, 0.014657850922802897), (3403, 0.014651337342425219), (1770, 0.014627915638449533), (4012, 0.014626974195714532), (340, 0.01461662548499863), (960, 0.014614458888068543), (1708, 0.014611363128755725), (3095, 0.014605198648105224), (2819, 0.01458748535994816), (2714, 0.01457364428823055), (3252, 0.01454749195662437), (1712, 0.014541292527726669), (1141, 0.01453820690465163), (2096, 0.014500088316353098), (1779, 0.014483699173146162), (3211, 0.01447920604495513), (1407, 0.014457016487160218), (165, 0.014456500574052155), (208, 0.014442854470368173), (4590, 0.014434072626391792), (2565, 0.01443121055207634), (4610, 0.014412148100747268), (3483, 0.014403739534165223), (3559, 0.014393504751458775), (1685, 0.014393233170954771), (3107, 0.014386466993785763), (2177, 0.014376931917375543), (3129, 0.014367779039244483), (1384, 0.014346524853283839), (368, 0.014319890764290456), (2697, 0.014292671570922795), (173, 0.01425768515495279), (584, 0.014248476761367465), (416, 0.01420210736418768), (482, 0.014199449593568718), (1475, 0.014181915941938152), (2545, 0.01417325079646295), (163, 0.014171209975507732), (386, 0.014165580771671519), (1186, 0.014153891675510975), (776, 0.014145319438091325), (902, 0.014125659111053577), (1840, 0.014117159121376097), (302, 0.014102162820808156), (2439, 0.01409868920398539), (313, 0.014098499196224206), (2738, 0.014078501297463731), (4199, 0.014050945849212168), (904, 0.014043254085549666), (1629, 0.014042680980913077), (153, 0.014021372557560379), (994, 0.013993991884442798), (1860, 0.01399054261966994), (2857, 0.013980948979754989), (1816, 0.013970522646905377), (4031, 0.013945817126169269), (1936, 0.01390386373461158), (1761, 0.013902157964864941), (4581, 0.013898604114600135), (1182, 0.013879759200685758), (406, 0.013879694600717772), (1180, 0.01387355347971885), (2708, 0.013866543699236403), (3147, 0.013866014240074977), (258, 0.013864299203481617), (1512, 0.013860039781099481), (4360, 0.013843805196621905), (2488, 0.013841895882107685), (2155, 0.0138418008732728), (1942, 0.013840628551928745), (4725, 0.013826299440661296), (1305, 0.013825208601921008), (1758, 0.01379517295690267), (3367, 0.013792002044644583), (4255, 0.01379066714265069), (4364, 0.013783420868142939), (3364, 0.013771960692772318), (4454, 0.013763275718167406), (3866, 0.01375146137548228), (1241, 0.013747709041476971), (1321, 0.013730024332735753), (2144, 0.013722217337437363), (2012, 0.01371960564970528), (1945, 0.013707260079537119), (1464, 0.013698625030393765), (3317, 0.013697141930483346), (1876, 0.01368214252666934), (3858, 0.013680297084160672), (1971, 0.013662849610554324), (4541, 0.013657409599204605), (2781, 0.01364959878327664), (2756, 0.013634828906518286), (38, 0.013633542401740233), (1385, 0.013621101121783354), (2486, 0.013620753230444177), (2831, 0.013619621645412494), (1873, 0.013617456365837733), (2608, 0.013574288594393722), (4121, 0.013568642383949364), (3346, 0.013567828622915949), (109, 0.01356277446427623), (1612, 0.01354673568291308), (1110, 0.013535363557857437), (634, 0.013527456218894757), (58, 0.01351599258357188), (64, 0.013500718166373861), (789, 0.013495740276814041), (834, 0.013493232029100015), (1928, 0.013487170265142135), (3553, 0.013482798199929556), (1012, 0.013476577458140574), (2518, 0.013467661316324653), (1226, 0.013467026279422737), (2802, 0.01346495483303249), (1406, 0.01345828295674715), (4641, 0.013451969364154968), (3067, 0.013439269049584963), (2113, 0.013437898650333877), (4674, 0.013431497728495036), (4039, 0.013423474021362557), (2574, 0.013423207198523954), (3484, 0.013405416968860093), (282, 0.013402061603843198), (2672, 0.013371479801348143), (4108, 0.013348986933251067), (3221, 0.013343061287271033), (2980, 0.013342050584669762), (1696, 0.013340056631933923), (1128, 0.013330082382009481), (1773, 0.013328655904874257), (446, 0.013270798258376331), (2766, 0.013269452258474777), (2218, 0.013262791376201698), (230, 0.01324823519654138), (3681, 0.013243516219762708), (687, 0.013235757110874673), (1096, 0.013234817622020714), (4064, 0.01323426511417273), (1017, 0.013222810868596559), (273, 0.01320143572084314), (2641, 0.013195507352208913), (817, 0.013164819423663364), (2779, 0.013145396338635805), (2035, 0.013144314942674134), (4336, 0.013140286057921249), (651, 0.013133991800369808), (3881, 0.013131903753061596), (19, 0.013125469973682736), (85, 0.013087201111038688), (1864, 0.013084580536166719), (1733, 0.013080615462396535), (237, 0.013077395371554834), (2884, 0.01307480180488529), (679, 0.013053216842511442), (1020, 0.01305151935230833), (3730, 0.013041218673608334), (196, 0.013032392727879429), (4182, 0.013028333644575663), (2458, 0.013000830635272704), (2187, 0.012999004341030893), (116, 0.01299650347279816), (3783, 0.012987687782795075), (300, 0.012960557554735115), (2473, 0.012956016181647092), (2121, 0.012951210215377621), (164, 0.012944745571622963), (2004, 0.012942352511422813), (455, 0.012939283406088548), (144, 0.012928078535519113), (1019, 0.01290930276595788), (2751, 0.01290062105491774), (414, 0.01289549531311365), (2982, 0.012889663666301253), (1246, 0.012887857499225858), (1640, 0.012885039177093893), (1664, 0.012884248666125928), (2496, 0.01287767895806142), (812, 0.012863064886129549), (835, 0.01286255882145917), (1647, 0.01285957500459683), (3056, 0.0128537144356888), (3954, 0.012839169202337153), (1390, 0.012834911472136083), (294, 0.012834692655218086), (944, 0.01282955299541446), (2078, 0.012819941574034429), (1520, 0.01280648560670508), (2528, 0.01278787298521288), (307, 0.01276047432280325), (1623, 0.01275136065773516), (2940, 0.012751121863973649), (734, 0.01274053599138737), (833, 0.012731643751324373), (468, 0.0127301207995937), (1489, 0.012726879501398999), (900, 0.012719525074159008), (3461, 0.012716461357414742), (2086, 0.012705974262454832), (392, 0.012672365621348233), (361, 0.01266375143495438), (921, 0.012661013835166969), (2326, 0.012657502809846424), (3426, 0.01265498312931689), (838, 0.012649805238702225), (2064, 0.012648438396031692), (3829, 0.012645720745252545), (2742, 0.012630684660540594), (2119, 0.012619940307580055), (2755, 0.012614793159108826), (2562, 0.012591293757322488), (1514, 0.012590056075836955), (766, 0.012587430750279417), (248, 0.012585208872645729), (4236, 0.012581250251987999), (1519, 0.012580021552213161), (1923, 0.01257884573492097), (1920, 0.012578433849888942), (3114, 0.012576282969884944), (218, 0.01257168607365181), (1578, 0.012564829008481358), (3277, 0.012561519152715458), (15, 0.012547862637036852), (385, 0.012538208267291982), (3656, 0.012537386399293974), (1336, 0.012526351315855711), (4193, 0.012522975149648029), (3474, 0.012512659989389918), (2493, 0.012500293631412255), (1648, 0.01248863775326692), (43, 0.012486772924974866), (3150, 0.01248186228292028), (2110, 0.01248183778272206), (1881, 0.012477909283020094), (183, 0.0124764273526757), (3870, 0.012471977012849855), (1660, 0.012464702528506795), (4448, 0.012458784323839575), (4154, 0.012443058520431894), (890, 0.012442071198574147), (1047, 0.012429550380903653), (2410, 0.012425211223454427), (1851, 0.012420002399643023), (2546, 0.012419183733249298), (956, 0.012409268058851775), (1613, 0.012408924939278566), (2241, 0.012405554003312284), (199, 0.012404328271857628), (4097, 0.012403389861455493), (1730, 0.012402598117979722), (1702, 0.0123994313542474), (1080, 0.012396511248634497), (997, 0.012384579992596505), (2803, 0.012380191922796392), (1155, 0.012373167625113276), (2011, 0.012370138911607731), (3930, 0.012350740472132348), (1538, 0.012348208776577317), (3549, 0.012337847485509998), (2222, 0.012322429741002122), (1921, 0.0123065635604482), (449, 0.012303604738197556), (1961, 0.01228995087052632), (3722, 0.012265875637877106), (4086, 0.012256229278812078), (1726, 0.01224201112433687), (1316, 0.01224118151841545), (936, 0.012240447962317944), (1525, 0.01223170422134791), (800, 0.012227712520136706), (1564, 0.012218183175723091), (2607, 0.012193875346554122), (110, 0.012192603951009573), (2444, 0.012168911563561114), (200, 0.012167560475906595), (2661, 0.01215873304893498), (3356, 0.012157839378739398), (3283, 0.012151453405555786), (1934, 0.012147004629639501), (732, 0.012144281674152943), (405, 0.012142253096457776), (1776, 0.012127288239571168), (4173, 0.012118187410383922), (28, 0.012112493803541173), (2636, 0.012101921850847942), (4135, 0.012099081021072416), (2391, 0.012097018160779958), (3650, 0.012088076429948708), (2935, 0.012082099362208621), (1751, 0.01207007471296777), (3109, 0.01206266037750154), (705, 0.012043622979513396), (1577, 0.012034011690540674), (940, 0.012018144724487763), (519, 0.012011604638787341), (736, 0.012009859464913003), (2208, 0.012004423960045692), (504, 0.012001964982167272), (205, 0.011993262971493196), (2813, 0.011955309781458236), (1170, 0.011943271885806956), (931, 0.011921631918212647), (3343, 0.011917801613786715), (2046, 0.011914996405345067), (2760, 0.011909034906807997), (1902, 0.01190504033539332), (3665, 0.011901477447760487), (3189, 0.011899721150858793), (4635, 0.011893270673333374), (3880, 0.011868692266531368), (525, 0.011865997234916615), (2527, 0.01184354399188729), (4385, 0.011840614568651967), (4394, 0.011838161322891859), (2621, 0.01183568051205491), (204, 0.011832810403732894), (797, 0.011820530524584186), (2692, 0.011813232567949578), (2382, 0.01179598704512669), (147, 0.011769656733030412), (1447, 0.011766933775923997), (2128, 0.011731348066090875), (3644, 0.011721081589664594), (169, 0.01172102789767292), (2807, 0.011703629511693847), (2329, 0.011701478104644902), (4287, 0.01170140527113511), (4112, 0.011644668825999347), (1557, 0.011638380419817337), (617, 0.011626166332846272), (3289, 0.011607421446157382), (4395, 0.011605906460947968), (846, 0.011597562127802248), (42, 0.011585196854637296), (3209, 0.011583577618415124), (13, 0.011576640298438067), (3912, 0.011571388968039928), (345, 0.011562309056146062), (1373, 0.011557637904779608), (3127, 0.011555779405580849), (3065, 0.011555163464430791), (4197, 0.011546464739878512), (528, 0.011532624772867223), (3812, 0.011528097882376513), (2003, 0.01152539687621491), (3641, 0.011521616557341186), (2397, 0.011519123529656837), (3792, 0.011518216261656819), (1368, 0.011510408609113626), (2197, 0.011506012906871843), (3634, 0.011502104144368256), (1092, 0.011477625515240519), (585, 0.011476395376480873), (3886, 0.011457071680492203), (427, 0.01144292203361348), (2449, 0.011399579437480427), (883, 0.011396015613813355), (2897, 0.011395039294939362), (822, 0.01137415058885194), (2409, 0.011362271237371586), (2631, 0.011329212389474565), (1738, 0.011325338802965802), (44, 0.011324346231727069), (3188, 0.011313318475189769), (3712, 0.011300529580361363), (946, 0.011271035370675184), (142, 0.011255386171834207), (3313, 0.011242448872551498), (1973, 0.011222602533977239), (2311, 0.011222226349830836), (3940, 0.01121609736864675), (1914, 0.011211968110389556), (3320, 0.01120477596217925), (507, 0.01120181237805701), (4542, 0.011197994383760304), (2534, 0.011190029626306504), (843, 0.01118750307582554), (535, 0.011175642830920391), (279, 0.011168250406442821), (4556, 0.011165654837548169), (1757, 0.011157522871478311), (484, 0.011146753018357262), (2673, 0.011123155248436711), (1330, 0.011118402926994928), (1778, 0.011111908611631192), (3685, 0.011111467104089908), (1084, 0.011098226544740014), (1589, 0.011094751243972367), (2615, 0.011082026779507658), (2446, 0.011080408605549166), (454, 0.01107200760233814), (1037, 0.011066351402981692), (1642, 0.011041258853445503), (1284, 0.011025532318382918), (2547, 0.011010871651966295), (2491, 0.010999152161355849), (3328, 0.010991882865542854), (662, 0.01098152944493603), (907, 0.010970839830747207), (2666, 0.010966777067840158), (3348, 0.01096106512923627), (4444, 0.010953189993907824), (3571, 0.010946396813420951), (2908, 0.010932237512867222), (14, 0.01091650807388993), (3145, 0.01086317920841667), (3295, 0.010856616932263682), (1288, 0.010854538448605884), (1784, 0.010832880403056622), (63, 0.010826963821428774), (3315, 0.010819740470090483), (4647, 0.01078770427467746), (4321, 0.010783065580199404), (984, 0.010773574163640845), (1719, 0.01076664404919045), (2645, 0.010760936540556359), (1878, 0.010754154802473093), (2262, 0.010747736086052272), (2271, 0.01071886685360232), (2514, 0.010718011170502957), (859, 0.01070624161291578), (325, 0.010702909295810633), (885, 0.010700533968397475), (1256, 0.01069404128898772), (3231, 0.010683091270067183), (939, 0.010683047880013001), (4646, 0.01066099621256735), (2469, 0.010651096973845893), (1025, 0.010631082914243173), (1417, 0.010619206107823659), (497, 0.010616262658499524), (702, 0.010596741482999012), (1747, 0.010586983873828334), (1548, 0.010584131272117879), (1992, 0.010581347785818441), (1468, 0.010574490669758328), (1394, 0.01056960699046753), (2699, 0.010566642298670211), (1899, 0.01055882050457835), (3578, 0.01055387928452325), (3732, 0.010552204581684098), (659, 0.010550285830219256), (3946, 0.010549755035932435), (1457, 0.010547838243132908), (1673, 0.010544244464573475), (4356, 0.01053349182885665), (1353, 0.010531118617599908), (2275, 0.010505892804861068), (1610, 0.010486467634586088), (2093, 0.010475104227446675), (3411, 0.010466664507227384), (2315, 0.010439632300051172), (271, 0.010425819135157291), (3638, 0.01042497321531955), (2445, 0.010424604320267657), (2274, 0.010421493798021701), (920, 0.010397661416877957), (4242, 0.01038779597816181), (1774, 0.010387228280280533), (4186, 0.010367973927381357), (3285, 0.010352196456860422), (2007, 0.010338240306114292), (4660, 0.010310828699048376), (2728, 0.010309436664170238), (1669, 0.010288234703950794), (3393, 0.010260333219815655), (2402, 0.01025728334789061), (4194, 0.010241350623854253), (741, 0.010164699786696277), (3448, 0.010143361423489627), (3219, 0.01013843077654699), (1178, 0.010134377776793088), (3502, 0.010120729093137474), (2855, 0.010116793891626964), (2204, 0.010113025620975252), (1978, 0.010094863169681615), (1010, 0.010090169616135585), (3082, 0.010073587283423537), (3674, 0.010070308551471186), (2076, 0.010061640523429945), (3481, 0.010040351856208156), (2296, 0.010021479962057338), (712, 0.010006647329343536), (912, 0.009959546326263037), (1405, 0.009957442560701146), (283, 0.009955431758856489), (1343, 0.00993993060200603), (2240, 0.009939330084973632), (512, 0.00993818440152526), (3430, 0.009930041836455943), (3232, 0.009902742153087837), (520, 0.009896288284544141), (2460, 0.009870657191886803), (4594, 0.009848814648208875), (2539, 0.00983223507859246), (892, 0.009812140785628597), (4449, 0.009810999239089511), (491, 0.009775202247945265), (2822, 0.00977482935661), (4477, 0.009768699157560144), (641, 0.009741793278931673), (3312, 0.009711783307838678), (3450, 0.009711105247775381), (4002, 0.009710603494098378), (4281, 0.009664034035289978), (3230, 0.009653329949887908), (448, 0.00965130964508774), (380, 0.00960580381904182), (1381, 0.009595383553433196), (614, 0.00959367569515679), (1639, 0.009588377606215196), (1300, 0.009577159128263058), (2785, 0.009573532300530192), (3651, 0.009565298354706694), (2851, 0.0095448986699595), (2157, 0.00952379436682061), (3538, 0.009512480881826121), (424, 0.009494002501862326), (786, 0.009486326318750404), (425, 0.009485765398760627), (3960, 0.009479416549588204), (2377, 0.009470145325009614), (2188, 0.00946792084234356), (4462, 0.009449190255967391), (1011, 0.009443102530225914), (2532, 0.009439665681879365), (683, 0.009439592736752355), (1349, 0.009421346754064077), (3587, 0.009419053384173278), (4368, 0.009410519618056069), (666, 0.00940911640230896), (1716, 0.009377428123557408), (250, 0.009356522381680629), (2025, 0.009343166076714699), (701, 0.009333819756096783), (2840, 0.009325794944831177), (1474, 0.009324915261328734), (747, 0.009322308198707111), (4120, 0.009320361368861696), (3877, 0.009309707667070377), (3817, 0.009301473647219234), (2331, 0.009293013293578359), (3857, 0.009287150417402653), (4549, 0.00927577090388859), (1725, 0.009243940837709512), (366, 0.009236606126414056), (421, 0.009226417331187727), (48, 0.009213192132085664), (371, 0.009200980725737348), (4490, 0.009200307054427464), (4091, 0.009187517114561235), (1681, 0.009179941530050913), (2233, 0.009176018621108275), (3831, 0.009169236603517986), (1963, 0.00916377502556593), (677, 0.009163601579756165), (1344, 0.00915862557917346), (123, 0.009148194203305576), (102, 0.009135119371339978), (4338, 0.009132889183533647), (369, 0.009130224510546323), (4732, 0.00912001565773557), (675, 0.009118588049716481), (1646, 0.009113174906043926), (2406, 0.009112625756941028), (1056, 0.009097485550765469), (1940, 0.009067142443319014), (192, 0.009043612511167878), (704, 0.009041178681534787), (1150, 0.00901868287821509), (4076, 0.009007982428346403), (1952, 0.00900397401307746), (2269, 0.00900395692610251), (3586, 0.008998691007638393), (753, 0.008993006425544597), (420, 0.008991212596223711), (2263, 0.008974169442681415), (4269, 0.008968900348303464), (3131, 0.008945772133207444), (2725, 0.008942407547079945), (12, 0.008929158248612084), (3438, 0.008926480342997926), (1277, 0.008921215740242364), (2609, 0.008918626800741614), (10, 0.008910726177592799), (2283, 0.008910711228264277), (792, 0.008894427736207595), (3117, 0.008893616962292834), (603, 0.00889354515549517), (680, 0.008892381397093174), (1031, 0.008890203796060188), (2952, 0.008878602714322338), (2719, 0.008873536099212834), (1896, 0.008870408397442242), (913, 0.008869375921548435), (239, 0.008869090160124786), (3724, 0.008866001326196351), (1687, 0.008865495337940461), (3897, 0.00886532267857059), (2689, 0.008863716897678972), (3618, 0.00886314870358826), (1426, 0.008858786852515853), (4613, 0.008851646494803843), (1436, 0.008847115477907072), (765, 0.008837016395537267), (3777, 0.008834555049660098), (3103, 0.008834435090660129), (926, 0.008833935362753042), (1502, 0.008829928210824024), (483, 0.008828423400463734), (1380, 0.008818382360250057), (1859, 0.008816893858358862), (654, 0.008812820257848792), (1185, 0.008809307219468498), (4187, 0.00880262621169199), (2809, 0.008801252547256194), (1104, 0.00880093799381414), (599, 0.008796711066147803), (3654, 0.008793843958953681), (1643, 0.008778446106776494), (2400, 0.008774624096339202), (4363, 0.008757521514282302), (4699, 0.008753126711404673), (298, 0.008734570089849578), (4333, 0.008729597431545662), (928, 0.008725729036813677), (201, 0.008723882069810174), (4629, 0.008722706553837396), (717, 0.008719716217846276), (3832, 0.008712303480979684), (4136, 0.008710524799004877), (2911, 0.008702284232419224), (2259, 0.008692456636067965), (3778, 0.008685324991627035), (2921, 0.008680732847308808), (2016, 0.00868035408855814), (216, 0.008668737706877809), (3507, 0.008667979654714665), (2072, 0.008664334410749836), (4379, 0.008663376822030744), (3959, 0.008660375556603836), (2053, 0.008632646755870778), (2126, 0.008623174500537147), (1636, 0.008615164395706367), (3233, 0.0086020369281442), (3001, 0.00859714056606505), (2619, 0.008594254441999832), (688, 0.008593997958311287), (4376, 0.008572687460020881), (3701, 0.008572161151607404), (2784, 0.008546478818306029), (1554, 0.008541494900346638), (1704, 0.008523466518728278), (4283, 0.008523311849974638), (3810, 0.008520300134659424), (2788, 0.008512593772610572), (832, 0.008501901608104798), (2210, 0.008501444494922567), (4068, 0.008494739591203228), (802, 0.008488614995730117), (2278, 0.008482801500597246), (3497, 0.008476348394476033), (2647, 0.008468830260271742), (3813, 0.008464696129498806), (3551, 0.008439188443918635), (2414, 0.008428577031885293), (2169, 0.008415614603164326), (3642, 0.008412612035003597), (4686, 0.008412542069207244), (4755, 0.008412293241138895), (1346, 0.008409333985128517), (4604, 0.00840673000607585), (3125, 0.008402866106065403), (2501, 0.0084017811914155), (3491, 0.008394391559156375), (3269, 0.008391826225611639), (347, 0.008389877661119378), (560, 0.008386852632121387), (3086, 0.008380631718118111), (4330, 0.008366228018567087), (3612, 0.00836476213365289), (1179, 0.00836040545632326), (299, 0.00836021578049926), (272, 0.008359065454826765), (305, 0.008353450097725005), (2246, 0.00834585330636687), (3955, 0.008344284838081646), (2195, 0.008339517701565534), (2900, 0.008334975288999654), (485, 0.008313785327550746), (610, 0.00831351955808322), (3774, 0.00830732712597284), (4574, 0.008306575743014551), (988, 0.008305186914601278), (3963, 0.008298974459093895), (3374, 0.008298195120572486), (4482, 0.00829317294403595), (65, 0.008291819216237716), (227, 0.00829100784784318), (1119, 0.008282875949082377), (3435, 0.008280294206676628), (2393, 0.008279077146984221), (348, 0.008277242070938018), (1059, 0.008276903222907516), (4241, 0.008269527986910597), (769, 0.008252103658886801), (613, 0.00824178670136633), (612, 0.00823679308063471), (384, 0.008232426529552774), (3746, 0.008231168852545368), (1314, 0.008225416490854962), (1338, 0.008223982266719426), (4284, 0.008204251691668583), (2196, 0.008203978080598178), (4286, 0.008202228944164587), (3557, 0.008199572696864721), (3835, 0.008193297595253928), (2713, 0.008191373946685402), (84, 0.00818698429059224), (4599, 0.008186196053540786), (150, 0.008185119926408982), (4033, 0.008184380284416839), (1225, 0.008184166552375841), (2910, 0.008181106075907715), (4687, 0.008175913529960192), (2029, 0.00816335025908992), (1617, 0.008163072531463915), (3208, 0.008155200650604943), (3412, 0.008154910638122837), (1653, 0.008153940955239245), (4387, 0.008153146543567472), (3709, 0.008149814309243317), (2054, 0.008146049138227791), (3242, 0.008145006212742922), (1233, 0.008128512255582655), (3994, 0.008125687576936595), (845, 0.008121829757789285), (152, 0.008120095335996029), (4639, 0.008117794882803245), (270, 0.008113538621816619), (72, 0.008109302775664158), (4550, 0.00810603319414893), (2893, 0.008093061291773581), (1201, 0.008082393581020034), (3028, 0.008080176944285467), (1645, 0.008077768064272345), (4089, 0.008077724992530627), (1347, 0.0080764311912405), (2268, 0.008075426891718501), (1534, 0.00807386143141045), (4504, 0.008070166353958325), (1969, 0.008069337333081614), (3720, 0.008069118517171776), (2405, 0.008068723298401812), (261, 0.00806730882626922), (2650, 0.008060271361705566), (3849, 0.008057724843654395), (1932, 0.008055667985725226), (447, 0.008055602074179264), (223, 0.008051766982647007), (987, 0.00804662948690199), (915, 0.008045961993472607), (3917, 0.008043405599807351), (179, 0.0080371501094606), (637, 0.008033671212734465), (3053, 0.008024108975252247), (3786, 0.008022853098848438), (3568, 0.008019037769388216), (18, 0.008017803674579107), (1632, 0.008016959584530818), (3567, 0.008011144789520933), (806, 0.008005993015470888), (4279, 0.007995993855964391), (4481, 0.007989026934532538), (3153, 0.007988634369401898), (1218, 0.007976765190832843), (2304, 0.007973814438780787), (2852, 0.007969676074287321), (865, 0.007965825888989872), (1273, 0.007957852833818538), (1375, 0.007947210034142187), (644, 0.007943128941608948), (4441, 0.00794292278246391), (3465, 0.007942148318693049), (1274, 0.007940844042060257), (4428, 0.007939738256704078), (171, 0.007937089727009565), (3950, 0.007933147892159695), (1435, 0.007931431962868989), (260, 0.007930869638785872), (3891, 0.00791833711009245), (4684, 0.007916858408210733), (3361, 0.007915237823533873), (3293, 0.007914182388759846), (4124, 0.007911901102095095), (408, 0.00790547031860598), (1404, 0.007903904939402913), (1122, 0.007898265309200481), (878, 0.007897605891379706), (1054, 0.007895538579735087), (388, 0.007893479937405367), (3967, 0.007889226043913272), (824, 0.007887214503527015), (387, 0.00788594137810426), (3192, 0.00788403324296414), (4292, 0.007878094259325235), (2023, 0.007874043432875759), (2525, 0.007873615415291652), (2662, 0.007865622238870175), (4026, 0.00786288450793127), (2899, 0.007860209069605432), (3193, 0.00785464596376495), (2139, 0.007847624452832103), (3057, 0.00784400543821591), (661, 0.007843903047968863), (1930, 0.007842481110870714), (2130, 0.007842069805396637), (548, 0.007841010377036916), (4548, 0.00783816724375075), (3421, 0.007835866633554884), (1335, 0.007835171425459234), (1706, 0.007828582112207728), (2938, 0.007827718462595537), (974, 0.007827490374419838), (426, 0.007820897247992118), (1620, 0.00781854109867988), (2552, 0.007817531985783792), (696, 0.00780878435448727), (4634, 0.00780226347786315), (2682, 0.007801251068975843), (1803, 0.007793833316233809), (451, 0.00779143516804926), (3427, 0.007787228196042428), (3280, 0.007784741987626462), (1555, 0.007784005270862038), (315, 0.007781784763013679), (5, 0.007781007439127512), (1430, 0.007774921157440394), (4310, 0.007765784171123324), (549, 0.007757893410029183), (1563, 0.007753427341609244), (4427, 0.007749217455324357), (66, 0.007742791810512761), (96, 0.007738834899197381), (744, 0.007732655717650519), (3854, 0.0077323359384489304), (805, 0.007732156779213536), (335, 0.0077301227402115456), (3807, 0.007717247825785899), (2482, 0.007707290910230797), (590, 0.007706550329296863), (4708, 0.007698668887401035), (1891, 0.007690611571308918), (4348, 0.007689485542372988), (4176, 0.007688571427241254), (2776, 0.007686289382165566), (94, 0.0076786238771008), (466, 0.007669839662619113), (3306, 0.007665728206640316), (80, 0.007661448776135218), (2920, 0.007650518080304193), (4094, 0.007648318012296133), (1782, 0.007647580829984467), (4339, 0.0076380006141640285), (4347, 0.007636863025734572), (1568, 0.007630421165997283), (291, 0.007621633858394103), (2654, 0.007620352043680518), (1990, 0.007617862184526316), (1360, 0.007610025062112689), (2151, 0.007608959060957332), (352, 0.007599663264434381), (740, 0.007598095534305016), (3459, 0.007597815197387492), (246, 0.007589597140210055), (2499, 0.007587845803378758), (3934, 0.007578446598300066), (1595, 0.007566966762244186), (2279, 0.007558906312695151), (4233, 0.007558791536125741), (1846, 0.007557411428396785), (2566, 0.0075449227326349275), (2401, 0.007539666175235301), (3370, 0.007530373583884295), (3336, 0.007526065120542226), (3986, 0.007523386301509169), (1000, 0.007520722890229138), (4143, 0.0075161509916078905), (722, 0.0075132066973136995), (1808, 0.007498918260593809), (3841, 0.007498518372839505), (3111, 0.007483757558674087), (1076, 0.00747818820738673), (2100, 0.007459894509752357), (1034, 0.007429421013476242), (52, 0.007417698858152891), (3985, 0.0074162730307413115), (882, 0.007411982875800353), (1207, 0.007411495847529361), (2148, 0.007397049613885526), (495, 0.007395487758000251), (3390, 0.007391661718148329), (33, 0.007389490938351402), (713, 0.007385972076127018), (166, 0.007384558799686627), (2106, 0.007377570106707207), (2965, 0.007369462483104729), (4628, 0.007366082635875891), (184, 0.007363056803786063), (2906, 0.007361432955789636), (360, 0.007361289065985758), (827, 0.007359727350770907), (97, 0.007337843567242328), (3894, 0.007333273393379429), (2234, 0.007329756278093637), (3016, 0.007326381516759658), (1036, 0.007316874194948705), (3637, 0.007312338785599655), (1301, 0.007305074207291622), (1585, 0.00730291790650667), (3300, 0.007290488570834834), (3852, 0.007285637335563819), (4569, 0.00728251870881911), (4159, 0.007270684426377286), (1772, 0.007255863990310453), (1086, 0.007245990675256412), (655, 0.00724456956191282), (1559, 0.007236598191740596), (1649, 0.007230096090264242), (2120, 0.007229087969821985), (4149, 0.007215100486520078), (1828, 0.007214879840406851), (111, 0.007206681720320161), (234, 0.007196372342485116), (2761, 0.007195469205535545), (2129, 0.007188541270605522), (2611, 0.007173472229291349), (3993, 0.007167774300902819), (3776, 0.007161175497367236), (1488, 0.007154549447190978), (638, 0.007150180252701326), (1357, 0.007149293495910417), (1565, 0.007147151379523255), (2845, 0.007140484136274808), (3376, 0.0071401743303360675), (1979, 0.0071382549190137975), (1197, 0.0071329577856180755), (1120, 0.0071287916649520255), (1802, 0.007121822948813966), (3876, 0.007121266647976318), (4274, 0.007113591283858364), (801, 0.007106423279624441), (4277, 0.007105911972909185), (3200, 0.007104556736168749), (1352, 0.007102630551349758), (1046, 0.007101999467662188), (331, 0.007088032860180078), (3668, 0.0070774032890511835), (2135, 0.007074614105254505), (1910, 0.007063850286783626), (639, 0.007060656265759272), (3764, 0.007051994714080356), (1535, 0.007031083669982826), (1508, 0.007028217180046052), (3247, 0.007016431760905942), (1657, 0.007006615902698389), (1387, 0.007003407836183739), (2323, 0.007000934860280837), (2973, 0.006999565861856684), (186, 0.006992485986819234), (3318, 0.006991958480359317), (3928, 0.006984525142680181), (3974, 0.006982587435725984), (2457, 0.006978574559663794), (2663, 0.006977044166328834), (1739, 0.006975532499217428), (501, 0.006966416963339141), (3585, 0.006955704657084289), (3167, 0.0069476289315174855), (4719, 0.006911011425756327), (333, 0.006900523340521389), (3099, 0.006900481946145699), (88, 0.00689655289358116), (1530, 0.006847649061596101), (2502, 0.006844744377961619), (2617, 0.006839826612267186), (381, 0.006829349122735803), (4247, 0.0068186232773860675), (4468, 0.006773585268209398), (2823, 0.006756798611506227), (3525, 0.006744552671657848), (3944, 0.006740178852165154), (3077, 0.006739556288652542), (4114, 0.006733005116798398), (1395, 0.006730590800007904), (3980, 0.00670787761965373), (1868, 0.006683747134063623), (3319, 0.006672552057485292), (1886, 0.006645952964123909), (1745, 0.00664017951216716), (2352, 0.00663013291067592), (394, 0.006629939102763714), (3137, 0.006623739470463064), (3693, 0.006619196889017698), (2541, 0.006583395477253503), (314, 0.00650325558900323), (3098, 0.006483204493914352), (2132, 0.006481219465863775), (1042, 0.006479293936725334), (3418, 0.006476563684169305), (3024, 0.006417591773781208), (2034, 0.006391545301026668), (1296, 0.006376248903667224), (1137, 0.006369502625859898), (3254, 0.006343225826133259), (645, 0.006336220660658909), (76, 0.006330047156069956), (953, 0.00624633789224847), (3546, 0.0062383685689137176), (2747, 0.006183802967791384), (2523, 0.006167379213380243), (3630, 0.006159616072661498), (4598, 0.00608631844722056), (4018, 0.006082703235948071), (2737, 0.0059661231539847965), (293, 0.005945298052546692), (3365, 0.0058966071036979685), (2597, 0.005892364765424138), (4498, 0.005848620335796559), (2678, 0.005811367228142477), (3552, 0.0058034792004107464), (3475, 0.005800376866673626), (2701, 0.0057751274584185944), (4571, 0.0056701150895227806), (3178, 0.005641677535332666), (3115, 0.005554963229568601), (2703, 0.005523811558791201), (3512, 0.005471682110503304), (4223, 0.0054695253990440715), (542, 0.0054402151484859666), (2669, 0.0052770453623629445), (3750, 0.0052461611834203805), (2657, 0.005226821163489883), (764, 0.005207733591441364), (2529, 0.005179785533442123), (2684, 0.005167496405875159), (2379, 0.005149732497545503), (2490, 0.005143045568373759), (2659, 0.005139946101337181), (2312, 0.005137287833108229), (2764, 0.005083728316316552), (2858, 0.005057726715170348), (2137, 0.0050574443824876495), (2891, 0.005054455821555486), (3139, 0.005052045320791663), (996, 0.0050352124048159705), (4480, 0.005024198629130066), (2722, 0.0050092866829980825), (3009, 0.004996513119706801), (3040, 0.004983201147600773), (2500, 0.004978560662525702), (3166, 0.004949659266475304), (3266, 0.004936120789086156), (2395, 0.004935892837508628), (3796, 0.0049352320964129595), (4239, 0.0049298209081613765), (3949, 0.004905080271933026), (2537, 0.004895015526475951), (2667, 0.004862315988842316), (2922, 0.004855209620702479), (2404, 0.004853396603516605), (3042, 0.004834826236585275), (4700, 0.004831552649653667), (4115, 0.0048146998878666756), (2990, 0.004803560437789525), (2731, 0.004789765507703685), (4222, 0.0047856061754053885), (3479, 0.0047653803480940254), (4484, 0.004757558202299707), (1939, 0.004735546477209905), (4198, 0.004711682306960808), (3800, 0.0047077465529995225), (2483, 0.004705858737840602), (2715, 0.004697555030415553), (2832, 0.004682863789958342), (2536, 0.004661272856884945), (2948, 0.004646846903750364), (2199, 0.004644929025772411), (3892, 0.004638669019516676), (3439, 0.004628262179925103), (3282, 0.004627574563301354), (2228, 0.004618313007719696), (2928, 0.004607745338742416), (4166, 0.004606723503044316), (4040, 0.004604504451282434), (3715, 0.0046044878536628635), (3217, 0.004598306776430853), (4084, 0.004588339742097546), (2941, 0.00458565522446013), (3078, 0.004585274629037457), (2282, 0.004584578015510549), (391, 0.004570064884718557), (2838, 0.0045602099707932895), (2875, 0.004535221040497147), (4102, 0.004530656209606745), (2455, 0.004529115732973104), (3740, 0.004515926753922518), (2600, 0.004501878716229649), (3087, 0.004501787074513346), (2423, 0.004496945084088894), (3988, 0.004491435368818806), (2543, 0.004477389632105458), (3844, 0.00447151015369074), (2308, 0.004465619648984702), (3249, 0.0044629217996034224), (2939, 0.004444228253980345), (3671, 0.004441738926987553), (4721, 0.004441088294444894), (4058, 0.004438385912466107), (3357, 0.004435435830594732), (2564, 0.004433024004974045), (4562, 0.004432869735975196), (2515, 0.004430102659897297), (3537, 0.004425936210817815), (3922, 0.004404976745975972), (3074, 0.004377921648362701), (2797, 0.004367564281136612), (842, 0.0043631425010485165), (2077, 0.004351759283848791), (3544, 0.004343539199265997), (3089, 0.004335461598373156), (4631, 0.004333206328512725), (3020, 0.004331884977938544), (4127, 0.004331347684638983), (4720, 0.00433100410635929), (3554, 0.0043195155349670545), (4514, 0.0043161129988170234), (751, 0.0043059140023584165), (3257, 0.004299627859530063), (3203, 0.004297437653149296), (2727, 0.004291837934922973), (3054, 0.004287661324717605), (3413, 0.004285958637817428), (4408, 0.004284177915343485), (1941, 0.00427082710236392), (3758, 0.004267743083658325), (2434, 0.004265840447734383), (4570, 0.004265519865481722), (4483, 0.004256638833715151), (4190, 0.004255707994309832), (3996, 0.004254553913248293), (2368, 0.00425295402659852), (2333, 0.004247768191975281), (4204, 0.0042470629519387295), (3686, 0.004242053737898523), (3017, 0.004239574049617063), (1049, 0.004231188067931576), (2009, 0.00422625290093455), (461, 0.004225640199903735), (1615, 0.004225639312975675), (2986, 0.00422074701140501), (795, 0.004217514601667035), (4023, 0.004213974472929154), (4717, 0.004213392710949212), (4711, 0.004211502112048105), (431, 0.004208187513828013), (955, 0.004207289908802815), (3763, 0.004205347019735702), (2570, 0.0041997818199411355), (3621, 0.004198851259216113), (3324, 0.004193583715624035), (4633, 0.004193541505249895), (1187, 0.004192415214217145), (711, 0.004191396319844833), (4285, 0.004187473183509292), (2635, 0.004181067933654876), (1169, 0.004176203927802124), (2846, 0.004175284014926571), (3931, 0.004174204109190057), (4346, 0.0041398221585840665), (2924, 0.004138308123836087), (2261, 0.0041361249406757705), (3190, 0.004134803677273888), (905, 0.004127759116941334), (3408, 0.004126473110759979), (3337, 0.004117269763528063), (4650, 0.004112249001921745), (2872, 0.004107455271255795), (925, 0.004102950483682921), (4507, 0.0040985964531314225), (2478, 0.004096306527556672), (760, 0.0040934867410881304), (3952, 0.004092073779668767), (2676, 0.004091733691078343), (1656, 0.004091025959986677), (1507, 0.004086247161954766), (2796, 0.004083588741635749), (985, 0.004081874311494299), (2305, 0.0040811237800750105), (2702, 0.00407831723781808), (4295, 0.004074057509054178), (1424, 0.0040738448063021475), (4117, 0.0040732950544381166), (3791, 0.004071626563311799), (3772, 0.004060717964510523), (2223, 0.0040571882304714394), (2302, 0.0040529650270199995), (2357, 0.004050931965730688), (4317, 0.004046304090154372), (4737, 0.004045944249782636), (998, 0.00404514307276032), (2186, 0.0040445708661101375), (2138, 0.004044286117307026), (1437, 0.004043371879389606), (999, 0.004041832405086173), (3383, 0.0040404278832055175), (4452, 0.0040360293311336535), (2914, 0.004035513481609802), (3820, 0.004034043258435557), (839, 0.004031521350536284), (1999, 0.0040307568525000505), (1560, 0.004021042550187337), (3168, 0.004018028686148648), (3962, 0.004007569531462368), (139, 0.0040035549652622055), (1311, 0.004003114598110236), (2810, 0.0039991517814123405), (2164, 0.003993983700872015), (2799, 0.003993797692229411), (3146, 0.003991322336043366), (3964, 0.003985196853151272), (2479, 0.003984623786162978), (4453, 0.003984154356691742), (4580, 0.003981862929013625), (4051, 0.003980971958729802), (2381, 0.003978417991751558), (3080, 0.003977343888705803), (2384, 0.00397415157810163), (2782, 0.003972108014185478), (4706, 0.0039643475705556696), (3003, 0.003963929717375357), (1371, 0.003963769585346627), (365, 0.00396256317044733), (1836, 0.003961913930864361), (3808, 0.003961873862339002), (4463, 0.003960789535040138), (3062, 0.003956039026844227), (4324, 0.003955757451169372), (2535, 0.003954921391339551), (3688, 0.003953838648499894), (3371, 0.00395280360525476), (3572, 0.003950605760241858), (3735, 0.003948589839448205), (3652, 0.003942775308283401), (4003, 0.003941704283599985), (362, 0.003939711240874569), (1766, 0.003937642804558434), (4263, 0.003930163497149151), (3519, 0.003928571196723787), (2930, 0.003923276681015307), (1089, 0.003923103743273963), (3581, 0.003922600552254305), (3207, 0.003921267803782458), (3529, 0.003921020853009955), (990, 0.003919847418764592), (141, 0.003919369921104198), (841, 0.00391811344237406), (1844, 0.003917598671823949), (2452, 0.003914684710304618), (4446, 0.003914370979543018), (1479, 0.003913670146981247), (4308, 0.003913149919956987), (2811, 0.003907622955857855), (3183, 0.003907459843763586), (3628, 0.003902061162249275), (253, 0.0039013030340057783), (2575, 0.0039000987964167206), (318, 0.003899557692322706), (4140, 0.003898787772490591), (1806, 0.0038956279437243964), (2968, 0.003894880754547066), (1243, 0.0038920335064213164), (1905, 0.0038902736469785034), (678, 0.0038900485327524755), (3044, 0.0038896110047230183), (4522, 0.0038886471098977565), (4258, 0.0038879170972205305), (2604, 0.0038832762455242725), (2748, 0.00388023032283449), (3258, 0.003880149300757159), (2978, 0.0038799841304100417), (2882, 0.0038775396369618723), (2979, 0.0038767469428111936), (2507, 0.0038762436190279445), (2082, 0.003871093642928012), (3889, 0.0038698810128336477), (2371, 0.0038654287838977663), (2021, 0.0038624560427005096), (4734, 0.003856235065628885), (3510, 0.003846847960002383), (2880, 0.0038458531145194453), (3943, 0.0038355038176524033), (3584, 0.003832224408810789), (3496, 0.003830232187520888), (1637, 0.003827580846284795), (1731, 0.003825634178652235), (3175, 0.0038236825189874486), (2786, 0.0038212537927442536), (4111, 0.003819937390344531), (4131, 0.0038185392405533426), (1683, 0.0038184084725063202), (1409, 0.003817451449350222), (1614, 0.003817303475491468), (2260, 0.0038171672617956483), (1732, 0.003813769903133748), (1609, 0.0038078370622027374), (1333, 0.0038052069036082735), (4357, 0.0038036685552723854), (2970, 0.003803425180750125), (3539, 0.0038016096875602375), (4315, 0.003799973893382648), (1791, 0.003798798612139413), (536, 0.003797493120899617), (1205, 0.0037967356436948), (3236, 0.003795157311884022), (1856, 0.0037947790782655155), (1926, 0.0037916614096687837), (4622, 0.003787689687876169), (4557, 0.003785099421355757), (3084, 0.0037845792315808163), (4489, 0.003784518704992632), (4260, 0.00377148211533417), (4180, 0.0037708213484946755), (1013, 0.003770392052788557), (415, 0.003768958066256945), (3037, 0.003766543173968546), (3041, 0.0037664492487738377), (3422, 0.0037637528500806283), (4420, 0.0037626034234598217), (2394, 0.0037599323478735383), (4323, 0.0037585686988120077), (1389, 0.0037575319335406737), (1007, 0.003756535569993513), (3882, 0.0037554908212557633), (3187, 0.0037550294571546163), (3984, 0.00375268859623099), (667, 0.0037515538904367737), (474, 0.0037493930249288274), (1955, 0.0037481460204011243), (2754, 0.0037410076999344877), (1193, 0.00373912598602943), (3513, 0.0037386042662853674), (1142, 0.003738230042967795), (2217, 0.003735581125682098), (3493, 0.003734793060781994), (2002, 0.0037347142171267837), (3415, 0.003734470967048739), (3038, 0.003732709563949553), (2926, 0.0037317845487582543), (3061, 0.003730805947543767), (1445, 0.0037282809063130307), (1965, 0.003727160057470003), (3514, 0.0037251874256040325), (4421, 0.0037248888922997814), (3591, 0.003724199104831501), (2090, 0.00372413124548004), (2042, 0.0037234906289795957), (3382, 0.003723398545588585), (879, 0.003722753892620772), (2561, 0.003722729049390688), (3310, 0.0037224959637270454), (3845, 0.003721914032509345), (3162, 0.0037208800399340636), (1513, 0.003717111175391489), (586, 0.0037170073198167014), (1024, 0.0037165023119999675), (3224, 0.0037150434846073546), (884, 0.0037124857409453886), (793, 0.003705810427575774), (2325, 0.003704356144195928), (3349, 0.003702046669902065), (2194, 0.0037008685777744927), (784, 0.003699865208401874), (1949, 0.0036993329470008315), (4552, 0.0036986508994207436), (1165, 0.0036962316328166666), (3517, 0.003694648434766066), (1542, 0.0036944420098798825), (2794, 0.00369417372270775), (1469, 0.0036940585236642154), (961, 0.0036918966967600863), (1765, 0.003690566203660296), (4648, 0.003690324110305938), (3287, 0.003688863038839476), (4422, 0.003687475565866019), (3428, 0.0036865037338281795), (3198, 0.003686196763535354), (708, 0.0036815328578646183), (2519, 0.003680688222667327), (1244, 0.00368063842341892), (1735, 0.0036798706795360407), (2648, 0.0036794313339959164), (377, 0.003676572750505509), (59, 0.003676395259585072), (730, 0.0036741842110349214), (2353, 0.003673867986913172), (1697, 0.003672971835306703), (4319, 0.003667634262956355), (2856, 0.003665100737323575), (1917, 0.0036628766246238433), (245, 0.003660149764256022), (869, 0.0036585613439766855), (3169, 0.003658083155274615), (3683, 0.0036525803430689082), (4093, 0.003650103738284824), (2200, 0.0036464427024579483), (4404, 0.003645602968437501), (134, 0.003645169487220626), (933, 0.003644224207475169), (1337, 0.003641474955840198), (2290, 0.003641313948584513), (3113, 0.003639486004778943), (3606, 0.0036382494604383082), (1085, 0.0036377245019686847), (1166, 0.003637341179327583), (3102, 0.0036367767512466473), (3603, 0.003636404352239161), (2292, 0.003634291199856503), (219, 0.00363058874776032), (2746, 0.003628135261238299), (2551, 0.0036256412398413566), (1361, 0.0036246650818732846), (2440, 0.003623848184051352), (2896, 0.0036235935712854816), (1889, 0.0036227070891188227), (4049, 0.0036214420974464228), (2685, 0.003621344589758969), (1204, 0.0036203961811192486), (1533, 0.0036196237332103472), (2041, 0.0036188265925999213), (401, 0.003616526948560359), (2586, 0.00361540519653698), (4214, 0.0036143846782102436), (1473, 0.003614277384710982), (1599, 0.0036128307336587935), (3462, 0.0036126109037009297), (3332, 0.003611034186132262), (1879, 0.0036099769332473904), (1410, 0.0036064374297121895), (1611, 0.003606103258822192), (3676, 0.0036059618573994205), (1769, 0.0036059050265474617), (630, 0.003605457941310673), (3245, 0.0036053018941003168), (1741, 0.003597173943070444), (4300, 0.0035961949405591766), (1232, 0.0035958290921915223), (2192, 0.003593473913364376), (398, 0.0035931162742060766), (312, 0.0035929934035032135), (3155, 0.0035927124866509384), (3034, 0.0035915224972884524), (2994, 0.0035914370653212673), (3494, 0.003591206177367031), (2153, 0.0035878067861567138), (2284, 0.0035875557683747823), (494, 0.003584683118203756), (1388, 0.0035838404920308367), (4184, 0.003582864464526947), (1906, 0.003580408474166165), (2472, 0.0035796260056415795), (943, 0.0035768570972784072), (2081, 0.0035720775677707105), (114, 0.00357169689568241), (2709, 0.0035698547310610753), (2804, 0.0035693944842375134), (3662, 0.0035665164315281054), (4195, 0.003566134737874393), (849, 0.0035659494016534368), (2026, 0.003565466522463825), (1227, 0.003564682330412519), (479, 0.003564089643857114), (4291, 0.0035633007424771867), (1133, 0.003560629905943661), (965, 0.0035604999671402858), (3104, 0.003559946303532506), (3805, 0.003557925641679033), (3106, 0.0035570039358581947), (4457, 0.0035551505990884364), (4675, 0.00355488719532278), (1638, 0.0035544634098776543), (1112, 0.0035540354564070962), (1444, 0.0035507103506345174), (2336, 0.0035482746899801534), (2999, 0.003548069165992162), (3570, 0.003545978081686707), (188, 0.0035450096958181557), (4688, 0.0035430962890155857), (3545, 0.003541778314709979), (2836, 0.003540563012301375), (1834, 0.0035375002770914156), (2280, 0.0035347625490161406), (1837, 0.0035332805766280693), (1198, 0.0035321440822369834), (2060, 0.003532069838034939), (3888, 0.0035306517331972678), (2569, 0.003525909858913637), (2825, 0.0035250560580551344), (50, 0.0035238877523859524), (2435, 0.0035235965188469788), (1126, 0.0035235494693037737), (1598, 0.0035224316367125407), (1028, 0.003521725548299032), (2298, 0.003521189283629377), (3350, 0.0035202979250879094), (1549, 0.0035198361449821714), (3443, 0.0035195779322294563), (1313, 0.0035162299766235004), (1100, 0.0035092476229070316), (983, 0.0035046289082352323), (1286, 0.003498184688825879), (2297, 0.0034976220965785986), (3580, 0.0034960164809524517), (459, 0.003495824931557259), (1842, 0.003491311622371491), (4530, 0.0034897756395230817), (3400, 0.0034896182028876658), (3220, 0.0034874279913046442), (4036, 0.003486553350543868), (4234, 0.0034809933738502103), (217, 0.0034779726000170666), (4327, 0.003477518671395194), (3402, 0.0034772370831478634), (2677, 0.0034766823747144483), (1408, 0.00347527541251076), (503, 0.003471122062709729), (755, 0.003467776522680991), (3286, 0.0034643936976407564), (404, 0.003462862052085083), (3531, 0.0034609964766630923), (2150, 0.003455482321040182), (2912, 0.0034551610042016156), (1261, 0.003454828987291855), (339, 0.0034530913764625718), (4382, 0.0034504232437222167), (546, 0.00344284939604527), (2467, 0.003442704931285127), (3896, 0.003440795649221951), (4314, 0.0034406908257779995), (2465, 0.003439068451360673), (3582, 0.0034375246998466827), (923, 0.0034363554188025463), (1900, 0.003435437789351673), (720, 0.0034318931335565682), (3490, 0.003426662603378965), (1582, 0.003425719579079925), (1544, 0.0034253696607912084), (772, 0.0034232163412349008), (1545, 0.003421771745645901), (1231, 0.003419333876865976), (367, 0.003418351657048075), (4434, 0.0034182374177384707), (1912, 0.003416329981830952), (1490, 0.003409362480030336), (3214, 0.0034066255851701193), (3824, 0.0034057306524405777), (2620, 0.00340497989711923), (2050, 0.0034024705117144745), (2107, 0.0033989186851933442), (157, 0.003398424341473047), (2644, 0.003395306834672377), (4213, 0.00339306913335494), (2787, 0.0033930386295193673), (2140, 0.003392909761638061), (1190, 0.003392513679488519), (1073, 0.003392445696752554), (2242, 0.003391661408298938), (2068, 0.003390722815708125), (505, 0.0033898189816911374), (3177, 0.003389633821476097), (4206, 0.0033894757886691294), (2690, 0.0033884431544703303), (1532, 0.003387127411300619), (1363, 0.003386469633270308), (649, 0.0033817911797404737), (53, 0.003381289105100394), (1211, 0.003381161104735905), (4037, 0.0033803211214911808), (4246, 0.003378577584152306), (1785, 0.0033764894434945665), (4071, 0.00337624403342148), (3859, 0.0033751119450145532), (422, 0.0033714619401756696), (2972, 0.003363475233372301), (1663, 0.0033616012570047544), (2348, 0.0033610497652541986), (2166, 0.0033605660092071873), (2179, 0.0033521402003714867), (4254, 0.0033504700906672315), (1203, 0.0033503355882702128), (1693, 0.003350332761531724), (311, 0.003349245279316591), (3250, 0.003346609083276404), (4690, 0.003346361694815289), (886, 0.003345306475299653), (903, 0.0033448132585716032), (3941, 0.003343870463628956), (2594, 0.0033422576640116386), (941, 0.0033420704958491026), (1855, 0.0033375805454793697), (1898, 0.0033365679800523703), (2099, 0.003335217240109533), (471, 0.003332279956437254), (2866, 0.0033204424295946054), (2201, 0.003319400173383327), (2450, 0.0033171458328717183), (4305, 0.0033149256353102456), (2272, 0.003314416390065799), (532, 0.0033134651100360985), (3500, 0.0033105277322605315), (4325, 0.003309721250292556), (2183, 0.003308947237547689), (1152, 0.0033081755209771586), (589, 0.003307000320037314), (745, 0.0032991773700062807), (2548, 0.003297131505340115), (770, 0.003295818681638704), (3589, 0.0032905556329112214), (1149, 0.0032895306660207222), (3753, 0.003287186296426069), (3923, 0.003278708226988499), (4577, 0.0032763442186592153), (1331, 0.0032706295429341583), (2125, 0.0032635229917564322), (1974, 0.003260995657030613), (1038, 0.0032589228072415826), (759, 0.0032488342378352237), (2033, 0.0032457613864290222), (1528, 0.003241025800210283), (3267, 0.0032377877052154652), (4447, 0.0032373432814044047), (2063, 0.0032349921659455224), (2424, 0.0032343198493186218), (4191, 0.0032322038670425436), (2542, 0.003229734853409038), (632, 0.003224993395809262), (1485, 0.0032193625940072287), (515, 0.0032164233517148347), (2741, 0.003212859667747006), (3716, 0.003207081739179212), (1569, 0.003203863705518729), (4304, 0.0032025807088364904), (2591, 0.0032013164848870117), (1980, 0.003200514681849817), (2976, 0.003196504594052698), (3070, 0.003187479555775417), (2389, 0.003182919502933395), (672, 0.0031818596246598065), (3933, 0.003180670702110492), (2833, 0.003180644414143772), (383, 0.0031802022695857387), (3485, 0.0031708437936863922), (703, 0.00316964024644245), (1694, 0.003168164010004273), (1601, 0.0031673264145342774), (1652, 0.0031650965561985534), (2366, 0.0031644896962408084), (1830, 0.0031617439578417663), (393, 0.0031599596660712615), (3861, 0.0031596434891716573), (1251, 0.0031575744654239878), (3755, 0.003153643852436019), (4358, 0.0031482454503669885), (1199, 0.0031477604116281854), (836, 0.003145731383450001), (605, 0.00313981414715085), (1616, 0.003135791461161721), (1213, 0.0031345346461503355), (1797, 0.0031283146804262888), (4558, 0.0031265162809728407), (2433, 0.003124793908802561), (1348, 0.0031081653085775996), (1943, 0.003105870308152447), (2971, 0.003104815132888327), (2721, 0.0031005512202167238), (1217, 0.0030978678216554527), (103, 0.0030906625245486863), (73, 0.003089270614141211), (1397, 0.0030857428595228403), (2270, 0.0030830776064457092), (4426, 0.0030788851137537963), (1212, 0.00307833653601747), (1370, 0.0030767569950671298), (1323, 0.003065853298093907), (4627, 0.0030618368386683944), (1008, 0.0030576346967576733), (2168, 0.0030534986984532427), (1088, 0.0030503270801730677), (1070, 0.003049825260735529), (2146, 0.00304945108578047), (2006, 0.003043117780421055), (2758, 0.0030305293136161193), (1340, 0.0030303577388630567), (951, 0.003012318676304948), (4636, 0.0030091473290939875), (1367, 0.002979859003596886), (2373, 0.002975837815889514), (1938, 0.002975072909271198), (964, 0.002974701130792712), (1078, 0.0029716214474836927), (1944, 0.002963654034296992), (3212, 0.0029581072940200355), (2770, 0.00295075277465276), (1752, 0.002950217607155642), (1883, 0.002941867469538174), (1156, 0.002929280490135526), (2913, 0.0029268085088353757), (1427, 0.0029250764717382283), (1326, 0.002912923030737374), (2018, 0.0029105160890786456), (4311, 0.002899053664007561), (2441, 0.002889523268978154), (3575, 0.0028827540809513684), (3971, 0.002877632186367616), (2364, 0.002868985861632313), (1115, 0.0028672025574008895), (4519, 0.002862714240180833), (1268, 0.0028566696310986504), (1676, 0.002849122785633333), (1320, 0.002801123846533607), (1040, 0.0027869979184493277), (3574, 0.0027405465802155166), (972, 0.0027331914704337335), (351, 0.0027223950644015473), (1362, 0.0026516878368873756), (1153, 0.0025018768900479786), (129, 0.0024917449205635145), (1, 0.0), (4, 0.0), (6, 0.0), (8, 0.0), (16, 0.0), (17, 0.0), (20, 0.0), (21, 0.0), (23, 0.0), (24, 0.0), (26, 0.0), (27, 0.0), (30, 0.0), (31, 0.0), (36, 0.0), (46, 0.0), (47, 0.0), (51, 0.0), (55, 0.0), (61, 0.0), (68, 0.0), (69, 0.0), (70, 0.0), (71, 0.0), (77, 0.0), (81, 0.0), (87, 0.0), (89, 0.0), (90, 0.0), (92, 0.0), (93, 0.0), (95, 0.0), (98, 0.0), (99, 0.0), (107, 0.0), (117, 0.0), (118, 0.0), (120, 0.0), (121, 0.0), (126, 0.0), (127, 0.0), (128, 0.0), (132, 0.0), (133, 0.0), (136, 0.0), (140, 0.0), (145, 0.0), (149, 0.0), (154, 0.0), (158, 0.0), (160, 0.0), (167, 0.0), (172, 0.0), (176, 0.0), (178, 0.0), (180, 0.0), (181, 0.0), (187, 0.0), (190, 0.0), (194, 0.0), (198, 0.0), (203, 0.0), (206, 0.0), (207, 0.0), (210, 0.0), (213, 0.0), (224, 0.0), (226, 0.0), (229, 0.0), (233, 0.0), (235, 0.0), (236, 0.0), (241, 0.0), (244, 0.0), (247, 0.0), (254, 0.0), (255, 0.0), (256, 0.0), (257, 0.0), (262, 0.0), (265, 0.0), (267, 0.0), (268, 0.0), (275, 0.0), (276, 0.0), (285, 0.0), (286, 0.0), (289, 0.0), (290, 0.0), (295, 0.0), (303, 0.0), (304, 0.0), (308, 0.0), (320, 0.0), (323, 0.0), (326, 0.0), (349, 0.0), (355, 0.0), (359, 0.0), (364, 0.0), (370, 0.0), (373, 0.0), (375, 0.0), (376, 0.0), (378, 0.0), (379, 0.0), (382, 0.0), (389, 0.0), (390, 0.0), (396, 0.0), (397, 0.0), (399, 0.0), (419, 0.0), (423, 0.0), (430, 0.0), (432, 0.0), (435, 0.0), (436, 0.0), (438, 0.0), (440, 0.0), (443, 0.0), (450, 0.0), (453, 0.0), (457, 0.0), (458, 0.0), (462, 0.0), (467, 0.0), (480, 0.0), (487, 0.0), (488, 0.0), (490, 0.0), (493, 0.0), (499, 0.0), (502, 0.0), (509, 0.0), (513, 0.0), (514, 0.0), (516, 0.0), (518, 0.0), (522, 0.0), (526, 0.0), (533, 0.0), (534, 0.0), (539, 0.0), (541, 0.0), (543, 0.0), (544, 0.0), (550, 0.0), (552, 0.0), (554, 0.0), (558, 0.0), (559, 0.0), (564, 0.0), (565, 0.0), (567, 0.0), (571, 0.0), (572, 0.0), (573, 0.0), (574, 0.0), (576, 0.0), (580, 0.0), (581, 0.0), (591, 0.0), (592, 0.0), (593, 0.0), (595, 0.0), (596, 0.0), (598, 0.0), (601, 0.0), (602, 0.0), (604, 0.0), (606, 0.0), (607, 0.0), (608, 0.0), (611, 0.0), (619, 0.0), (623, 0.0), (624, 0.0), (625, 0.0), (626, 0.0), (627, 0.0), (628, 0.0), (633, 0.0), (636, 0.0), (646, 0.0), (647, 0.0), (650, 0.0), (652, 0.0), (663, 0.0), (670, 0.0), (673, 0.0), (674, 0.0), (676, 0.0), (682, 0.0), (693, 0.0), (694, 0.0), (695, 0.0), (698, 0.0), (714, 0.0), (716, 0.0), (718, 0.0), (721, 0.0), (724, 0.0), (728, 0.0), (729, 0.0), (746, 0.0), (750, 0.0), (761, 0.0), (774, 0.0), (777, 0.0), (783, 0.0), (791, 0.0), (796, 0.0), (799, 0.0), (804, 0.0), (815, 0.0), (816, 0.0), (819, 0.0), (823, 0.0), (825, 0.0), (826, 0.0), (828, 0.0), (830, 0.0), (848, 0.0), (855, 0.0), (856, 0.0), (857, 0.0), (858, 0.0), (860, 0.0), (863, 0.0), (868, 0.0), (875, 0.0), (877, 0.0), (880, 0.0), (888, 0.0), (889, 0.0), (893, 0.0), (909, 0.0), (910, 0.0), (914, 0.0), (917, 0.0), (922, 0.0), (927, 0.0), (932, 0.0), (937, 0.0), (942, 0.0), (947, 0.0), (950, 0.0), (954, 0.0), (967, 0.0), (976, 0.0), (977, 0.0), (980, 0.0), (986, 0.0), (989, 0.0), (991, 0.0), (992, 0.0), (1003, 0.0), (1030, 0.0), (1032, 0.0), (1045, 0.0), (1050, 0.0), (1051, 0.0), (1055, 0.0), (1057, 0.0), (1058, 0.0), (1063, 0.0), (1064, 0.0), (1065, 0.0), (1067, 0.0), (1072, 0.0), (1081, 0.0), (1082, 0.0), (1083, 0.0), (1097, 0.0), (1101, 0.0), (1102, 0.0), (1107, 0.0), (1121, 0.0), (1123, 0.0), (1127, 0.0), (1131, 0.0), (1135, 0.0), (1138, 0.0), (1145, 0.0), (1147, 0.0), (1148, 0.0), (1151, 0.0), (1154, 0.0), (1158, 0.0), (1159, 0.0), (1160, 0.0), (1161, 0.0), (1163, 0.0), (1164, 0.0), (1167, 0.0), (1174, 0.0), (1175, 0.0), (1176, 0.0), (1177, 0.0), (1181, 0.0), (1183, 0.0), (1188, 0.0), (1189, 0.0), (1202, 0.0), (1209, 0.0), (1228, 0.0), (1230, 0.0), (1236, 0.0), (1237, 0.0), (1240, 0.0), (1245, 0.0), (1247, 0.0), (1248, 0.0), (1252, 0.0), (1258, 0.0), (1264, 0.0), (1265, 0.0), (1269, 0.0), (1275, 0.0), (1276, 0.0), (1281, 0.0), (1283, 0.0), (1285, 0.0), (1287, 0.0), (1290, 0.0), (1294, 0.0), (1303, 0.0), (1315, 0.0), (1325, 0.0), (1328, 0.0), (1332, 0.0), (1350, 0.0), (1355, 0.0), (1358, 0.0), (1366, 0.0), (1378, 0.0), (1383, 0.0), (1386, 0.0), (1391, 0.0), (1393, 0.0), (1398, 0.0), (1399, 0.0), (1400, 0.0), (1414, 0.0), (1415, 0.0), (1419, 0.0), (1423, 0.0), (1433, 0.0), (1434, 0.0), (1438, 0.0), (1439, 0.0), (1440, 0.0), (1448, 0.0), (1449, 0.0), (1450, 0.0), (1452, 0.0), (1455, 0.0), (1458, 0.0), (1460, 0.0), (1462, 0.0), (1466, 0.0), (1470, 0.0), (1478, 0.0), (1481, 0.0), (1483, 0.0), (1484, 0.0), (1497, 0.0), (1498, 0.0), (1499, 0.0), (1504, 0.0), (1527, 0.0), (1529, 0.0), (1531, 0.0), (1540, 0.0), (1541, 0.0), (1547, 0.0), (1550, 0.0), (1556, 0.0), (1558, 0.0), (1562, 0.0), (1566, 0.0), (1570, 0.0), (1573, 0.0), (1575, 0.0), (1576, 0.0), (1580, 0.0), (1588, 0.0), (1590, 0.0), (1591, 0.0), (1593, 0.0), (1603, 0.0), (1604, 0.0), (1605, 0.0), (1606, 0.0), (1607, 0.0), (1621, 0.0), (1622, 0.0), (1624, 0.0), (1625, 0.0), (1627, 0.0), (1628, 0.0), (1631, 0.0), (1633, 0.0), (1635, 0.0), (1641, 0.0), (1651, 0.0), (1659, 0.0), (1661, 0.0), (1665, 0.0), (1667, 0.0), (1670, 0.0), (1671, 0.0), (1672, 0.0), (1674, 0.0), (1686, 0.0), (1705, 0.0), (1711, 0.0), (1717, 0.0), (1720, 0.0), (1724, 0.0), (1728, 0.0), (1736, 0.0), (1740, 0.0), (1748, 0.0), (1749, 0.0), (1753, 0.0), (1754, 0.0), (1763, 0.0), (1789, 0.0), (1795, 0.0), (1796, 0.0), (1800, 0.0), (1801, 0.0), (1810, 0.0), (1813, 0.0), (1814, 0.0), (1815, 0.0), (1819, 0.0), (1820, 0.0), (1826, 0.0), (1829, 0.0), (1832, 0.0), (1835, 0.0), (1838, 0.0), (1853, 0.0), (1854, 0.0), (1862, 0.0), (1865, 0.0), (1869, 0.0), (1872, 0.0), (1874, 0.0), (1882, 0.0), (1884, 0.0), (1885, 0.0), (1892, 0.0), (1894, 0.0), (1901, 0.0), (1904, 0.0), (1909, 0.0), (1916, 0.0), (1922, 0.0), (1924, 0.0), (1927, 0.0), (1933, 0.0), (1937, 0.0), (1946, 0.0), (1953, 0.0), (1959, 0.0), (1960, 0.0), (1962, 0.0), (1966, 0.0), (1967, 0.0), (1970, 0.0), (1972, 0.0), (1975, 0.0), (1976, 0.0), (1977, 0.0), (1983, 0.0), (1989, 0.0), (1993, 0.0), (1995, 0.0), (1996, 0.0), (2010, 0.0), (2024, 0.0), (2028, 0.0), (2030, 0.0), (2038, 0.0), (2039, 0.0), (2044, 0.0), (2048, 0.0), (2057, 0.0), (2066, 0.0), (2067, 0.0), (2069, 0.0), (2073, 0.0), (2075, 0.0), (2083, 0.0), (2084, 0.0), (2085, 0.0), (2088, 0.0), (2089, 0.0), (2091, 0.0), (2104, 0.0), (2115, 0.0), (2117, 0.0), (2133, 0.0), (2136, 0.0), (2141, 0.0), (2142, 0.0), (2149, 0.0), (2152, 0.0), (2159, 0.0), (2162, 0.0), (2165, 0.0), (2171, 0.0), (2172, 0.0), (2173, 0.0), (2176, 0.0), (2181, 0.0), (2182, 0.0), (2184, 0.0), (2189, 0.0), (2190, 0.0), (2191, 0.0), (2206, 0.0), (2212, 0.0), (2213, 0.0), (2220, 0.0), (2226, 0.0), (2229, 0.0), (2231, 0.0), (2232, 0.0), (2235, 0.0), (2238, 0.0), (2243, 0.0), (2247, 0.0), (2248, 0.0), (2251, 0.0), (2253, 0.0), (2254, 0.0), (2255, 0.0), (2256, 0.0), (2257, 0.0), (2266, 0.0), (2286, 0.0), (2288, 0.0), (2289, 0.0), (2293, 0.0), (2295, 0.0), (2299, 0.0), (2300, 0.0), (2310, 0.0), (2314, 0.0), (2316, 0.0), (2324, 0.0), (2328, 0.0), (2332, 0.0), (2337, 0.0), (2343, 0.0), (2344, 0.0), (2345, 0.0), (2346, 0.0), (2347, 0.0), (2349, 0.0), (2350, 0.0), (2355, 0.0), (2356, 0.0), (2358, 0.0), (2359, 0.0), (2361, 0.0), (2365, 0.0), (2369, 0.0), (2370, 0.0), (2372, 0.0), (2374, 0.0), (2378, 0.0), (2383, 0.0), (2386, 0.0), (2388, 0.0), (2390, 0.0), (2392, 0.0), (2407, 0.0), (2408, 0.0), (2415, 0.0), (2419, 0.0), (2425, 0.0), (2429, 0.0), (2438, 0.0), (2442, 0.0), (2448, 0.0), (2451, 0.0), (2453, 0.0), (2454, 0.0), (2459, 0.0), (2462, 0.0), (2471, 0.0), (2475, 0.0), (2476, 0.0), (2489, 0.0), (2506, 0.0), (2520, 0.0), (2521, 0.0), (2530, 0.0), (2533, 0.0), (2540, 0.0), (2544, 0.0), (2549, 0.0), (2556, 0.0), (2557, 0.0), (2558, 0.0), (2559, 0.0), (2567, 0.0), (2573, 0.0), (2576, 0.0), (2577, 0.0), (2578, 0.0), (2579, 0.0), (2583, 0.0), (2585, 0.0), (2589, 0.0), (2593, 0.0), (2595, 0.0), (2599, 0.0), (2602, 0.0), (2613, 0.0), (2618, 0.0), (2623, 0.0), (2624, 0.0), (2629, 0.0), (2630, 0.0), (2634, 0.0), (2643, 0.0), (2651, 0.0), (2652, 0.0), (2655, 0.0), (2658, 0.0), (2664, 0.0), (2670, 0.0), (2674, 0.0), (2683, 0.0), (2686, 0.0), (2695, 0.0), (2700, 0.0), (2705, 0.0), (2707, 0.0), (2710, 0.0), (2716, 0.0), (2717, 0.0), (2718, 0.0), (2723, 0.0), (2733, 0.0), (2735, 0.0), (2743, 0.0), (2745, 0.0), (2750, 0.0), (2752, 0.0), (2753, 0.0), (2757, 0.0), (2762, 0.0), (2767, 0.0), (2768, 0.0), (2771, 0.0), (2772, 0.0), (2773, 0.0), (2775, 0.0), (2778, 0.0), (2780, 0.0), (2795, 0.0), (2800, 0.0), (2806, 0.0), (2821, 0.0), (2824, 0.0), (2826, 0.0), (2827, 0.0), (2828, 0.0), (2835, 0.0), (2837, 0.0), (2839, 0.0), (2847, 0.0), (2849, 0.0), (2850, 0.0), (2860, 0.0), (2861, 0.0), (2863, 0.0), (2864, 0.0), (2869, 0.0), (2870, 0.0), (2871, 0.0), (2879, 0.0), (2881, 0.0), (2883, 0.0), (2885, 0.0), (2886, 0.0), (2887, 0.0), (2888, 0.0), (2889, 0.0), (2890, 0.0), (2894, 0.0), (2895, 0.0), (2898, 0.0), (2901, 0.0), (2902, 0.0), (2903, 0.0), (2905, 0.0), (2907, 0.0), (2909, 0.0), (2916, 0.0), (2918, 0.0), (2919, 0.0), (2927, 0.0), (2932, 0.0), (2934, 0.0), (2937, 0.0), (2943, 0.0), (2946, 0.0), (2949, 0.0), (2950, 0.0), (2955, 0.0), (2956, 0.0), (2957, 0.0), (2958, 0.0), (2959, 0.0), (2960, 0.0), (2961, 0.0), (2966, 0.0), (2967, 0.0), (2974, 0.0), (2984, 0.0), (2987, 0.0), (2989, 0.0), (2991, 0.0), (2993, 0.0), (2995, 0.0), (2997, 0.0), (2998, 0.0), (3002, 0.0), (3004, 0.0), (3005, 0.0), (3006, 0.0), (3007, 0.0), (3012, 0.0), (3013, 0.0), (3014, 0.0), (3015, 0.0), (3019, 0.0), (3021, 0.0), (3025, 0.0), (3029, 0.0), (3031, 0.0), (3035, 0.0), (3036, 0.0), (3043, 0.0), (3045, 0.0), (3047, 0.0), (3048, 0.0), (3049, 0.0), (3051, 0.0), (3052, 0.0), (3055, 0.0), (3058, 0.0), (3059, 0.0), (3064, 0.0), (3068, 0.0), (3072, 0.0), (3075, 0.0), (3076, 0.0), (3079, 0.0), (3081, 0.0), (3091, 0.0), (3092, 0.0), (3093, 0.0), (3100, 0.0), (3101, 0.0), (3105, 0.0), (3110, 0.0), (3112, 0.0), (3116, 0.0), (3118, 0.0), (3119, 0.0), (3120, 0.0), (3123, 0.0), (3124, 0.0), (3126, 0.0), (3128, 0.0), (3132, 0.0), (3134, 0.0), (3135, 0.0), (3136, 0.0), (3138, 0.0), (3140, 0.0), (3143, 0.0), (3148, 0.0), (3154, 0.0), (3156, 0.0), (3158, 0.0), (3159, 0.0), (3160, 0.0), (3163, 0.0), (3165, 0.0), (3170, 0.0), (3171, 0.0), (3173, 0.0), (3176, 0.0), (3180, 0.0), (3184, 0.0), (3185, 0.0), (3186, 0.0), (3191, 0.0), (3195, 0.0), (3196, 0.0), (3202, 0.0), (3206, 0.0), (3210, 0.0), (3213, 0.0), (3216, 0.0), (3223, 0.0), (3225, 0.0), (3227, 0.0), (3235, 0.0), (3241, 0.0), (3243, 0.0), (3248, 0.0), (3251, 0.0), (3255, 0.0), (3261, 0.0), (3262, 0.0), (3263, 0.0), (3268, 0.0), (3273, 0.0), (3274, 0.0), (3275, 0.0), (3276, 0.0), (3278, 0.0), (3279, 0.0), (3281, 0.0), (3291, 0.0), (3292, 0.0), (3296, 0.0), (3298, 0.0), (3301, 0.0), (3302, 0.0), (3305, 0.0), (3307, 0.0), (3314, 0.0), (3322, 0.0), (3325, 0.0), (3326, 0.0), (3331, 0.0), (3333, 0.0), (3334, 0.0), (3335, 0.0), (3338, 0.0), (3339, 0.0), (3340, 0.0), (3341, 0.0), (3347, 0.0), (3353, 0.0), (3354, 0.0), (3355, 0.0), (3358, 0.0), (3359, 0.0), (3363, 0.0), (3369, 0.0), (3372, 0.0), (3377, 0.0), (3379, 0.0), (3380, 0.0), (3381, 0.0), (3385, 0.0), (3391, 0.0), (3394, 0.0), (3396, 0.0), (3398, 0.0), (3401, 0.0), (3404, 0.0), (3405, 0.0), (3406, 0.0), (3417, 0.0), (3419, 0.0), (3429, 0.0), (3431, 0.0), (3432, 0.0), (3433, 0.0), (3434, 0.0), (3436, 0.0), (3437, 0.0), (3440, 0.0), (3451, 0.0), (3452, 0.0), (3453, 0.0), (3455, 0.0), (3460, 0.0), (3466, 0.0), (3467, 0.0), (3468, 0.0), (3470, 0.0), (3471, 0.0), (3472, 0.0), (3473, 0.0), (3476, 0.0), (3478, 0.0), (3480, 0.0), (3482, 0.0), (3486, 0.0), (3487, 0.0), (3488, 0.0), (3495, 0.0), (3498, 0.0), (3499, 0.0), (3501, 0.0), (3505, 0.0), (3511, 0.0), (3520, 0.0), (3521, 0.0), (3522, 0.0), (3523, 0.0), (3527, 0.0), (3530, 0.0), (3533, 0.0), (3534, 0.0), (3535, 0.0), (3540, 0.0), (3542, 0.0), (3547, 0.0), (3548, 0.0), (3555, 0.0), (3556, 0.0), (3560, 0.0), (3561, 0.0), (3569, 0.0), (3573, 0.0), (3576, 0.0), (3583, 0.0), (3588, 0.0), (3590, 0.0), (3593, 0.0), (3597, 0.0), (3600, 0.0), (3602, 0.0), (3604, 0.0), (3605, 0.0), (3607, 0.0), (3608, 0.0), (3609, 0.0), (3611, 0.0), (3613, 0.0), (3614, 0.0), (3615, 0.0), (3617, 0.0), (3619, 0.0), (3620, 0.0), (3623, 0.0), (3624, 0.0), (3625, 0.0), (3627, 0.0), (3629, 0.0), (3631, 0.0), (3635, 0.0), (3636, 0.0), (3639, 0.0), (3640, 0.0), (3645, 0.0), (3647, 0.0), (3653, 0.0), (3657, 0.0), (3659, 0.0), (3660, 0.0), (3663, 0.0), (3664, 0.0), (3666, 0.0), (3669, 0.0), (3670, 0.0), (3672, 0.0), (3675, 0.0), (3679, 0.0), (3680, 0.0), (3682, 0.0), (3687, 0.0), (3691, 0.0), (3694, 0.0), (3695, 0.0), (3697, 0.0), (3699, 0.0), (3700, 0.0), (3702, 0.0), (3703, 0.0), (3704, 0.0), (3705, 0.0), (3706, 0.0), (3707, 0.0), (3708, 0.0), (3710, 0.0), (3714, 0.0), (3717, 0.0), (3719, 0.0), (3723, 0.0), (3725, 0.0), (3726, 0.0), (3727, 0.0), (3729, 0.0), (3734, 0.0), (3737, 0.0), (3738, 0.0), (3742, 0.0), (3744, 0.0), (3745, 0.0), (3749, 0.0), (3756, 0.0), (3757, 0.0), (3760, 0.0), (3761, 0.0), (3766, 0.0), (3768, 0.0), (3769, 0.0), (3770, 0.0), (3771, 0.0), (3773, 0.0), (3775, 0.0), (3779, 0.0), (3782, 0.0), (3785, 0.0), (3787, 0.0), (3788, 0.0), (3793, 0.0), (3794, 0.0), (3795, 0.0), (3798, 0.0), (3799, 0.0), (3802, 0.0), (3804, 0.0), (3806, 0.0), (3809, 0.0), (3814, 0.0), (3815, 0.0), (3816, 0.0), (3827, 0.0), (3828, 0.0), (3834, 0.0), (3838, 0.0), (3840, 0.0), (3843, 0.0), (3846, 0.0), (3847, 0.0), (3848, 0.0), (3850, 0.0), (3853, 0.0), (3862, 0.0), (3863, 0.0), (3867, 0.0), (3871, 0.0), (3872, 0.0), (3873, 0.0), (3874, 0.0), (3883, 0.0), (3884, 0.0), (3887, 0.0), (3893, 0.0), (3895, 0.0), (3899, 0.0), (3900, 0.0), (3901, 0.0), (3902, 0.0), (3904, 0.0), (3906, 0.0), (3908, 0.0), (3911, 0.0), (3913, 0.0), (3915, 0.0), (3918, 0.0), (3925, 0.0), (3929, 0.0), (3932, 0.0), (3935, 0.0), (3937, 0.0), (3939, 0.0), (3942, 0.0), (3945, 0.0), (3947, 0.0), (3948, 0.0), (3953, 0.0), (3956, 0.0), (3958, 0.0), (3961, 0.0), (3968, 0.0), (3972, 0.0), (3975, 0.0), (3976, 0.0), (3977, 0.0), (3978, 0.0), (3979, 0.0), (3981, 0.0), (3982, 0.0), (3987, 0.0), (3990, 0.0), (3991, 0.0), (3995, 0.0), (3997, 0.0), (3999, 0.0), (4000, 0.0), (4004, 0.0), (4005, 0.0), (4014, 0.0), (4016, 0.0), (4017, 0.0), (4019, 0.0), (4020, 0.0), (4021, 0.0), (4022, 0.0), (4024, 0.0), (4028, 0.0), (4030, 0.0), (4034, 0.0), (4043, 0.0), (4044, 0.0), (4046, 0.0), (4047, 0.0), (4048, 0.0), (4050, 0.0), (4056, 0.0), (4060, 0.0), (4063, 0.0), (4065, 0.0), (4067, 0.0), (4069, 0.0), (4072, 0.0), (4075, 0.0), (4078, 0.0), (4079, 0.0), (4080, 0.0), (4081, 0.0), (4082, 0.0), (4083, 0.0), (4085, 0.0), (4087, 0.0), (4088, 0.0), (4090, 0.0), (4092, 0.0), (4095, 0.0), (4096, 0.0), (4098, 0.0), (4100, 0.0), (4101, 0.0), (4103, 0.0), (4107, 0.0), (4116, 0.0), (4122, 0.0), (4123, 0.0), (4126, 0.0), (4129, 0.0), (4130, 0.0), (4133, 0.0), (4138, 0.0), (4139, 0.0), (4142, 0.0), (4144, 0.0), (4145, 0.0), (4146, 0.0), (4148, 0.0), (4150, 0.0), (4151, 0.0), (4153, 0.0), (4161, 0.0), (4162, 0.0), (4163, 0.0), (4164, 0.0), (4167, 0.0), (4168, 0.0), (4170, 0.0), (4172, 0.0), (4175, 0.0), (4177, 0.0), (4178, 0.0), (4179, 0.0), (4181, 0.0), (4183, 0.0), (4185, 0.0), (4188, 0.0), (4202, 0.0), (4208, 0.0), (4209, 0.0), (4211, 0.0), (4212, 0.0), (4215, 0.0), (4216, 0.0), (4219, 0.0), (4220, 0.0), (4221, 0.0), (4224, 0.0), (4227, 0.0), (4228, 0.0), (4229, 0.0), (4230, 0.0), (4231, 0.0), (4232, 0.0), (4235, 0.0), (4238, 0.0), (4243, 0.0), (4244, 0.0), (4245, 0.0), (4249, 0.0), (4250, 0.0), (4251, 0.0), (4253, 0.0), (4261, 0.0), (4264, 0.0), (4266, 0.0), (4268, 0.0), (4270, 0.0), (4273, 0.0), (4275, 0.0), (4276, 0.0), (4278, 0.0), (4280, 0.0), (4288, 0.0), (4289, 0.0), (4294, 0.0), (4296, 0.0), (4298, 0.0), (4299, 0.0), (4301, 0.0), (4302, 0.0), (4306, 0.0), (4307, 0.0), (4309, 0.0), (4313, 0.0), (4316, 0.0), (4318, 0.0), (4320, 0.0), (4322, 0.0), (4326, 0.0), (4331, 0.0), (4334, 0.0), (4340, 0.0), (4343, 0.0), (4345, 0.0), (4349, 0.0), (4350, 0.0), (4352, 0.0), (4354, 0.0), (4355, 0.0), (4359, 0.0), (4361, 0.0), (4362, 0.0), (4365, 0.0), (4372, 0.0), (4377, 0.0), (4378, 0.0), (4380, 0.0), (4381, 0.0), (4383, 0.0), (4384, 0.0), (4386, 0.0), (4390, 0.0), (4391, 0.0), (4392, 0.0), (4393, 0.0), (4397, 0.0), (4398, 0.0), (4400, 0.0), (4401, 0.0), (4403, 0.0), (4405, 0.0), (4409, 0.0), (4410, 0.0), (4411, 0.0), (4412, 0.0), (4416, 0.0), (4417, 0.0), (4418, 0.0), (4419, 0.0), (4423, 0.0), (4424, 0.0), (4425, 0.0), (4429, 0.0), (4430, 0.0), (4432, 0.0), (4435, 0.0), (4439, 0.0), (4443, 0.0), (4455, 0.0), (4456, 0.0), (4458, 0.0), (4461, 0.0), (4464, 0.0), (4465, 0.0), (4466, 0.0), (4469, 0.0), (4470, 0.0), (4471, 0.0), (4474, 0.0), (4475, 0.0), (4476, 0.0), (4478, 0.0), (4479, 0.0), (4485, 0.0), (4487, 0.0), (4488, 0.0), (4491, 0.0), (4493, 0.0), (4495, 0.0), (4499, 0.0), (4500, 0.0), (4501, 0.0), (4502, 0.0), (4505, 0.0), (4508, 0.0), (4509, 0.0), (4510, 0.0), (4512, 0.0), (4513, 0.0), (4516, 0.0), (4517, 0.0), (4518, 0.0), (4520, 0.0), (4521, 0.0), (4525, 0.0), (4526, 0.0), (4527, 0.0), (4528, 0.0), (4529, 0.0), (4532, 0.0), (4533, 0.0), (4534, 0.0), (4535, 0.0), (4536, 0.0), (4538, 0.0), (4539, 0.0), (4540, 0.0), (4543, 0.0), (4544, 0.0), (4545, 0.0), (4547, 0.0), (4553, 0.0), (4559, 0.0), (4561, 0.0), (4567, 0.0), (4572, 0.0), (4573, 0.0), (4575, 0.0), (4578, 0.0), (4579, 0.0), (4582, 0.0), (4583, 0.0), (4585, 0.0), (4586, 0.0), (4588, 0.0), (4591, 0.0), (4593, 0.0), (4595, 0.0), (4597, 0.0), (4601, 0.0), (4602, 0.0), (4606, 0.0), (4607, 0.0), (4608, 0.0), (4611, 0.0), (4614, 0.0), (4615, 0.0), (4616, 0.0), (4617, 0.0), (4620, 0.0), (4623, 0.0), (4625, 0.0), (4626, 0.0), (4630, 0.0), (4632, 0.0), (4637, 0.0), (4638, 0.0), (4640, 0.0), (4642, 0.0), (4644, 0.0), (4645, 0.0), (4651, 0.0), (4653, 0.0), (4654, 0.0), (4656, 0.0), (4657, 0.0), (4661, 0.0), (4663, 0.0), (4664, 0.0), (4665, 0.0), (4666, 0.0), (4668, 0.0), (4669, 0.0), (4670, 0.0), (4671, 0.0), (4672, 0.0), (4673, 0.0), (4676, 0.0), (4677, 0.0), (4678, 0.0), (4680, 0.0), (4681, 0.0), (4683, 0.0), (4691, 0.0), (4692, 0.0), (4693, 0.0), (4694, 0.0), (4696, 0.0), (4697, 0.0), (4698, 0.0), (4701, 0.0), (4703, 0.0), (4704, 0.0), (4705, 0.0), (4707, 0.0), (4709, 0.0), (4710, 0.0), (4712, 0.0), (4713, 0.0), (4714, 0.0), (4715, 0.0), (4716, 0.0), (4718, 0.0), (4722, 0.0), (4724, 0.0), (4727, 0.0), (4728, 0.0), (4729, 0.0), (4730, 0.0), (4731, 0.0), (4733, 0.0), (4735, 0.0), (4736, 0.0), (4740, 0.0), (4742, 0.0), (4743, 0.0), (4745, 0.0), (4747, 0.0), (4749, 0.0), (4750, 0.0), (4751, 0.0), (4753, 0.0), (4754, 0.0), (4758, 0.0), (4759, 0.0)]\n"
          ]
        }
      ]
    },
    {
      "cell_type": "code",
      "source": [
        "#print the name of similar movies based on the index\n",
        "print(\"Top 30 Movies Suggested for You: \\n\")\n",
        "i=1\n",
        " \n",
        "for movie in Sorted_Similar_Movies:\n",
        "  index = movie[0]\n",
        "  title_from_index  = df[df.index==index]['Movie_Title'].values[0]\n",
        "  if (i<31):\n",
        "    print(i, ',',title_from_index)\n",
        "    i+=1"
      ],
      "metadata": {
        "colab": {
          "base_uri": "https://localhost:8080/"
        },
        "id": "3o8AVVdeDS52",
        "outputId": "be1ed67b-0441-4afb-a48c-b4c3b4d96b51"
      },
      "execution_count": 32,
      "outputs": [
        {
          "output_type": "stream",
          "name": "stdout",
          "text": [
            "Top 30 Movies Suggested for You: \n",
            "\n",
            "1 , Old School\n",
            "2 , Starsky & Hutch\n",
            "3 , Road Trip\n",
            "4 , Annabelle\n",
            "5 , The Wendell Baker Story\n",
            "6 , Moonlight Mile\n",
            "7 , Double Take\n",
            "8 , Mr. 3000\n",
            "9 , Foolish\n",
            "10 , Get Hard\n",
            "11 , Dick\n",
            "12 , Domestic Disturbance\n",
            "13 , The Internship\n",
            "14 , Bride of Chucky\n",
            "15 , Made\n",
            "16 , Alex & Emma\n",
            "17 , Four Christmases\n",
            "18 , The Cell\n",
            "19 , The Man from Earth\n",
            "20 , Without a Paddle\n",
            "21 , Bottle Rocket\n",
            "22 , The Lego Movie\n",
            "23 , Mumford\n",
            "24 , Nanny McPhee\n",
            "25 , Shine\n",
            "26 , DodgeBall: A True Underdog Story\n",
            "27 , Dudley Do-Right\n",
            "28 , Talladega Nights: The Ballad of Ricky Bobby\n",
            "29 , The Watch\n",
            "30 , Mr. & Mrs. Smith\n"
          ]
        }
      ]
    },
    {
      "cell_type": "code",
      "source": [
        "Movie_Name=input('Enter your favourite movie name :')\n",
        "\n",
        "list_of_all_titles = df['Movie_Title'].tolist()\n",
        "\n",
        "Find_Close_Match = difflib.get_close_matches(Movie_Name, list_of_all_titles)\n",
        "\n",
        "Close_Match = Find_Close_Match[0]\n",
        "\n",
        "Index_of_Movie = df[df.Movie_Title == Close_Match]['Movie_ID'].values[0]\n",
        "\n",
        "Recommendation_Score = list(enumerate(Similarity_Score[Index_of_Movie]))\n",
        "\n",
        "sorted_similar_movies = sorted (Recommendation_Score, key = lambda x:x[1], reverse = True)\n",
        "\n",
        "print(\"Top 10 Movies suggested for you: \\n\")\n",
        "\n",
        "i = 1\n",
        "\n",
        "for movie in sorted_similar_movies:\n",
        "  index= movie[0]\n",
        "  title_from_index = df[df.Movie_ID==index]['Movie_Title'].values\n",
        "  if (i<11):\n",
        "    print(i, '.', title_from_index)\n",
        "    i+=1"
      ],
      "metadata": {
        "colab": {
          "base_uri": "https://localhost:8080/"
        },
        "id": "1yoELO3GDaZi",
        "outputId": "e80abf74-5f99-464f-8acc-5b757079ad53"
      },
      "execution_count": 33,
      "outputs": [
        {
          "output_type": "stream",
          "name": "stdout",
          "text": [
            "Enter your favourite movie name :infinity war\n",
            "Top 10 Movies suggested for you: \n",
            "\n",
            "1 . ['Vanity Fair']\n",
            "2 . ['Hollow Man']\n",
            "3 . ['Witness']\n",
            "4 . ['Strangerland']\n",
            "5 . [\"Nick and Norah's Infinite Playlist\"]\n",
            "6 . ['The Horse Boy']\n",
            "7 . ['Clash of the Titans']\n",
            "8 . ['Whatever It Takes']\n",
            "9 . ['Harvard Man']\n",
            "10 . ['Baahubali: The Beginning']\n"
          ]
        }
      ]
    }
  ]
}