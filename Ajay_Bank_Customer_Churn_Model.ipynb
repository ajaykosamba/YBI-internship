{
  "nbformat": 4,
  "nbformat_minor": 0,
  "metadata": {
    "colab": {
      "name": "Ajay_Bank_Customer_Churn_Model.ipynb",
      "provenance": [],
      "collapsed_sections": []
    },
    "kernelspec": {
      "name": "python3",
      "display_name": "Python 3"
    },
    "language_info": {
      "name": "python"
    }
  },
  "cells": [
    {
      "cell_type": "markdown",
      "source": [
        "Import Library"
      ],
      "metadata": {
        "id": "HRFqT6c3Ep-4"
      }
    },
    {
      "cell_type": "code",
      "source": [
        "import pandas as pd"
      ],
      "metadata": {
        "id": "Xx7RO5YgErnS"
      },
      "execution_count": 13,
      "outputs": []
    },
    {
      "cell_type": "code",
      "source": [
        "import numpy as np"
      ],
      "metadata": {
        "id": "uK9WElRvEsx_"
      },
      "execution_count": 14,
      "outputs": []
    },
    {
      "cell_type": "code",
      "source": [
        "import matplotlib.pyplot as plt"
      ],
      "metadata": {
        "id": "xo_TbRY3EuCd"
      },
      "execution_count": 15,
      "outputs": []
    },
    {
      "cell_type": "code",
      "source": [
        "import seaborn as sns"
      ],
      "metadata": {
        "id": "UtQBd3blEvcJ"
      },
      "execution_count": 16,
      "outputs": []
    },
    {
      "cell_type": "markdown",
      "source": [
        "Import Data"
      ],
      "metadata": {
        "id": "XmL4Go44Ewt9"
      }
    },
    {
      "cell_type": "code",
      "source": [
        "df = pd.read_csv('https://github.com/YBI-Foundation/Dataset/raw/main/Bank%20Churn%20Modelling.csv')"
      ],
      "metadata": {
        "id": "JiQvyYbVEzg5"
      },
      "execution_count": 17,
      "outputs": []
    },
    {
      "cell_type": "markdown",
      "source": [
        "Analysing Data"
      ],
      "metadata": {
        "id": "2vlmXNXJKFbG"
      }
    },
    {
      "cell_type": "code",
      "source": [
        "\n",
        "df.head()"
      ],
      "metadata": {
        "colab": {
          "base_uri": "https://localhost:8080/",
          "height": 305
        },
        "id": "PGDqhtzeE2b8",
        "outputId": "d8064bec-118d-4602-d24a-9b2f156bfd42"
      },
      "execution_count": 18,
      "outputs": [
        {
          "output_type": "execute_result",
          "data": {
            "text/plain": [
              "   CustomerId   Surname  CreditScore Geography  Gender  Age  Tenure  \\\n",
              "0    15634602  Hargrave          619    France  Female   42       2   \n",
              "1    15647311      Hill          608     Spain  Female   41       1   \n",
              "2    15619304      Onio          502    France  Female   42       8   \n",
              "3    15701354      Boni          699    France  Female   39       1   \n",
              "4    15737888  Mitchell          850     Spain  Female   43       2   \n",
              "\n",
              "     Balance  Num Of Products  Has Credit Card  Is Active Member  \\\n",
              "0       0.00                1                1                 1   \n",
              "1   83807.86                1                0                 1   \n",
              "2  159660.80                3                1                 0   \n",
              "3       0.00                2                0                 0   \n",
              "4  125510.82                1                1                 1   \n",
              "\n",
              "   Estimated Salary  Churn  \n",
              "0         101348.88      1  \n",
              "1         112542.58      0  \n",
              "2         113931.57      1  \n",
              "3          93826.63      0  \n",
              "4          79084.10      0  "
            ],
            "text/html": [
              "\n",
              "  <div id=\"df-8e7abd14-bef4-4580-9143-d8aa2ff1c5c6\">\n",
              "    <div class=\"colab-df-container\">\n",
              "      <div>\n",
              "<style scoped>\n",
              "    .dataframe tbody tr th:only-of-type {\n",
              "        vertical-align: middle;\n",
              "    }\n",
              "\n",
              "    .dataframe tbody tr th {\n",
              "        vertical-align: top;\n",
              "    }\n",
              "\n",
              "    .dataframe thead th {\n",
              "        text-align: right;\n",
              "    }\n",
              "</style>\n",
              "<table border=\"1\" class=\"dataframe\">\n",
              "  <thead>\n",
              "    <tr style=\"text-align: right;\">\n",
              "      <th></th>\n",
              "      <th>CustomerId</th>\n",
              "      <th>Surname</th>\n",
              "      <th>CreditScore</th>\n",
              "      <th>Geography</th>\n",
              "      <th>Gender</th>\n",
              "      <th>Age</th>\n",
              "      <th>Tenure</th>\n",
              "      <th>Balance</th>\n",
              "      <th>Num Of Products</th>\n",
              "      <th>Has Credit Card</th>\n",
              "      <th>Is Active Member</th>\n",
              "      <th>Estimated Salary</th>\n",
              "      <th>Churn</th>\n",
              "    </tr>\n",
              "  </thead>\n",
              "  <tbody>\n",
              "    <tr>\n",
              "      <th>0</th>\n",
              "      <td>15634602</td>\n",
              "      <td>Hargrave</td>\n",
              "      <td>619</td>\n",
              "      <td>France</td>\n",
              "      <td>Female</td>\n",
              "      <td>42</td>\n",
              "      <td>2</td>\n",
              "      <td>0.00</td>\n",
              "      <td>1</td>\n",
              "      <td>1</td>\n",
              "      <td>1</td>\n",
              "      <td>101348.88</td>\n",
              "      <td>1</td>\n",
              "    </tr>\n",
              "    <tr>\n",
              "      <th>1</th>\n",
              "      <td>15647311</td>\n",
              "      <td>Hill</td>\n",
              "      <td>608</td>\n",
              "      <td>Spain</td>\n",
              "      <td>Female</td>\n",
              "      <td>41</td>\n",
              "      <td>1</td>\n",
              "      <td>83807.86</td>\n",
              "      <td>1</td>\n",
              "      <td>0</td>\n",
              "      <td>1</td>\n",
              "      <td>112542.58</td>\n",
              "      <td>0</td>\n",
              "    </tr>\n",
              "    <tr>\n",
              "      <th>2</th>\n",
              "      <td>15619304</td>\n",
              "      <td>Onio</td>\n",
              "      <td>502</td>\n",
              "      <td>France</td>\n",
              "      <td>Female</td>\n",
              "      <td>42</td>\n",
              "      <td>8</td>\n",
              "      <td>159660.80</td>\n",
              "      <td>3</td>\n",
              "      <td>1</td>\n",
              "      <td>0</td>\n",
              "      <td>113931.57</td>\n",
              "      <td>1</td>\n",
              "    </tr>\n",
              "    <tr>\n",
              "      <th>3</th>\n",
              "      <td>15701354</td>\n",
              "      <td>Boni</td>\n",
              "      <td>699</td>\n",
              "      <td>France</td>\n",
              "      <td>Female</td>\n",
              "      <td>39</td>\n",
              "      <td>1</td>\n",
              "      <td>0.00</td>\n",
              "      <td>2</td>\n",
              "      <td>0</td>\n",
              "      <td>0</td>\n",
              "      <td>93826.63</td>\n",
              "      <td>0</td>\n",
              "    </tr>\n",
              "    <tr>\n",
              "      <th>4</th>\n",
              "      <td>15737888</td>\n",
              "      <td>Mitchell</td>\n",
              "      <td>850</td>\n",
              "      <td>Spain</td>\n",
              "      <td>Female</td>\n",
              "      <td>43</td>\n",
              "      <td>2</td>\n",
              "      <td>125510.82</td>\n",
              "      <td>1</td>\n",
              "      <td>1</td>\n",
              "      <td>1</td>\n",
              "      <td>79084.10</td>\n",
              "      <td>0</td>\n",
              "    </tr>\n",
              "  </tbody>\n",
              "</table>\n",
              "</div>\n",
              "      <button class=\"colab-df-convert\" onclick=\"convertToInteractive('df-8e7abd14-bef4-4580-9143-d8aa2ff1c5c6')\"\n",
              "              title=\"Convert this dataframe to an interactive table.\"\n",
              "              style=\"display:none;\">\n",
              "        \n",
              "  <svg xmlns=\"http://www.w3.org/2000/svg\" height=\"24px\"viewBox=\"0 0 24 24\"\n",
              "       width=\"24px\">\n",
              "    <path d=\"M0 0h24v24H0V0z\" fill=\"none\"/>\n",
              "    <path d=\"M18.56 5.44l.94 2.06.94-2.06 2.06-.94-2.06-.94-.94-2.06-.94 2.06-2.06.94zm-11 1L8.5 8.5l.94-2.06 2.06-.94-2.06-.94L8.5 2.5l-.94 2.06-2.06.94zm10 10l.94 2.06.94-2.06 2.06-.94-2.06-.94-.94-2.06-.94 2.06-2.06.94z\"/><path d=\"M17.41 7.96l-1.37-1.37c-.4-.4-.92-.59-1.43-.59-.52 0-1.04.2-1.43.59L10.3 9.45l-7.72 7.72c-.78.78-.78 2.05 0 2.83L4 21.41c.39.39.9.59 1.41.59.51 0 1.02-.2 1.41-.59l7.78-7.78 2.81-2.81c.8-.78.8-2.07 0-2.86zM5.41 20L4 18.59l7.72-7.72 1.47 1.35L5.41 20z\"/>\n",
              "  </svg>\n",
              "      </button>\n",
              "      \n",
              "  <style>\n",
              "    .colab-df-container {\n",
              "      display:flex;\n",
              "      flex-wrap:wrap;\n",
              "      gap: 12px;\n",
              "    }\n",
              "\n",
              "    .colab-df-convert {\n",
              "      background-color: #E8F0FE;\n",
              "      border: none;\n",
              "      border-radius: 50%;\n",
              "      cursor: pointer;\n",
              "      display: none;\n",
              "      fill: #1967D2;\n",
              "      height: 32px;\n",
              "      padding: 0 0 0 0;\n",
              "      width: 32px;\n",
              "    }\n",
              "\n",
              "    .colab-df-convert:hover {\n",
              "      background-color: #E2EBFA;\n",
              "      box-shadow: 0px 1px 2px rgba(60, 64, 67, 0.3), 0px 1px 3px 1px rgba(60, 64, 67, 0.15);\n",
              "      fill: #174EA6;\n",
              "    }\n",
              "\n",
              "    [theme=dark] .colab-df-convert {\n",
              "      background-color: #3B4455;\n",
              "      fill: #D2E3FC;\n",
              "    }\n",
              "\n",
              "    [theme=dark] .colab-df-convert:hover {\n",
              "      background-color: #434B5C;\n",
              "      box-shadow: 0px 1px 3px 1px rgba(0, 0, 0, 0.15);\n",
              "      filter: drop-shadow(0px 1px 2px rgba(0, 0, 0, 0.3));\n",
              "      fill: #FFFFFF;\n",
              "    }\n",
              "  </style>\n",
              "\n",
              "      <script>\n",
              "        const buttonEl =\n",
              "          document.querySelector('#df-8e7abd14-bef4-4580-9143-d8aa2ff1c5c6 button.colab-df-convert');\n",
              "        buttonEl.style.display =\n",
              "          google.colab.kernel.accessAllowed ? 'block' : 'none';\n",
              "\n",
              "        async function convertToInteractive(key) {\n",
              "          const element = document.querySelector('#df-8e7abd14-bef4-4580-9143-d8aa2ff1c5c6');\n",
              "          const dataTable =\n",
              "            await google.colab.kernel.invokeFunction('convertToInteractive',\n",
              "                                                     [key], {});\n",
              "          if (!dataTable) return;\n",
              "\n",
              "          const docLinkHtml = 'Like what you see? Visit the ' +\n",
              "            '<a target=\"_blank\" href=https://colab.research.google.com/notebooks/data_table.ipynb>data table notebook</a>'\n",
              "            + ' to learn more about interactive tables.';\n",
              "          element.innerHTML = '';\n",
              "          dataTable['output_type'] = 'display_data';\n",
              "          await google.colab.output.renderOutput(dataTable, element);\n",
              "          const docLink = document.createElement('div');\n",
              "          docLink.innerHTML = docLinkHtml;\n",
              "          element.appendChild(docLink);\n",
              "        }\n",
              "      </script>\n",
              "    </div>\n",
              "  </div>\n",
              "  "
            ]
          },
          "metadata": {},
          "execution_count": 18
        }
      ]
    },
    {
      "cell_type": "code",
      "source": [
        "\n",
        "df.info()"
      ],
      "metadata": {
        "colab": {
          "base_uri": "https://localhost:8080/"
        },
        "id": "cn90gkS0E4RZ",
        "outputId": "ab72a284-76c3-4795-e6b6-f64712030a2f"
      },
      "execution_count": 19,
      "outputs": [
        {
          "output_type": "stream",
          "name": "stdout",
          "text": [
            "<class 'pandas.core.frame.DataFrame'>\n",
            "RangeIndex: 10000 entries, 0 to 9999\n",
            "Data columns (total 13 columns):\n",
            " #   Column            Non-Null Count  Dtype  \n",
            "---  ------            --------------  -----  \n",
            " 0   CustomerId        10000 non-null  int64  \n",
            " 1   Surname           10000 non-null  object \n",
            " 2   CreditScore       10000 non-null  int64  \n",
            " 3   Geography         10000 non-null  object \n",
            " 4   Gender            10000 non-null  object \n",
            " 5   Age               10000 non-null  int64  \n",
            " 6   Tenure            10000 non-null  int64  \n",
            " 7   Balance           10000 non-null  float64\n",
            " 8   Num Of Products   10000 non-null  int64  \n",
            " 9   Has Credit Card   10000 non-null  int64  \n",
            " 10  Is Active Member  10000 non-null  int64  \n",
            " 11  Estimated Salary  10000 non-null  float64\n",
            " 12  Churn             10000 non-null  int64  \n",
            "dtypes: float64(2), int64(8), object(3)\n",
            "memory usage: 1015.8+ KB\n"
          ]
        }
      ]
    },
    {
      "cell_type": "code",
      "source": [
        "\n",
        "df.duplicated('CustomerId').sum()"
      ],
      "metadata": {
        "colab": {
          "base_uri": "https://localhost:8080/"
        },
        "id": "YatTeXbOE5_m",
        "outputId": "2ff70af4-9d6e-4983-8e22-84ac414ff934"
      },
      "execution_count": 20,
      "outputs": [
        {
          "output_type": "execute_result",
          "data": {
            "text/plain": [
              "0"
            ]
          },
          "metadata": {},
          "execution_count": 20
        }
      ]
    },
    {
      "cell_type": "code",
      "source": [
        "df = df.set_index('CustomerId')"
      ],
      "metadata": {
        "id": "dAeruwQPE7ql"
      },
      "execution_count": 21,
      "outputs": []
    },
    {
      "cell_type": "code",
      "source": [
        "df.info()"
      ],
      "metadata": {
        "colab": {
          "base_uri": "https://localhost:8080/"
        },
        "id": "Kqqo3yjXE82i",
        "outputId": "2b587deb-ed14-432f-cbd4-ae21a13341d7"
      },
      "execution_count": 22,
      "outputs": [
        {
          "output_type": "stream",
          "name": "stdout",
          "text": [
            "<class 'pandas.core.frame.DataFrame'>\n",
            "Int64Index: 10000 entries, 15634602 to 15628319\n",
            "Data columns (total 12 columns):\n",
            " #   Column            Non-Null Count  Dtype  \n",
            "---  ------            --------------  -----  \n",
            " 0   Surname           10000 non-null  object \n",
            " 1   CreditScore       10000 non-null  int64  \n",
            " 2   Geography         10000 non-null  object \n",
            " 3   Gender            10000 non-null  object \n",
            " 4   Age               10000 non-null  int64  \n",
            " 5   Tenure            10000 non-null  int64  \n",
            " 6   Balance           10000 non-null  float64\n",
            " 7   Num Of Products   10000 non-null  int64  \n",
            " 8   Has Credit Card   10000 non-null  int64  \n",
            " 9   Is Active Member  10000 non-null  int64  \n",
            " 10  Estimated Salary  10000 non-null  float64\n",
            " 11  Churn             10000 non-null  int64  \n",
            "dtypes: float64(2), int64(7), object(3)\n",
            "memory usage: 1015.6+ KB\n"
          ]
        }
      ]
    },
    {
      "cell_type": "code",
      "source": [
        "df['Geography'].value_counts()"
      ],
      "metadata": {
        "colab": {
          "base_uri": "https://localhost:8080/"
        },
        "id": "GTqD6O7TE-Vv",
        "outputId": "6b4992a0-ce8a-4d4b-811e-59357375465d"
      },
      "execution_count": 23,
      "outputs": [
        {
          "output_type": "execute_result",
          "data": {
            "text/plain": [
              "France     5014\n",
              "Germany    2509\n",
              "Spain      2477\n",
              "Name: Geography, dtype: int64"
            ]
          },
          "metadata": {},
          "execution_count": 23
        }
      ]
    },
    {
      "cell_type": "code",
      "source": [
        "df.replace({'Geography': {'France': 2,'Germany' : 1, 'Spain': 0}},inplace=True )"
      ],
      "metadata": {
        "id": "3XSTr9hQFAKR"
      },
      "execution_count": 24,
      "outputs": []
    },
    {
      "cell_type": "code",
      "source": [
        "\n",
        "df['Gender'].value_counts()"
      ],
      "metadata": {
        "colab": {
          "base_uri": "https://localhost:8080/"
        },
        "id": "xLTRaan8FB2a",
        "outputId": "6d990e47-65f1-47d4-8f57-8a104e5b354c"
      },
      "execution_count": 25,
      "outputs": [
        {
          "output_type": "execute_result",
          "data": {
            "text/plain": [
              "Male      5457\n",
              "Female    4543\n",
              "Name: Gender, dtype: int64"
            ]
          },
          "metadata": {},
          "execution_count": 25
        }
      ]
    },
    {
      "cell_type": "code",
      "source": [
        "df.replace({'Gender': {'Male': 0, 'Female':1}},inplace=True)"
      ],
      "metadata": {
        "id": "qv_cutT9FDd2"
      },
      "execution_count": 26,
      "outputs": []
    },
    {
      "cell_type": "code",
      "source": [
        "df['Num Of Products'].value_counts()"
      ],
      "metadata": {
        "colab": {
          "base_uri": "https://localhost:8080/"
        },
        "id": "Vuu8r8XqFFIR",
        "outputId": "ca473327-6e8e-4bd5-955b-6ea2fbcd338f"
      },
      "execution_count": 27,
      "outputs": [
        {
          "output_type": "execute_result",
          "data": {
            "text/plain": [
              "1    5084\n",
              "2    4590\n",
              "3     266\n",
              "4      60\n",
              "Name: Num Of Products, dtype: int64"
            ]
          },
          "metadata": {},
          "execution_count": 27
        }
      ]
    },
    {
      "cell_type": "code",
      "source": [
        "df.replace({'Num Of Products': {1: 0,2:1,3:1,4:1}},inplace=True)"
      ],
      "metadata": {
        "id": "GjbWnUZ4FFTx"
      },
      "execution_count": 28,
      "outputs": []
    },
    {
      "cell_type": "code",
      "source": [
        "df['Has Credit Card'].value_counts()"
      ],
      "metadata": {
        "colab": {
          "base_uri": "https://localhost:8080/"
        },
        "id": "RwqwF4h8FKGF",
        "outputId": "94147db5-23c6-4c7c-d4ba-b1c015f64f6f"
      },
      "execution_count": 29,
      "outputs": [
        {
          "output_type": "execute_result",
          "data": {
            "text/plain": [
              "1    7055\n",
              "0    2945\n",
              "Name: Has Credit Card, dtype: int64"
            ]
          },
          "metadata": {},
          "execution_count": 29
        }
      ]
    },
    {
      "cell_type": "code",
      "source": [
        "df['Is Active Member'].value_counts()"
      ],
      "metadata": {
        "colab": {
          "base_uri": "https://localhost:8080/"
        },
        "id": "tzhQeaREFMGr",
        "outputId": "8087b9b7-0b31-4167-a52c-748989645be0"
      },
      "execution_count": 30,
      "outputs": [
        {
          "output_type": "execute_result",
          "data": {
            "text/plain": [
              "1    5151\n",
              "0    4849\n",
              "Name: Is Active Member, dtype: int64"
            ]
          },
          "metadata": {},
          "execution_count": 30
        }
      ]
    },
    {
      "cell_type": "code",
      "source": [
        "df.loc[(df['Balance']==0), 'Churn'].value_counts()"
      ],
      "metadata": {
        "colab": {
          "base_uri": "https://localhost:8080/"
        },
        "id": "OtmfaCdmFN0B",
        "outputId": "c629c602-e2e6-46d5-bfd3-d51bb2d81188"
      },
      "execution_count": 31,
      "outputs": [
        {
          "output_type": "execute_result",
          "data": {
            "text/plain": [
              "0    3117\n",
              "1     500\n",
              "Name: Churn, dtype: int64"
            ]
          },
          "metadata": {},
          "execution_count": 31
        }
      ]
    },
    {
      "cell_type": "code",
      "source": [
        "df['Zero Balance'] =np.where(df['Balance']>0,1,0)"
      ],
      "metadata": {
        "id": "bXyS5n_jFPFb"
      },
      "execution_count": 32,
      "outputs": []
    },
    {
      "cell_type": "code",
      "source": [
        "df['Zero Balance'].hist()"
      ],
      "metadata": {
        "colab": {
          "base_uri": "https://localhost:8080/",
          "height": 282
        },
        "id": "Om7EzWrGFQT8",
        "outputId": "090b366a-944f-44db-d3f5-ea5fc85d3158"
      },
      "execution_count": 33,
      "outputs": [
        {
          "output_type": "execute_result",
          "data": {
            "text/plain": [
              "<matplotlib.axes._subplots.AxesSubplot at 0x7fdb7cb20b90>"
            ]
          },
          "metadata": {},
          "execution_count": 33
        },
        {
          "output_type": "display_data",
          "data": {
            "text/plain": [
              "<Figure size 432x288 with 1 Axes>"
            ],
            "image/png": "[encoded data removed]"
          },
          "metadata": {
            "needs_background": "light"
          }
        }
      ]
    },
    {
      "cell_type": "code",
      "source": [
        "df.groupby(['Churn', 'Geography']).count()"
      ],
      "metadata": {
        "colab": {
          "base_uri": "https://localhost:8080/",
          "height": 368
        },
        "id": "G5_f8CqnFR3m",
        "outputId": "3c3dd018-1c4c-47cf-f2bc-e4c9efd16a43"
      },
      "execution_count": 34,
      "outputs": [
        {
          "output_type": "execute_result",
          "data": {
            "text/plain": [
              "                 Surname  CreditScore  Gender   Age  Tenure  Balance  \\\n",
              "Churn Geography                                                        \n",
              "0     0             2064         2064    2064  2064    2064     2064   \n",
              "      1             1695         1695    1695  1695    1695     1695   \n",
              "      2             4204         4204    4204  4204    4204     4204   \n",
              "1     0              413          413     413   413     413      413   \n",
              "      1              814          814     814   814     814      814   \n",
              "      2              810          810     810   810     810      810   \n",
              "\n",
              "                 Num Of Products  Has Credit Card  Is Active Member  \\\n",
              "Churn Geography                                                       \n",
              "0     0                     2064             2064              2064   \n",
              "      1                     1695             1695              1695   \n",
              "      2                     4204             4204              4204   \n",
              "1     0                      413              413               413   \n",
              "      1                      814              814               814   \n",
              "      2                      810              810               810   \n",
              "\n",
              "                 Estimated Salary  Zero Balance  \n",
              "Churn Geography                                  \n",
              "0     0                      2064          2064  \n",
              "      1                      1695          1695  \n",
              "      2                      4204          4204  \n",
              "1     0                       413           413  \n",
              "      1                       814           814  \n",
              "      2                       810           810  "
            ],
            "text/html": [
              "\n",
              "  <div id=\"df-e08da4ec-be2d-452d-9032-f2e0c6c37db2\">\n",
              "    <div class=\"colab-df-container\">\n",
              "      <div>\n",
              "<style scoped>\n",
              "    .dataframe tbody tr th:only-of-type {\n",
              "        vertical-align: middle;\n",
              "    }\n",
              "\n",
              "    .dataframe tbody tr th {\n",
              "        vertical-align: top;\n",
              "    }\n",
              "\n",
              "    .dataframe thead th {\n",
              "        text-align: right;\n",
              "    }\n",
              "</style>\n",
              "<table border=\"1\" class=\"dataframe\">\n",
              "  <thead>\n",
              "    <tr style=\"text-align: right;\">\n",
              "      <th></th>\n",
              "      <th></th>\n",
              "      <th>Surname</th>\n",
              "      <th>CreditScore</th>\n",
              "      <th>Gender</th>\n",
              "      <th>Age</th>\n",
              "      <th>Tenure</th>\n",
              "      <th>Balance</th>\n",
              "      <th>Num Of Products</th>\n",
              "      <th>Has Credit Card</th>\n",
              "      <th>Is Active Member</th>\n",
              "      <th>Estimated Salary</th>\n",
              "      <th>Zero Balance</th>\n",
              "    </tr>\n",
              "    <tr>\n",
              "      <th>Churn</th>\n",
              "      <th>Geography</th>\n",
              "      <th></th>\n",
              "      <th></th>\n",
              "      <th></th>\n",
              "      <th></th>\n",
              "      <th></th>\n",
              "      <th></th>\n",
              "      <th></th>\n",
              "      <th></th>\n",
              "      <th></th>\n",
              "      <th></th>\n",
              "      <th></th>\n",
              "    </tr>\n",
              "  </thead>\n",
              "  <tbody>\n",
              "    <tr>\n",
              "      <th rowspan=\"3\" valign=\"top\">0</th>\n",
              "      <th>0</th>\n",
              "      <td>2064</td>\n",
              "      <td>2064</td>\n",
              "      <td>2064</td>\n",
              "      <td>2064</td>\n",
              "      <td>2064</td>\n",
              "      <td>2064</td>\n",
              "      <td>2064</td>\n",
              "      <td>2064</td>\n",
              "      <td>2064</td>\n",
              "      <td>2064</td>\n",
              "      <td>2064</td>\n",
              "    </tr>\n",
              "    <tr>\n",
              "      <th>1</th>\n",
              "      <td>1695</td>\n",
              "      <td>1695</td>\n",
              "      <td>1695</td>\n",
              "      <td>1695</td>\n",
              "      <td>1695</td>\n",
              "      <td>1695</td>\n",
              "      <td>1695</td>\n",
              "      <td>1695</td>\n",
              "      <td>1695</td>\n",
              "      <td>1695</td>\n",
              "      <td>1695</td>\n",
              "    </tr>\n",
              "    <tr>\n",
              "      <th>2</th>\n",
              "      <td>4204</td>\n",
              "      <td>4204</td>\n",
              "      <td>4204</td>\n",
              "      <td>4204</td>\n",
              "      <td>4204</td>\n",
              "      <td>4204</td>\n",
              "      <td>4204</td>\n",
              "      <td>4204</td>\n",
              "      <td>4204</td>\n",
              "      <td>4204</td>\n",
              "      <td>4204</td>\n",
              "    </tr>\n",
              "    <tr>\n",
              "      <th rowspan=\"3\" valign=\"top\">1</th>\n",
              "      <th>0</th>\n",
              "      <td>413</td>\n",
              "      <td>413</td>\n",
              "      <td>413</td>\n",
              "      <td>413</td>\n",
              "      <td>413</td>\n",
              "      <td>413</td>\n",
              "      <td>413</td>\n",
              "      <td>413</td>\n",
              "      <td>413</td>\n",
              "      <td>413</td>\n",
              "      <td>413</td>\n",
              "    </tr>\n",
              "    <tr>\n",
              "      <th>1</th>\n",
              "      <td>814</td>\n",
              "      <td>814</td>\n",
              "      <td>814</td>\n",
              "      <td>814</td>\n",
              "      <td>814</td>\n",
              "      <td>814</td>\n",
              "      <td>814</td>\n",
              "      <td>814</td>\n",
              "      <td>814</td>\n",
              "      <td>814</td>\n",
              "      <td>814</td>\n",
              "    </tr>\n",
              "    <tr>\n",
              "      <th>2</th>\n",
              "      <td>810</td>\n",
              "      <td>810</td>\n",
              "      <td>810</td>\n",
              "      <td>810</td>\n",
              "      <td>810</td>\n",
              "      <td>810</td>\n",
              "      <td>810</td>\n",
              "      <td>810</td>\n",
              "      <td>810</td>\n",
              "      <td>810</td>\n",
              "      <td>810</td>\n",
              "    </tr>\n",
              "  </tbody>\n",
              "</table>\n",
              "</div>\n",
              "      <button class=\"colab-df-convert\" onclick=\"convertToInteractive('df-e08da4ec-be2d-452d-9032-f2e0c6c37db2')\"\n",
              "              title=\"Convert this dataframe to an interactive table.\"\n",
              "              style=\"display:none;\">\n",
              "        \n",
              "  <svg xmlns=\"http://www.w3.org/2000/svg\" height=\"24px\"viewBox=\"0 0 24 24\"\n",
              "       width=\"24px\">\n",
              "    <path d=\"M0 0h24v24H0V0z\" fill=\"none\"/>\n",
              "    <path d=\"M18.56 5.44l.94 2.06.94-2.06 2.06-.94-2.06-.94-.94-2.06-.94 2.06-2.06.94zm-11 1L8.5 8.5l.94-2.06 2.06-.94-2.06-.94L8.5 2.5l-.94 2.06-2.06.94zm10 10l.94 2.06.94-2.06 2.06-.94-2.06-.94-.94-2.06-.94 2.06-2.06.94z\"/><path d=\"M17.41 7.96l-1.37-1.37c-.4-.4-.92-.59-1.43-.59-.52 0-1.04.2-1.43.59L10.3 9.45l-7.72 7.72c-.78.78-.78 2.05 0 2.83L4 21.41c.39.39.9.59 1.41.59.51 0 1.02-.2 1.41-.59l7.78-7.78 2.81-2.81c.8-.78.8-2.07 0-2.86zM5.41 20L4 18.59l7.72-7.72 1.47 1.35L5.41 20z\"/>\n",
              "  </svg>\n",
              "      </button>\n",
              "      \n",
              "  <style>\n",
              "    .colab-df-container {\n",
              "      display:flex;\n",
              "      flex-wrap:wrap;\n",
              "      gap: 12px;\n",
              "    }\n",
              "\n",
              "    .colab-df-convert {\n",
              "      background-color: #E8F0FE;\n",
              "      border: none;\n",
              "      border-radius: 50%;\n",
              "      cursor: pointer;\n",
              "      display: none;\n",
              "      fill: #1967D2;\n",
              "      height: 32px;\n",
              "      padding: 0 0 0 0;\n",
              "      width: 32px;\n",
              "    }\n",
              "\n",
              "    .colab-df-convert:hover {\n",
              "      background-color: #E2EBFA;\n",
              "      box-shadow: 0px 1px 2px rgba(60, 64, 67, 0.3), 0px 1px 3px 1px rgba(60, 64, 67, 0.15);\n",
              "      fill: #174EA6;\n",
              "    }\n",
              "\n",
              "    [theme=dark] .colab-df-convert {\n",
              "      background-color: #3B4455;\n",
              "      fill: #D2E3FC;\n",
              "    }\n",
              "\n",
              "    [theme=dark] .colab-df-convert:hover {\n",
              "      background-color: #434B5C;\n",
              "      box-shadow: 0px 1px 3px 1px rgba(0, 0, 0, 0.15);\n",
              "      filter: drop-shadow(0px 1px 2px rgba(0, 0, 0, 0.3));\n",
              "      fill: #FFFFFF;\n",
              "    }\n",
              "  </style>\n",
              "\n",
              "      <script>\n",
              "        const buttonEl =\n",
              "          document.querySelector('#df-e08da4ec-be2d-452d-9032-f2e0c6c37db2 button.colab-df-convert');\n",
              "        buttonEl.style.display =\n",
              "          google.colab.kernel.accessAllowed ? 'block' : 'none';\n",
              "\n",
              "        async function convertToInteractive(key) {\n",
              "          const element = document.querySelector('#df-e08da4ec-be2d-452d-9032-f2e0c6c37db2');\n",
              "          const dataTable =\n",
              "            await google.colab.kernel.invokeFunction('convertToInteractive',\n",
              "                                                     [key], {});\n",
              "          if (!dataTable) return;\n",
              "\n",
              "          const docLinkHtml = 'Like what you see? Visit the ' +\n",
              "            '<a target=\"_blank\" href=https://colab.research.google.com/notebooks/data_table.ipynb>data table notebook</a>'\n",
              "            + ' to learn more about interactive tables.';\n",
              "          element.innerHTML = '';\n",
              "          dataTable['output_type'] = 'display_data';\n",
              "          await google.colab.output.renderOutput(dataTable, element);\n",
              "          const docLink = document.createElement('div');\n",
              "          docLink.innerHTML = docLinkHtml;\n",
              "          element.appendChild(docLink);\n",
              "        }\n",
              "      </script>\n",
              "    </div>\n",
              "  </div>\n",
              "  "
            ]
          },
          "metadata": {},
          "execution_count": 34
        }
      ]
    },
    {
      "cell_type": "code",
      "source": [
        "\n",
        "df.columns"
      ],
      "metadata": {
        "colab": {
          "base_uri": "https://localhost:8080/"
        },
        "id": "TcQ8X4ocFTXp",
        "outputId": "c40acdf2-b1f2-453c-efaf-ec0a6d45cdc5"
      },
      "execution_count": 35,
      "outputs": [
        {
          "output_type": "execute_result",
          "data": {
            "text/plain": [
              "Index(['Surname', 'CreditScore', 'Geography', 'Gender', 'Age', 'Tenure',\n",
              "       'Balance', 'Num Of Products', 'Has Credit Card', 'Is Active Member',\n",
              "       'Estimated Salary', 'Churn', 'Zero Balance'],\n",
              "      dtype='object')"
            ]
          },
          "metadata": {},
          "execution_count": 35
        }
      ]
    },
    {
      "cell_type": "code",
      "source": [
        "X = df.drop(['Surname', 'Churn'],axis =1)"
      ],
      "metadata": {
        "id": "Z_FybvdSFUzv"
      },
      "execution_count": 36,
      "outputs": []
    },
    {
      "cell_type": "code",
      "source": [
        "\n",
        "y = df['Churn']"
      ],
      "metadata": {
        "id": "hqzrDvVBFWF_"
      },
      "execution_count": 37,
      "outputs": []
    },
    {
      "cell_type": "code",
      "source": [
        "X.shape,y.shape"
      ],
      "metadata": {
        "colab": {
          "base_uri": "https://localhost:8080/"
        },
        "id": "gzsxfLiOFYJj",
        "outputId": "99311e3c-aded-4b8c-ba39-97e0134550e3"
      },
      "execution_count": 38,
      "outputs": [
        {
          "output_type": "execute_result",
          "data": {
            "text/plain": [
              "((10000, 11), (10000,))"
            ]
          },
          "metadata": {},
          "execution_count": 38
        }
      ]
    },
    {
      "cell_type": "code",
      "source": [
        "\n",
        "df['Churn'].value_counts()"
      ],
      "metadata": {
        "colab": {
          "base_uri": "https://localhost:8080/"
        },
        "id": "RxdtLqv7FZtZ",
        "outputId": "c4bb294e-7585-43b8-fc14-4b1404acf271"
      },
      "execution_count": 39,
      "outputs": [
        {
          "output_type": "execute_result",
          "data": {
            "text/plain": [
              "0    7963\n",
              "1    2037\n",
              "Name: Churn, dtype: int64"
            ]
          },
          "metadata": {},
          "execution_count": 39
        }
      ]
    },
    {
      "cell_type": "code",
      "source": [
        "sns.countplot(x = 'Churn', data =df);"
      ],
      "metadata": {
        "colab": {
          "base_uri": "https://localhost:8080/",
          "height": 279
        },
        "id": "1_8geFpdFbt4",
        "outputId": "e1694dd3-ad0a-466c-cc1d-45b72b0acc33"
      },
      "execution_count": 40,
      "outputs": [
        {
          "output_type": "display_data",
          "data": {
            "text/plain": [
              "<Figure size 432x288 with 1 Axes>"
            ],
            "image/png": "[encoded data removed]"
          },
          "metadata": {
            "needs_background": "light"
          }
        }
      ]
    },
    {
      "cell_type": "code",
      "source": [
        "X.shape,y.shape"
      ],
      "metadata": {
        "colab": {
          "base_uri": "https://localhost:8080/"
        },
        "id": "zt9ioAETFdTz",
        "outputId": "e6849feb-fa2a-4c06-9328-ed79654bb6dd"
      },
      "execution_count": 41,
      "outputs": [
        {
          "output_type": "execute_result",
          "data": {
            "text/plain": [
              "((10000, 11), (10000,))"
            ]
          },
          "metadata": {},
          "execution_count": 41
        }
      ]
    },
    {
      "cell_type": "markdown",
      "source": [
        "Random Under Sampling"
      ],
      "metadata": {
        "id": "0OCV13yoFyD1"
      }
    },
    {
      "cell_type": "code",
      "source": [
        "from imblearn.under_sampling import RandomUnderSampler"
      ],
      "metadata": {
        "id": "O6rmb44WFfYC"
      },
      "execution_count": 42,
      "outputs": []
    },
    {
      "cell_type": "code",
      "source": [
        "rus =RandomUnderSampler(random_state=12529)"
      ],
      "metadata": {
        "id": "CMMfPq_FFhFe"
      },
      "execution_count": 43,
      "outputs": []
    },
    {
      "cell_type": "code",
      "source": [
        "X_rus, y_rus = rus.fit_resample(X,y)"
      ],
      "metadata": {
        "id": "SE2LJpMJFi_E"
      },
      "execution_count": 44,
      "outputs": []
    },
    {
      "cell_type": "code",
      "source": [
        "X_rus.shape,y_rus.shape,X.shape,y.shape"
      ],
      "metadata": {
        "colab": {
          "base_uri": "https://localhost:8080/"
        },
        "id": "A5pX2vv_F5Np",
        "outputId": "5014f80e-0978-4dd7-d16b-be7a6459cc4c"
      },
      "execution_count": 45,
      "outputs": [
        {
          "output_type": "execute_result",
          "data": {
            "text/plain": [
              "((4074, 11), (4074,), (10000, 11), (10000,))"
            ]
          },
          "metadata": {},
          "execution_count": 45
        }
      ]
    },
    {
      "cell_type": "code",
      "source": [
        "y.value_counts()"
      ],
      "metadata": {
        "colab": {
          "base_uri": "https://localhost:8080/"
        },
        "id": "Op6qU3bsGFJ6",
        "outputId": "4e069c8e-c793-46ff-ba42-0857a5a4e5fc"
      },
      "execution_count": 46,
      "outputs": [
        {
          "output_type": "execute_result",
          "data": {
            "text/plain": [
              "0    7963\n",
              "1    2037\n",
              "Name: Churn, dtype: int64"
            ]
          },
          "metadata": {},
          "execution_count": 46
        }
      ]
    },
    {
      "cell_type": "code",
      "source": [
        "y_rus.value_counts()"
      ],
      "metadata": {
        "colab": {
          "base_uri": "https://localhost:8080/"
        },
        "id": "6_FSOpsXGFxC",
        "outputId": "10445629-ee11-46b9-f9f7-c46b34d39def"
      },
      "execution_count": 47,
      "outputs": [
        {
          "output_type": "execute_result",
          "data": {
            "text/plain": [
              "0    2037\n",
              "1    2037\n",
              "Name: Churn, dtype: int64"
            ]
          },
          "metadata": {},
          "execution_count": 47
        }
      ]
    },
    {
      "cell_type": "code",
      "source": [
        "y_rus.plot(kind ='hist')"
      ],
      "metadata": {
        "colab": {
          "base_uri": "https://localhost:8080/",
          "height": 282
        },
        "id": "4yCi716yGLTN",
        "outputId": "37ba0adc-96c6-405a-98a4-104c5adec1c6"
      },
      "execution_count": 48,
      "outputs": [
        {
          "output_type": "execute_result",
          "data": {
            "text/plain": [
              "<matplotlib.axes._subplots.AxesSubplot at 0x7fdb7a400b10>"
            ]
          },
          "metadata": {},
          "execution_count": 48
        },
        {
          "output_type": "display_data",
          "data": {
            "text/plain": [
              "<Figure size 432x288 with 1 Axes>"
            ],
            "image/png": "[encoded data removed]"
          },
          "metadata": {
            "needs_background": "light"
          }
        }
      ]
    },
    {
      "cell_type": "markdown",
      "source": [
        "Random Over Sampling"
      ],
      "metadata": {
        "id": "OmDVF3AJGPwo"
      }
    },
    {
      "cell_type": "code",
      "source": [
        "from imblearn.over_sampling import RandomOverSampler\n"
      ],
      "metadata": {
        "id": "IxfwRGczGVBo"
      },
      "execution_count": 49,
      "outputs": []
    },
    {
      "cell_type": "code",
      "source": [
        "ros = RandomUnderSampler(random_state=12529)"
      ],
      "metadata": {
        "id": "FmQOixnMGWuv"
      },
      "execution_count": 50,
      "outputs": []
    },
    {
      "cell_type": "code",
      "source": [
        "X_ros, y_ros = ros.fit_resample(X,y)"
      ],
      "metadata": {
        "id": "DFnWdvrsGZMQ"
      },
      "execution_count": 51,
      "outputs": []
    },
    {
      "cell_type": "code",
      "source": [
        "X_ros.shape, y_ros.shape, X.shape,y.shape"
      ],
      "metadata": {
        "colab": {
          "base_uri": "https://localhost:8080/"
        },
        "id": "BpfmnsYlGcoN",
        "outputId": "1e435110-0d60-411d-f1bd-ff8f74776f15"
      },
      "execution_count": 52,
      "outputs": [
        {
          "output_type": "execute_result",
          "data": {
            "text/plain": [
              "((4074, 11), (4074,), (10000, 11), (10000,))"
            ]
          },
          "metadata": {},
          "execution_count": 52
        }
      ]
    },
    {
      "cell_type": "code",
      "source": [
        "y.value_counts()"
      ],
      "metadata": {
        "colab": {
          "base_uri": "https://localhost:8080/"
        },
        "id": "sxFAjL_gGgF9",
        "outputId": "a99e2d4d-8dd8-4054-a27a-bfdc5ee69d4c"
      },
      "execution_count": 53,
      "outputs": [
        {
          "output_type": "execute_result",
          "data": {
            "text/plain": [
              "0    7963\n",
              "1    2037\n",
              "Name: Churn, dtype: int64"
            ]
          },
          "metadata": {},
          "execution_count": 53
        }
      ]
    },
    {
      "cell_type": "code",
      "source": [
        "y_ros.plot(kind ='hist')"
      ],
      "metadata": {
        "colab": {
          "base_uri": "https://localhost:8080/",
          "height": 282
        },
        "id": "X99twP5sGiF1",
        "outputId": "4e5fcaba-aff4-49d1-bd3c-425f610752ff"
      },
      "execution_count": 54,
      "outputs": [
        {
          "output_type": "execute_result",
          "data": {
            "text/plain": [
              "<matplotlib.axes._subplots.AxesSubplot at 0x7fdb7a3971d0>"
            ]
          },
          "metadata": {},
          "execution_count": 54
        },
        {
          "output_type": "display_data",
          "data": {
            "text/plain": [
              "<Figure size 432x288 with 1 Axes>"
            ],
            "image/png": "[encoded data removed]"
          },
          "metadata": {
            "needs_background": "light"
          }
        }
      ]
    },
    {
      "cell_type": "markdown",
      "source": [
        "Train Test Split"
      ],
      "metadata": {
        "id": "CxkLCiNFGqO-"
      }
    },
    {
      "cell_type": "code",
      "source": [
        "from sklearn.model_selection import train_test_split"
      ],
      "metadata": {
        "id": "90Ocwt88GmVd"
      },
      "execution_count": 55,
      "outputs": []
    },
    {
      "cell_type": "markdown",
      "source": [
        "Split Original Data"
      ],
      "metadata": {
        "id": "kHAAi3wTGvx8"
      }
    },
    {
      "cell_type": "code",
      "source": [
        "X_train,X_test,y_train, y_test =train_test_split(X,y,test_size=0.3,random_state =12529)"
      ],
      "metadata": {
        "id": "4ikbJF7ZGy1l"
      },
      "execution_count": 56,
      "outputs": []
    },
    {
      "cell_type": "markdown",
      "source": [
        "Split Random Under Sample Data"
      ],
      "metadata": {
        "id": "vPHSjDQ_G3No"
      }
    },
    {
      "cell_type": "code",
      "source": [
        "X_train_rus,X_test_rus,y_train_rus,y_test_rus = train_test_split(X_rus,y_rus,test_size=0.7)"
      ],
      "metadata": {
        "id": "dLPA6YARG6jy"
      },
      "execution_count": 57,
      "outputs": []
    },
    {
      "cell_type": "markdown",
      "source": [
        "Split Random Over Sample Data"
      ],
      "metadata": {
        "id": "NU_SXDVcHC06"
      }
    },
    {
      "cell_type": "code",
      "source": [
        "X_train_ros,X_test_ros,y_train_ros,y_test_ros = train_test_split(X_ros,y_ros, test_size=0.7)"
      ],
      "metadata": {
        "id": "C8Qf34zyHNwq"
      },
      "execution_count": 58,
      "outputs": []
    },
    {
      "cell_type": "markdown",
      "source": [
        "Standardize Features"
      ],
      "metadata": {
        "id": "yQDuWGJmHeY1"
      }
    },
    {
      "cell_type": "code",
      "source": [
        "from sklearn.preprocessing import StandardScaler\n"
      ],
      "metadata": {
        "id": "-jSnPMTaHipU"
      },
      "execution_count": 59,
      "outputs": []
    },
    {
      "cell_type": "code",
      "source": [
        "sc= StandardScaler()"
      ],
      "metadata": {
        "id": "7l46wGMaHkuk"
      },
      "execution_count": 60,
      "outputs": []
    },
    {
      "cell_type": "markdown",
      "source": [
        "satandarize Original Data"
      ],
      "metadata": {
        "id": "PLVeM3tOHqVL"
      }
    },
    {
      "cell_type": "code",
      "source": [
        "X_train[['CreditScore','Age', 'Tenure','Balance','Estimated Salary']] = sc.fit_transform(X_train[['CreditScore','Age','Tenure','Balance','Estimated Salary']])\n"
      ],
      "metadata": {
        "id": "zMUrLHYyHs_V"
      },
      "execution_count": 61,
      "outputs": []
    },
    {
      "cell_type": "code",
      "source": [
        "X_test[['CreditScore','Age', 'Tenure','Balance','Estimated Salary']] = sc.fit_transform(X_test[['CreditScore','Age','Tenure','Balance','Estimated Salary']])\n"
      ],
      "metadata": {
        "id": "KuRbt-LhHxKv"
      },
      "execution_count": 62,
      "outputs": []
    },
    {
      "cell_type": "markdown",
      "source": [
        "Standardize Random Under Sample Data"
      ],
      "metadata": {
        "id": "Zif7Q5CdICBX"
      }
    },
    {
      "cell_type": "code",
      "source": [
        "X_train_rus[['CreditScore','Age', 'Tenure','Balance','Estimated Salary']] = sc.fit_transform(X_train_rus[['CreditScore','Age','Tenure','Balance','Estimated Salary']])\n"
      ],
      "metadata": {
        "id": "Z45lgvzdIEP3"
      },
      "execution_count": 63,
      "outputs": []
    },
    {
      "cell_type": "code",
      "source": [
        "X_test_rus[['CreditScore','Age', 'Tenure','Balance','Estimated Salary']] = sc.fit_transform(X_test_rus[['CreditScore','Age','Tenure','Balance','Estimated Salary']])\n"
      ],
      "metadata": {
        "id": "wUjz6kxhIFuh"
      },
      "execution_count": 64,
      "outputs": []
    },
    {
      "cell_type": "markdown",
      "source": [
        "Standardize Random Over Sample Data\n",
        "\n"
      ],
      "metadata": {
        "id": "uEjXo2pbIHHT"
      }
    },
    {
      "cell_type": "code",
      "source": [
        "X_train_ros[['CreditScore','Age', 'Tenure','Balance','Estimated Salary']] = sc.fit_transform(X_train_ros[['CreditScore','Age','Tenure','Balance','Estimated Salary']])\n"
      ],
      "metadata": {
        "id": "lEDDLe-iIIjd"
      },
      "execution_count": 65,
      "outputs": []
    },
    {
      "cell_type": "code",
      "source": [
        "X_test_ros[['CreditScore','Age', 'Tenure','Balance','Estimated Salary']] = sc.fit_transform(X_test_ros[['CreditScore','Age','Tenure','Balance','Estimated Salary']])\n"
      ],
      "metadata": {
        "id": "CYqc4r0WIKET"
      },
      "execution_count": 66,
      "outputs": []
    },
    {
      "cell_type": "markdown",
      "source": [
        "Support Vector Machine Classifier\n",
        "\n",
        "\n"
      ],
      "metadata": {
        "id": "QGyQsXV4IMKg"
      }
    },
    {
      "cell_type": "code",
      "source": [
        "from sklearn.svm import SVC\n"
      ],
      "metadata": {
        "id": "LHaXVylYIPc5"
      },
      "execution_count": 67,
      "outputs": []
    },
    {
      "cell_type": "code",
      "source": [
        "svc =SVC()\n"
      ],
      "metadata": {
        "id": "DGodvYJ8ITM7"
      },
      "execution_count": 68,
      "outputs": []
    },
    {
      "cell_type": "code",
      "source": [
        "svc.fit(X_train,y_train)\n"
      ],
      "metadata": {
        "colab": {
          "base_uri": "https://localhost:8080/"
        },
        "id": "qXcOhajVIUno",
        "outputId": "324579ff-9f2c-4f7a-f83f-89ce74ecbd95"
      },
      "execution_count": 69,
      "outputs": [
        {
          "output_type": "execute_result",
          "data": {
            "text/plain": [
              "SVC()"
            ]
          },
          "metadata": {},
          "execution_count": 69
        }
      ]
    },
    {
      "cell_type": "code",
      "source": [
        "y_pred = svc.predict(X_test)\n"
      ],
      "metadata": {
        "id": "D1-XDO9DIWmn"
      },
      "execution_count": 70,
      "outputs": []
    },
    {
      "cell_type": "markdown",
      "source": [
        "Model Accuracy\n",
        "\n"
      ],
      "metadata": {
        "id": "lzztDTPPIYBa"
      }
    },
    {
      "cell_type": "code",
      "source": [
        "from sklearn.metrics import confusion_matrix, classification_report\n"
      ],
      "metadata": {
        "id": "YAT-6PmuIZUe"
      },
      "execution_count": 71,
      "outputs": []
    },
    {
      "cell_type": "code",
      "source": [
        "confusion_matrix(y_test, y_pred)\n"
      ],
      "metadata": {
        "colab": {
          "base_uri": "https://localhost:8080/"
        },
        "id": "HDTEemoZIa30",
        "outputId": "d4418d00-d945-4ed8-f1be-e7734c861fb5"
      },
      "execution_count": 72,
      "outputs": [
        {
          "output_type": "execute_result",
          "data": {
            "text/plain": [
              "array([[2321,   31],\n",
              "       [ 491,  157]])"
            ]
          },
          "metadata": {},
          "execution_count": 72
        }
      ]
    },
    {
      "cell_type": "code",
      "source": [
        "print(classification_report(y_test,y_pred))\n"
      ],
      "metadata": {
        "colab": {
          "base_uri": "https://localhost:8080/"
        },
        "id": "WRkHXkOjIcZ6",
        "outputId": "3a91e319-9a5f-432f-b45f-462909d8da5a"
      },
      "execution_count": 73,
      "outputs": [
        {
          "output_type": "stream",
          "name": "stdout",
          "text": [
            "              precision    recall  f1-score   support\n",
            "\n",
            "           0       0.83      0.99      0.90      2352\n",
            "           1       0.84      0.24      0.38       648\n",
            "\n",
            "    accuracy                           0.83      3000\n",
            "   macro avg       0.83      0.61      0.64      3000\n",
            "weighted avg       0.83      0.83      0.79      3000\n",
            "\n"
          ]
        }
      ]
    },
    {
      "cell_type": "markdown",
      "source": [
        "Hyper Parmeter Tunning\n",
        "\n"
      ],
      "metadata": {
        "id": "A4AzBhhDIfJv"
      }
    },
    {
      "cell_type": "code",
      "source": [
        "from sklearn.model_selection import GridSearchCV\n"
      ],
      "metadata": {
        "id": "Pnj9tT8eIgla"
      },
      "execution_count": 74,
      "outputs": []
    },
    {
      "cell_type": "code",
      "source": [
        "param_grid = {'C': [0.1,1,10],\n",
        "              'gamma': [1,0.1,0.01],'kernel': ['rbf'], \n",
        "              'class_weight': ['balanced']}"
      ],
      "metadata": {
        "id": "UDoGObP1Ij_0"
      },
      "execution_count": 75,
      "outputs": []
    },
    {
      "cell_type": "code",
      "source": [
        "grid = GridSearchCV(SVC(),param_grid, refit =True,verbose=2,cv= 2)\n",
        "grid.fit(X_train,y_train)"
      ],
      "metadata": {
        "colab": {
          "base_uri": "https://localhost:8080/"
        },
        "id": "uAPLS7xaIoS9",
        "outputId": "4470f14c-931a-4073-d94e-c21f3ec39648"
      },
      "execution_count": 76,
      "outputs": [
        {
          "output_type": "stream",
          "name": "stdout",
          "text": [
            "Fitting 2 folds for each of 9 candidates, totalling 18 fits\n",
            "[CV] END ..C=0.1, class_weight=balanced, gamma=1, kernel=rbf; total time=   1.8s\n",
            "[CV] END ..C=0.1, class_weight=balanced, gamma=1, kernel=rbf; total time=   2.3s\n",
            "[CV] END C=0.1, class_weight=balanced, gamma=0.1, kernel=rbf; total time=   1.3s\n",
            "[CV] END C=0.1, class_weight=balanced, gamma=0.1, kernel=rbf; total time=   1.3s\n",
            "[CV] END C=0.1, class_weight=balanced, gamma=0.01, kernel=rbf; total time=   1.4s\n",
            "[CV] END C=0.1, class_weight=balanced, gamma=0.01, kernel=rbf; total time=   1.4s\n",
            "[CV] END ....C=1, class_weight=balanced, gamma=1, kernel=rbf; total time=   1.5s\n",
            "[CV] END ....C=1, class_weight=balanced, gamma=1, kernel=rbf; total time=   1.6s\n",
            "[CV] END ..C=1, class_weight=balanced, gamma=0.1, kernel=rbf; total time=   1.9s\n",
            "[CV] END ..C=1, class_weight=balanced, gamma=0.1, kernel=rbf; total time=   1.3s\n",
            "[CV] END .C=1, class_weight=balanced, gamma=0.01, kernel=rbf; total time=   1.2s\n",
            "[CV] END .C=1, class_weight=balanced, gamma=0.01, kernel=rbf; total time=   1.2s\n",
            "[CV] END ...C=10, class_weight=balanced, gamma=1, kernel=rbf; total time=   1.6s\n",
            "[CV] END ...C=10, class_weight=balanced, gamma=1, kernel=rbf; total time=   1.5s\n",
            "[CV] END .C=10, class_weight=balanced, gamma=0.1, kernel=rbf; total time=   1.2s\n",
            "[CV] END .C=10, class_weight=balanced, gamma=0.1, kernel=rbf; total time=   1.2s\n",
            "[CV] END C=10, class_weight=balanced, gamma=0.01, kernel=rbf; total time=   1.2s\n",
            "[CV] END C=10, class_weight=balanced, gamma=0.01, kernel=rbf; total time=   1.2s\n"
          ]
        },
        {
          "output_type": "execute_result",
          "data": {
            "text/plain": [
              "GridSearchCV(cv=2, estimator=SVC(),\n",
              "             param_grid={'C': [0.1, 1, 10], 'class_weight': ['balanced'],\n",
              "                         'gamma': [1, 0.1, 0.01], 'kernel': ['rbf']},\n",
              "             verbose=2)"
            ]
          },
          "metadata": {},
          "execution_count": 76
        }
      ]
    },
    {
      "cell_type": "code",
      "source": [
        "print(grid.best_estimator_)"
      ],
      "metadata": {
        "colab": {
          "base_uri": "https://localhost:8080/"
        },
        "id": "mVgR8Dy1ItXM",
        "outputId": "2c95bb6a-ad1e-4e9f-f673-6a52340b08f1"
      },
      "execution_count": 77,
      "outputs": [
        {
          "output_type": "stream",
          "name": "stdout",
          "text": [
            "SVC(C=10, class_weight='balanced', gamma=1)\n"
          ]
        }
      ]
    },
    {
      "cell_type": "code",
      "source": [
        "grid_predictions = grid.predict(X_test)"
      ],
      "metadata": {
        "id": "1G7emb4_Iweo"
      },
      "execution_count": 78,
      "outputs": []
    },
    {
      "cell_type": "code",
      "source": [
        "confusion_matrix(y_test,grid_predictions)"
      ],
      "metadata": {
        "colab": {
          "base_uri": "https://localhost:8080/"
        },
        "id": "fRZlLaDSIyAE",
        "outputId": "4883e500-7bf1-4828-d938-0f55be6eeaae"
      },
      "execution_count": 79,
      "outputs": [
        {
          "output_type": "execute_result",
          "data": {
            "text/plain": [
              "array([[2116,  236],\n",
              "       [ 427,  221]])"
            ]
          },
          "metadata": {},
          "execution_count": 79
        }
      ]
    },
    {
      "cell_type": "code",
      "source": [
        "print(classification_report(y_test,grid_predictions))"
      ],
      "metadata": {
        "colab": {
          "base_uri": "https://localhost:8080/"
        },
        "id": "oGveb9QoIzxX",
        "outputId": "d62e39c1-6fa6-469b-d41c-1b004e274331"
      },
      "execution_count": 80,
      "outputs": [
        {
          "output_type": "stream",
          "name": "stdout",
          "text": [
            "              precision    recall  f1-score   support\n",
            "\n",
            "           0       0.83      0.90      0.86      2352\n",
            "           1       0.48      0.34      0.40       648\n",
            "\n",
            "    accuracy                           0.78      3000\n",
            "   macro avg       0.66      0.62      0.63      3000\n",
            "weighted avg       0.76      0.78      0.76      3000\n",
            "\n"
          ]
        }
      ]
    },
    {
      "cell_type": "markdown",
      "source": [
        "Model with Random Under Sampling"
      ],
      "metadata": {
        "id": "-pRsnvT2I1hs"
      }
    },
    {
      "cell_type": "code",
      "source": [
        "svc_rus =SVC()"
      ],
      "metadata": {
        "id": "ltYf2A4wI22J"
      },
      "execution_count": 81,
      "outputs": []
    },
    {
      "cell_type": "code",
      "source": [
        "svc_rus.fit(X_train_rus,y_train_rus)"
      ],
      "metadata": {
        "colab": {
          "base_uri": "https://localhost:8080/"
        },
        "id": "5j1NNrHpI4Sc",
        "outputId": "a75e92d6-c36c-404c-8c0a-70875b39eb47"
      },
      "execution_count": 82,
      "outputs": [
        {
          "output_type": "execute_result",
          "data": {
            "text/plain": [
              "SVC()"
            ]
          },
          "metadata": {},
          "execution_count": 82
        }
      ]
    },
    {
      "cell_type": "code",
      "source": [
        "svc.predict(X_test_rus)\n"
      ],
      "metadata": {
        "colab": {
          "base_uri": "https://localhost:8080/"
        },
        "id": "GGZxPLQEI5zk",
        "outputId": "f53f7058-74e4-4314-a834-d68f82aa6eeb"
      },
      "execution_count": 83,
      "outputs": [
        {
          "output_type": "execute_result",
          "data": {
            "text/plain": [
              "array([0, 1, 1, ..., 0, 0, 0])"
            ]
          },
          "metadata": {},
          "execution_count": 83
        }
      ]
    },
    {
      "cell_type": "markdown",
      "source": [
        "Model Accuracy\n",
        "\n"
      ],
      "metadata": {
        "id": "8o7BS_XiI7Dn"
      }
    },
    {
      "cell_type": "code",
      "source": [
        "confusion_matrix(y_test,grid_predictions)\n"
      ],
      "metadata": {
        "colab": {
          "base_uri": "https://localhost:8080/"
        },
        "id": "GK_Q33SaI8dk",
        "outputId": "542c6769-9fbb-486a-a52f-8373f45c1a0d"
      },
      "execution_count": 84,
      "outputs": [
        {
          "output_type": "execute_result",
          "data": {
            "text/plain": [
              "array([[2116,  236],\n",
              "       [ 427,  221]])"
            ]
          },
          "metadata": {},
          "execution_count": 84
        }
      ]
    },
    {
      "cell_type": "code",
      "source": [
        "print(classification_report(y_test,grid_predictions))\n"
      ],
      "metadata": {
        "colab": {
          "base_uri": "https://localhost:8080/"
        },
        "id": "mMevm_wWI-Hf",
        "outputId": "3e0fd262-19fd-4582-885c-dfa85920c3a0"
      },
      "execution_count": 85,
      "outputs": [
        {
          "output_type": "stream",
          "name": "stdout",
          "text": [
            "              precision    recall  f1-score   support\n",
            "\n",
            "           0       0.83      0.90      0.86      2352\n",
            "           1       0.48      0.34      0.40       648\n",
            "\n",
            "    accuracy                           0.78      3000\n",
            "   macro avg       0.66      0.62      0.63      3000\n",
            "weighted avg       0.76      0.78      0.76      3000\n",
            "\n"
          ]
        }
      ]
    },
    {
      "cell_type": "markdown",
      "source": [
        "Hyperparameter Tunning\n",
        "\n"
      ],
      "metadata": {
        "id": "hVw47tGMJAxi"
      }
    },
    {
      "cell_type": "code",
      "source": [
        "param_grid = {'C': [0.1,1,10],\n",
        "              'gamma': [1,0.1,0.01],'kernel': ['rbf'], \n",
        "              'class_weight': ['balanced']}"
      ],
      "metadata": {
        "id": "DWStaW-eJCjz"
      },
      "execution_count": 86,
      "outputs": []
    },
    {
      "cell_type": "code",
      "source": [
        "grid_rus = GridSearchCV(SVC(),param_grid, refit =True,verbose=2,cv= 2)\n",
        "grid_rus.fit(X_train,y_train)"
      ],
      "metadata": {
        "colab": {
          "base_uri": "https://localhost:8080/"
        },
        "id": "nRVa-hcFJD6i",
        "outputId": "079921b6-a63b-45ee-e67a-b4df47068658"
      },
      "execution_count": 87,
      "outputs": [
        {
          "output_type": "stream",
          "name": "stdout",
          "text": [
            "Fitting 2 folds for each of 9 candidates, totalling 18 fits\n",
            "[CV] END ..C=0.1, class_weight=balanced, gamma=1, kernel=rbf; total time=   1.7s\n",
            "[CV] END ..C=0.1, class_weight=balanced, gamma=1, kernel=rbf; total time=   1.8s\n",
            "[CV] END C=0.1, class_weight=balanced, gamma=0.1, kernel=rbf; total time=   1.3s\n",
            "[CV] END C=0.1, class_weight=balanced, gamma=0.1, kernel=rbf; total time=   1.3s\n",
            "[CV] END C=0.1, class_weight=balanced, gamma=0.01, kernel=rbf; total time=   1.4s\n",
            "[CV] END C=0.1, class_weight=balanced, gamma=0.01, kernel=rbf; total time=   1.4s\n",
            "[CV] END ....C=1, class_weight=balanced, gamma=1, kernel=rbf; total time=   1.6s\n",
            "[CV] END ....C=1, class_weight=balanced, gamma=1, kernel=rbf; total time=   1.5s\n",
            "[CV] END ..C=1, class_weight=balanced, gamma=0.1, kernel=rbf; total time=   1.1s\n",
            "[CV] END ..C=1, class_weight=balanced, gamma=0.1, kernel=rbf; total time=   1.1s\n",
            "[CV] END .C=1, class_weight=balanced, gamma=0.01, kernel=rbf; total time=   1.2s\n",
            "[CV] END .C=1, class_weight=balanced, gamma=0.01, kernel=rbf; total time=   1.2s\n",
            "[CV] END ...C=10, class_weight=balanced, gamma=1, kernel=rbf; total time=   1.6s\n",
            "[CV] END ...C=10, class_weight=balanced, gamma=1, kernel=rbf; total time=   1.4s\n",
            "[CV] END .C=10, class_weight=balanced, gamma=0.1, kernel=rbf; total time=   1.2s\n",
            "[CV] END .C=10, class_weight=balanced, gamma=0.1, kernel=rbf; total time=   1.2s\n",
            "[CV] END C=10, class_weight=balanced, gamma=0.01, kernel=rbf; total time=   1.2s\n",
            "[CV] END C=10, class_weight=balanced, gamma=0.01, kernel=rbf; total time=   1.2s\n"
          ]
        },
        {
          "output_type": "execute_result",
          "data": {
            "text/plain": [
              "GridSearchCV(cv=2, estimator=SVC(),\n",
              "             param_grid={'C': [0.1, 1, 10], 'class_weight': ['balanced'],\n",
              "                         'gamma': [1, 0.1, 0.01], 'kernel': ['rbf']},\n",
              "             verbose=2)"
            ]
          },
          "metadata": {},
          "execution_count": 87
        }
      ]
    },
    {
      "cell_type": "code",
      "source": [
        "print(grid_rus.best_estimator_)"
      ],
      "metadata": {
        "colab": {
          "base_uri": "https://localhost:8080/"
        },
        "id": "2MH3W7BdJHEC",
        "outputId": "26b4124f-4a73-488d-c15c-a903224dcd29"
      },
      "execution_count": 88,
      "outputs": [
        {
          "output_type": "stream",
          "name": "stdout",
          "text": [
            "SVC(C=10, class_weight='balanced', gamma=1)\n"
          ]
        }
      ]
    },
    {
      "cell_type": "code",
      "source": [
        "grid_predictions_rus = grid_rus.predict(X_test_rus)\n"
      ],
      "metadata": {
        "id": "gvlds9hsJIOG"
      },
      "execution_count": 89,
      "outputs": []
    },
    {
      "cell_type": "code",
      "source": [
        "confusion_matrix(y_test_rus,grid_rus.predict(X_test_rus))\n"
      ],
      "metadata": {
        "colab": {
          "base_uri": "https://localhost:8080/"
        },
        "id": "ZizIwu4FJJj8",
        "outputId": "5443f2e7-16d6-4b20-c530-f4dd935978d7"
      },
      "execution_count": 90,
      "outputs": [
        {
          "output_type": "execute_result",
          "data": {
            "text/plain": [
              "array([[1378,   31],\n",
              "       [ 315, 1128]])"
            ]
          },
          "metadata": {},
          "execution_count": 90
        }
      ]
    },
    {
      "cell_type": "code",
      "source": [
        "print(classification_report(y_test_rus,grid_predictions_rus))\n"
      ],
      "metadata": {
        "colab": {
          "base_uri": "https://localhost:8080/"
        },
        "id": "3GSpun5xJK0Z",
        "outputId": "30c4faca-c4c0-4da6-e2de-2d06b0a308b1"
      },
      "execution_count": 91,
      "outputs": [
        {
          "output_type": "stream",
          "name": "stdout",
          "text": [
            "              precision    recall  f1-score   support\n",
            "\n",
            "           0       0.81      0.98      0.89      1409\n",
            "           1       0.97      0.78      0.87      1443\n",
            "\n",
            "    accuracy                           0.88      2852\n",
            "   macro avg       0.89      0.88      0.88      2852\n",
            "weighted avg       0.89      0.88      0.88      2852\n",
            "\n"
          ]
        }
      ]
    },
    {
      "cell_type": "markdown",
      "source": [
        "Model with Random over Sampling\n",
        "\n"
      ],
      "metadata": {
        "id": "43OmtwZTJMMR"
      }
    },
    {
      "cell_type": "code",
      "source": [
        "svc_ros = SVC()\n"
      ],
      "metadata": {
        "id": "FGbuI7g4JNeK"
      },
      "execution_count": 92,
      "outputs": []
    },
    {
      "cell_type": "code",
      "source": [
        "svc_ros.fit(X_train_ros,y_train_ros)\n"
      ],
      "metadata": {
        "colab": {
          "base_uri": "https://localhost:8080/"
        },
        "id": "UXezq40eJOzX",
        "outputId": "70603eff-1849-4c63-d890-3cb34df9e194"
      },
      "execution_count": 93,
      "outputs": [
        {
          "output_type": "execute_result",
          "data": {
            "text/plain": [
              "SVC()"
            ]
          },
          "metadata": {},
          "execution_count": 93
        }
      ]
    },
    {
      "cell_type": "code",
      "source": [
        "y_pred_ros = svc_ros.predict(X_test_ros)\n"
      ],
      "metadata": {
        "id": "2AQAYoXTJQLr"
      },
      "execution_count": 94,
      "outputs": []
    },
    {
      "cell_type": "markdown",
      "source": [
        "Model Accuracy\n",
        "\n"
      ],
      "metadata": {
        "id": "C_svKC4EJS0j"
      }
    },
    {
      "cell_type": "code",
      "source": [
        "confusion_matrix(y_test_ros,y_pred_ros)\n"
      ],
      "metadata": {
        "colab": {
          "base_uri": "https://localhost:8080/"
        },
        "id": "kTePV47IJT_Y",
        "outputId": "8b136f9d-813b-42a5-b8be-f01a805f7547"
      },
      "execution_count": 95,
      "outputs": [
        {
          "output_type": "execute_result",
          "data": {
            "text/plain": [
              "array([[1084,  353],\n",
              "       [ 402, 1013]])"
            ]
          },
          "metadata": {},
          "execution_count": 95
        }
      ]
    },
    {
      "cell_type": "code",
      "source": [
        "print(classification_report(y_test_ros,y_pred_ros))\n"
      ],
      "metadata": {
        "colab": {
          "base_uri": "https://localhost:8080/"
        },
        "id": "I5zXOrKyJVsg",
        "outputId": "8dbc3eac-05b5-4186-bfa0-09a045d9a473"
      },
      "execution_count": 96,
      "outputs": [
        {
          "output_type": "stream",
          "name": "stdout",
          "text": [
            "              precision    recall  f1-score   support\n",
            "\n",
            "           0       0.73      0.75      0.74      1437\n",
            "           1       0.74      0.72      0.73      1415\n",
            "\n",
            "    accuracy                           0.74      2852\n",
            "   macro avg       0.74      0.74      0.74      2852\n",
            "weighted avg       0.74      0.74      0.74      2852\n",
            "\n"
          ]
        }
      ]
    },
    {
      "cell_type": "markdown",
      "source": [
        "Hyperparameter Tunning\n",
        "\n"
      ],
      "metadata": {
        "id": "pcfxBOUZJYFO"
      }
    },
    {
      "cell_type": "code",
      "source": [
        "param_grid = {'C': [0.1,1,10],\n",
        "              'gamma': [1,0.1,0.01],'kernel': ['rbf'], \n",
        "              'class_weight': ['balanced']}"
      ],
      "metadata": {
        "id": "BLwyVLA6JaKx"
      },
      "execution_count": 97,
      "outputs": []
    },
    {
      "cell_type": "code",
      "source": [
        "grid_ros = GridSearchCV(SVC(),param_grid, refit =True,verbose=2,cv= 2)\n",
        "grid_ros.fit(X_train,y_train)"
      ],
      "metadata": {
        "colab": {
          "base_uri": "https://localhost:8080/"
        },
        "id": "cMmGjTKiJbfQ",
        "outputId": "51f96dac-ba65-4ed2-91a4-7d13306bf8e2"
      },
      "execution_count": 98,
      "outputs": [
        {
          "output_type": "stream",
          "name": "stdout",
          "text": [
            "Fitting 2 folds for each of 9 candidates, totalling 18 fits\n",
            "[CV] END ..C=0.1, class_weight=balanced, gamma=1, kernel=rbf; total time=   1.8s\n",
            "[CV] END ..C=0.1, class_weight=balanced, gamma=1, kernel=rbf; total time=   1.8s\n",
            "[CV] END C=0.1, class_weight=balanced, gamma=0.1, kernel=rbf; total time=   1.3s\n",
            "[CV] END C=0.1, class_weight=balanced, gamma=0.1, kernel=rbf; total time=   1.3s\n",
            "[CV] END C=0.1, class_weight=balanced, gamma=0.01, kernel=rbf; total time=   1.4s\n",
            "[CV] END C=0.1, class_weight=balanced, gamma=0.01, kernel=rbf; total time=   1.4s\n",
            "[CV] END ....C=1, class_weight=balanced, gamma=1, kernel=rbf; total time=   1.6s\n",
            "[CV] END ....C=1, class_weight=balanced, gamma=1, kernel=rbf; total time=   1.6s\n",
            "[CV] END ..C=1, class_weight=balanced, gamma=0.1, kernel=rbf; total time=   1.1s\n",
            "[CV] END ..C=1, class_weight=balanced, gamma=0.1, kernel=rbf; total time=   1.2s\n",
            "[CV] END .C=1, class_weight=balanced, gamma=0.01, kernel=rbf; total time=   1.2s\n",
            "[CV] END .C=1, class_weight=balanced, gamma=0.01, kernel=rbf; total time=   1.2s\n",
            "[CV] END ...C=10, class_weight=balanced, gamma=1, kernel=rbf; total time=   1.6s\n",
            "[CV] END ...C=10, class_weight=balanced, gamma=1, kernel=rbf; total time=   1.5s\n",
            "[CV] END .C=10, class_weight=balanced, gamma=0.1, kernel=rbf; total time=   1.2s\n",
            "[CV] END .C=10, class_weight=balanced, gamma=0.1, kernel=rbf; total time=   1.2s\n",
            "[CV] END C=10, class_weight=balanced, gamma=0.01, kernel=rbf; total time=   1.2s\n",
            "[CV] END C=10, class_weight=balanced, gamma=0.01, kernel=rbf; total time=   1.2s\n"
          ]
        },
        {
          "output_type": "execute_result",
          "data": {
            "text/plain": [
              "GridSearchCV(cv=2, estimator=SVC(),\n",
              "             param_grid={'C': [0.1, 1, 10], 'class_weight': ['balanced'],\n",
              "                         'gamma': [1, 0.1, 0.01], 'kernel': ['rbf']},\n",
              "             verbose=2)"
            ]
          },
          "metadata": {},
          "execution_count": 98
        }
      ]
    },
    {
      "cell_type": "code",
      "source": [
        "print(grid_ros.best_estimator_)\n"
      ],
      "metadata": {
        "colab": {
          "base_uri": "https://localhost:8080/"
        },
        "id": "JRR-73xxJdSd",
        "outputId": "a161089d-2702-4dbe-aa7c-beefc7a0fcd1"
      },
      "execution_count": 99,
      "outputs": [
        {
          "output_type": "stream",
          "name": "stdout",
          "text": [
            "SVC(C=10, class_weight='balanced', gamma=1)\n"
          ]
        }
      ]
    },
    {
      "cell_type": "code",
      "source": [
        "grid_predictions_ros = grid_ros.predict(X_test_ros)\n"
      ],
      "metadata": {
        "id": "Cs-KcCI3JehP"
      },
      "execution_count": 100,
      "outputs": []
    },
    {
      "cell_type": "code",
      "source": [
        "confusion_matrix(y_test_ros,grid_predictions_ros)\n"
      ],
      "metadata": {
        "colab": {
          "base_uri": "https://localhost:8080/"
        },
        "id": "1Omyipv6Jf18",
        "outputId": "eb0383fc-ceb8-4c38-a0e5-51026a21b510"
      },
      "execution_count": 101,
      "outputs": [
        {
          "output_type": "execute_result",
          "data": {
            "text/plain": [
              "array([[1397,   40],\n",
              "       [ 308, 1107]])"
            ]
          },
          "metadata": {},
          "execution_count": 101
        }
      ]
    },
    {
      "cell_type": "code",
      "source": [
        "print(classification_report(y_test_ros,grid_predictions_ros))\n"
      ],
      "metadata": {
        "colab": {
          "base_uri": "https://localhost:8080/"
        },
        "id": "X9Ge1WAGJhGB",
        "outputId": "4b422d79-6f6b-49ab-913a-ef1117fa46d3"
      },
      "execution_count": 102,
      "outputs": [
        {
          "output_type": "stream",
          "name": "stdout",
          "text": [
            "              precision    recall  f1-score   support\n",
            "\n",
            "           0       0.82      0.97      0.89      1437\n",
            "           1       0.97      0.78      0.86      1415\n",
            "\n",
            "    accuracy                           0.88      2852\n",
            "   macro avg       0.89      0.88      0.88      2852\n",
            "weighted avg       0.89      0.88      0.88      2852\n",
            "\n"
          ]
        }
      ]
    },
    {
      "cell_type": "markdown",
      "source": [
        "Lets compare\n",
        "\n"
      ],
      "metadata": {
        "id": "rg8990zpJjHv"
      }
    },
    {
      "cell_type": "code",
      "source": [
        "print(classification_report(y_test,y_pred))\n"
      ],
      "metadata": {
        "colab": {
          "base_uri": "https://localhost:8080/"
        },
        "id": "t8KSeK98Jkau",
        "outputId": "6a26f1bb-1195-4fb8-859e-4d78a543c2eb"
      },
      "execution_count": 103,
      "outputs": [
        {
          "output_type": "stream",
          "name": "stdout",
          "text": [
            "              precision    recall  f1-score   support\n",
            "\n",
            "           0       0.83      0.99      0.90      2352\n",
            "           1       0.84      0.24      0.38       648\n",
            "\n",
            "    accuracy                           0.83      3000\n",
            "   macro avg       0.83      0.61      0.64      3000\n",
            "weighted avg       0.83      0.83      0.79      3000\n",
            "\n"
          ]
        }
      ]
    },
    {
      "cell_type": "code",
      "source": [
        "print(classification_report(y_test,grid_predictions))\n"
      ],
      "metadata": {
        "colab": {
          "base_uri": "https://localhost:8080/"
        },
        "id": "WU2qZDkvJlyf",
        "outputId": "a10c5574-8adf-4c7e-d554-d42639b57214"
      },
      "execution_count": 104,
      "outputs": [
        {
          "output_type": "stream",
          "name": "stdout",
          "text": [
            "              precision    recall  f1-score   support\n",
            "\n",
            "           0       0.83      0.90      0.86      2352\n",
            "           1       0.48      0.34      0.40       648\n",
            "\n",
            "    accuracy                           0.78      3000\n",
            "   macro avg       0.66      0.62      0.63      3000\n",
            "weighted avg       0.76      0.78      0.76      3000\n",
            "\n"
          ]
        }
      ]
    },
    {
      "cell_type": "code",
      "source": [
        "print(classification_report(y_test_rus,grid_predictions_rus))\n"
      ],
      "metadata": {
        "colab": {
          "base_uri": "https://localhost:8080/"
        },
        "id": "LWKWQeQ_JnHp",
        "outputId": "c50622f6-2e61-4304-bba2-c42da1143cb9"
      },
      "execution_count": 105,
      "outputs": [
        {
          "output_type": "stream",
          "name": "stdout",
          "text": [
            "              precision    recall  f1-score   support\n",
            "\n",
            "           0       0.81      0.98      0.89      1409\n",
            "           1       0.97      0.78      0.87      1443\n",
            "\n",
            "    accuracy                           0.88      2852\n",
            "   macro avg       0.89      0.88      0.88      2852\n",
            "weighted avg       0.89      0.88      0.88      2852\n",
            "\n"
          ]
        }
      ]
    },
    {
      "cell_type": "code",
      "source": [
        "print(classification_report(y_test_ros,y_pred_ros))\n"
      ],
      "metadata": {
        "colab": {
          "base_uri": "https://localhost:8080/"
        },
        "id": "exZwx-isJpG7",
        "outputId": "e01bcddc-3af2-45e2-cb30-ef098b6515c9"
      },
      "execution_count": 106,
      "outputs": [
        {
          "output_type": "stream",
          "name": "stdout",
          "text": [
            "              precision    recall  f1-score   support\n",
            "\n",
            "           0       0.73      0.75      0.74      1437\n",
            "           1       0.74      0.72      0.73      1415\n",
            "\n",
            "    accuracy                           0.74      2852\n",
            "   macro avg       0.74      0.74      0.74      2852\n",
            "weighted avg       0.74      0.74      0.74      2852\n",
            "\n"
          ]
        }
      ]
    },
    {
      "cell_type": "code",
      "source": [
        "print(classification_report(y_test_ros,grid_predictions_ros))\n"
      ],
      "metadata": {
        "colab": {
          "base_uri": "https://localhost:8080/"
        },
        "id": "kJ5Z8FZXJqc9",
        "outputId": "5e0e148f-15c0-451c-e7f4-f2f4195c6065"
      },
      "execution_count": 107,
      "outputs": [
        {
          "output_type": "stream",
          "name": "stdout",
          "text": [
            "              precision    recall  f1-score   support\n",
            "\n",
            "           0       0.82      0.97      0.89      1437\n",
            "           1       0.97      0.78      0.86      1415\n",
            "\n",
            "    accuracy                           0.88      2852\n",
            "   macro avg       0.89      0.88      0.88      2852\n",
            "weighted avg       0.89      0.88      0.88      2852\n",
            "\n"
          ]
        }
      ]
    }
  ]
}